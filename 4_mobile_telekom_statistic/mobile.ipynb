{
 "cells": [
  {
   "cell_type": "markdown",
   "metadata": {},
   "source": [
    "### Определение перспективного тарифа для телеком-компании\n",
    "------------------"
   ]
  },
  {
   "cell_type": "markdown",
   "metadata": {},
   "source": [
    "\n",
    "ШАГ 1: Импорт данных\n",
    "----------"
   ]
  },
  {
   "cell_type": "code",
   "execution_count": 1,
   "metadata": {},
   "outputs": [],
   "source": [
    "# импортируем необходимые библиотеки\n",
    "# и ознакомимся с данными \n",
    "import pandas as pd\n",
    "import matplotlib.pyplot as plt\n",
    "import numpy as np\n",
    "from scipy import stats as st\n",
    "import seaborn as sns\n",
    "import warnings\n",
    "warnings.filterwarnings('ignore')\n",
    "\n",
    "plt.style.use('seaborn')\n",
    "%matplotlib inline\n",
    "pd.set_option('display.max_columns', None)\n",
    "\n",
    "# Создадим датафреймы из имеющихся таблиц\n",
    "calls = pd.read_csv('/datasets/calls.csv', sep=',')\n",
    "internet = pd.read_csv('/datasets/internet.csv', sep=',')\n",
    "messages = pd.read_csv('/datasets/messages.csv', sep=',')\n",
    "users = pd.read_csv('/datasets/users.csv', sep=',')\n",
    "tariffs = pd.read_csv('/datasets/tariffs.csv', sep=',')\n"
   ]
  },
  {
   "cell_type": "markdown",
   "metadata": {},
   "source": [
    "\n",
    "----------\n",
    "ШАГ 2: Подготовка данных\n",
    "----------"
   ]
  },
  {
   "cell_type": "markdown",
   "metadata": {},
   "source": [
    "#### Звонки"
   ]
  },
  {
   "cell_type": "code",
   "execution_count": 2,
   "metadata": {},
   "outputs": [
    {
     "data": {
      "text/plain": [
       "id           39613\n",
       "call_date    39613\n",
       "duration     39613\n",
       "user_id      39613\n",
       "dtype: int64"
      ]
     },
     "execution_count": 2,
     "metadata": {},
     "output_type": "execute_result"
    }
   ],
   "source": [
    "# Согласно условию в данных много звонков длительностью 0.0 минут, посмотрим сколько\n",
    "calls.query('duration == 0.0').count()"
   ]
  },
  {
   "cell_type": "code",
   "execution_count": 3,
   "metadata": {},
   "outputs": [
    {
     "data": {
      "text/plain": [
       "0.19551644316336553"
      ]
     },
     "execution_count": 3,
     "metadata": {},
     "output_type": "execute_result"
    }
   ],
   "source": [
    "(calls.query('duration == 0.0').shape[0]/calls.shape[0])"
   ]
  },
  {
   "cell_type": "markdown",
   "metadata": {},
   "source": [
    "Нулевых звонков почти `20 %` от всего количества, это очень много, удалить такое количество нельзя    \n",
    "Можно заменить на `1`, так как в условиях указано что оператор всегда округляет звонки \"вверх\"."
   ]
  },
  {
   "cell_type": "code",
   "execution_count": 4,
   "metadata": {},
   "outputs": [],
   "source": [
    "# Звонки\n",
    "# Приводим к datetime формату, извлекаем месяцы в отдельную колонку\n",
    "calls['call_date']= pd.to_datetime(calls['call_date'], format='%Y-%m-%d')\n",
    "calls['month'] = calls['call_date'].dt.month\n",
    "\n",
    "# Согласно условию каждый звонок имеет какую-то длительность\n",
    "# Поэтому заменяем \"нулевые\" звонки на минутные  \n",
    "# Округляем все звонки \"вверх\". \n",
    "\n",
    "calls.loc[calls['duration'] == 0.0, 'duration'] = 1.0 \n",
    "calls['duration']=calls['duration'].apply(np.ceil).astype('int')"
   ]
  },
  {
   "cell_type": "code",
   "execution_count": 5,
   "metadata": {},
   "outputs": [
    {
     "data": {
      "text/html": [
       "<div>\n",
       "<style scoped>\n",
       "    .dataframe tbody tr th:only-of-type {\n",
       "        vertical-align: middle;\n",
       "    }\n",
       "\n",
       "    .dataframe tbody tr th {\n",
       "        vertical-align: top;\n",
       "    }\n",
       "\n",
       "    .dataframe thead th {\n",
       "        text-align: right;\n",
       "    }\n",
       "</style>\n",
       "<table border=\"1\" class=\"dataframe\">\n",
       "  <thead>\n",
       "    <tr style=\"text-align: right;\">\n",
       "      <th></th>\n",
       "      <th></th>\n",
       "      <th>calls_duration</th>\n",
       "      <th>calls_count</th>\n",
       "    </tr>\n",
       "    <tr>\n",
       "      <th>user_id</th>\n",
       "      <th>month</th>\n",
       "      <th></th>\n",
       "      <th></th>\n",
       "    </tr>\n",
       "  </thead>\n",
       "  <tbody>\n",
       "    <tr>\n",
       "      <th rowspan=\"5\" valign=\"top\">1000</th>\n",
       "      <th>5</th>\n",
       "      <td>164</td>\n",
       "      <td>22</td>\n",
       "    </tr>\n",
       "    <tr>\n",
       "      <th>6</th>\n",
       "      <td>187</td>\n",
       "      <td>43</td>\n",
       "    </tr>\n",
       "    <tr>\n",
       "      <th>7</th>\n",
       "      <td>346</td>\n",
       "      <td>47</td>\n",
       "    </tr>\n",
       "    <tr>\n",
       "      <th>8</th>\n",
       "      <td>418</td>\n",
       "      <td>52</td>\n",
       "    </tr>\n",
       "    <tr>\n",
       "      <th>9</th>\n",
       "      <td>478</td>\n",
       "      <td>58</td>\n",
       "    </tr>\n",
       "  </tbody>\n",
       "</table>\n",
       "</div>"
      ],
      "text/plain": [
       "               calls_duration  calls_count\n",
       "user_id month                             \n",
       "1000    5                 164           22\n",
       "        6                 187           43\n",
       "        7                 346           47\n",
       "        8                 418           52\n",
       "        9                 478           58"
      ]
     },
     "execution_count": 5,
     "metadata": {},
     "output_type": "execute_result"
    }
   ],
   "source": [
    "# делаем сводную таблицу с группировкой по \"user_id\" и \"month\"\n",
    "calls_pivot = calls.pivot_table(index=['user_id', 'month'], values=['duration'],  aggfunc=['sum', 'count'])\n",
    "\n",
    "# Переименуем названия столбцов  \n",
    "calls_pivot.columns = ['calls_duration', 'calls_count']\n",
    "\n",
    "# смотрим что получилось\n",
    "calls_pivot.head()"
   ]
  },
  {
   "cell_type": "markdown",
   "metadata": {},
   "source": [
    "#### Интернет"
   ]
  },
  {
   "cell_type": "code",
   "execution_count": 6,
   "metadata": {},
   "outputs": [],
   "source": [
    "# Интернет\n",
    "# тоже самое проделываем с данными по интернет-трафику\n",
    "internet['session_date']= pd.to_datetime(internet['session_date'], format='%Y-%m-%d')\n",
    "internet['month'] = internet['session_date'].dt.month\n",
    "\n",
    "# Округлим мегабайты \"вверх\"\n",
    "internet['mb_used'] = internet['mb_used'].apply(np.ceil).astype('int')"
   ]
  },
  {
   "cell_type": "code",
   "execution_count": 7,
   "metadata": {
    "scrolled": false
   },
   "outputs": [
    {
     "data": {
      "text/html": [
       "<div>\n",
       "<style scoped>\n",
       "    .dataframe tbody tr th:only-of-type {\n",
       "        vertical-align: middle;\n",
       "    }\n",
       "\n",
       "    .dataframe tbody tr th {\n",
       "        vertical-align: top;\n",
       "    }\n",
       "\n",
       "    .dataframe thead th {\n",
       "        text-align: right;\n",
       "    }\n",
       "</style>\n",
       "<table border=\"1\" class=\"dataframe\">\n",
       "  <thead>\n",
       "    <tr style=\"text-align: right;\">\n",
       "      <th></th>\n",
       "      <th></th>\n",
       "      <th>mb_used</th>\n",
       "    </tr>\n",
       "    <tr>\n",
       "      <th>user_id</th>\n",
       "      <th>month</th>\n",
       "      <th></th>\n",
       "    </tr>\n",
       "  </thead>\n",
       "  <tbody>\n",
       "    <tr>\n",
       "      <th rowspan=\"5\" valign=\"top\">1000</th>\n",
       "      <th>5</th>\n",
       "      <td>2256</td>\n",
       "    </tr>\n",
       "    <tr>\n",
       "      <th>6</th>\n",
       "      <td>23257</td>\n",
       "    </tr>\n",
       "    <tr>\n",
       "      <th>7</th>\n",
       "      <td>14016</td>\n",
       "    </tr>\n",
       "    <tr>\n",
       "      <th>8</th>\n",
       "      <td>14070</td>\n",
       "    </tr>\n",
       "    <tr>\n",
       "      <th>9</th>\n",
       "      <td>14581</td>\n",
       "    </tr>\n",
       "  </tbody>\n",
       "</table>\n",
       "</div>"
      ],
      "text/plain": [
       "               mb_used\n",
       "user_id month         \n",
       "1000    5         2256\n",
       "        6        23257\n",
       "        7        14016\n",
       "        8        14070\n",
       "        9        14581"
      ]
     },
     "execution_count": 7,
     "metadata": {},
     "output_type": "execute_result"
    }
   ],
   "source": [
    "# Сводная таблица по аналогии с данными по звонкам\n",
    "internet_pivot = internet.pivot_table(index=['user_id', 'month'], values=['mb_used'],  aggfunc=['sum'])\n",
    "# изменяем имя колонки\n",
    "internet_pivot.columns=['mb_used']\n",
    "# Смотрим на сводную таблицу\n",
    "internet_pivot.head()"
   ]
  },
  {
   "cell_type": "markdown",
   "metadata": {},
   "source": [
    "#### Сообщения"
   ]
  },
  {
   "cell_type": "code",
   "execution_count": 8,
   "metadata": {},
   "outputs": [
    {
     "data": {
      "text/html": [
       "<div>\n",
       "<style scoped>\n",
       "    .dataframe tbody tr th:only-of-type {\n",
       "        vertical-align: middle;\n",
       "    }\n",
       "\n",
       "    .dataframe tbody tr th {\n",
       "        vertical-align: top;\n",
       "    }\n",
       "\n",
       "    .dataframe thead th {\n",
       "        text-align: right;\n",
       "    }\n",
       "</style>\n",
       "<table border=\"1\" class=\"dataframe\">\n",
       "  <thead>\n",
       "    <tr style=\"text-align: right;\">\n",
       "      <th></th>\n",
       "      <th></th>\n",
       "      <th>message_count</th>\n",
       "    </tr>\n",
       "    <tr>\n",
       "      <th>user_id</th>\n",
       "      <th>month</th>\n",
       "      <th></th>\n",
       "    </tr>\n",
       "  </thead>\n",
       "  <tbody>\n",
       "    <tr>\n",
       "      <th rowspan=\"5\" valign=\"top\">1000</th>\n",
       "      <th>5</th>\n",
       "      <td>22</td>\n",
       "    </tr>\n",
       "    <tr>\n",
       "      <th>6</th>\n",
       "      <td>60</td>\n",
       "    </tr>\n",
       "    <tr>\n",
       "      <th>7</th>\n",
       "      <td>75</td>\n",
       "    </tr>\n",
       "    <tr>\n",
       "      <th>8</th>\n",
       "      <td>81</td>\n",
       "    </tr>\n",
       "    <tr>\n",
       "      <th>9</th>\n",
       "      <td>57</td>\n",
       "    </tr>\n",
       "  </tbody>\n",
       "</table>\n",
       "</div>"
      ],
      "text/plain": [
       "               message_count\n",
       "user_id month               \n",
       "1000    5                 22\n",
       "        6                 60\n",
       "        7                 75\n",
       "        8                 81\n",
       "        9                 57"
      ]
     },
     "execution_count": 8,
     "metadata": {},
     "output_type": "execute_result"
    }
   ],
   "source": [
    "# Проводим аналогичные операции (см.выше)\n",
    "messages['message_date'] = pd.to_datetime(messages['message_date'], format='%Y-%m-%d')\n",
    "messages['month'] = messages['message_date'].dt.month\n",
    "# Нужен столбец с днями, чтобы по нему считать количество сообщений в месяце\n",
    "messages['day'] = messages['message_date'].dt.day\n",
    "messages_pivot = messages.pivot_table(index=['user_id', 'month'], values=['day'],  aggfunc=['count'])\n",
    "# изменяем имя колонки\n",
    "messages_pivot.columns=['message_count']\n",
    "# Смотрим на сводную таблицу\n",
    "messages_pivot.head()\n"
   ]
  },
  {
   "cell_type": "code",
   "execution_count": 9,
   "metadata": {
    "scrolled": true
   },
   "outputs": [
    {
     "data": {
      "text/plain": [
       "user_id         0\n",
       "age             0\n",
       "churn_date    462\n",
       "city            0\n",
       "first_name      0\n",
       "last_name       0\n",
       "reg_date        0\n",
       "tariff          0\n",
       "dtype: int64"
      ]
     },
     "execution_count": 9,
     "metadata": {},
     "output_type": "execute_result"
    }
   ],
   "source": [
    "# проверим, если ли пропуски в данных столбца с пользователями\n",
    "users.isnull().sum()"
   ]
  },
  {
   "cell_type": "code",
   "execution_count": 10,
   "metadata": {},
   "outputs": [],
   "source": [
    "# Есть пропуски в столбце с датой прекращения действия тарифа"
   ]
  },
  {
   "cell_type": "code",
   "execution_count": 11,
   "metadata": {},
   "outputs": [
    {
     "data": {
      "text/html": [
       "<div>\n",
       "<style scoped>\n",
       "    .dataframe tbody tr th:only-of-type {\n",
       "        vertical-align: middle;\n",
       "    }\n",
       "\n",
       "    .dataframe tbody tr th {\n",
       "        vertical-align: top;\n",
       "    }\n",
       "\n",
       "    .dataframe thead th {\n",
       "        text-align: right;\n",
       "    }\n",
       "</style>\n",
       "<table border=\"1\" class=\"dataframe\">\n",
       "  <thead>\n",
       "    <tr style=\"text-align: right;\">\n",
       "      <th></th>\n",
       "      <th>age</th>\n",
       "      <th>churn_date</th>\n",
       "      <th>city</th>\n",
       "      <th>first_name</th>\n",
       "      <th>last_name</th>\n",
       "      <th>reg_date</th>\n",
       "      <th>tariff</th>\n",
       "    </tr>\n",
       "    <tr>\n",
       "      <th>user_id</th>\n",
       "      <th></th>\n",
       "      <th></th>\n",
       "      <th></th>\n",
       "      <th></th>\n",
       "      <th></th>\n",
       "      <th></th>\n",
       "      <th></th>\n",
       "    </tr>\n",
       "  </thead>\n",
       "  <tbody>\n",
       "    <tr>\n",
       "      <th>1000</th>\n",
       "      <td>52</td>\n",
       "      <td>NaN</td>\n",
       "      <td>Краснодар</td>\n",
       "      <td>Рафаил</td>\n",
       "      <td>Верещагин</td>\n",
       "      <td>2018-05-25</td>\n",
       "      <td>ultra</td>\n",
       "    </tr>\n",
       "    <tr>\n",
       "      <th>1001</th>\n",
       "      <td>41</td>\n",
       "      <td>NaN</td>\n",
       "      <td>Москва</td>\n",
       "      <td>Иван</td>\n",
       "      <td>Ежов</td>\n",
       "      <td>2018-11-01</td>\n",
       "      <td>smart</td>\n",
       "    </tr>\n",
       "    <tr>\n",
       "      <th>1002</th>\n",
       "      <td>59</td>\n",
       "      <td>NaN</td>\n",
       "      <td>Стерлитамак</td>\n",
       "      <td>Евгений</td>\n",
       "      <td>Абрамович</td>\n",
       "      <td>2018-06-17</td>\n",
       "      <td>smart</td>\n",
       "    </tr>\n",
       "    <tr>\n",
       "      <th>1003</th>\n",
       "      <td>23</td>\n",
       "      <td>NaN</td>\n",
       "      <td>Москва</td>\n",
       "      <td>Белла</td>\n",
       "      <td>Белякова</td>\n",
       "      <td>2018-08-17</td>\n",
       "      <td>ultra</td>\n",
       "    </tr>\n",
       "    <tr>\n",
       "      <th>1004</th>\n",
       "      <td>68</td>\n",
       "      <td>NaN</td>\n",
       "      <td>Новокузнецк</td>\n",
       "      <td>Татьяна</td>\n",
       "      <td>Авдеенко</td>\n",
       "      <td>2018-05-14</td>\n",
       "      <td>ultra</td>\n",
       "    </tr>\n",
       "  </tbody>\n",
       "</table>\n",
       "</div>"
      ],
      "text/plain": [
       "         age churn_date         city first_name  last_name    reg_date tariff\n",
       "user_id                                                                      \n",
       "1000      52        NaN    Краснодар     Рафаил  Верещагин  2018-05-25  ultra\n",
       "1001      41        NaN       Москва       Иван       Ежов  2018-11-01  smart\n",
       "1002      59        NaN  Стерлитамак    Евгений  Абрамович  2018-06-17  smart\n",
       "1003      23        NaN       Москва      Белла   Белякова  2018-08-17  ultra\n",
       "1004      68        NaN  Новокузнецк    Татьяна   Авдеенко  2018-05-14  ultra"
      ]
     },
     "execution_count": 11,
     "metadata": {},
     "output_type": "execute_result"
    }
   ],
   "source": [
    "# установим индексом столбец \"user_id\" в таблице с пользователями \n",
    "users.set_index('user_id', inplace=True)\n",
    "users.head()"
   ]
  },
  {
   "cell_type": "code",
   "execution_count": 12,
   "metadata": {},
   "outputs": [
    {
     "data": {
      "text/html": [
       "<div>\n",
       "<style scoped>\n",
       "    .dataframe tbody tr th:only-of-type {\n",
       "        vertical-align: middle;\n",
       "    }\n",
       "\n",
       "    .dataframe tbody tr th {\n",
       "        vertical-align: top;\n",
       "    }\n",
       "\n",
       "    .dataframe thead th {\n",
       "        text-align: right;\n",
       "    }\n",
       "</style>\n",
       "<table border=\"1\" class=\"dataframe\">\n",
       "  <thead>\n",
       "    <tr style=\"text-align: right;\">\n",
       "      <th></th>\n",
       "      <th>user_id</th>\n",
       "      <th>month</th>\n",
       "      <th>churn_date</th>\n",
       "      <th>city</th>\n",
       "      <th>reg_date</th>\n",
       "      <th>tariff</th>\n",
       "      <th>calls_duration</th>\n",
       "      <th>calls_count</th>\n",
       "      <th>mb_used</th>\n",
       "      <th>message_count</th>\n",
       "    </tr>\n",
       "  </thead>\n",
       "  <tbody>\n",
       "    <tr>\n",
       "      <th>0</th>\n",
       "      <td>1000</td>\n",
       "      <td>5</td>\n",
       "      <td>NaN</td>\n",
       "      <td>Краснодар</td>\n",
       "      <td>2018-05-25</td>\n",
       "      <td>ultra</td>\n",
       "      <td>164.0</td>\n",
       "      <td>22.0</td>\n",
       "      <td>2256.0</td>\n",
       "      <td>22.0</td>\n",
       "    </tr>\n",
       "    <tr>\n",
       "      <th>1</th>\n",
       "      <td>1000</td>\n",
       "      <td>6</td>\n",
       "      <td>NaN</td>\n",
       "      <td>Краснодар</td>\n",
       "      <td>2018-05-25</td>\n",
       "      <td>ultra</td>\n",
       "      <td>187.0</td>\n",
       "      <td>43.0</td>\n",
       "      <td>23257.0</td>\n",
       "      <td>60.0</td>\n",
       "    </tr>\n",
       "    <tr>\n",
       "      <th>2</th>\n",
       "      <td>1000</td>\n",
       "      <td>7</td>\n",
       "      <td>NaN</td>\n",
       "      <td>Краснодар</td>\n",
       "      <td>2018-05-25</td>\n",
       "      <td>ultra</td>\n",
       "      <td>346.0</td>\n",
       "      <td>47.0</td>\n",
       "      <td>14016.0</td>\n",
       "      <td>75.0</td>\n",
       "    </tr>\n",
       "    <tr>\n",
       "      <th>3</th>\n",
       "      <td>1000</td>\n",
       "      <td>8</td>\n",
       "      <td>NaN</td>\n",
       "      <td>Краснодар</td>\n",
       "      <td>2018-05-25</td>\n",
       "      <td>ultra</td>\n",
       "      <td>418.0</td>\n",
       "      <td>52.0</td>\n",
       "      <td>14070.0</td>\n",
       "      <td>81.0</td>\n",
       "    </tr>\n",
       "    <tr>\n",
       "      <th>4</th>\n",
       "      <td>1000</td>\n",
       "      <td>9</td>\n",
       "      <td>NaN</td>\n",
       "      <td>Краснодар</td>\n",
       "      <td>2018-05-25</td>\n",
       "      <td>ultra</td>\n",
       "      <td>478.0</td>\n",
       "      <td>58.0</td>\n",
       "      <td>14581.0</td>\n",
       "      <td>57.0</td>\n",
       "    </tr>\n",
       "  </tbody>\n",
       "</table>\n",
       "</div>"
      ],
      "text/plain": [
       "   user_id  month churn_date       city    reg_date tariff  calls_duration  \\\n",
       "0     1000      5        NaN  Краснодар  2018-05-25  ultra           164.0   \n",
       "1     1000      6        NaN  Краснодар  2018-05-25  ultra           187.0   \n",
       "2     1000      7        NaN  Краснодар  2018-05-25  ultra           346.0   \n",
       "3     1000      8        NaN  Краснодар  2018-05-25  ultra           418.0   \n",
       "4     1000      9        NaN  Краснодар  2018-05-25  ultra           478.0   \n",
       "\n",
       "   calls_count  mb_used  message_count  \n",
       "0         22.0   2256.0           22.0  \n",
       "1         43.0  23257.0           60.0  \n",
       "2         47.0  14016.0           75.0  \n",
       "3         52.0  14070.0           81.0  \n",
       "4         58.0  14581.0           57.0  "
      ]
     },
     "execution_count": 12,
     "metadata": {},
     "output_type": "execute_result"
    }
   ],
   "source": [
    "# создадим список который присоединим к таблице со звонками\n",
    "data_total = [internet_pivot, messages_pivot]\n",
    "\n",
    "total = calls_pivot.join(data_total,how='outer')\n",
    "# теперь к таблице \"users\" добавляем таблицу \"total\"\n",
    "df = users.join(total, how='outer')\n",
    "df.reset_index(inplace=True)\n",
    "# Удалим столбцы с возрастом, именем и фамилией, они не нужны в этом ииследовании\n",
    "df.drop(['age', 'first_name', 'last_name'], axis='columns', inplace=True)\n",
    "df.head()"
   ]
  },
  {
   "cell_type": "code",
   "execution_count": 13,
   "metadata": {},
   "outputs": [
    {
     "data": {
      "text/plain": [
       "(3214, 10)"
      ]
     },
     "execution_count": 13,
     "metadata": {},
     "output_type": "execute_result"
    }
   ],
   "source": [
    "df.shape"
   ]
  },
  {
   "cell_type": "code",
   "execution_count": 14,
   "metadata": {},
   "outputs": [
    {
     "data": {
      "text/plain": [
       "0"
      ]
     },
     "execution_count": 14,
     "metadata": {},
     "output_type": "execute_result"
    }
   ],
   "source": [
    "df.duplicated().sum()"
   ]
  },
  {
   "cell_type": "code",
   "execution_count": 15,
   "metadata": {},
   "outputs": [
    {
     "data": {
      "text/html": [
       "<div>\n",
       "<style scoped>\n",
       "    .dataframe tbody tr th:only-of-type {\n",
       "        vertical-align: middle;\n",
       "    }\n",
       "\n",
       "    .dataframe tbody tr th {\n",
       "        vertical-align: top;\n",
       "    }\n",
       "\n",
       "    .dataframe thead th {\n",
       "        text-align: right;\n",
       "    }\n",
       "</style>\n",
       "<table border=\"1\" class=\"dataframe\">\n",
       "  <thead>\n",
       "    <tr style=\"text-align: right;\">\n",
       "      <th></th>\n",
       "      <th>messages_included</th>\n",
       "      <th>mg_per_month_included</th>\n",
       "      <th>minutes_included</th>\n",
       "      <th>rub_monthly_fee</th>\n",
       "      <th>rub_per_gb</th>\n",
       "      <th>rub_per_message</th>\n",
       "      <th>rub_per_minute</th>\n",
       "      <th>tariff_name</th>\n",
       "    </tr>\n",
       "  </thead>\n",
       "  <tbody>\n",
       "    <tr>\n",
       "      <th>0</th>\n",
       "      <td>50</td>\n",
       "      <td>15360</td>\n",
       "      <td>500</td>\n",
       "      <td>550</td>\n",
       "      <td>200</td>\n",
       "      <td>3</td>\n",
       "      <td>3</td>\n",
       "      <td>smart</td>\n",
       "    </tr>\n",
       "    <tr>\n",
       "      <th>1</th>\n",
       "      <td>1000</td>\n",
       "      <td>30720</td>\n",
       "      <td>3000</td>\n",
       "      <td>1950</td>\n",
       "      <td>150</td>\n",
       "      <td>1</td>\n",
       "      <td>1</td>\n",
       "      <td>ultra</td>\n",
       "    </tr>\n",
       "  </tbody>\n",
       "</table>\n",
       "</div>"
      ],
      "text/plain": [
       "   messages_included  mg_per_month_included  minutes_included  \\\n",
       "0                 50                  15360               500   \n",
       "1               1000                  30720              3000   \n",
       "\n",
       "   rub_monthly_fee  rub_per_gb  rub_per_message  rub_per_minute tariff_name  \n",
       "0              550         200                3               3       smart  \n",
       "1             1950         150                1               1       ultra  "
      ]
     },
     "execution_count": 15,
     "metadata": {},
     "output_type": "execute_result"
    }
   ],
   "source": [
    "# Посмотрим на таблицу с тарифами\n",
    "tariffs"
   ]
  },
  {
   "cell_type": "code",
   "execution_count": 16,
   "metadata": {},
   "outputs": [
    {
     "data": {
      "text/html": [
       "<div>\n",
       "<style scoped>\n",
       "    .dataframe tbody tr th:only-of-type {\n",
       "        vertical-align: middle;\n",
       "    }\n",
       "\n",
       "    .dataframe tbody tr th {\n",
       "        vertical-align: top;\n",
       "    }\n",
       "\n",
       "    .dataframe thead th {\n",
       "        text-align: right;\n",
       "    }\n",
       "</style>\n",
       "<table border=\"1\" class=\"dataframe\">\n",
       "  <thead>\n",
       "    <tr style=\"text-align: right;\">\n",
       "      <th></th>\n",
       "      <th>messages_included</th>\n",
       "      <th>mg_per_month_included</th>\n",
       "      <th>minutes_included</th>\n",
       "      <th>rub_monthly_fee</th>\n",
       "      <th>rub_per_gb</th>\n",
       "      <th>rub_per_message</th>\n",
       "      <th>rub_per_minute</th>\n",
       "      <th>tariff</th>\n",
       "    </tr>\n",
       "  </thead>\n",
       "  <tbody>\n",
       "    <tr>\n",
       "      <th>0</th>\n",
       "      <td>50</td>\n",
       "      <td>15360</td>\n",
       "      <td>500</td>\n",
       "      <td>550</td>\n",
       "      <td>200</td>\n",
       "      <td>3</td>\n",
       "      <td>3</td>\n",
       "      <td>smart</td>\n",
       "    </tr>\n",
       "    <tr>\n",
       "      <th>1</th>\n",
       "      <td>1000</td>\n",
       "      <td>30720</td>\n",
       "      <td>3000</td>\n",
       "      <td>1950</td>\n",
       "      <td>150</td>\n",
       "      <td>1</td>\n",
       "      <td>1</td>\n",
       "      <td>ultra</td>\n",
       "    </tr>\n",
       "  </tbody>\n",
       "</table>\n",
       "</div>"
      ],
      "text/plain": [
       "   messages_included  mg_per_month_included  minutes_included  \\\n",
       "0                 50                  15360               500   \n",
       "1               1000                  30720              3000   \n",
       "\n",
       "   rub_monthly_fee  rub_per_gb  rub_per_message  rub_per_minute tariff  \n",
       "0              550         200                3               3  smart  \n",
       "1             1950         150                1               1  ultra  "
      ]
     },
     "execution_count": 16,
     "metadata": {},
     "output_type": "execute_result"
    }
   ],
   "source": [
    "# создадим столбец с тарифами и удалим исходный столбец\n",
    "tariffs['tariff']=tariffs['tariff_name']\n",
    "tariffs.drop('tariff_name', axis='columns', inplace=True)\n",
    "tariffs"
   ]
  },
  {
   "cell_type": "code",
   "execution_count": 17,
   "metadata": {},
   "outputs": [],
   "source": [
    "# Изменим имя колонок, так как \"mg\" не \"mb\" в \"mg_per_month_included\"\n",
    "tariffs.columns = ['messages_included', 'mb_per_month_included', 'minutes_included',\n",
    "       'rub_monthly_fee', 'rub_per_gb', 'rub_per_message', 'rub_per_minute',\n",
    "       'tariff']"
   ]
  },
  {
   "cell_type": "code",
   "execution_count": 18,
   "metadata": {
    "scrolled": true
   },
   "outputs": [
    {
     "data": {
      "text/html": [
       "<div>\n",
       "<style scoped>\n",
       "    .dataframe tbody tr th:only-of-type {\n",
       "        vertical-align: middle;\n",
       "    }\n",
       "\n",
       "    .dataframe tbody tr th {\n",
       "        vertical-align: top;\n",
       "    }\n",
       "\n",
       "    .dataframe thead th {\n",
       "        text-align: right;\n",
       "    }\n",
       "</style>\n",
       "<table border=\"1\" class=\"dataframe\">\n",
       "  <thead>\n",
       "    <tr style=\"text-align: right;\">\n",
       "      <th></th>\n",
       "      <th>user_id</th>\n",
       "      <th>month</th>\n",
       "      <th>churn_date</th>\n",
       "      <th>city</th>\n",
       "      <th>reg_date</th>\n",
       "      <th>tariff</th>\n",
       "      <th>calls_duration</th>\n",
       "      <th>calls_count</th>\n",
       "      <th>mb_used</th>\n",
       "      <th>message_count</th>\n",
       "      <th>messages_included</th>\n",
       "      <th>mb_per_month_included</th>\n",
       "      <th>minutes_included</th>\n",
       "      <th>rub_monthly_fee</th>\n",
       "      <th>rub_per_gb</th>\n",
       "      <th>rub_per_message</th>\n",
       "      <th>rub_per_minute</th>\n",
       "    </tr>\n",
       "  </thead>\n",
       "  <tbody>\n",
       "    <tr>\n",
       "      <th>0</th>\n",
       "      <td>1000</td>\n",
       "      <td>5</td>\n",
       "      <td>NaN</td>\n",
       "      <td>Краснодар</td>\n",
       "      <td>2018-05-25</td>\n",
       "      <td>ultra</td>\n",
       "      <td>164.0</td>\n",
       "      <td>22.0</td>\n",
       "      <td>2256.0</td>\n",
       "      <td>22.0</td>\n",
       "      <td>1000</td>\n",
       "      <td>30720</td>\n",
       "      <td>3000</td>\n",
       "      <td>1950</td>\n",
       "      <td>150</td>\n",
       "      <td>1</td>\n",
       "      <td>1</td>\n",
       "    </tr>\n",
       "    <tr>\n",
       "      <th>1</th>\n",
       "      <td>1000</td>\n",
       "      <td>6</td>\n",
       "      <td>NaN</td>\n",
       "      <td>Краснодар</td>\n",
       "      <td>2018-05-25</td>\n",
       "      <td>ultra</td>\n",
       "      <td>187.0</td>\n",
       "      <td>43.0</td>\n",
       "      <td>23257.0</td>\n",
       "      <td>60.0</td>\n",
       "      <td>1000</td>\n",
       "      <td>30720</td>\n",
       "      <td>3000</td>\n",
       "      <td>1950</td>\n",
       "      <td>150</td>\n",
       "      <td>1</td>\n",
       "      <td>1</td>\n",
       "    </tr>\n",
       "    <tr>\n",
       "      <th>2</th>\n",
       "      <td>1000</td>\n",
       "      <td>7</td>\n",
       "      <td>NaN</td>\n",
       "      <td>Краснодар</td>\n",
       "      <td>2018-05-25</td>\n",
       "      <td>ultra</td>\n",
       "      <td>346.0</td>\n",
       "      <td>47.0</td>\n",
       "      <td>14016.0</td>\n",
       "      <td>75.0</td>\n",
       "      <td>1000</td>\n",
       "      <td>30720</td>\n",
       "      <td>3000</td>\n",
       "      <td>1950</td>\n",
       "      <td>150</td>\n",
       "      <td>1</td>\n",
       "      <td>1</td>\n",
       "    </tr>\n",
       "    <tr>\n",
       "      <th>3</th>\n",
       "      <td>1000</td>\n",
       "      <td>8</td>\n",
       "      <td>NaN</td>\n",
       "      <td>Краснодар</td>\n",
       "      <td>2018-05-25</td>\n",
       "      <td>ultra</td>\n",
       "      <td>418.0</td>\n",
       "      <td>52.0</td>\n",
       "      <td>14070.0</td>\n",
       "      <td>81.0</td>\n",
       "      <td>1000</td>\n",
       "      <td>30720</td>\n",
       "      <td>3000</td>\n",
       "      <td>1950</td>\n",
       "      <td>150</td>\n",
       "      <td>1</td>\n",
       "      <td>1</td>\n",
       "    </tr>\n",
       "    <tr>\n",
       "      <th>4</th>\n",
       "      <td>1000</td>\n",
       "      <td>9</td>\n",
       "      <td>NaN</td>\n",
       "      <td>Краснодар</td>\n",
       "      <td>2018-05-25</td>\n",
       "      <td>ultra</td>\n",
       "      <td>478.0</td>\n",
       "      <td>58.0</td>\n",
       "      <td>14581.0</td>\n",
       "      <td>57.0</td>\n",
       "      <td>1000</td>\n",
       "      <td>30720</td>\n",
       "      <td>3000</td>\n",
       "      <td>1950</td>\n",
       "      <td>150</td>\n",
       "      <td>1</td>\n",
       "      <td>1</td>\n",
       "    </tr>\n",
       "  </tbody>\n",
       "</table>\n",
       "</div>"
      ],
      "text/plain": [
       "   user_id  month churn_date       city    reg_date tariff  calls_duration  \\\n",
       "0     1000      5        NaN  Краснодар  2018-05-25  ultra           164.0   \n",
       "1     1000      6        NaN  Краснодар  2018-05-25  ultra           187.0   \n",
       "2     1000      7        NaN  Краснодар  2018-05-25  ultra           346.0   \n",
       "3     1000      8        NaN  Краснодар  2018-05-25  ultra           418.0   \n",
       "4     1000      9        NaN  Краснодар  2018-05-25  ultra           478.0   \n",
       "\n",
       "   calls_count  mb_used  message_count  messages_included  \\\n",
       "0         22.0   2256.0           22.0               1000   \n",
       "1         43.0  23257.0           60.0               1000   \n",
       "2         47.0  14016.0           75.0               1000   \n",
       "3         52.0  14070.0           81.0               1000   \n",
       "4         58.0  14581.0           57.0               1000   \n",
       "\n",
       "   mb_per_month_included  minutes_included  rub_monthly_fee  rub_per_gb  \\\n",
       "0                  30720              3000             1950         150   \n",
       "1                  30720              3000             1950         150   \n",
       "2                  30720              3000             1950         150   \n",
       "3                  30720              3000             1950         150   \n",
       "4                  30720              3000             1950         150   \n",
       "\n",
       "   rub_per_message  rub_per_minute  \n",
       "0                1               1  \n",
       "1                1               1  \n",
       "2                1               1  \n",
       "3                1               1  \n",
       "4                1               1  "
      ]
     },
     "execution_count": 18,
     "metadata": {},
     "output_type": "execute_result"
    }
   ],
   "source": [
    "# Присоединим таблицу с тарифами к датафрейму 'df'\n",
    "df = df.merge(tariffs, on='tariff', how='outer')\n",
    "df.head()"
   ]
  },
  {
   "cell_type": "code",
   "execution_count": 19,
   "metadata": {},
   "outputs": [
    {
     "name": "stdout",
     "output_type": "stream",
     "text": [
      "<class 'pandas.core.frame.DataFrame'>\n",
      "Int64Index: 3214 entries, 0 to 3213\n",
      "Data columns (total 17 columns):\n",
      "user_id                  3214 non-null int64\n",
      "month                    3214 non-null int64\n",
      "churn_date               3214 non-null datetime64[ns]\n",
      "city                     3214 non-null object\n",
      "reg_date                 3214 non-null datetime64[ns]\n",
      "tariff                   3214 non-null object\n",
      "calls_duration           3174 non-null float64\n",
      "calls_count              3174 non-null float64\n",
      "mb_used                  3203 non-null float64\n",
      "message_count            2717 non-null float64\n",
      "messages_included        3214 non-null int64\n",
      "mb_per_month_included    3214 non-null int64\n",
      "minutes_included         3214 non-null int64\n",
      "rub_monthly_fee          3214 non-null int64\n",
      "rub_per_gb               3214 non-null int64\n",
      "rub_per_message          3214 non-null int64\n",
      "rub_per_minute           3214 non-null int64\n",
      "dtypes: datetime64[ns](2), float64(4), int64(9), object(2)\n",
      "memory usage: 452.0+ KB\n"
     ]
    }
   ],
   "source": [
    "# Согласно условиям, если в \"churn_date\" нет значений,\n",
    "# значит что пользователь еще был подключен к тарифу на момент выгрузки данных\n",
    "# дата выгрузки неизвестна, поэтому зададим ее 31 декабря 2018 г.\n",
    "# и переведем в формат datetime данные в столбцах 'churn_date' и 'reg_date'\n",
    "df['churn_date'].fillna('2018-12-31', inplace=True)\n",
    "df['churn_date'] = pd.to_datetime(df['churn_date'], format='%Y-%m-%d')\n",
    "df['reg_date'] = pd.to_datetime(df['reg_date'], format='%Y-%m-%d')\n",
    "\n",
    "df.info()"
   ]
  },
  {
   "cell_type": "markdown",
   "metadata": {},
   "source": [
    "#### Стобцы с продолжительность звонков, сообщениями и Гб содержат пропуски  \n",
    "------------\n",
    "Возможные причины:\n",
    "\n",
    "------------\n",
    "* Пользователь звонит и пишет через мессенджеры - основной расход это интернет\n",
    "* Пользователь не пользуется интернетом, а только звонит или пишет смс - Гб не используются \n",
    "* Пользователь не пишет смс - мессенджер удобнее\n",
    "------------\n",
    "Поэтому будем считать, что если пропуск, то расхода (минуты, сообщения, Гб) не происходит, значит можно заменить на 1,  \n",
    "это не сильно повлияет на медиану и среднее, не добавит доплаты сверх тарифа, и позволит сохранить данные."
   ]
  },
  {
   "cell_type": "code",
   "execution_count": 20,
   "metadata": {},
   "outputs": [
    {
     "data": {
      "text/plain": [
       "user_id                  0\n",
       "month                    0\n",
       "churn_date               0\n",
       "city                     0\n",
       "reg_date                 0\n",
       "tariff                   0\n",
       "calls_duration           0\n",
       "calls_count              0\n",
       "mb_used                  0\n",
       "message_count            0\n",
       "messages_included        0\n",
       "mb_per_month_included    0\n",
       "minutes_included         0\n",
       "rub_monthly_fee          0\n",
       "rub_per_gb               0\n",
       "rub_per_message          0\n",
       "rub_per_minute           0\n",
       "dtype: int64"
      ]
     },
     "execution_count": 20,
     "metadata": {},
     "output_type": "execute_result"
    }
   ],
   "source": [
    "df = df.fillna(1)\n",
    "df.isna().sum()"
   ]
  },
  {
   "cell_type": "code",
   "execution_count": 21,
   "metadata": {},
   "outputs": [
    {
     "name": "stdout",
     "output_type": "stream",
     "text": [
      "<class 'pandas.core.frame.DataFrame'>\n",
      "Int64Index: 3214 entries, 0 to 3213\n",
      "Data columns (total 17 columns):\n",
      "user_id                  3214 non-null int64\n",
      "month                    3214 non-null int64\n",
      "churn_date               3214 non-null datetime64[ns]\n",
      "city                     3214 non-null object\n",
      "reg_date                 3214 non-null datetime64[ns]\n",
      "tariff                   3214 non-null object\n",
      "calls_duration           3214 non-null int64\n",
      "calls_count              3214 non-null int64\n",
      "mb_used                  3214 non-null int64\n",
      "message_count            3214 non-null int64\n",
      "messages_included        3214 non-null int64\n",
      "mb_per_month_included    3214 non-null int64\n",
      "minutes_included         3214 non-null int64\n",
      "rub_monthly_fee          3214 non-null int64\n",
      "rub_per_gb               3214 non-null int64\n",
      "rub_per_message          3214 non-null int64\n",
      "rub_per_minute           3214 non-null int64\n",
      "dtypes: datetime64[ns](2), int64(13), object(2)\n",
      "memory usage: 452.0+ KB\n"
     ]
    }
   ],
   "source": [
    "#  Также приведем к целочисленному типу \"int\" столбцы имеющие тип \"float\"\n",
    "columns = ['calls_duration','calls_count', 'mb_used', 'message_count']\n",
    "for column in columns:\n",
    "    df[column] = df[column].astype('int64')\n",
    "df.info()"
   ]
  },
  {
   "cell_type": "code",
   "execution_count": 22,
   "metadata": {},
   "outputs": [
    {
     "data": {
      "text/plain": [
       "'\\nФункции \"костыльные\", мне самому не нравятся, но работают\\n'"
      ]
     },
     "execution_count": 22,
     "metadata": {},
     "output_type": "execute_result"
    }
   ],
   "source": [
    "# Рассчитаем выручку по тарифам\n",
    "\n",
    "# Расчет перерасхода по минутам, если перерасхода нет, то возвращается \"0\"\n",
    "def money_per_minutes(row):\n",
    "    calls_duration=row['calls_duration']\n",
    "    minutes_included = row['minutes_included']\n",
    "    rub_per_minute = row['rub_per_minute']\n",
    "    minutes = (calls_duration - minutes_included)*rub_per_minute\n",
    "    if minutes <= 0:\n",
    "        return 0\n",
    "    return minutes\n",
    "\n",
    "df['minutes_money'] = df.apply(money_per_minutes, axis=1)\n",
    "\n",
    "# Аналогично для сообщений\n",
    "def money_per_message(row):\n",
    "    message_count = row['message_count']\n",
    "    messages_included = row['messages_included']\n",
    "    rub_per_message = row['rub_per_message']\n",
    "    message = (message_count - messages_included)*rub_per_message\n",
    "    if message <=0:\n",
    "        return 0\n",
    "    return message\n",
    "\n",
    "df['messages_money'] = df.apply(money_per_message, axis=1)\n",
    "\n",
    "# Для интернета\n",
    "def money_per_gb(row):\n",
    "    mb_used = row['mb_used']\n",
    "    mb_per_month_included = row['mb_per_month_included']\n",
    "    rub_per_gb = row['rub_per_gb']\n",
    "    gb = (((mb_used - mb_per_month_included)//1024))*rub_per_gb\n",
    "    if gb <=0:\n",
    "        return 0\n",
    "    return gb\n",
    "\n",
    "df['internet_money'] = df.apply(money_per_gb, axis=1)\n",
    "\n",
    "# Расчет перерасхода\n",
    "df['over_fee'] = df['minutes_money'] + df['messages_money'] + df['internet_money']\n",
    "# Полная сумма\n",
    "df['total_fee'] = df['over_fee'] + df['rub_monthly_fee']\n"
   ]
  },
  {
   "cell_type": "markdown",
   "metadata": {},
   "source": [
    "\n",
    "----------\n",
    "ШАГ 3: Анализ данных\n",
    "----------"
   ]
  },
  {
   "cell_type": "markdown",
   "metadata": {},
   "source": [
    "* Опишите поведение клиентов оператора, исходя из выборки.  \n",
    "* Сколько минут разговора, сколько сообщений и какой объём интернет-трафика требуется пользователям каждого тарифа в месяц?  \n",
    "* Посчитайте среднее количество, дисперсию и стандартное отклонение.  \n",
    "* Постройте гистограммы.  \n",
    "* Опишите распределения.  "
   ]
  },
  {
   "cell_type": "markdown",
   "metadata": {},
   "source": [
    "#### Предварительная оценка использования тарифов"
   ]
  },
  {
   "cell_type": "code",
   "execution_count": 23,
   "metadata": {},
   "outputs": [
    {
     "data": {
      "image/png": "[encoded data removed]",
      "text/plain": [
       "<Figure size 576x432 with 1 Axes>"
      ]
     },
     "metadata": {
      "needs_background": "light"
     },
     "output_type": "display_data"
    },
    {
     "data": {
      "image/png": "[encoded data removed]",
      "text/plain": [
       "<Figure size 576x432 with 1 Axes>"
      ]
     },
     "metadata": {
      "needs_background": "light"
     },
     "output_type": "display_data"
    },
    {
     "data": {
      "image/png": "[encoded data removed]",
      "text/plain": [
       "<Figure size 576x432 with 1 Axes>"
      ]
     },
     "metadata": {
      "needs_background": "light"
     },
     "output_type": "display_data"
    }
   ],
   "source": [
    "# построим боксплоты для оценки использования пакета тарифов\n",
    "data_initial = ['calls_duration', 'mb_used', 'message_count']\n",
    "for column in data_initial:\n",
    "    df.boxplot(by='tariff', column=column, figsize=(8,6))\n",
    "    plt.show()\n"
   ]
  },
  {
   "cell_type": "markdown",
   "metadata": {},
   "source": [
    "#### Предварительный вывод по расходам пакета\n",
    "--------\n",
    "* Медианные значения использования минут, интернета и сообщений для обоих тарифов близки\n",
    "* Данные обоих тарифов содержат выбросы\n",
    "* Для тарифа \"УЛЬТРА\" разброс значений выше\n",
    " \n",
    "* **Удалим выбросы**"
   ]
  },
  {
   "cell_type": "markdown",
   "metadata": {},
   "source": [
    "##### Для тарифа \"СМАРТ\""
   ]
  },
  {
   "cell_type": "code",
   "execution_count": 24,
   "metadata": {},
   "outputs": [],
   "source": [
    "df_smart = df.query('tariff==\"smart\"')"
   ]
  },
  {
   "cell_type": "code",
   "execution_count": 25,
   "metadata": {},
   "outputs": [
    {
     "name": "stdout",
     "output_type": "stream",
     "text": [
      "Звонки smart\n",
      "Замена на 1: 1\n",
      "Верхний ус: 963.5\n",
      "\n",
      "Интернет smart\n",
      "Нижний ус: 1543.0\n",
      "Верхний ус: 31183.0\n",
      "\n",
      "Сообщения smart\n",
      "Замена на 1: 1\n",
      "Верхний ус: 112.5\n"
     ]
    }
   ],
   "source": [
    "# Функция рассчитывает границы \"усов\" и выводит \"0\" \n",
    "# если нижний значение нижнего \"ус\"  отрицательное\n",
    "# либо возвращает его собственное значение, если оно положительное\n",
    "def iqr_func(df, column):\n",
    "    q1 = df[column].quantile(0.25)                 \n",
    "    q3 = df[column].quantile(0.75)\n",
    "    iqr = q3 - q1\n",
    "    down = q1 - 1.5*iqr\n",
    "    if down <= 0:\n",
    "        print ('Замена на 1:', 1)\n",
    "    else:\n",
    "        print ('Нижний ус:', down)\n",
    "    up = q3 + 1.5*iqr\n",
    "    print('Верхний ус:', up)\n",
    "\n",
    "print('Звонки smart')\n",
    "borders_calls_duration_smart = iqr_func(df_smart,'calls_duration')\n",
    "print()\n",
    "print('Интернет smart')\n",
    "borders_mb_used_smart = iqr_func(df_smart,'mb_used')\n",
    "print()\n",
    "print('Сообщения smart')\n",
    "borders_message_used_smart = iqr_func(df_smart,'message_count')\n"
   ]
  },
  {
   "cell_type": "code",
   "execution_count": 26,
   "metadata": {},
   "outputs": [
    {
     "name": "stdout",
     "output_type": "stream",
     "text": [
      "Количество удаленных строк из тарифа \"СМАРТ\": 59\n"
     ]
    }
   ],
   "source": [
    "# Удалим строки у которых есть данные за пределами \"усов\" по звонкам, сообщениям и мегабайтам\n",
    "df_smart.drop(df_smart.query('calls_duration < 1 or calls_duration > 964').index, inplace=True)\n",
    "df_smart.drop(df_smart.query('mb_used < 1543 or mb_used > 31183').index, inplace=True)\n",
    "df_smart.drop(df_smart.query('message_count < 1 or message_count > 113').index, inplace=True)\n",
    "\n",
    "print('Количество удаленных строк из тарифа \"СМАРТ\":', df.query('tariff==\"smart\"').shape[0] - df_smart.shape[0])"
   ]
  },
  {
   "cell_type": "markdown",
   "metadata": {},
   "source": [
    "##### Для тарифа \"УЛЬТРА\""
   ]
  },
  {
   "cell_type": "code",
   "execution_count": 27,
   "metadata": {},
   "outputs": [],
   "source": [
    "df_ultra = df.query('tariff==\"ultra\"')"
   ]
  },
  {
   "cell_type": "code",
   "execution_count": 28,
   "metadata": {},
   "outputs": [
    {
     "name": "stdout",
     "output_type": "stream",
     "text": [
      "Звонки ultra\n",
      "Замена на 1: 1\n",
      "Верхний ус: 1494.5\n",
      "\n",
      "Интернет ultra\n",
      "Замена на 1: 1\n",
      "Верхний ус: 49480.0\n",
      "\n",
      "Сообщения ultra\n",
      "Замена на 1: 1\n",
      "Верхний ус: 188.5\n"
     ]
    }
   ],
   "source": [
    "def iqr_func(df, column):\n",
    "    q1 = df[column].quantile(0.25)                 \n",
    "    q3 = df[column].quantile(0.75)\n",
    "    iqr = q3 - q1\n",
    "    down = q1 - 1.5*iqr\n",
    "    if down <= 0:\n",
    "        print ('Замена на 1:', 1)\n",
    "    else:\n",
    "        print ('Нижний ус:', down)\n",
    "    up = q3 + 1.5*iqr\n",
    "    print('Верхний ус:', up)\n",
    "\n",
    "print('Звонки ultra')\n",
    "borders_calls_duration_ultra = iqr_func(df_ultra,'calls_duration')\n",
    "print()\n",
    "print('Интернет ultra')\n",
    "borders_mb_used_ultra = iqr_func(df_ultra,'mb_used')\n",
    "print()\n",
    "print('Сообщения ultra')\n",
    "borders_message_used_ultra = iqr_func(df_ultra,'message_count')"
   ]
  },
  {
   "cell_type": "code",
   "execution_count": 29,
   "metadata": {},
   "outputs": [
    {
     "name": "stdout",
     "output_type": "stream",
     "text": [
      "Количество удаленных строк из тарифа \"УЛЬТРА\": 12\n"
     ]
    }
   ],
   "source": [
    "df_ultra.drop(df_ultra.query('calls_duration < 1 or calls_duration >= 1495').index, inplace=True)\n",
    "df_ultra.drop(df_ultra.query('mb_used < 1 or mb_used >= 49480').index, inplace=True)\n",
    "df_ultra.drop(df_ultra.query('message_count < 1 or message_count >= 189').index, inplace=True)\n",
    "\n",
    "print('Количество удаленных строк из тарифа \"УЛЬТРА\":', df.query('tariff==\"ultra\"').shape[0] - df_ultra.shape[0])"
   ]
  },
  {
   "cell_type": "markdown",
   "metadata": {},
   "source": [
    "##### Теперь объединим отфильтрованные датафреймы"
   ]
  },
  {
   "cell_type": "code",
   "execution_count": 30,
   "metadata": {},
   "outputs": [
    {
     "name": "stdout",
     "output_type": "stream",
     "text": [
      "<class 'pandas.core.frame.DataFrame'>\n",
      "Int64Index: 3143 entries, 985 to 984\n",
      "Data columns (total 22 columns):\n",
      "user_id                  3143 non-null int64\n",
      "month                    3143 non-null int64\n",
      "churn_date               3143 non-null datetime64[ns]\n",
      "city                     3143 non-null object\n",
      "reg_date                 3143 non-null datetime64[ns]\n",
      "tariff                   3143 non-null object\n",
      "calls_duration           3143 non-null int64\n",
      "calls_count              3143 non-null int64\n",
      "mb_used                  3143 non-null int64\n",
      "message_count            3143 non-null int64\n",
      "messages_included        3143 non-null int64\n",
      "mb_per_month_included    3143 non-null int64\n",
      "minutes_included         3143 non-null int64\n",
      "rub_monthly_fee          3143 non-null int64\n",
      "rub_per_gb               3143 non-null int64\n",
      "rub_per_message          3143 non-null int64\n",
      "rub_per_minute           3143 non-null int64\n",
      "minutes_money            3143 non-null int64\n",
      "messages_money           3143 non-null int64\n",
      "internet_money           3143 non-null int64\n",
      "over_fee                 3143 non-null int64\n",
      "total_fee                3143 non-null int64\n",
      "dtypes: datetime64[ns](2), int64(18), object(2)\n",
      "memory usage: 564.8+ KB\n"
     ]
    }
   ],
   "source": [
    "df_flt = pd.concat([df_smart, df_ultra])\n",
    "df_flt.info()"
   ]
  },
  {
   "cell_type": "code",
   "execution_count": 31,
   "metadata": {},
   "outputs": [
    {
     "data": {
      "text/html": [
       "<div>\n",
       "<style scoped>\n",
       "    .dataframe tbody tr th:only-of-type {\n",
       "        vertical-align: middle;\n",
       "    }\n",
       "\n",
       "    .dataframe tbody tr th {\n",
       "        vertical-align: top;\n",
       "    }\n",
       "\n",
       "    .dataframe thead th {\n",
       "        text-align: right;\n",
       "    }\n",
       "</style>\n",
       "<table border=\"1\" class=\"dataframe\">\n",
       "  <thead>\n",
       "    <tr style=\"text-align: right;\">\n",
       "      <th></th>\n",
       "      <th>user_id</th>\n",
       "      <th>month</th>\n",
       "      <th>churn_date</th>\n",
       "      <th>city</th>\n",
       "      <th>reg_date</th>\n",
       "      <th>tariff</th>\n",
       "      <th>calls_duration</th>\n",
       "      <th>calls_count</th>\n",
       "      <th>mb_used</th>\n",
       "      <th>message_count</th>\n",
       "      <th>messages_included</th>\n",
       "      <th>mb_per_month_included</th>\n",
       "      <th>minutes_included</th>\n",
       "      <th>rub_monthly_fee</th>\n",
       "      <th>rub_per_gb</th>\n",
       "      <th>rub_per_message</th>\n",
       "      <th>rub_per_minute</th>\n",
       "      <th>minutes_money</th>\n",
       "      <th>messages_money</th>\n",
       "      <th>internet_money</th>\n",
       "      <th>over_fee</th>\n",
       "      <th>total_fee</th>\n",
       "    </tr>\n",
       "  </thead>\n",
       "  <tbody>\n",
       "    <tr>\n",
       "      <th>909</th>\n",
       "      <td>1458</td>\n",
       "      <td>4</td>\n",
       "      <td>2018-12-31</td>\n",
       "      <td>Барнаул</td>\n",
       "      <td>2018-02-13</td>\n",
       "      <td>ultra</td>\n",
       "      <td>775</td>\n",
       "      <td>108</td>\n",
       "      <td>14353</td>\n",
       "      <td>4</td>\n",
       "      <td>1000</td>\n",
       "      <td>30720</td>\n",
       "      <td>3000</td>\n",
       "      <td>1950</td>\n",
       "      <td>150</td>\n",
       "      <td>1</td>\n",
       "      <td>1</td>\n",
       "      <td>0</td>\n",
       "      <td>0</td>\n",
       "      <td>0</td>\n",
       "      <td>0</td>\n",
       "      <td>1950</td>\n",
       "    </tr>\n",
       "    <tr>\n",
       "      <th>638</th>\n",
       "      <td>1348</td>\n",
       "      <td>11</td>\n",
       "      <td>2018-12-31</td>\n",
       "      <td>Москва</td>\n",
       "      <td>2018-10-07</td>\n",
       "      <td>ultra</td>\n",
       "      <td>537</td>\n",
       "      <td>81</td>\n",
       "      <td>27235</td>\n",
       "      <td>40</td>\n",
       "      <td>1000</td>\n",
       "      <td>30720</td>\n",
       "      <td>3000</td>\n",
       "      <td>1950</td>\n",
       "      <td>150</td>\n",
       "      <td>1</td>\n",
       "      <td>1</td>\n",
       "      <td>0</td>\n",
       "      <td>0</td>\n",
       "      <td>0</td>\n",
       "      <td>0</td>\n",
       "      <td>1950</td>\n",
       "    </tr>\n",
       "    <tr>\n",
       "      <th>2108</th>\n",
       "      <td>1242</td>\n",
       "      <td>11</td>\n",
       "      <td>2018-12-21</td>\n",
       "      <td>Хабаровск</td>\n",
       "      <td>2018-11-18</td>\n",
       "      <td>smart</td>\n",
       "      <td>198</td>\n",
       "      <td>28</td>\n",
       "      <td>4935</td>\n",
       "      <td>1</td>\n",
       "      <td>50</td>\n",
       "      <td>15360</td>\n",
       "      <td>500</td>\n",
       "      <td>550</td>\n",
       "      <td>200</td>\n",
       "      <td>3</td>\n",
       "      <td>3</td>\n",
       "      <td>0</td>\n",
       "      <td>0</td>\n",
       "      <td>0</td>\n",
       "      <td>0</td>\n",
       "      <td>550</td>\n",
       "    </tr>\n",
       "    <tr>\n",
       "      <th>3195</th>\n",
       "      <td>1496</td>\n",
       "      <td>5</td>\n",
       "      <td>2018-12-31</td>\n",
       "      <td>Вологда</td>\n",
       "      <td>2018-01-27</td>\n",
       "      <td>smart</td>\n",
       "      <td>497</td>\n",
       "      <td>63</td>\n",
       "      <td>23740</td>\n",
       "      <td>40</td>\n",
       "      <td>50</td>\n",
       "      <td>15360</td>\n",
       "      <td>500</td>\n",
       "      <td>550</td>\n",
       "      <td>200</td>\n",
       "      <td>3</td>\n",
       "      <td>3</td>\n",
       "      <td>0</td>\n",
       "      <td>0</td>\n",
       "      <td>1600</td>\n",
       "      <td>1600</td>\n",
       "      <td>2150</td>\n",
       "    </tr>\n",
       "    <tr>\n",
       "      <th>652</th>\n",
       "      <td>1352</td>\n",
       "      <td>10</td>\n",
       "      <td>2018-12-31</td>\n",
       "      <td>Рязань</td>\n",
       "      <td>2018-04-17</td>\n",
       "      <td>ultra</td>\n",
       "      <td>835</td>\n",
       "      <td>107</td>\n",
       "      <td>15693</td>\n",
       "      <td>6</td>\n",
       "      <td>1000</td>\n",
       "      <td>30720</td>\n",
       "      <td>3000</td>\n",
       "      <td>1950</td>\n",
       "      <td>150</td>\n",
       "      <td>1</td>\n",
       "      <td>1</td>\n",
       "      <td>0</td>\n",
       "      <td>0</td>\n",
       "      <td>0</td>\n",
       "      <td>0</td>\n",
       "      <td>1950</td>\n",
       "    </tr>\n",
       "  </tbody>\n",
       "</table>\n",
       "</div>"
      ],
      "text/plain": [
       "      user_id  month churn_date       city   reg_date tariff  calls_duration  \\\n",
       "909      1458      4 2018-12-31    Барнаул 2018-02-13  ultra             775   \n",
       "638      1348     11 2018-12-31     Москва 2018-10-07  ultra             537   \n",
       "2108     1242     11 2018-12-21  Хабаровск 2018-11-18  smart             198   \n",
       "3195     1496      5 2018-12-31    Вологда 2018-01-27  smart             497   \n",
       "652      1352     10 2018-12-31     Рязань 2018-04-17  ultra             835   \n",
       "\n",
       "      calls_count  mb_used  message_count  messages_included  \\\n",
       "909           108    14353              4               1000   \n",
       "638            81    27235             40               1000   \n",
       "2108           28     4935              1                 50   \n",
       "3195           63    23740             40                 50   \n",
       "652           107    15693              6               1000   \n",
       "\n",
       "      mb_per_month_included  minutes_included  rub_monthly_fee  rub_per_gb  \\\n",
       "909                   30720              3000             1950         150   \n",
       "638                   30720              3000             1950         150   \n",
       "2108                  15360               500              550         200   \n",
       "3195                  15360               500              550         200   \n",
       "652                   30720              3000             1950         150   \n",
       "\n",
       "      rub_per_message  rub_per_minute  minutes_money  messages_money  \\\n",
       "909                 1               1              0               0   \n",
       "638                 1               1              0               0   \n",
       "2108                3               3              0               0   \n",
       "3195                3               3              0               0   \n",
       "652                 1               1              0               0   \n",
       "\n",
       "      internet_money  over_fee  total_fee  \n",
       "909                0         0       1950  \n",
       "638                0         0       1950  \n",
       "2108               0         0        550  \n",
       "3195            1600      1600       2150  \n",
       "652                0         0       1950  "
      ]
     },
     "execution_count": 31,
     "metadata": {},
     "output_type": "execute_result"
    }
   ],
   "source": [
    "df_flt.sample(5)"
   ]
  },
  {
   "cell_type": "markdown",
   "metadata": {},
   "source": [
    "##### Звонки"
   ]
  },
  {
   "cell_type": "code",
   "execution_count": 32,
   "metadata": {},
   "outputs": [],
   "source": [
    "# Функция для построения гистограмм по тарифам\n",
    "def hist_graph(data, column, title):\n",
    "    (data\n",
    "     .groupby('tariff')[column]\n",
    "     .plot\n",
    "     .hist(bins=20, alpha=0.4, normed=True, figsize=(8,6), fontsize=15)\n",
    "    )\n",
    "    plt.legend(fontsize=15)\n",
    "    plt.title(title, fontsize=15, color='b');\n",
    "\n",
    "\n",
    "# Функция для построения боксплотов по тарифам\n",
    "def boxplotter(data, column, title):\n",
    "    data.boxplot(by='tariff', column=column, figsize=(8,6), fontsize=15)\n",
    "    plt.title(title, fontsize=15, color='b');"
   ]
  },
  {
   "cell_type": "code",
   "execution_count": 33,
   "metadata": {},
   "outputs": [
    {
     "data": {
      "image/png": "[encoded data removed]",
      "text/plain": [
       "<Figure size 576x432 with 1 Axes>"
      ]
     },
     "metadata": {
      "needs_background": "light"
     },
     "output_type": "display_data"
    },
    {
     "data": {
      "image/png": "[encoded data removed]",
      "text/plain": [
       "<Figure size 576x432 with 1 Axes>"
      ]
     },
     "metadata": {
      "needs_background": "light"
     },
     "output_type": "display_data"
    }
   ],
   "source": [
    "# Исходные данные\n",
    "hist_graph(df, 'calls_duration', 'Распределение продолжительности звонков (мин)(исходные данные)')\n",
    "boxplotter(df,'calls_duration', 'Распределение продолжительности звонков (мин)(исходные данные)' )"
   ]
  },
  {
   "cell_type": "code",
   "execution_count": 34,
   "metadata": {
    "scrolled": false
   },
   "outputs": [
    {
     "data": {
      "image/png": "[encoded data removed]",
      "text/plain": [
       "<Figure size 576x432 with 1 Axes>"
      ]
     },
     "metadata": {
      "needs_background": "light"
     },
     "output_type": "display_data"
    },
    {
     "data": {
      "image/png": "[encoded data removed]",
      "text/plain": [
       "<Figure size 576x432 with 1 Axes>"
      ]
     },
     "metadata": {
      "needs_background": "light"
     },
     "output_type": "display_data"
    }
   ],
   "source": [
    "# Отфильтрованные\n",
    "hist_graph(df_flt, 'calls_duration','Распределение продолжительности звонков (мин) (отфильтрованные данные)')\n",
    "boxplotter(df_flt,'calls_duration', 'Распределение продолжительности звонков (мин) (отфильтрованные данные)')"
   ]
  },
  {
   "cell_type": "code",
   "execution_count": 35,
   "metadata": {},
   "outputs": [
    {
     "data": {
      "text/html": [
       "<div>\n",
       "<style scoped>\n",
       "    .dataframe tbody tr th:only-of-type {\n",
       "        vertical-align: middle;\n",
       "    }\n",
       "\n",
       "    .dataframe tbody tr th {\n",
       "        vertical-align: top;\n",
       "    }\n",
       "\n",
       "    .dataframe thead tr th {\n",
       "        text-align: left;\n",
       "    }\n",
       "\n",
       "    .dataframe thead tr:last-of-type th {\n",
       "        text-align: right;\n",
       "    }\n",
       "</style>\n",
       "<table border=\"1\" class=\"dataframe\">\n",
       "  <thead>\n",
       "    <tr>\n",
       "      <th></th>\n",
       "      <th>median</th>\n",
       "      <th>mean</th>\n",
       "      <th>var</th>\n",
       "      <th>std</th>\n",
       "    </tr>\n",
       "    <tr>\n",
       "      <th></th>\n",
       "      <th>calls_duration</th>\n",
       "      <th>calls_duration</th>\n",
       "      <th>calls_duration</th>\n",
       "      <th>calls_duration</th>\n",
       "    </tr>\n",
       "    <tr>\n",
       "      <th>tariff</th>\n",
       "      <th></th>\n",
       "      <th></th>\n",
       "      <th></th>\n",
       "      <th></th>\n",
       "    </tr>\n",
       "  </thead>\n",
       "  <tbody>\n",
       "    <tr>\n",
       "      <th>smart</th>\n",
       "      <td>434.0</td>\n",
       "      <td>429.0</td>\n",
       "      <td>34734.0</td>\n",
       "      <td>186.0</td>\n",
       "    </tr>\n",
       "    <tr>\n",
       "      <th>ultra</th>\n",
       "      <td>532.0</td>\n",
       "      <td>540.0</td>\n",
       "      <td>102609.0</td>\n",
       "      <td>320.0</td>\n",
       "    </tr>\n",
       "  </tbody>\n",
       "</table>\n",
       "</div>"
      ],
      "text/plain": [
       "               median           mean            var            std\n",
       "       calls_duration calls_duration calls_duration calls_duration\n",
       "tariff                                                            \n",
       "smart           434.0          429.0        34734.0          186.0\n",
       "ultra           532.0          540.0       102609.0          320.0"
      ]
     },
     "execution_count": 35,
     "metadata": {},
     "output_type": "execute_result"
    }
   ],
   "source": [
    "# Расчет медианы, среднего, стандартного отклонения, дисперсии \n",
    "(df_flt\n",
    " .pivot_table(index='tariff', values=['calls_duration'], \n",
    "              aggfunc=['median','mean','var','std'])\n",
    " .sort_values(by='tariff', ascending=True)\n",
    " .round()\n",
    ")"
   ]
  },
  {
   "cell_type": "markdown",
   "metadata": {},
   "source": [
    "#### Вывод\n",
    "* Пользователям тарифа \"СМАРТ\" обычно требуется **434** минут (медиана)    \n",
    "* Пользователям тарифа \"УЛЬТРА\"обычно требуется **532** минуты (медиана)  \n",
    "* Для распределений наблюдается скошенность вправо, для тарифа \"УЛЬТРА\" более ярко выраженная"
   ]
  },
  {
   "cell_type": "markdown",
   "metadata": {},
   "source": [
    "#### Интернет\n"
   ]
  },
  {
   "cell_type": "code",
   "execution_count": 36,
   "metadata": {},
   "outputs": [
    {
     "data": {
      "image/png": "[encoded data removed]",
      "text/plain": [
       "<Figure size 576x432 with 1 Axes>"
      ]
     },
     "metadata": {
      "needs_background": "light"
     },
     "output_type": "display_data"
    },
    {
     "data": {
      "image/png": "[encoded data removed]",
      "text/plain": [
       "<Figure size 576x432 with 1 Axes>"
      ]
     },
     "metadata": {
      "needs_background": "light"
     },
     "output_type": "display_data"
    }
   ],
   "source": [
    "# Исходные данные\n",
    "hist_graph(df,'mb_used', 'Распределение использования трафика (Мб) (исходные данные)')\n",
    "boxplotter(df,'mb_used', 'Распределение использования трафика (Мб) (исходные данные)')"
   ]
  },
  {
   "cell_type": "code",
   "execution_count": 37,
   "metadata": {},
   "outputs": [
    {
     "data": {
      "image/png": "[encoded data removed]",
      "text/plain": [
       "<Figure size 576x432 with 1 Axes>"
      ]
     },
     "metadata": {
      "needs_background": "light"
     },
     "output_type": "display_data"
    },
    {
     "data": {
      "image/png": "[encoded data removed]",
      "text/plain": [
       "<Figure size 576x432 with 1 Axes>"
      ]
     },
     "metadata": {
      "needs_background": "light"
     },
     "output_type": "display_data"
    }
   ],
   "source": [
    "# Отфильтрованные\n",
    "hist_graph(df_flt,'mb_used','Распределение использования трафика (Мб) (отфильтрованные данные)')\n",
    "boxplotter(df_flt,'mb_used','Распределение использования трафика (Мб) (отфильтрованные данные)')"
   ]
  },
  {
   "cell_type": "code",
   "execution_count": 38,
   "metadata": {},
   "outputs": [
    {
     "data": {
      "text/html": [
       "<div>\n",
       "<style scoped>\n",
       "    .dataframe tbody tr th:only-of-type {\n",
       "        vertical-align: middle;\n",
       "    }\n",
       "\n",
       "    .dataframe tbody tr th {\n",
       "        vertical-align: top;\n",
       "    }\n",
       "\n",
       "    .dataframe thead tr th {\n",
       "        text-align: left;\n",
       "    }\n",
       "\n",
       "    .dataframe thead tr:last-of-type th {\n",
       "        text-align: right;\n",
       "    }\n",
       "</style>\n",
       "<table border=\"1\" class=\"dataframe\">\n",
       "  <thead>\n",
       "    <tr>\n",
       "      <th></th>\n",
       "      <th>median</th>\n",
       "      <th>mean</th>\n",
       "      <th>var</th>\n",
       "      <th>std</th>\n",
       "    </tr>\n",
       "    <tr>\n",
       "      <th></th>\n",
       "      <th>mb_used</th>\n",
       "      <th>mb_used</th>\n",
       "      <th>mb_used</th>\n",
       "      <th>mb_used</th>\n",
       "    </tr>\n",
       "    <tr>\n",
       "      <th>tariff</th>\n",
       "      <th></th>\n",
       "      <th></th>\n",
       "      <th></th>\n",
       "      <th></th>\n",
       "    </tr>\n",
       "  </thead>\n",
       "  <tbody>\n",
       "    <tr>\n",
       "      <th>smart</th>\n",
       "      <td>16514.0</td>\n",
       "      <td>16250.0</td>\n",
       "      <td>30397169.0</td>\n",
       "      <td>5513.0</td>\n",
       "    </tr>\n",
       "    <tr>\n",
       "      <th>ultra</th>\n",
       "      <td>19297.0</td>\n",
       "      <td>19417.0</td>\n",
       "      <td>100084600.0</td>\n",
       "      <td>10004.0</td>\n",
       "    </tr>\n",
       "  </tbody>\n",
       "</table>\n",
       "</div>"
      ],
      "text/plain": [
       "         median     mean          var      std\n",
       "        mb_used  mb_used      mb_used  mb_used\n",
       "tariff                                        \n",
       "smart   16514.0  16250.0   30397169.0   5513.0\n",
       "ultra   19297.0  19417.0  100084600.0  10004.0"
      ]
     },
     "execution_count": 38,
     "metadata": {},
     "output_type": "execute_result"
    }
   ],
   "source": [
    "# Расчет медианы, среднего, стандартного отклонения, дисперсии \n",
    "(df_flt\n",
    " .pivot_table(index='tariff', values=['mb_used'], \n",
    "              aggfunc=['median','mean','var','std'])\n",
    " .sort_values(by='tariff', ascending=True)\n",
    " .round()\n",
    ")"
   ]
  },
  {
   "cell_type": "markdown",
   "metadata": {},
   "source": [
    "#### Вывод\n",
    "* Пользователям тарифа \"СМАРТ\" обычно требуется **16** Гб (медиана)    \n",
    "* Пользователям тарифа \"УЛЬТРА\"обычно требуется **19** Гб (медиана) \n",
    "* Распределений практически симметричны\n",
    "-----\n"
   ]
  },
  {
   "cell_type": "markdown",
   "metadata": {},
   "source": [
    "#### Сообщения"
   ]
  },
  {
   "cell_type": "code",
   "execution_count": 39,
   "metadata": {},
   "outputs": [
    {
     "data": {
      "image/png": "[encoded data removed]",
      "text/plain": [
       "<Figure size 576x432 with 1 Axes>"
      ]
     },
     "metadata": {
      "needs_background": "light"
     },
     "output_type": "display_data"
    },
    {
     "data": {
      "image/png": "[encoded data removed]",
      "text/plain": [
       "<Figure size 576x432 with 1 Axes>"
      ]
     },
     "metadata": {
      "needs_background": "light"
     },
     "output_type": "display_data"
    }
   ],
   "source": [
    "# Исходные данные\n",
    "hist_graph(df,'message_count','Распределение использования СМС (шт) (исходные данные)')\n",
    "boxplotter(df,'message_count','Распределение использования СМС (шт) (исходные данные)')"
   ]
  },
  {
   "cell_type": "code",
   "execution_count": 40,
   "metadata": {},
   "outputs": [
    {
     "data": {
      "image/png": "[encoded data removed]",
      "text/plain": [
       "<Figure size 576x432 with 1 Axes>"
      ]
     },
     "metadata": {
      "needs_background": "light"
     },
     "output_type": "display_data"
    },
    {
     "data": {
      "image/png": "[encoded data removed]",
      "text/plain": [
       "<Figure size 576x432 with 1 Axes>"
      ]
     },
     "metadata": {
      "needs_background": "light"
     },
     "output_type": "display_data"
    }
   ],
   "source": [
    "# Отфильтрованные\n",
    "hist_graph(df_flt,'message_count','Распределение использования СМС (шт) (отфильтрованные данные)')\n",
    "boxplotter(df_flt,'message_count','Распределение использования СМС (шт) (отфильтрованные данные)')"
   ]
  },
  {
   "cell_type": "code",
   "execution_count": 41,
   "metadata": {},
   "outputs": [
    {
     "data": {
      "text/html": [
       "<div>\n",
       "<style scoped>\n",
       "    .dataframe tbody tr th:only-of-type {\n",
       "        vertical-align: middle;\n",
       "    }\n",
       "\n",
       "    .dataframe tbody tr th {\n",
       "        vertical-align: top;\n",
       "    }\n",
       "\n",
       "    .dataframe thead tr th {\n",
       "        text-align: left;\n",
       "    }\n",
       "\n",
       "    .dataframe thead tr:last-of-type th {\n",
       "        text-align: right;\n",
       "    }\n",
       "</style>\n",
       "<table border=\"1\" class=\"dataframe\">\n",
       "  <thead>\n",
       "    <tr>\n",
       "      <th></th>\n",
       "      <th>median</th>\n",
       "      <th>mean</th>\n",
       "      <th>var</th>\n",
       "      <th>std</th>\n",
       "    </tr>\n",
       "    <tr>\n",
       "      <th></th>\n",
       "      <th>message_count</th>\n",
       "      <th>message_count</th>\n",
       "      <th>message_count</th>\n",
       "      <th>message_count</th>\n",
       "    </tr>\n",
       "    <tr>\n",
       "      <th>tariff</th>\n",
       "      <th></th>\n",
       "      <th></th>\n",
       "      <th></th>\n",
       "      <th></th>\n",
       "    </tr>\n",
       "  </thead>\n",
       "  <tbody>\n",
       "    <tr>\n",
       "      <th>smart</th>\n",
       "      <td>28</td>\n",
       "      <td>33.0</td>\n",
       "      <td>732.0</td>\n",
       "      <td>27.0</td>\n",
       "    </tr>\n",
       "    <tr>\n",
       "      <th>ultra</th>\n",
       "      <td>38</td>\n",
       "      <td>48.0</td>\n",
       "      <td>2088.0</td>\n",
       "      <td>46.0</td>\n",
       "    </tr>\n",
       "  </tbody>\n",
       "</table>\n",
       "</div>"
      ],
      "text/plain": [
       "              median          mean           var           std\n",
       "       message_count message_count message_count message_count\n",
       "tariff                                                        \n",
       "smart             28          33.0         732.0          27.0\n",
       "ultra             38          48.0        2088.0          46.0"
      ]
     },
     "execution_count": 41,
     "metadata": {},
     "output_type": "execute_result"
    }
   ],
   "source": [
    "# Расчет медианы, среднего, стандартного отклонения, дисперсии \n",
    "(df_flt\n",
    " .pivot_table(index='tariff', values=['message_count'], \n",
    "              aggfunc=['median','mean','var','std'])\n",
    " .sort_values(by='tariff', ascending=True)\n",
    " .round()\n",
    ")"
   ]
  },
  {
   "cell_type": "markdown",
   "metadata": {},
   "source": [
    "#### Вывод\n",
    "* Пользователям тарифа \"СМАРТ\" обычно требуется **28** сообщений (медиана)    \n",
    "* Пользователям тарифа \"УЛЬТРА\"обычно требуется **38** сообщений (медиана) \n",
    "* Для распределений наблюдается сильная скошенность вправо, для тарифа \"УЛЬТРА\" более ярко выраженная"
   ]
  },
  {
   "cell_type": "markdown",
   "metadata": {},
   "source": [
    "**Наблюдаемые распределения для звонков и интернета визуально близки к нормальным, но несимметричны, поэтому в оценке потребления лучше использовать медиану, для сообщений однозначно медиана, так как распределение даже близко не похоже на нормальное.**"
   ]
  },
  {
   "cell_type": "markdown",
   "metadata": {},
   "source": [
    "###  Шаг 4.  гипотезы\n"
   ]
  },
  {
   "cell_type": "code",
   "execution_count": 42,
   "metadata": {},
   "outputs": [
    {
     "data": {
      "image/png": "[encoded data removed]",
      "text/plain": [
       "<Figure size 576x432 with 1 Axes>"
      ]
     },
     "metadata": {
      "needs_background": "light"
     },
     "output_type": "display_data"
    }
   ],
   "source": [
    "# Построим распределение выручки с тарифов\n",
    "hist_graph(df_flt, 'total_fee', 'Распределение выручки с тарифов (отфильтрованные данные)')"
   ]
  },
  {
   "cell_type": "markdown",
   "metadata": {},
   "source": [
    "#### Гипотезы о равенстве средних двух независимых совокупностей\n",
    "* Будем проверять **средние выручки по тарифам** (они и есть наши независимые совокупности)\n",
    "* обозначим их `АR`( от англ. `average revenue`)\n",
    "------------\n",
    "*Нулевая гипотеза Н0:*        **AR(смарт) = AR(ультра)** \n",
    "\n",
    "*Альтернативная гипотеза Н1:* **AR(смарт) != AR(ультра)**\n",
    "\n"
   ]
  },
  {
   "cell_type": "code",
   "execution_count": 43,
   "metadata": {},
   "outputs": [
    {
     "name": "stdout",
     "output_type": "stream",
     "text": [
      "Отвергаем нулевую гипотезу, p-value: 1.0442721777445852e-254\n"
     ]
    }
   ],
   "source": [
    "# Функция для проверки p-value\n",
    "    \n",
    "def ttest_independent(df1, df2):\n",
    "    alpha = 0.05\n",
    "    results = st.ttest_ind(df1, df2)\n",
    "    if results.pvalue < alpha:\n",
    "        print(\"Отвергаем нулевую гипотезу, p-value:\", results.pvalue)\n",
    "    else:\n",
    "        print(\"Не получилось отвергнуть нулевую гипотезу,  p-value:\", results.pvalue)\n",
    "smart_total_fee = df_smart['total_fee']\n",
    "ultra_total_fee = df_ultra['total_fee']\n",
    "ttest_independent(smart_total_fee, ultra_total_fee)"
   ]
  },
  {
   "cell_type": "code",
   "execution_count": 44,
   "metadata": {},
   "outputs": [
    {
     "name": "stdout",
     "output_type": "stream",
     "text": [
      "Средняя выручка в тарифе \"СМАРТ\": 1166.0 рублей\n",
      "Средняя выручка в тарифе \"УЛЬТРА\": 2046.0 рублей\n"
     ]
    }
   ],
   "source": [
    "# Рассчитаем средние выручки в тарифах\n",
    "print('Средняя выручка в тарифе \"СМАРТ\":', smart_total_fee.mean().round(), 'рублей')\n",
    "print('Средняя выручка в тарифе \"УЛЬТРА\":', ultra_total_fee.mean().round(), 'рублей')"
   ]
  },
  {
   "cell_type": "markdown",
   "metadata": {},
   "source": [
    "##### Вывод: \n",
    "------------\n",
    "**средняя выручка по тарифу \"СМАРТ\" почти в два меньше чем по тарифу \"УЛЬТРА\"**"
   ]
  },
  {
   "cell_type": "markdown",
   "metadata": {},
   "source": [
    "------------\n",
    "#### Проверим гипотезу о том, что средняя выручка абонентов из Москвы отличается от средней выручки абонентов других регинов\n",
    "------------\n",
    "*Нулевая гипотеза Н0:*        **AR(Москва) = AR(Другие регионы)** \n",
    "\n",
    "*Альтернативная гипотеза Н1:* **AR(Москва) != AR(Другие регионы)**\n"
   ]
  },
  {
   "cell_type": "code",
   "execution_count": 45,
   "metadata": {},
   "outputs": [],
   "source": [
    "# Функция для категоризации регионов\n",
    "def region_category(row):\n",
    "    city = row['city']\n",
    "    if city == 'Москва':\n",
    "        return 'Москва'\n",
    "    return 'Другой'\n",
    "df_flt['region'] = df_flt.apply(region_category, axis=1)"
   ]
  },
  {
   "cell_type": "code",
   "execution_count": 46,
   "metadata": {},
   "outputs": [],
   "source": [
    "# Создадим столбцы с выручкой для регионов\n",
    "msk = df_flt.query('region==\"Москва\"')['total_fee']\n",
    "others = df_flt.query('region==\"Другой\"')['total_fee']"
   ]
  },
  {
   "cell_type": "code",
   "execution_count": 47,
   "metadata": {},
   "outputs": [
    {
     "name": "stdout",
     "output_type": "stream",
     "text": [
      "Не получилось отвергнуть нулевую гипотезу,  p-value: 0.2310265932119201\n"
     ]
    }
   ],
   "source": [
    "# Проверяем  p-value\n",
    "ttest_independent(msk, others)"
   ]
  },
  {
   "cell_type": "code",
   "execution_count": 48,
   "metadata": {},
   "outputs": [
    {
     "name": "stdout",
     "output_type": "stream",
     "text": [
      "Средняя выручка в Москве: 1470.0 рублей\n",
      "Средняя выручка в других регионах: 1431.0 рублей\n"
     ]
    }
   ],
   "source": [
    "# Посчитаем выручку в Москве и других регионах\n",
    "print('Средняя выручка в Москве:', msk.mean().round(), 'рублей')\n",
    "print('Средняя выручка в других регионах:', others.mean().round(), 'рублей')"
   ]
  },
  {
   "cell_type": "markdown",
   "metadata": {},
   "source": [
    "### ОБЩИЙ ВЫВОД:\n",
    ">\n",
    "Примечание: указаны медианные значения для минут, гигабайтов и  СМС сообщений \n",
    ">\n",
    "\n",
    "-------------\n",
    "**1) Минуты**\n",
    "* Пользователям тарифа \"СМАРТ\" обычно требуется **434** минут     \n",
    "* Пользователям тарифа \"УЛЬТРА\"обычно требуется **532** минуты \n",
    "------------\n",
    "**2) Интернет**\n",
    "* Пользователям тарифа \"СМАРТ\" обычно требуется **16** Гб     \n",
    "* Пользователям тарифа \"УЛЬТРА\"обычно требуется **19** Гб  \n",
    "-----------\n",
    "**3) Сообщения**\n",
    "* Пользователям тарифа \"СМАРТ\" обычно требуется **28** сообщений     \n",
    "* Пользователям тарифа \"УЛЬТРА\"обычно требуется **38** сообщений \n",
    "----------\n",
    "**4) Средняя выручка по тарифам**\n",
    "* В тарифе \"СМАРТ\": **1166.0** рублей\n",
    "* В тарифе \"УЛЬТРА\": **2046.0** рублей\n",
    "* Отвергаем нулевую гипотезу **(p-value << alpha)**: p-value = 1.0442721777445852e-254\n",
    "----------\n",
    "**5) Средняя выручка по регионам**\n",
    "* Средняя выручка в Москве: **1470.0** рублей\n",
    "* Средняя выручка в других регионах: **1431.0** рублей\n",
    "* Не получилось отвергнуть нулевую гипотезу,  **(p-value > alpha)**: p-value = 0.2310265932119201"
   ]
  }
 ],
 "metadata": {
  "kernelspec": {
   "display_name": "Python 3",
   "language": "python",
   "name": "python3"
  },
  "language_info": {
   "codemirror_mode": {
    "name": "ipython",
    "version": 3
   },
   "file_extension": ".py",
   "mimetype": "text/x-python",
   "name": "python",
   "nbconvert_exporter": "python",
   "pygments_lexer": "ipython3",
   "version": "3.7.3"
  }
 },
 "nbformat": 4,
 "nbformat_minor": 2
}
