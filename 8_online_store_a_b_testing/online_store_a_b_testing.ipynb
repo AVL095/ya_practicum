{
 "cells": [
  {
   "cell_type": "markdown",
   "metadata": {},
   "source": [
    "#### Принятие решений в бизнесе на основе данных\n",
    "--------------------\n",
    "<a id=return></a>"
   ]
  },
  {
   "cell_type": "code",
   "execution_count": 1,
   "metadata": {},
   "outputs": [],
   "source": [
    "# Импорт библиотек\n",
    "import pandas as pd\n",
    "import numpy as np\n",
    "import datetime as dt\n",
    "import math as mth\n",
    "import matplotlib.pyplot as plt\n",
    "from scipy import stats as st\n",
    "\n",
    "import seaborn as sns\n",
    "sns.set(rc={'figure.figsize':(11.7, 8.27)})\n",
    "\n",
    "import warnings\n",
    "warnings.filterwarnings('ignore')\n",
    "\n",
    "\n",
    "plt.style.use('seaborn')\n",
    "%matplotlib inline\n",
    "pd.set_option('display.max_columns', None)\n",
    "\n",
    "\n",
    "# для полного отображения содержимого столбцов\n",
    "pd.set_option('display.max_colwidth', -1)"
   ]
  },
  {
   "cell_type": "code",
   "execution_count": 2,
   "metadata": {},
   "outputs": [],
   "source": [
    "# импортируем данные\n",
    "hypothesis = pd.read_csv('/datasets/hypothesis.csv')\n",
    "orders = pd.read_csv('/datasets/orders.csv')\n",
    "visitors = pd.read_csv('/datasets/visitors.csv')"
   ]
  },
  {
   "cell_type": "markdown",
   "metadata": {},
   "source": [
    "**Задание**\n",
    "* Примените фреймворк ICE для приоритизации гипотез. Отсортируйте их по убыванию приоритета.\n",
    "* Примените фреймворк RICE для приоритизации гипотез. Отсортируйте их по убыванию приоритета.\n",
    "* Укажите, как изменилась приоритизация гипотез при применении RICE вместо ICE. Объясните, почему так произошло."
   ]
  },
  {
   "cell_type": "markdown",
   "metadata": {},
   "source": [
    "**ICE = (Impact x Confidence) / Efforts**"
   ]
  },
  {
   "cell_type": "code",
   "execution_count": 3,
   "metadata": {},
   "outputs": [
    {
     "data": {
      "text/html": [
       "<div>\n",
       "<style scoped>\n",
       "    .dataframe tbody tr th:only-of-type {\n",
       "        vertical-align: middle;\n",
       "    }\n",
       "\n",
       "    .dataframe tbody tr th {\n",
       "        vertical-align: top;\n",
       "    }\n",
       "\n",
       "    .dataframe thead th {\n",
       "        text-align: right;\n",
       "    }\n",
       "</style>\n",
       "<table border=\"1\" class=\"dataframe\">\n",
       "  <thead>\n",
       "    <tr style=\"text-align: right;\">\n",
       "      <th></th>\n",
       "      <th>Hypothesis</th>\n",
       "      <th>Reach</th>\n",
       "      <th>Impact</th>\n",
       "      <th>Confidence</th>\n",
       "      <th>Efforts</th>\n",
       "    </tr>\n",
       "  </thead>\n",
       "  <tbody>\n",
       "    <tr>\n",
       "      <td>0</td>\n",
       "      <td>Добавить два новых канала привлечения трафика, что позволит привлекать на 30% больше пользователей</td>\n",
       "      <td>3</td>\n",
       "      <td>10</td>\n",
       "      <td>8</td>\n",
       "      <td>6</td>\n",
       "    </tr>\n",
       "    <tr>\n",
       "      <td>1</td>\n",
       "      <td>Запустить собственную службу доставки, что сократит срок доставки заказов</td>\n",
       "      <td>2</td>\n",
       "      <td>5</td>\n",
       "      <td>4</td>\n",
       "      <td>10</td>\n",
       "    </tr>\n",
       "    <tr>\n",
       "      <td>2</td>\n",
       "      <td>Добавить блоки рекомендаций товаров на сайт интернет магазина, чтобы повысить конверсию и средний чек заказа</td>\n",
       "      <td>8</td>\n",
       "      <td>3</td>\n",
       "      <td>7</td>\n",
       "      <td>3</td>\n",
       "    </tr>\n",
       "    <tr>\n",
       "      <td>3</td>\n",
       "      <td>Изменить структура категорий, что увеличит конверсию, т.к. пользователи быстрее найдут нужный товар</td>\n",
       "      <td>8</td>\n",
       "      <td>3</td>\n",
       "      <td>3</td>\n",
       "      <td>8</td>\n",
       "    </tr>\n",
       "    <tr>\n",
       "      <td>4</td>\n",
       "      <td>Изменить цвет фона главной страницы, чтобы увеличить вовлеченность пользователей</td>\n",
       "      <td>3</td>\n",
       "      <td>1</td>\n",
       "      <td>1</td>\n",
       "      <td>1</td>\n",
       "    </tr>\n",
       "    <tr>\n",
       "      <td>5</td>\n",
       "      <td>Добавить страницу отзывов клиентов о магазине, что позволит увеличить количество заказов</td>\n",
       "      <td>3</td>\n",
       "      <td>2</td>\n",
       "      <td>2</td>\n",
       "      <td>3</td>\n",
       "    </tr>\n",
       "    <tr>\n",
       "      <td>6</td>\n",
       "      <td>Показать на главной странице баннеры с актуальными акциями и распродажами, чтобы увеличить конверсию</td>\n",
       "      <td>5</td>\n",
       "      <td>3</td>\n",
       "      <td>8</td>\n",
       "      <td>3</td>\n",
       "    </tr>\n",
       "    <tr>\n",
       "      <td>7</td>\n",
       "      <td>Добавить форму подписки на все основные страницы, чтобы собрать базу клиентов для email-рассылок</td>\n",
       "      <td>10</td>\n",
       "      <td>7</td>\n",
       "      <td>8</td>\n",
       "      <td>5</td>\n",
       "    </tr>\n",
       "    <tr>\n",
       "      <td>8</td>\n",
       "      <td>Запустить акцию, дающую скидку на товар в день рождения</td>\n",
       "      <td>1</td>\n",
       "      <td>9</td>\n",
       "      <td>9</td>\n",
       "      <td>5</td>\n",
       "    </tr>\n",
       "  </tbody>\n",
       "</table>\n",
       "</div>"
      ],
      "text/plain": [
       "                                                                                                     Hypothesis  \\\n",
       "0  Добавить два новых канала привлечения трафика, что позволит привлекать на 30% больше пользователей             \n",
       "1  Запустить собственную службу доставки, что сократит срок доставки заказов                                      \n",
       "2  Добавить блоки рекомендаций товаров на сайт интернет магазина, чтобы повысить конверсию и средний чек заказа   \n",
       "3  Изменить структура категорий, что увеличит конверсию, т.к. пользователи быстрее найдут нужный товар            \n",
       "4  Изменить цвет фона главной страницы, чтобы увеличить вовлеченность пользователей                               \n",
       "5  Добавить страницу отзывов клиентов о магазине, что позволит увеличить количество заказов                       \n",
       "6  Показать на главной странице баннеры с актуальными акциями и распродажами, чтобы увеличить конверсию           \n",
       "7  Добавить форму подписки на все основные страницы, чтобы собрать базу клиентов для email-рассылок               \n",
       "8  Запустить акцию, дающую скидку на товар в день рождения                                                        \n",
       "\n",
       "   Reach  Impact  Confidence  Efforts  \n",
       "0  3      10      8           6        \n",
       "1  2      5       4           10       \n",
       "2  8      3       7           3        \n",
       "3  8      3       3           8        \n",
       "4  3      1       1           1        \n",
       "5  3      2       2           3        \n",
       "6  5      3       8           3        \n",
       "7  10     7       8           5        \n",
       "8  1      9       9           5        "
      ]
     },
     "execution_count": 3,
     "metadata": {},
     "output_type": "execute_result"
    }
   ],
   "source": [
    "hypothesis"
   ]
  },
  {
   "cell_type": "code",
   "execution_count": 4,
   "metadata": {},
   "outputs": [
    {
     "data": {
      "image/png": "[encoded data removed]",
      "text/plain": [
       "<Figure size 432x288 with 1 Axes>"
      ]
     },
     "metadata": {
      "needs_background": "light"
     },
     "output_type": "display_data"
    }
   ],
   "source": [
    "# Рассчитываем ICE\n",
    "hypothesis['ICE'] = (hypothesis['Impact']*hypothesis['Confidence']) / hypothesis['Efforts']\n",
    "# Строим столбчатую диаграмму\n",
    "(hypothesis\n",
    "     .sort_values(by='ICE', ascending=True)\n",
    "     .set_index('Hypothesis')['ICE']\n",
    "     .plot(kind='barh')\n",
    ");\n"
   ]
  },
  {
   "cell_type": "markdown",
   "metadata": {},
   "source": [
    "**RICE = (Reach x Impact x Confidence) / Efforts**"
   ]
  },
  {
   "cell_type": "code",
   "execution_count": 5,
   "metadata": {},
   "outputs": [
    {
     "data": {
      "image/png": "[encoded data removed]",
      "text/plain": [
       "<Figure size 432x288 with 1 Axes>"
      ]
     },
     "metadata": {
      "needs_background": "light"
     },
     "output_type": "display_data"
    }
   ],
   "source": [
    "# Рассчитываем RICE\n",
    "hypothesis['RICE'] = (hypothesis['Reach']*hypothesis['Impact']*hypothesis['Confidence']) / hypothesis['Efforts']\n",
    "# Строим столбчатую диаграмму\n",
    "(hypothesis\n",
    "     .sort_values(by='RICE', ascending=True)\n",
    "     .set_index('Hypothesis')['RICE']\n",
    "     .plot(kind='barh')\n",
    ");\n"
   ]
  },
  {
   "cell_type": "markdown",
   "metadata": {},
   "source": [
    ">**Вывод**\n",
    " * Введение параметра **Reach** изменило приоритет гипотез по сравнению с данными по фреймворку **ICE**.\n",
    " * Так например, добавление формы подписки имеет бОльший охват, чем скидка именинникам."
   ]
  },
  {
   "cell_type": "markdown",
   "metadata": {},
   "source": [
    "**Проведем предобработку данных**\n",
    "* Для начала посмотрим на данные в таблицах <code>orders</code>, <code>visitors</code>"
   ]
  },
  {
   "cell_type": "code",
   "execution_count": 6,
   "metadata": {},
   "outputs": [],
   "source": [
    "def df_look(df):\n",
    "    \"\"\"\n",
    "    Функция для получения общей информации о датафрейме\n",
    "    \"\"\"\n",
    "    print('Первые 3 строки датафрейма')\n",
    "    print('-'*52)\n",
    "    print('{}'.format(df.head(3)))\n",
    "    print('='*52)\n",
    "    print('Размер датафрейма: (строк:столбцов) {}'.format(df.shape))\n",
    "    print('='*52)\n",
    "    print('Типы данных и общая информация')\n",
    "    print('-'*52)\n",
    "    print(df.info())\n",
    "    print('='*52)\n",
    "    print('Наличие дубликатов')\n",
    "    print('='*52)\n",
    "    print(df.duplicated().sum())\n",
    "    print('-'*52)\n",
    "    print('Наличие пропусков')\n",
    "    print('-'*52)\n",
    "    print(df.isna().sum())\n",
    "    print('='*52)"
   ]
  },
  {
   "cell_type": "code",
   "execution_count": 7,
   "metadata": {},
   "outputs": [
    {
     "name": "stdout",
     "output_type": "stream",
     "text": [
      "Первые 3 строки датафрейма\n",
      "----------------------------------------------------\n",
      "   transactionId   visitorId        date  revenue group\n",
      "0  3667963787     3312258926  2019-08-15  1650     B   \n",
      "1  2804400009     3642806036  2019-08-15  730      B   \n",
      "2  2961555356     4069496402  2019-08-15  400      A   \n",
      "====================================================\n",
      "Размер датафрейма: (строк:столбцов) (1197, 5)\n",
      "====================================================\n",
      "Типы данных и общая информация\n",
      "----------------------------------------------------\n",
      "<class 'pandas.core.frame.DataFrame'>\n",
      "RangeIndex: 1197 entries, 0 to 1196\n",
      "Data columns (total 5 columns):\n",
      "transactionId    1197 non-null int64\n",
      "visitorId        1197 non-null int64\n",
      "date             1197 non-null object\n",
      "revenue          1197 non-null int64\n",
      "group            1197 non-null object\n",
      "dtypes: int64(3), object(2)\n",
      "memory usage: 46.9+ KB\n",
      "None\n",
      "====================================================\n",
      "Наличие дубликатов\n",
      "====================================================\n",
      "0\n",
      "----------------------------------------------------\n",
      "Наличие пропусков\n",
      "----------------------------------------------------\n",
      "transactionId    0\n",
      "visitorId        0\n",
      "date             0\n",
      "revenue          0\n",
      "group            0\n",
      "dtype: int64\n",
      "====================================================\n"
     ]
    }
   ],
   "source": [
    "df_look(orders)"
   ]
  },
  {
   "cell_type": "code",
   "execution_count": 8,
   "metadata": {},
   "outputs": [
    {
     "name": "stdout",
     "output_type": "stream",
     "text": [
      "Первые 3 строки датафрейма\n",
      "----------------------------------------------------\n",
      "         date group  visitors\n",
      "0  2019-08-01  A     719     \n",
      "1  2019-08-02  A     619     \n",
      "2  2019-08-03  A     507     \n",
      "====================================================\n",
      "Размер датафрейма: (строк:столбцов) (62, 3)\n",
      "====================================================\n",
      "Типы данных и общая информация\n",
      "----------------------------------------------------\n",
      "<class 'pandas.core.frame.DataFrame'>\n",
      "RangeIndex: 62 entries, 0 to 61\n",
      "Data columns (total 3 columns):\n",
      "date        62 non-null object\n",
      "group       62 non-null object\n",
      "visitors    62 non-null int64\n",
      "dtypes: int64(1), object(2)\n",
      "memory usage: 1.6+ KB\n",
      "None\n",
      "====================================================\n",
      "Наличие дубликатов\n",
      "====================================================\n",
      "0\n",
      "----------------------------------------------------\n",
      "Наличие пропусков\n",
      "----------------------------------------------------\n",
      "date        0\n",
      "group       0\n",
      "visitors    0\n",
      "dtype: int64\n",
      "====================================================\n"
     ]
    }
   ],
   "source": [
    "df_look(visitors)"
   ]
  },
  {
   "cell_type": "markdown",
   "metadata": {},
   "source": [
    "**Данные в порядке, кроме формата даты и названий столбцов в сamelCase**"
   ]
  },
  {
   "cell_type": "code",
   "execution_count": 9,
   "metadata": {},
   "outputs": [],
   "source": [
    "def date_format(df, column):\n",
    "    \"\"\"функция для перевода даты в timestamp - тип\"\"\"\n",
    "    df[column] = df[column].map(lambda x: dt.datetime.strptime(x, '%Y-%m-%d'))"
   ]
  },
  {
   "cell_type": "code",
   "execution_count": 10,
   "metadata": {},
   "outputs": [],
   "source": [
    "date_format(orders, 'date')\n",
    "date_format(visitors, 'date')\n",
    "orders.columns = ['transaction_id', 'visitor_id', 'date', 'revenue', 'group']"
   ]
  },
  {
   "cell_type": "markdown",
   "metadata": {},
   "source": [
    "> **Задания:**  \n",
    "1) Постройте график кумулятивной выручки по группам. Сделайте выводы и предположения.  \n",
    "2) Постройте график кумулятивного среднего чека по группам. Сделайте выводы и предположения.  \n",
    "3) Постройте график относительного изменения кумулятивного среднего чека группы B к группе A. Сделайте выводы и предположения.  \n",
    "4) Постройте график кумулятивной конверсии по группам. Сделайте выводы и предположения.     \n",
    "5) Постройте график относительного изменения кумулятивной конверсии группы B к группе A. Сделайте выводы и предположения.  \n",
    "  "
   ]
  },
  {
   "cell_type": "code",
   "execution_count": 11,
   "metadata": {},
   "outputs": [],
   "source": [
    "orders_aggregated = (orders\n",
    "                     # строим сводную таблицу группируя по дате и \"группе теста (А или В)\"\n",
    "                     # находим количество уникальных транзакций и покупателей и сумму выручки\n",
    "                     .pivot_table(index=['date', 'group'],\n",
    "                                  aggfunc={'transaction_id':'nunique',\n",
    "                                         'visitor_id':'nunique',\n",
    "                                          'revenue':'sum'}\n",
    "                                 )\n",
    "                     # Сортируем по дате и группе\n",
    "                     .sort_values(['date', 'group'])\n",
    "                     # группируем по \"группе теста\" чтобы метод cumsum() \n",
    "                     # считал кумулятивные значения в группах А и В по отдельности\n",
    "                     .groupby(['group'])\n",
    "                     # применяем метод cumsum() для расчета кумулятивных показателей\n",
    "                     .cumsum()\n",
    "                    )"
   ]
  },
  {
   "cell_type": "code",
   "execution_count": 12,
   "metadata": {},
   "outputs": [],
   "source": [
    "# тоже самое выполняем с таблицей visitors\n",
    "visitors_aggregated = (visitors\n",
    "                       .pivot_table(index=['date', 'group'],\n",
    "                                   aggfunc={'visitors':'sum'}\n",
    "                                   )\n",
    "                       .sort_values(['date', 'group'])\n",
    "                       .groupby(['group'])\n",
    "                       .cumsum()\n",
    "                      )"
   ]
  },
  {
   "cell_type": "code",
   "execution_count": 13,
   "metadata": {},
   "outputs": [],
   "source": [
    "# выполним объединение методом join()\n",
    "cummulative_grouped = (orders_aggregated\n",
    "                       .join(visitors_aggregated[['visitors']])\n",
    "                       # сбрасываем индексы\n",
    "                       .reset_index()\n",
    "                      )"
   ]
  },
  {
   "cell_type": "code",
   "execution_count": 14,
   "metadata": {},
   "outputs": [
    {
     "data": {
      "text/html": [
       "<div>\n",
       "<style scoped>\n",
       "    .dataframe tbody tr th:only-of-type {\n",
       "        vertical-align: middle;\n",
       "    }\n",
       "\n",
       "    .dataframe tbody tr th {\n",
       "        vertical-align: top;\n",
       "    }\n",
       "\n",
       "    .dataframe thead th {\n",
       "        text-align: right;\n",
       "    }\n",
       "</style>\n",
       "<table border=\"1\" class=\"dataframe\">\n",
       "  <thead>\n",
       "    <tr style=\"text-align: right;\">\n",
       "      <th></th>\n",
       "      <th>date</th>\n",
       "      <th>group</th>\n",
       "      <th>revenue</th>\n",
       "      <th>transaction_id</th>\n",
       "      <th>visitor_id</th>\n",
       "      <th>visitors</th>\n",
       "    </tr>\n",
       "  </thead>\n",
       "  <tbody>\n",
       "    <tr>\n",
       "      <td>0</td>\n",
       "      <td>2019-08-01</td>\n",
       "      <td>A</td>\n",
       "      <td>148579</td>\n",
       "      <td>24</td>\n",
       "      <td>20</td>\n",
       "      <td>719</td>\n",
       "    </tr>\n",
       "  </tbody>\n",
       "</table>\n",
       "</div>"
      ],
      "text/plain": [
       "        date group  revenue  transaction_id  visitor_id  visitors\n",
       "0 2019-08-01  A     148579   24              20          719     "
      ]
     },
     "execution_count": 14,
     "metadata": {},
     "output_type": "execute_result"
    }
   ],
   "source": [
    "cummulative_grouped.head(1) "
   ]
  },
  {
   "cell_type": "code",
   "execution_count": 15,
   "metadata": {},
   "outputs": [
    {
     "data": {
      "text/html": [
       "<div>\n",
       "<style scoped>\n",
       "    .dataframe tbody tr th:only-of-type {\n",
       "        vertical-align: middle;\n",
       "    }\n",
       "\n",
       "    .dataframe tbody tr th {\n",
       "        vertical-align: top;\n",
       "    }\n",
       "\n",
       "    .dataframe thead th {\n",
       "        text-align: right;\n",
       "    }\n",
       "</style>\n",
       "<table border=\"1\" class=\"dataframe\">\n",
       "  <thead>\n",
       "    <tr style=\"text-align: right;\">\n",
       "      <th></th>\n",
       "      <th>date</th>\n",
       "      <th>group</th>\n",
       "      <th>revenue</th>\n",
       "      <th>orders</th>\n",
       "      <th>buyers</th>\n",
       "      <th>visitors</th>\n",
       "    </tr>\n",
       "  </thead>\n",
       "  <tbody>\n",
       "    <tr>\n",
       "      <td>0</td>\n",
       "      <td>2019-08-01</td>\n",
       "      <td>A</td>\n",
       "      <td>148579</td>\n",
       "      <td>24</td>\n",
       "      <td>20</td>\n",
       "      <td>719</td>\n",
       "    </tr>\n",
       "    <tr>\n",
       "      <td>1</td>\n",
       "      <td>2019-08-01</td>\n",
       "      <td>B</td>\n",
       "      <td>101217</td>\n",
       "      <td>21</td>\n",
       "      <td>20</td>\n",
       "      <td>713</td>\n",
       "    </tr>\n",
       "    <tr>\n",
       "      <td>2</td>\n",
       "      <td>2019-08-02</td>\n",
       "      <td>A</td>\n",
       "      <td>242401</td>\n",
       "      <td>44</td>\n",
       "      <td>39</td>\n",
       "      <td>1338</td>\n",
       "    </tr>\n",
       "    <tr>\n",
       "      <td>3</td>\n",
       "      <td>2019-08-02</td>\n",
       "      <td>B</td>\n",
       "      <td>266748</td>\n",
       "      <td>45</td>\n",
       "      <td>43</td>\n",
       "      <td>1294</td>\n",
       "    </tr>\n",
       "    <tr>\n",
       "      <td>4</td>\n",
       "      <td>2019-08-03</td>\n",
       "      <td>A</td>\n",
       "      <td>354874</td>\n",
       "      <td>68</td>\n",
       "      <td>63</td>\n",
       "      <td>1845</td>\n",
       "    </tr>\n",
       "  </tbody>\n",
       "</table>\n",
       "</div>"
      ],
      "text/plain": [
       "        date group  revenue  orders  buyers  visitors\n",
       "0 2019-08-01  A     148579   24      20      719     \n",
       "1 2019-08-01  B     101217   21      20      713     \n",
       "2 2019-08-02  A     242401   44      39      1338    \n",
       "3 2019-08-02  B     266748   45      43      1294    \n",
       "4 2019-08-03  A     354874   68      63      1845    "
      ]
     },
     "execution_count": 15,
     "metadata": {},
     "output_type": "execute_result"
    }
   ],
   "source": [
    "cummulative_grouped = (cummulative_grouped\n",
    "                       .rename(columns={\n",
    "                           'transaction_id':'orders',\n",
    "                           'visitor_id':'buyers'})   \n",
    "                      )\n",
    "cummulative_grouped.head()"
   ]
  },
  {
   "cell_type": "code",
   "execution_count": 16,
   "metadata": {},
   "outputs": [
    {
     "data": {
      "text/html": [
       "<div>\n",
       "<style scoped>\n",
       "    .dataframe tbody tr th:only-of-type {\n",
       "        vertical-align: middle;\n",
       "    }\n",
       "\n",
       "    .dataframe tbody tr th {\n",
       "        vertical-align: top;\n",
       "    }\n",
       "\n",
       "    .dataframe thead th {\n",
       "        text-align: right;\n",
       "    }\n",
       "</style>\n",
       "<table border=\"1\" class=\"dataframe\">\n",
       "  <thead>\n",
       "    <tr style=\"text-align: right;\">\n",
       "      <th></th>\n",
       "      <th>date</th>\n",
       "      <th>group</th>\n",
       "      <th>revenue</th>\n",
       "      <th>orders</th>\n",
       "      <th>buyers</th>\n",
       "      <th>visitors</th>\n",
       "      <th>average_order_value</th>\n",
       "      <th>conversion</th>\n",
       "      <th>conversion, %</th>\n",
       "    </tr>\n",
       "  </thead>\n",
       "  <tbody>\n",
       "    <tr>\n",
       "      <td>0</td>\n",
       "      <td>2019-08-01</td>\n",
       "      <td>A</td>\n",
       "      <td>148579</td>\n",
       "      <td>24</td>\n",
       "      <td>20</td>\n",
       "      <td>719</td>\n",
       "      <td>6191.0</td>\n",
       "      <td>0.033380</td>\n",
       "      <td>3.34</td>\n",
       "    </tr>\n",
       "    <tr>\n",
       "      <td>1</td>\n",
       "      <td>2019-08-01</td>\n",
       "      <td>B</td>\n",
       "      <td>101217</td>\n",
       "      <td>21</td>\n",
       "      <td>20</td>\n",
       "      <td>713</td>\n",
       "      <td>4820.0</td>\n",
       "      <td>0.029453</td>\n",
       "      <td>2.95</td>\n",
       "    </tr>\n",
       "    <tr>\n",
       "      <td>2</td>\n",
       "      <td>2019-08-02</td>\n",
       "      <td>A</td>\n",
       "      <td>242401</td>\n",
       "      <td>44</td>\n",
       "      <td>39</td>\n",
       "      <td>1338</td>\n",
       "      <td>5509.0</td>\n",
       "      <td>0.032885</td>\n",
       "      <td>3.29</td>\n",
       "    </tr>\n",
       "    <tr>\n",
       "      <td>3</td>\n",
       "      <td>2019-08-02</td>\n",
       "      <td>B</td>\n",
       "      <td>266748</td>\n",
       "      <td>45</td>\n",
       "      <td>43</td>\n",
       "      <td>1294</td>\n",
       "      <td>5928.0</td>\n",
       "      <td>0.034776</td>\n",
       "      <td>3.48</td>\n",
       "    </tr>\n",
       "    <tr>\n",
       "      <td>4</td>\n",
       "      <td>2019-08-03</td>\n",
       "      <td>A</td>\n",
       "      <td>354874</td>\n",
       "      <td>68</td>\n",
       "      <td>63</td>\n",
       "      <td>1845</td>\n",
       "      <td>5219.0</td>\n",
       "      <td>0.036856</td>\n",
       "      <td>3.69</td>\n",
       "    </tr>\n",
       "  </tbody>\n",
       "</table>\n",
       "</div>"
      ],
      "text/plain": [
       "        date group  revenue  orders  buyers  visitors  average_order_value  \\\n",
       "0 2019-08-01  A     148579   24      20      719       6191.0                \n",
       "1 2019-08-01  B     101217   21      20      713       4820.0                \n",
       "2 2019-08-02  A     242401   44      39      1338      5509.0                \n",
       "3 2019-08-02  B     266748   45      43      1294      5928.0                \n",
       "4 2019-08-03  A     354874   68      63      1845      5219.0                \n",
       "\n",
       "   conversion  conversion, %  \n",
       "0  0.033380    3.34           \n",
       "1  0.029453    2.95           \n",
       "2  0.032885    3.29           \n",
       "3  0.034776    3.48           \n",
       "4  0.036856    3.69           "
      ]
     },
     "execution_count": 16,
     "metadata": {},
     "output_type": "execute_result"
    }
   ],
   "source": [
    "# добавляем столбцы для расчета среднего чека: \"average_order_value\"\n",
    "# конверсии, и конверсии в процентах\n",
    "cummulative_grouped['average_order_value'] = (cummulative_grouped['revenue'] / cummulative_grouped['orders']).round()\n",
    "cummulative_grouped['conversion'] = cummulative_grouped['orders'] / cummulative_grouped['visitors']\n",
    "cummulative_grouped['conversion, %'] = (cummulative_grouped['conversion']*100).round(2)\n",
    "cummulative_grouped.head()"
   ]
  },
  {
   "cell_type": "code",
   "execution_count": 17,
   "metadata": {},
   "outputs": [],
   "source": [
    "# разделяем данные по группам теста\n",
    "cummulative_group_A = cummulative_grouped.query('group==\"A\"')\n",
    "cummulative_group_B = cummulative_grouped.query('group==\"B\"')"
   ]
  },
  {
   "cell_type": "code",
   "execution_count": 18,
   "metadata": {},
   "outputs": [],
   "source": [
    "def metric_plot(df_A, df_B, metric, metric_name, relative=False):\n",
    "    \"\"\"\n",
    "    Функция для построения графиков кумулятивных метрик\n",
    "    принимает на вход: \n",
    "    1) датафреймы с кумулятивными метриками \n",
    "    для каждой группы теста \"df_A\", \"df_B\";\n",
    "    2) метрику: \"metric\", может принимать значения:\n",
    "             (average_order_value - \"средний чек\"),\n",
    "             (conversion - \"конверсия\"),\n",
    "             (revenue - \"выручка\");\n",
    "    3) имя метрики metric_name - для подписи к графику\n",
    "    4) параметр relative (по умолчанию False)\n",
    "        Если False, то строятся графики по изменению метрик в группах A и В за период времени\n",
    "        Если True, то строится график относительного изменения метрики в группе B относительно группы A.\n",
    "    \"\"\"\n",
    "    if relative==False:\n",
    "        plt.plot(df_A['date'], df_A[metric], label='A')\n",
    "        plt.plot(df_B['date'], df_B[metric], label='B')\n",
    "        plt.tick_params(axis ='x', rotation = 45)\n",
    "        plt.title(f'Кумулятивная метрика: {metric_name}, по группам')\n",
    "        plt.legend()\n",
    "        plt.show()\n",
    "    else:\n",
    "        df_merged = (df_A[['date', metric]]\n",
    "                     .merge(df_B[['date', metric]],\\\n",
    "                            left_on='date', right_on='date', how='left', suffixes=['A', 'B']))\n",
    "        plt.plot(df_merged['date'], (df_merged[metric+'B']/df_merged[metric+'A']-1))\n",
    "        plt.tick_params(axis ='x', rotation = 45)\n",
    "        plt.title(f'Относительное изменение кумулятивной метрики: {metric_name} группы B к группе A')\n",
    "        plt.axhline(y=0, color='green', linestyle='dashdot')\n",
    "        plt.show()"
   ]
  },
  {
   "cell_type": "code",
   "execution_count": 19,
   "metadata": {},
   "outputs": [
    {
     "data": {
      "image/png": "[encoded data removed]",
      "text/plain": [
       "<Figure size 432x288 with 1 Axes>"
      ]
     },
     "metadata": {
      "needs_background": "light"
     },
     "output_type": "display_data"
    }
   ],
   "source": [
    "# кумулятивная выручка по группам\n",
    "metric_plot(cummulative_group_A, cummulative_group_B, 'revenue', 'выручка', relative=False)"
   ]
  },
  {
   "cell_type": "markdown",
   "metadata": {},
   "source": [
    "**Вывод**  \n",
    "Кумулятивная выручка в группе B больше чем в A, при этом в В наблюдается резкий скачок, скорее всего повлиял какой-то очень дорогой заказ"
   ]
  },
  {
   "cell_type": "code",
   "execution_count": 20,
   "metadata": {},
   "outputs": [
    {
     "data": {
      "image/png": "[encoded data removed]",
      "text/plain": [
       "<Figure size 432x288 with 1 Axes>"
      ]
     },
     "metadata": {
      "needs_background": "light"
     },
     "output_type": "display_data"
    }
   ],
   "source": [
    "# кумулятивный средний чек по группам\n",
    "metric_plot(cummulative_group_A, cummulative_group_B, 'average_order_value', 'средний чек', relative=False)"
   ]
  },
  {
   "cell_type": "markdown",
   "metadata": {},
   "source": [
    "**Вывод**  \n",
    "Скачок зафиксированный на графике кумулятивной выручки более ярко проявляется в кумулятивном среднем чеке, после чего появляется тендеция к снижению среднего чека\n"
   ]
  },
  {
   "cell_type": "code",
   "execution_count": 21,
   "metadata": {},
   "outputs": [
    {
     "data": {
      "image/png": "[encoded data removed]",
      "text/plain": [
       "<Figure size 432x288 with 1 Axes>"
      ]
     },
     "metadata": {
      "needs_background": "light"
     },
     "output_type": "display_data"
    }
   ],
   "source": [
    "# относительное изменение кумулятивного среднего чека группы В к группе А\n",
    "metric_plot(cummulative_group_A, cummulative_group_B, 'average_order_value', 'средний чек', relative=True)"
   ]
  },
  {
   "cell_type": "markdown",
   "metadata": {},
   "source": [
    "**Вывод**  \n",
    "Стабилизации и выхода на плато не наблюдается, нужно удалять выбросы"
   ]
  },
  {
   "cell_type": "code",
   "execution_count": 22,
   "metadata": {},
   "outputs": [
    {
     "data": {
      "image/png": "[encoded data removed]",
      "text/plain": [
       "<Figure size 432x288 with 1 Axes>"
      ]
     },
     "metadata": {
      "needs_background": "light"
     },
     "output_type": "display_data"
    }
   ],
   "source": [
    "# кумулятивная конверсия по группам\n",
    "metric_plot(cummulative_group_A, cummulative_group_B, 'conversion, %', 'конверсия в %', relative=False)"
   ]
  },
  {
   "cell_type": "code",
   "execution_count": 23,
   "metadata": {},
   "outputs": [
    {
     "data": {
      "image/png": "[encoded data removed]",
      "text/plain": [
       "<Figure size 432x288 with 1 Axes>"
      ]
     },
     "metadata": {
      "needs_background": "light"
     },
     "output_type": "display_data"
    }
   ],
   "source": [
    "# относительное изменение кумулятивной конверсии группы В к группе А\n",
    "metric_plot(cummulative_group_A, cummulative_group_B, 'conversion, %', 'конверсия в %', relative=True)"
   ]
  },
  {
   "cell_type": "markdown",
   "metadata": {},
   "source": [
    "**Вывод**  \n",
    "Наблюдается абсолютный и относительный прирост конверсии в группе B, но выхода на плато нет, нужно удалять выбросы."
   ]
  },
  {
   "cell_type": "markdown",
   "metadata": {},
   "source": [
    "> **Задание**  \n",
    "6) Постройте точечный график количества заказов по пользователям. Сделайте выводы и предположения.  \n",
    "7) Посчитайте 95-й и 99-й перцентили количества заказов на пользователя. Выберите границу для определения аномальных   пользователей.    \n",
    "8) Постройте точечный график стоимостей заказов. Сделайте выводы и предположения.    \n",
    "9) Посчитайте 95-й и 99-й перцентили стоимости заказов. Выберите границу для определения аномальных заказов.    "
   ]
  },
  {
   "cell_type": "code",
   "execution_count": 24,
   "metadata": {},
   "outputs": [
    {
     "data": {
      "text/html": [
       "<div>\n",
       "<style scoped>\n",
       "    .dataframe tbody tr th:only-of-type {\n",
       "        vertical-align: middle;\n",
       "    }\n",
       "\n",
       "    .dataframe tbody tr th {\n",
       "        vertical-align: top;\n",
       "    }\n",
       "\n",
       "    .dataframe thead th {\n",
       "        text-align: right;\n",
       "    }\n",
       "</style>\n",
       "<table border=\"1\" class=\"dataframe\">\n",
       "  <thead>\n",
       "    <tr style=\"text-align: right;\">\n",
       "      <th></th>\n",
       "      <th>transaction_id</th>\n",
       "      <th>visitor_id</th>\n",
       "      <th>date</th>\n",
       "      <th>revenue</th>\n",
       "      <th>group</th>\n",
       "    </tr>\n",
       "  </thead>\n",
       "  <tbody>\n",
       "    <tr>\n",
       "      <td>0</td>\n",
       "      <td>3667963787</td>\n",
       "      <td>3312258926</td>\n",
       "      <td>2019-08-15</td>\n",
       "      <td>1650</td>\n",
       "      <td>B</td>\n",
       "    </tr>\n",
       "    <tr>\n",
       "      <td>1</td>\n",
       "      <td>2804400009</td>\n",
       "      <td>3642806036</td>\n",
       "      <td>2019-08-15</td>\n",
       "      <td>730</td>\n",
       "      <td>B</td>\n",
       "    </tr>\n",
       "    <tr>\n",
       "      <td>2</td>\n",
       "      <td>2961555356</td>\n",
       "      <td>4069496402</td>\n",
       "      <td>2019-08-15</td>\n",
       "      <td>400</td>\n",
       "      <td>A</td>\n",
       "    </tr>\n",
       "    <tr>\n",
       "      <td>3</td>\n",
       "      <td>3797467345</td>\n",
       "      <td>1196621759</td>\n",
       "      <td>2019-08-15</td>\n",
       "      <td>9759</td>\n",
       "      <td>B</td>\n",
       "    </tr>\n",
       "    <tr>\n",
       "      <td>4</td>\n",
       "      <td>2282983706</td>\n",
       "      <td>2322279887</td>\n",
       "      <td>2019-08-15</td>\n",
       "      <td>2308</td>\n",
       "      <td>B</td>\n",
       "    </tr>\n",
       "  </tbody>\n",
       "</table>\n",
       "</div>"
      ],
      "text/plain": [
       "   transaction_id  visitor_id       date  revenue group\n",
       "0  3667963787      3312258926 2019-08-15  1650     B   \n",
       "1  2804400009      3642806036 2019-08-15  730      B   \n",
       "2  2961555356      4069496402 2019-08-15  400      A   \n",
       "3  3797467345      1196621759 2019-08-15  9759     B   \n",
       "4  2282983706      2322279887 2019-08-15  2308     B   "
      ]
     },
     "execution_count": 24,
     "metadata": {},
     "output_type": "execute_result"
    }
   ],
   "source": [
    "orders.head()"
   ]
  },
  {
   "cell_type": "code",
   "execution_count": 25,
   "metadata": {},
   "outputs": [],
   "source": [
    "# Функция для расчета перцентилей и построения графиков \n",
    "def scatter_and_percentile(df, metric, low=None, high=None):\n",
    "    '''\n",
    "    Функция принимает на вход датафрейм и необходимую метрику:\n",
    "        1) transaction_id - идентификатор покупки \n",
    "           (при предварительной группировке и подсчете уникальных transaction_id \n",
    "            будет рассчитано количество заказов на пользователя)\n",
    "        2) revenue - выручка\n",
    "        3) параметры low и high применяются для масштабирования графика по оси Y\n",
    "           (по умолчанию None)\n",
    "        4) Рассчитываются и выводятся 95-й и 99-й перцентили\n",
    "    '''\n",
    "    sns.set(rc={'figure.figsize':(10, 7)})\n",
    "    x_values = pd.Series(range(0, len(df)))\n",
    "    plt.scatter(x_values, df[metric], alpha=0.4)\n",
    "    plt.ylim(low, high)\n",
    "    if metric=='transaction_id':\n",
    "        plt.title('Количество заказов на пользователя')\n",
    "    else:\n",
    "        plt.title('Стоимость заказов')\n",
    "    plt.show()\n",
    "    percentile = np.percentile(df[metric], [90, 95, 99])\n",
    "    print(f'95 перцентиль = {percentile[1].round(1)}\\n99 перцентиль = {percentile[2].round()}')"
   ]
  },
  {
   "cell_type": "code",
   "execution_count": 26,
   "metadata": {},
   "outputs": [],
   "source": [
    "# Предварительная группировка данных о заказах\n",
    "df_orders = (orders\n",
    "             .groupby('visitor_id', as_index=False)\n",
    "             .agg({'transaction_id':'nunique'})\n",
    "             .sort_values(by='transaction_id', ascending=False)\n",
    "            )"
   ]
  },
  {
   "cell_type": "code",
   "execution_count": 27,
   "metadata": {},
   "outputs": [
    {
     "data": {
      "image/png": "[encoded data removed]",
      "text/plain": [
       "<Figure size 720x504 with 1 Axes>"
      ]
     },
     "metadata": {},
     "output_type": "display_data"
    },
    {
     "name": "stdout",
     "output_type": "stream",
     "text": [
      "95 перцентиль = 2.0\n",
      "99 перцентиль = 4.0\n"
     ]
    }
   ],
   "source": [
    "scatter_and_percentile(df_orders, 'transaction_id')"
   ]
  },
  {
   "cell_type": "code",
   "execution_count": 28,
   "metadata": {},
   "outputs": [
    {
     "data": {
      "image/png": "[encoded data removed]",
      "text/plain": [
       "<Figure size 720x504 with 1 Axes>"
      ]
     },
     "metadata": {},
     "output_type": "display_data"
    },
    {
     "name": "stdout",
     "output_type": "stream",
     "text": [
      "95 перцентиль = 28000.0\n",
      "99 перцентиль = 58233.0\n"
     ]
    }
   ],
   "source": [
    "scatter_and_percentile(orders,'revenue')"
   ]
  },
  {
   "cell_type": "code",
   "execution_count": 29,
   "metadata": {},
   "outputs": [
    {
     "data": {
      "image/png": "[encoded data removed]",
      "text/plain": [
       "<Figure size 720x504 with 1 Axes>"
      ]
     },
     "metadata": {},
     "output_type": "display_data"
    },
    {
     "name": "stdout",
     "output_type": "stream",
     "text": [
      "95 перцентиль = 28000.0\n",
      "99 перцентиль = 58233.0\n"
     ]
    }
   ],
   "source": [
    "# Изменим лимиты по оси Y, выставим параметр high=200000 \n",
    "scatter_and_percentile(orders,'revenue', 0, 200000)"
   ]
  },
  {
   "cell_type": "markdown",
   "metadata": {},
   "source": [
    "**Количество заказов (граница аномальных пользователей)**:\n",
    "* Выберем 95-й перцентиль в качестве границы числа аномальных заказов\n",
    "  (т.е удалим тех кто сделал более 2-х заказов) и\n",
    "  сохраним оставшихся в новом датафрейме  \n",
    "\n",
    " **Выручка (граница аномальной стоимости заказов)**:\n",
    "* Также выберем 95-й перцентиль в качестве границы аномального значения выручки (удалим заказы дороже 28 000 у.е) "
   ]
  },
  {
   "cell_type": "markdown",
   "metadata": {},
   "source": [
    "**Задание**\n",
    "* Посчитайте статистическую значимость различий в конверсии между группами по «сырым» данным. Сделайте выводы и предположения.\n",
    "* Посчитайте статистическую значимость различий в среднем чеке заказа между группами по «сырым» данным. Сделайте выводы и предположения.\n",
    "* Посчитайте статистическую значимость различий в конверсии между группами по «очищенным» данным. Сделайте выводы и предположения.\n",
    "* Посчитайте статистическую значимость различий в среднем чеке заказа между группами по «очищенным» данным. Сделайте выводы и предположения."
   ]
  },
  {
   "cell_type": "markdown",
   "metadata": {},
   "source": [
    "**Проведем группировку аналогичную тому что сделали в начале, только не будем рассчитывать кумулятивные показатели**"
   ]
  },
  {
   "cell_type": "code",
   "execution_count": 30,
   "metadata": {},
   "outputs": [],
   "source": [
    "orders_initial = (orders\n",
    "                     # строим сводную таблицу группируя по дате и \"группе теста (А или В)\"\n",
    "                     # находим количество уникальных транзакций и покупателей и сумму выручки\n",
    "                     .pivot_table(index=['date', 'group'],\n",
    "                                  aggfunc={'transaction_id':'nunique',\n",
    "                                         'visitor_id':'nunique',\n",
    "                                          'revenue':'sum'}\n",
    "                                 )\n",
    "                     # Сортируем по дате и группе\n",
    "                     .sort_values(['date', 'group'])\n",
    "                    )"
   ]
  },
  {
   "cell_type": "code",
   "execution_count": 31,
   "metadata": {},
   "outputs": [],
   "source": [
    "# тоже самое выполняем с таблицей visitors\n",
    "visitors_initial = (visitors\n",
    "                       .pivot_table(index=['date', 'group'],\n",
    "                                   aggfunc={'visitors':'sum'}\n",
    "                                   )\n",
    "                       .sort_values(['date', 'group'])\n",
    "                      )"
   ]
  },
  {
   "cell_type": "code",
   "execution_count": 32,
   "metadata": {},
   "outputs": [],
   "source": [
    "# выполним объединение методом join()\n",
    "df_grouped = (orders_initial\n",
    "              .join(visitors_initial[['visitors']])\n",
    "              # сбрасываем индексы\n",
    "              #.reset_index()\n",
    "             )"
   ]
  },
  {
   "cell_type": "code",
   "execution_count": 33,
   "metadata": {},
   "outputs": [],
   "source": [
    "df_grouped = (df_grouped\n",
    "              .rename(columns={\n",
    "                  'transaction_id':'orders_daily',\n",
    "                  'visitor_id':'buyers_daily',\n",
    "                  'revenue':'revenue_daily'}\n",
    "                     ))"
   ]
  },
  {
   "cell_type": "code",
   "execution_count": 34,
   "metadata": {},
   "outputs": [
    {
     "data": {
      "text/html": [
       "<div>\n",
       "<style scoped>\n",
       "    .dataframe tbody tr th:only-of-type {\n",
       "        vertical-align: middle;\n",
       "    }\n",
       "\n",
       "    .dataframe tbody tr th {\n",
       "        vertical-align: top;\n",
       "    }\n",
       "\n",
       "    .dataframe thead th {\n",
       "        text-align: right;\n",
       "    }\n",
       "</style>\n",
       "<table border=\"1\" class=\"dataframe\">\n",
       "  <thead>\n",
       "    <tr style=\"text-align: right;\">\n",
       "      <th></th>\n",
       "      <th></th>\n",
       "      <th>revenue_daily</th>\n",
       "      <th>orders_daily</th>\n",
       "      <th>buyers_daily</th>\n",
       "      <th>visitors</th>\n",
       "    </tr>\n",
       "    <tr>\n",
       "      <th>date</th>\n",
       "      <th>group</th>\n",
       "      <th></th>\n",
       "      <th></th>\n",
       "      <th></th>\n",
       "      <th></th>\n",
       "    </tr>\n",
       "  </thead>\n",
       "  <tbody>\n",
       "    <tr>\n",
       "      <td rowspan=\"2\" valign=\"top\">2019-08-01</td>\n",
       "      <td>A</td>\n",
       "      <td>148579</td>\n",
       "      <td>24</td>\n",
       "      <td>20</td>\n",
       "      <td>719</td>\n",
       "    </tr>\n",
       "    <tr>\n",
       "      <td>B</td>\n",
       "      <td>101217</td>\n",
       "      <td>21</td>\n",
       "      <td>20</td>\n",
       "      <td>713</td>\n",
       "    </tr>\n",
       "    <tr>\n",
       "      <td rowspan=\"2\" valign=\"top\">2019-08-02</td>\n",
       "      <td>A</td>\n",
       "      <td>93822</td>\n",
       "      <td>20</td>\n",
       "      <td>19</td>\n",
       "      <td>619</td>\n",
       "    </tr>\n",
       "    <tr>\n",
       "      <td>B</td>\n",
       "      <td>165531</td>\n",
       "      <td>24</td>\n",
       "      <td>23</td>\n",
       "      <td>581</td>\n",
       "    </tr>\n",
       "    <tr>\n",
       "      <td>2019-08-03</td>\n",
       "      <td>A</td>\n",
       "      <td>112473</td>\n",
       "      <td>24</td>\n",
       "      <td>24</td>\n",
       "      <td>507</td>\n",
       "    </tr>\n",
       "  </tbody>\n",
       "</table>\n",
       "</div>"
      ],
      "text/plain": [
       "                  revenue_daily  orders_daily  buyers_daily  visitors\n",
       "date       group                                                     \n",
       "2019-08-01 A      148579         24            20            719     \n",
       "           B      101217         21            20            713     \n",
       "2019-08-02 A      93822          20            19            619     \n",
       "           B      165531         24            23            581     \n",
       "2019-08-03 A      112473         24            24            507     "
      ]
     },
     "execution_count": 34,
     "metadata": {},
     "output_type": "execute_result"
    }
   ],
   "source": [
    "df_grouped.head()"
   ]
  },
  {
   "cell_type": "code",
   "execution_count": 35,
   "metadata": {},
   "outputs": [
    {
     "data": {
      "text/html": [
       "<div>\n",
       "<style scoped>\n",
       "    .dataframe tbody tr th:only-of-type {\n",
       "        vertical-align: middle;\n",
       "    }\n",
       "\n",
       "    .dataframe tbody tr th {\n",
       "        vertical-align: top;\n",
       "    }\n",
       "\n",
       "    .dataframe thead th {\n",
       "        text-align: right;\n",
       "    }\n",
       "</style>\n",
       "<table border=\"1\" class=\"dataframe\">\n",
       "  <thead>\n",
       "    <tr style=\"text-align: right;\">\n",
       "      <th></th>\n",
       "      <th>visitor_id</th>\n",
       "      <th>transaction_id</th>\n",
       "    </tr>\n",
       "  </thead>\n",
       "  <tbody>\n",
       "    <tr>\n",
       "      <td>1023</td>\n",
       "      <td>4256040402</td>\n",
       "      <td>11</td>\n",
       "    </tr>\n",
       "    <tr>\n",
       "      <td>591</td>\n",
       "      <td>2458001652</td>\n",
       "      <td>11</td>\n",
       "    </tr>\n",
       "    <tr>\n",
       "      <td>569</td>\n",
       "      <td>2378935119</td>\n",
       "      <td>9</td>\n",
       "    </tr>\n",
       "    <tr>\n",
       "      <td>487</td>\n",
       "      <td>2038680547</td>\n",
       "      <td>8</td>\n",
       "    </tr>\n",
       "    <tr>\n",
       "      <td>44</td>\n",
       "      <td>199603092</td>\n",
       "      <td>5</td>\n",
       "    </tr>\n",
       "  </tbody>\n",
       "</table>\n",
       "</div>"
      ],
      "text/plain": [
       "      visitor_id  transaction_id\n",
       "1023  4256040402  11            \n",
       "591   2458001652  11            \n",
       "569   2378935119  9             \n",
       "487   2038680547  8             \n",
       "44    199603092   5             "
      ]
     },
     "execution_count": 35,
     "metadata": {},
     "output_type": "execute_result"
    }
   ],
   "source": [
    "df_orders.head()"
   ]
  },
  {
   "cell_type": "code",
   "execution_count": 36,
   "metadata": {},
   "outputs": [
    {
     "data": {
      "text/plain": [
       "1031"
      ]
     },
     "execution_count": 36,
     "metadata": {},
     "output_type": "execute_result"
    }
   ],
   "source": [
    "df_orders.shape[0]"
   ]
  },
  {
   "cell_type": "code",
   "execution_count": 37,
   "metadata": {},
   "outputs": [
    {
     "data": {
      "text/plain": [
       "1197"
      ]
     },
     "execution_count": 37,
     "metadata": {},
     "output_type": "execute_result"
    }
   ],
   "source": [
    "orders.shape[0]"
   ]
  },
  {
   "cell_type": "code",
   "execution_count": 38,
   "metadata": {},
   "outputs": [],
   "source": [
    "# Объединяем датафреймы\n",
    "df_orders = (df_orders\n",
    "             .rename(columns={'transaction_id':'transactions_per_buyer'})\n",
    "             .set_index('visitor_id'))\n",
    "\n",
    "df_combined = (orders\n",
    "               .rename(columns={'revenue':'revenue_per_buyer'})\n",
    "               .set_index('visitor_id')\n",
    "              )"
   ]
  },
  {
   "cell_type": "code",
   "execution_count": 39,
   "metadata": {},
   "outputs": [],
   "source": [
    "df_combined = (df_combined\n",
    "               .merge(df_orders, on='visitor_id', how='left')\n",
    "               .reset_index()\n",
    "               .set_index(['date','group'])\n",
    "               .merge(df_grouped, on=['date', 'group'], how='left')\n",
    "               .reset_index()\n",
    "              )"
   ]
  },
  {
   "cell_type": "code",
   "execution_count": 40,
   "metadata": {},
   "outputs": [
    {
     "data": {
      "text/html": [
       "<div>\n",
       "<style scoped>\n",
       "    .dataframe tbody tr th:only-of-type {\n",
       "        vertical-align: middle;\n",
       "    }\n",
       "\n",
       "    .dataframe tbody tr th {\n",
       "        vertical-align: top;\n",
       "    }\n",
       "\n",
       "    .dataframe thead th {\n",
       "        text-align: right;\n",
       "    }\n",
       "</style>\n",
       "<table border=\"1\" class=\"dataframe\">\n",
       "  <thead>\n",
       "    <tr style=\"text-align: right;\">\n",
       "      <th></th>\n",
       "      <th>date</th>\n",
       "      <th>group</th>\n",
       "      <th>visitor_id</th>\n",
       "      <th>transaction_id</th>\n",
       "      <th>revenue_per_buyer</th>\n",
       "      <th>transactions_per_buyer</th>\n",
       "      <th>revenue_daily</th>\n",
       "      <th>orders_daily</th>\n",
       "      <th>buyers_daily</th>\n",
       "      <th>visitors</th>\n",
       "    </tr>\n",
       "  </thead>\n",
       "  <tbody>\n",
       "    <tr>\n",
       "      <td>0</td>\n",
       "      <td>2019-08-15</td>\n",
       "      <td>B</td>\n",
       "      <td>3312258926</td>\n",
       "      <td>3667963787</td>\n",
       "      <td>1650</td>\n",
       "      <td>1</td>\n",
       "      <td>342499</td>\n",
       "      <td>31</td>\n",
       "      <td>31</td>\n",
       "      <td>544</td>\n",
       "    </tr>\n",
       "    <tr>\n",
       "      <td>1</td>\n",
       "      <td>2019-08-15</td>\n",
       "      <td>B</td>\n",
       "      <td>3642806036</td>\n",
       "      <td>2804400009</td>\n",
       "      <td>730</td>\n",
       "      <td>1</td>\n",
       "      <td>342499</td>\n",
       "      <td>31</td>\n",
       "      <td>31</td>\n",
       "      <td>544</td>\n",
       "    </tr>\n",
       "    <tr>\n",
       "      <td>2</td>\n",
       "      <td>2019-08-15</td>\n",
       "      <td>A</td>\n",
       "      <td>4069496402</td>\n",
       "      <td>2961555356</td>\n",
       "      <td>400</td>\n",
       "      <td>2</td>\n",
       "      <td>88205</td>\n",
       "      <td>15</td>\n",
       "      <td>15</td>\n",
       "      <td>628</td>\n",
       "    </tr>\n",
       "    <tr>\n",
       "      <td>3</td>\n",
       "      <td>2019-08-15</td>\n",
       "      <td>B</td>\n",
       "      <td>1196621759</td>\n",
       "      <td>3797467345</td>\n",
       "      <td>9759</td>\n",
       "      <td>1</td>\n",
       "      <td>342499</td>\n",
       "      <td>31</td>\n",
       "      <td>31</td>\n",
       "      <td>544</td>\n",
       "    </tr>\n",
       "    <tr>\n",
       "      <td>4</td>\n",
       "      <td>2019-08-15</td>\n",
       "      <td>B</td>\n",
       "      <td>2322279887</td>\n",
       "      <td>2282983706</td>\n",
       "      <td>2308</td>\n",
       "      <td>1</td>\n",
       "      <td>342499</td>\n",
       "      <td>31</td>\n",
       "      <td>31</td>\n",
       "      <td>544</td>\n",
       "    </tr>\n",
       "  </tbody>\n",
       "</table>\n",
       "</div>"
      ],
      "text/plain": [
       "        date group  visitor_id  transaction_id  revenue_per_buyer  \\\n",
       "0 2019-08-15  B     3312258926  3667963787      1650                \n",
       "1 2019-08-15  B     3642806036  2804400009      730                 \n",
       "2 2019-08-15  A     4069496402  2961555356      400                 \n",
       "3 2019-08-15  B     1196621759  3797467345      9759                \n",
       "4 2019-08-15  B     2322279887  2282983706      2308                \n",
       "\n",
       "   transactions_per_buyer  revenue_daily  orders_daily  buyers_daily  visitors  \n",
       "0  1                       342499         31            31            544       \n",
       "1  1                       342499         31            31            544       \n",
       "2  2                       88205          15            15            628       \n",
       "3  1                       342499         31            31            544       \n",
       "4  1                       342499         31            31            544       "
      ]
     },
     "execution_count": 40,
     "metadata": {},
     "output_type": "execute_result"
    }
   ],
   "source": [
    "df_combined.head()"
   ]
  },
  {
   "cell_type": "code",
   "execution_count": 41,
   "metadata": {},
   "outputs": [
    {
     "data": {
      "text/html": [
       "<div>\n",
       "<style scoped>\n",
       "    .dataframe tbody tr th:only-of-type {\n",
       "        vertical-align: middle;\n",
       "    }\n",
       "\n",
       "    .dataframe tbody tr th {\n",
       "        vertical-align: top;\n",
       "    }\n",
       "\n",
       "    .dataframe thead th {\n",
       "        text-align: right;\n",
       "    }\n",
       "</style>\n",
       "<table border=\"1\" class=\"dataframe\">\n",
       "  <thead>\n",
       "    <tr style=\"text-align: right;\">\n",
       "      <th></th>\n",
       "      <th>date</th>\n",
       "      <th>group</th>\n",
       "      <th>visitor_id</th>\n",
       "      <th>transaction_id</th>\n",
       "      <th>revenue_per_buyer</th>\n",
       "      <th>transactions_per_buyer</th>\n",
       "      <th>revenue_daily</th>\n",
       "      <th>orders_daily</th>\n",
       "      <th>buyers_daily</th>\n",
       "      <th>visitors</th>\n",
       "    </tr>\n",
       "  </thead>\n",
       "  <tbody>\n",
       "    <tr>\n",
       "      <td>33</td>\n",
       "      <td>2019-08-15</td>\n",
       "      <td>A</td>\n",
       "      <td>2378935119</td>\n",
       "      <td>486237576</td>\n",
       "      <td>1650</td>\n",
       "      <td>9</td>\n",
       "      <td>88205</td>\n",
       "      <td>15</td>\n",
       "      <td>15</td>\n",
       "      <td>628</td>\n",
       "    </tr>\n",
       "    <tr>\n",
       "      <td>118</td>\n",
       "      <td>2019-08-22</td>\n",
       "      <td>A</td>\n",
       "      <td>2378935119</td>\n",
       "      <td>4233533907</td>\n",
       "      <td>3390</td>\n",
       "      <td>9</td>\n",
       "      <td>112741</td>\n",
       "      <td>16</td>\n",
       "      <td>16</td>\n",
       "      <td>609</td>\n",
       "    </tr>\n",
       "    <tr>\n",
       "      <td>179</td>\n",
       "      <td>2019-08-17</td>\n",
       "      <td>A</td>\n",
       "      <td>2378935119</td>\n",
       "      <td>1784270968</td>\n",
       "      <td>310</td>\n",
       "      <td>9</td>\n",
       "      <td>50861</td>\n",
       "      <td>10</td>\n",
       "      <td>9</td>\n",
       "      <td>412</td>\n",
       "    </tr>\n",
       "    <tr>\n",
       "      <td>391</td>\n",
       "      <td>2019-08-25</td>\n",
       "      <td>B</td>\n",
       "      <td>2378935119</td>\n",
       "      <td>2213813903</td>\n",
       "      <td>21220</td>\n",
       "      <td>9</td>\n",
       "      <td>102862</td>\n",
       "      <td>14</td>\n",
       "      <td>14</td>\n",
       "      <td>679</td>\n",
       "    </tr>\n",
       "    <tr>\n",
       "      <td>435</td>\n",
       "      <td>2019-08-28</td>\n",
       "      <td>B</td>\n",
       "      <td>2378935119</td>\n",
       "      <td>2430683444</td>\n",
       "      <td>20450</td>\n",
       "      <td>9</td>\n",
       "      <td>96008</td>\n",
       "      <td>28</td>\n",
       "      <td>27</td>\n",
       "      <td>654</td>\n",
       "    </tr>\n",
       "    <tr>\n",
       "      <td>473</td>\n",
       "      <td>2019-08-28</td>\n",
       "      <td>B</td>\n",
       "      <td>2378935119</td>\n",
       "      <td>3224706027</td>\n",
       "      <td>4410</td>\n",
       "      <td>9</td>\n",
       "      <td>96008</td>\n",
       "      <td>28</td>\n",
       "      <td>27</td>\n",
       "      <td>654</td>\n",
       "    </tr>\n",
       "    <tr>\n",
       "      <td>697</td>\n",
       "      <td>2019-08-09</td>\n",
       "      <td>B</td>\n",
       "      <td>2378935119</td>\n",
       "      <td>1612868255</td>\n",
       "      <td>30649</td>\n",
       "      <td>9</td>\n",
       "      <td>160812</td>\n",
       "      <td>25</td>\n",
       "      <td>24</td>\n",
       "      <td>610</td>\n",
       "    </tr>\n",
       "    <tr>\n",
       "      <td>1029</td>\n",
       "      <td>2019-08-10</td>\n",
       "      <td>A</td>\n",
       "      <td>2378935119</td>\n",
       "      <td>469609643</td>\n",
       "      <td>58220</td>\n",
       "      <td>9</td>\n",
       "      <td>210495</td>\n",
       "      <td>16</td>\n",
       "      <td>16</td>\n",
       "      <td>406</td>\n",
       "    </tr>\n",
       "    <tr>\n",
       "      <td>1031</td>\n",
       "      <td>2019-08-10</td>\n",
       "      <td>B</td>\n",
       "      <td>2378935119</td>\n",
       "      <td>1661772358</td>\n",
       "      <td>2640</td>\n",
       "      <td>9</td>\n",
       "      <td>107802</td>\n",
       "      <td>23</td>\n",
       "      <td>23</td>\n",
       "      <td>369</td>\n",
       "    </tr>\n",
       "  </tbody>\n",
       "</table>\n",
       "</div>"
      ],
      "text/plain": [
       "           date group  visitor_id  transaction_id  revenue_per_buyer  \\\n",
       "33   2019-08-15  A     2378935119  486237576       1650                \n",
       "118  2019-08-22  A     2378935119  4233533907      3390                \n",
       "179  2019-08-17  A     2378935119  1784270968      310                 \n",
       "391  2019-08-25  B     2378935119  2213813903      21220               \n",
       "435  2019-08-28  B     2378935119  2430683444      20450               \n",
       "473  2019-08-28  B     2378935119  3224706027      4410                \n",
       "697  2019-08-09  B     2378935119  1612868255      30649               \n",
       "1029 2019-08-10  A     2378935119  469609643       58220               \n",
       "1031 2019-08-10  B     2378935119  1661772358      2640                \n",
       "\n",
       "      transactions_per_buyer  revenue_daily  orders_daily  buyers_daily  \\\n",
       "33    9                       88205          15            15             \n",
       "118   9                       112741         16            16             \n",
       "179   9                       50861          10            9              \n",
       "391   9                       102862         14            14             \n",
       "435   9                       96008          28            27             \n",
       "473   9                       96008          28            27             \n",
       "697   9                       160812         25            24             \n",
       "1029  9                       210495         16            16             \n",
       "1031  9                       107802         23            23             \n",
       "\n",
       "      visitors  \n",
       "33    628       \n",
       "118   609       \n",
       "179   412       \n",
       "391   679       \n",
       "435   654       \n",
       "473   654       \n",
       "697   610       \n",
       "1029  406       \n",
       "1031  369       "
      ]
     },
     "execution_count": 41,
     "metadata": {},
     "output_type": "execute_result"
    }
   ],
   "source": [
    "# проверим на одном пользователе, у которого 9 заказов\n",
    "df_combined.query('visitor_id==2378935119')"
   ]
  },
  {
   "cell_type": "markdown",
   "metadata": {},
   "source": [
    "Объединение прошло успешно"
   ]
  },
  {
   "cell_type": "code",
   "execution_count": 42,
   "metadata": {},
   "outputs": [],
   "source": [
    "# добавим 2 колонки (расчет среднего чека и расчет конверсии)\n",
    "df_combined['average_order_value'] = (df_combined['revenue_daily'] / df_combined['orders_daily']).round()\n",
    "df_combined['conversion'] = df_combined['orders_daily'] / df_combined['visitors']"
   ]
  },
  {
   "cell_type": "code",
   "execution_count": 43,
   "metadata": {},
   "outputs": [
    {
     "data": {
      "text/html": [
       "<div>\n",
       "<style scoped>\n",
       "    .dataframe tbody tr th:only-of-type {\n",
       "        vertical-align: middle;\n",
       "    }\n",
       "\n",
       "    .dataframe tbody tr th {\n",
       "        vertical-align: top;\n",
       "    }\n",
       "\n",
       "    .dataframe thead th {\n",
       "        text-align: right;\n",
       "    }\n",
       "</style>\n",
       "<table border=\"1\" class=\"dataframe\">\n",
       "  <thead>\n",
       "    <tr style=\"text-align: right;\">\n",
       "      <th></th>\n",
       "      <th>group</th>\n",
       "      <th>revenue_per_buyer</th>\n",
       "      <th>transactions_per_buyer</th>\n",
       "      <th>average_order_value</th>\n",
       "      <th>conversion</th>\n",
       "    </tr>\n",
       "  </thead>\n",
       "  <tbody>\n",
       "    <tr>\n",
       "      <td>0</td>\n",
       "      <td>B</td>\n",
       "      <td>1650</td>\n",
       "      <td>1</td>\n",
       "      <td>11048.0</td>\n",
       "      <td>0.056985</td>\n",
       "    </tr>\n",
       "    <tr>\n",
       "      <td>1</td>\n",
       "      <td>B</td>\n",
       "      <td>730</td>\n",
       "      <td>1</td>\n",
       "      <td>11048.0</td>\n",
       "      <td>0.056985</td>\n",
       "    </tr>\n",
       "    <tr>\n",
       "      <td>2</td>\n",
       "      <td>A</td>\n",
       "      <td>400</td>\n",
       "      <td>2</td>\n",
       "      <td>5880.0</td>\n",
       "      <td>0.023885</td>\n",
       "    </tr>\n",
       "    <tr>\n",
       "      <td>3</td>\n",
       "      <td>B</td>\n",
       "      <td>9759</td>\n",
       "      <td>1</td>\n",
       "      <td>11048.0</td>\n",
       "      <td>0.056985</td>\n",
       "    </tr>\n",
       "    <tr>\n",
       "      <td>4</td>\n",
       "      <td>B</td>\n",
       "      <td>2308</td>\n",
       "      <td>1</td>\n",
       "      <td>11048.0</td>\n",
       "      <td>0.056985</td>\n",
       "    </tr>\n",
       "  </tbody>\n",
       "</table>\n",
       "</div>"
      ],
      "text/plain": [
       "  group  revenue_per_buyer  transactions_per_buyer  average_order_value  \\\n",
       "0  B     1650               1                       11048.0               \n",
       "1  B     730                1                       11048.0               \n",
       "2  A     400                2                       5880.0                \n",
       "3  B     9759               1                       11048.0               \n",
       "4  B     2308               1                       11048.0               \n",
       "\n",
       "   conversion  \n",
       "0  0.056985    \n",
       "1  0.056985    \n",
       "2  0.023885    \n",
       "3  0.056985    \n",
       "4  0.056985    "
      ]
     },
     "execution_count": 43,
     "metadata": {},
     "output_type": "execute_result"
    }
   ],
   "source": [
    "#  из датафрейма df_combined сохраним 4 столбца в датафрейм df_combined_raw\n",
    "# 'group', 'revenue_per_buyer' и 'transactions_per_buyer' для фильтрации данных\n",
    "# 'average_order_value' и 'conversion' - интересующие нас метрики\n",
    "df_combined_raw = df_combined[['group','revenue_per_buyer','transactions_per_buyer','average_order_value', 'conversion']]\n",
    "df_combined_raw.head()"
   ]
  },
  {
   "cell_type": "code",
   "execution_count": 44,
   "metadata": {},
   "outputs": [
    {
     "name": "stdout",
     "output_type": "stream",
     "text": [
      "Удалено: 186 строк\n"
     ]
    }
   ],
   "source": [
    "df_combined_cleaned = df_combined_raw.query('transactions_per_buyer <=2 and revenue_per_buyer <= 28000')\n",
    "\n",
    "print(f'Удалено: {df_combined_raw.shape[0]-df_combined_cleaned.shape[0]} строк')"
   ]
  },
  {
   "cell_type": "markdown",
   "metadata": {},
   "source": [
    "----------------------\n",
    ">Посмотрим на количество пользователей в группах **А** и **В**\n",
    "<a id=user_amount></a>\n",
    "----------------------"
   ]
  },
  {
   "cell_type": "code",
   "execution_count": 45,
   "metadata": {},
   "outputs": [],
   "source": [
    "visitors_A = visitors.query('group == \"A\"')['visitors'].sum()\n",
    "visitors_B = visitors.query('group == \"B\"')['visitors'].sum()"
   ]
  },
  {
   "cell_type": "code",
   "execution_count": 46,
   "metadata": {},
   "outputs": [
    {
     "name": "stdout",
     "output_type": "stream",
     "text": [
      "Количество посетителей в группе А = 18736\n",
      "Количество посетителей в группе В = 18916\n",
      "-----------------------------------------\n",
      "Относительное различие  0.95 %\n"
     ]
    }
   ],
   "source": [
    "print('Количество посетителей в группе А =', visitors_A)\n",
    "print('Количество посетителей в группе В =', visitors_B)\n",
    "print(41*\"-\")\n",
    "relative_difference = ((abs(1-(visitors_A/visitors_B)))*100).round(2)\n",
    "print(f'Относительное различие  {relative_difference} %')"
   ]
  },
  {
   "cell_type": "markdown",
   "metadata": {},
   "source": [
    "**Различие в количестве пользователей в обеих группах не превышает 1 %, т.е инструмент деления трафика сработал корректно**"
   ]
  },
  {
   "cell_type": "markdown",
   "metadata": {},
   "source": [
    "**Средний чек по сырым данным**\n",
    "<a id=revenue></a>"
   ]
  },
  {
   "cell_type": "code",
   "execution_count": 47,
   "metadata": {},
   "outputs": [],
   "source": [
    "def mw_test(sample_A, sample_B):\n",
    "    alpha=0.05\n",
    "    results = st.mannwhitneyu(sample_A, sample_B)\n",
    "    pvalue = results.pvalue.round(5)\n",
    "    print('p-value =', pvalue)\n",
    "    if pvalue < alpha:\n",
    "        print('Отвергаем нулевую гипотезу, группы имеют статистически значимое различие')\n",
    "    else:\n",
    "        print('Не удалось отвергнуть нулевую гипотезу, группы не имеют статистически значимого различия')\n",
    "    \n",
    "    print(f'Изменение метрики в группе B относительно группы А: {(( (sample_B.mean()/sample_A.mean()) -1 )*100).round(3)} %')"
   ]
  },
  {
   "cell_type": "code",
   "execution_count": 48,
   "metadata": {},
   "outputs": [
    {
     "name": "stdout",
     "output_type": "stream",
     "text": [
      "p-value = 0.36465\n",
      "Не удалось отвергнуть нулевую гипотезу, группы не имеют статистически значимого различия\n",
      "Изменение метрики в группе B относительно группы А: 25.871 %\n"
     ]
    }
   ],
   "source": [
    "mw_test((df_combined_raw.query('group==\"A\"')['revenue_per_buyer']),\\\n",
    "        (df_combined_raw.query('group==\"B\"')['revenue_per_buyer']))"
   ]
  },
  {
   "cell_type": "markdown",
   "metadata": {},
   "source": [
    "**UPD:** <font color='green'>**Используем revenue_per_buyer**</font>"
   ]
  },
  {
   "cell_type": "markdown",
   "metadata": {},
   "source": [
    "**Средний чек по очищенным данным**"
   ]
  },
  {
   "cell_type": "code",
   "execution_count": 49,
   "metadata": {},
   "outputs": [
    {
     "name": "stdout",
     "output_type": "stream",
     "text": [
      "p-value = 0.34536\n",
      "Не удалось отвергнуть нулевую гипотезу, группы не имеют статистически значимого различия\n",
      "Изменение метрики в группе B относительно группы А: -2.71 %\n"
     ]
    }
   ],
   "source": [
    "mw_test((df_combined_cleaned.query('group==\"A\"')['revenue_per_buyer']),\\\n",
    "        (df_combined_cleaned.query('group==\"B\"')['revenue_per_buyer']))"
   ]
  },
  {
   "cell_type": "markdown",
   "metadata": {},
   "source": [
    "**Вывод**  \n",
    "* В группе **В** по сырым данным относительный прирост среднего чека почти 30 %, но разница не является статистически значимой  \n",
    "* В случае очищенных данных средний чек в группе **В** меньше чем в группе **А** на 2,71 %, группы также не имеют статистически  значимого различия.\n",
    "* **Итог:**  \n",
    "* Удаление дорогих заказов, искажающих картину показывает, что средний чек в группе B на 2,71 % меньше чем в группе А, а не больше на 30 % как было по сырым данным.\n",
    "* Однако,  как по сырым, так и по отфильтрованным данным различия не являются статистически значимыми"
   ]
  },
  {
   "cell_type": "markdown",
   "metadata": {},
   "source": [
    "**Конверсия по сырым и очищенным данным**"
   ]
  },
  {
   "cell_type": "code",
   "execution_count": 50,
   "metadata": {},
   "outputs": [
    {
     "name": "stdout",
     "output_type": "stream",
     "text": [
      "p-value = 0.0\n",
      "Отвергаем нулевую гипотезу, группы имеют статистически значимое различие\n",
      "Изменение метрики в группе B относительно группы А: 14.288 %\n"
     ]
    }
   ],
   "source": [
    "mw_test((df_combined_raw.query('group==\"A\"')['conversion']),\\\n",
    "        (df_combined_raw.query('group==\"B\"')['conversion']))"
   ]
  },
  {
   "cell_type": "code",
   "execution_count": 51,
   "metadata": {},
   "outputs": [
    {
     "name": "stdout",
     "output_type": "stream",
     "text": [
      "p-value = 0.0\n",
      "Отвергаем нулевую гипотезу, группы имеют статистически значимое различие\n",
      "Изменение метрики в группе B относительно группы А: 12.914 %\n"
     ]
    }
   ],
   "source": [
    "mw_test((df_combined_cleaned.query('group==\"A\"')['conversion']),\\\n",
    "        (df_combined_cleaned.query('group==\"B\"')['conversion']))"
   ]
  },
  {
   "cell_type": "markdown",
   "metadata": {},
   "source": [
    "**Вывод**  \n",
    "Конверсия в группе В демонстрирует относительный прирост в 13 %"
   ]
  },
  {
   "cell_type": "markdown",
   "metadata": {},
   "source": [
    "**Оценка размера необходимой выборки**  \n",
    "с помощью калькулятора:\n",
    "https://www.evanmiller.org/ab-testing/sample-size.html\n",
    "была проведена оценка необходимого размера выборки \n",
    "при следующих параметрах:\n",
    "* Baseline conversion rate = 3 %\n",
    "* Minimum Detectable Effect = 14 %\n",
    "* Relative\n",
    "* мощность 80 %\n",
    "* значимость 5 %\n",
    "Необходимый размер выборки составил 30593 пользователей на группу  \n",
    "**Ссылка на скриншот:**  \n",
    "https://yadi.sk/i/w7eVwpN6M6wnQA\n"
   ]
  },
  {
   "cell_type": "markdown",
   "metadata": {},
   "source": [
    "#### Общий вывод:\n",
    "<a id=conclusion></a>\n",
    "    "
   ]
  },
  {
   "cell_type": "markdown",
   "metadata": {},
   "source": [
    "* Различия в среднем чеке между группами не являются статистически значимыми\n",
    "* Различия в конверсии между группами статистически значимы, конверсия в группе B больше на 13 % чем в группе A.\n",
    "\n",
    "> Расчетное количество размера выборки составляет 30593 пользователя на группу, при этом:  \n",
    "Количество посетителей в группе А = 18736  \n",
    "Количество посетителей в группе В = 18916  \n",
    "* Графическое отображение метрик также показывает, что метрики не вышло на плато, поэтому **рекомендуется продолжить тест**, дождаться выхода на плато в графиках и делать дальнейшие выводы, иначе можно \"попасть\" в \"проблему подглядывания\"\n",
    "\n",
    "* **Рекомендуется продолжить тест**\n"
   ]
  },
  {
   "cell_type": "markdown",
   "metadata": {},
   "source": [
    "[Вернуться в начало](#return)"
   ]
  }
 ],
 "metadata": {
  "kernelspec": {
   "display_name": "Python 3",
   "language": "python",
   "name": "python3"
  },
  "language_info": {
   "codemirror_mode": {
    "name": "ipython",
    "version": 3
   },
   "file_extension": ".py",
   "mimetype": "text/x-python",
   "name": "python",
   "nbconvert_exporter": "python",
   "pygments_lexer": "ipython3",
   "version": "3.7.3"
  }
 },
 "nbformat": 4,
 "nbformat_minor": 2
}
