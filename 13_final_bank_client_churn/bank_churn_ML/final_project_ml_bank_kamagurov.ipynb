{
 "cells": [
  {
   "cell_type": "markdown",
   "metadata": {},
   "source": [
    "<a id='TOC'>"
   ]
  },
  {
   "cell_type": "markdown",
   "metadata": {},
   "source": [
    "### Банки — Анализ оттока клиентов\n"
   ]
  },
  {
   "cell_type": "markdown",
   "metadata": {},
   "source": [
    "**Данные**:    \n",
    "* Данные о клиентах \"Метанпромбанка\", который располагается в Ярославле и областных городах: Ростов Великий и Рыбинск \n",
    "\n",
    "**Задача**:  \n",
    "* Составить портрет пользователя склонного к оттоку\n",
    "* Предложить рекомендации по удержанию клиентов \n",
    "\n",
    "### Выводы и рекомендации:\n",
    "#### Выводы\n",
    "* Использует только один продукта банка\n",
    "* Возраст 35-65, максимальный уровень оттока у клиентов 50-58 лет\n",
    "* Не активен\n",
    "* На счету либо сравнительно небольшой >50 тыс, либо сравнительно большой < 180 тыс баланс\n",
    "* Женского пола  \n",
    ">Отдельно нужно выделить город Ростов Великий, так как **там 1/4 всех клиентов, и самый большой отток**, возможно в этом отделении банка какие-то проблемы с уровнем обслуживания, либо есть конкурент с более выгодными условиями, что маловероятно, т.к город небольшой ~ 30 тыс. население\n",
    "#### Рекомендации\n",
    "* Нужны дополнительные данные для анализа причин высокого оттока в отделении банка в Ростове Великом\n",
    "* Разработать программу лояльности для клиентов женского пола\n",
    "   * увеличенные скидки или кэшбек в салоны красоты, магазины одежды и обуви, товаров для дома и т.д.\n",
    "* В целом нужно стараться повышать количество продуктов банка, используемых клиентами и активность:\n",
    "   * полезные сервисы и услуги\n",
    "   * повышенный процент по остатку на счете за выполнение определенных условий\n",
    "* Повышать персонализацию обслуживания для клиентов старше 45 и с большим балансом"
   ]
  },
  {
   "cell_type": "markdown",
   "metadata": {},
   "source": [
    ">**Содержание:**  \n",
    "1. [Описание данных и декомпозиция](#description_decomposition)\n",
    "2. [Предобработка](#pretreatment)\n",
    "3. [Исследовательский анализ данных (EDA)](#eda)\n",
    "4. [Статистические гипотезы](#stat)   \n",
    "5. [Машинное обучение](#ml)\n",
    "6. [Источники (документация)](#references)\n",
    "\n",
    "* [Портрет клиента склонного к оттоку](#churn_features)\n",
    "* [Выводы и рекомендации](#conclusions)"
   ]
  },
  {
   "cell_type": "markdown",
   "metadata": {},
   "source": [
    "### 2. Предобработка данных\n",
    "<a id='pretreatment'>"
   ]
  },
  {
   "cell_type": "code",
   "execution_count": 1,
   "metadata": {},
   "outputs": [],
   "source": [
    "# импорт необходимых библиотек\n",
    "import pandas as pd\n",
    "import numpy as np\n",
    "from scipy import stats as st\n",
    "import math\n",
    "\n",
    "import seaborn as sns\n",
    "import matplotlib.pyplot as plt\n",
    "import warnings\n",
    "warnings.filterwarnings(\"ignore\")\n",
    "# Задание параметров для графиков в seaborn\n",
    "plt.style.use('tableau-colorblind10')\n",
    "sns.set_palette('colorblind')\n",
    "sns.set_context(\"talk\")\n",
    "# Своя палитра\n",
    "my_palette = ['#e15f41', '#786fa6', '#9b59b6', '#e74c3c', '#7f8c8d']\n",
    "\n",
    "pd.set_option('display.max_columns', None)\n",
    "%matplotlib inline\n",
    "\n",
    "# для полного отображения содержимого столбцов\n",
    "pd.set_option('display.max_colwidth', -1)\n",
    "\n",
    "# Библиотеки для машинного обучения\n",
    "# импорт sklearn и ее методов/алгоритмов\n",
    "from sklearn.linear_model import LogisticRegression\n",
    "from sklearn.ensemble import RandomForestClassifier\n",
    "from sklearn.metrics import accuracy_score, precision_score, recall_score, mean_squared_error, f1_score, make_scorer\n",
    "from sklearn.preprocessing import StandardScaler\n",
    "from sklearn.model_selection import train_test_split\n",
    "from sklearn.cluster import KMeans\n",
    "from scipy.cluster.hierarchy import dendrogram, linkage"
   ]
  },
  {
   "cell_type": "code",
   "execution_count": 2,
   "metadata": {},
   "outputs": [],
   "source": [
    "path='C:\\\\Users\\\\Admin\\\\YANDEX_PRAKTIKUM\\\\final_project\\\\bank_dataset.csv'\n",
    "df=pd.read_csv(path)"
   ]
  },
  {
   "cell_type": "code",
   "execution_count": 3,
   "metadata": {},
   "outputs": [],
   "source": [
    "def df_look(df):\n",
    "    \"\"\"\n",
    "    Функция для получения общей информации о датафрейме\n",
    "    \"\"\"\n",
    "    print('Первые 3 строки датафрейма')\n",
    "    print('-'*52)\n",
    "    print('{}'.format(df.head(3)))\n",
    "    print('='*52)\n",
    "    print('Размер датафрейма: (строк:столбцов) {}'.format(df.shape))\n",
    "    print('='*52)\n",
    "    print('Типы данных и общая информация')\n",
    "    print('-'*52)\n",
    "    print(df.info())\n",
    "    print('='*52)\n",
    "    print('Наличие дубликатов')\n",
    "    print('='*52)\n",
    "    print(df.duplicated().sum())\n",
    "    print('-'*52)\n",
    "    print('Наличие пропусков')\n",
    "    print('-'*52)\n",
    "    print(df.isna().sum())\n",
    "    print('='*52)"
   ]
  },
  {
   "cell_type": "code",
   "execution_count": 4,
   "metadata": {},
   "outputs": [
    {
     "name": "stdout",
     "output_type": "stream",
     "text": [
      "Первые 3 строки датафрейма\n",
      "----------------------------------------------------\n",
      "     userid  score       City Gender  Age  Objects    Balance  NumOfProducts  \\\n",
      "0  15677338  619    Ярославль  Ж      42   2       NaN         1               \n",
      "1  15690047  608    Рыбинск    Ж      41   1        83807.86   1               \n",
      "2  15662040  502    Ярославль  Ж      42   8        159660.80  3               \n",
      "\n",
      "   CreditCard  IsActiveMember  EstimatedSalary  Churn  \n",
      "0  1           1               101348.88        1      \n",
      "1  0           1               112542.58        0      \n",
      "2  1           0               113931.57        1      \n",
      "====================================================\n",
      "Размер датафрейма: (строк:столбцов) (10000, 12)\n",
      "====================================================\n",
      "Типы данных и общая информация\n",
      "----------------------------------------------------\n",
      "<class 'pandas.core.frame.DataFrame'>\n",
      "RangeIndex: 10000 entries, 0 to 9999\n",
      "Data columns (total 12 columns):\n",
      "userid             10000 non-null int64\n",
      "score              10000 non-null int64\n",
      "City               10000 non-null object\n",
      "Gender             10000 non-null object\n",
      "Age                10000 non-null int64\n",
      "Objects            10000 non-null int64\n",
      "Balance            6383 non-null float64\n",
      "NumOfProducts      10000 non-null int64\n",
      "CreditCard         10000 non-null int64\n",
      "IsActiveMember     10000 non-null int64\n",
      "EstimatedSalary    10000 non-null float64\n",
      "Churn              10000 non-null int64\n",
      "dtypes: float64(2), int64(8), object(2)\n",
      "memory usage: 937.6+ KB\n",
      "None\n",
      "====================================================\n",
      "Наличие дубликатов\n",
      "====================================================\n",
      "0\n",
      "----------------------------------------------------\n",
      "Наличие пропусков\n",
      "----------------------------------------------------\n",
      "userid             0   \n",
      "score              0   \n",
      "City               0   \n",
      "Gender             0   \n",
      "Age                0   \n",
      "Objects            0   \n",
      "Balance            3617\n",
      "NumOfProducts      0   \n",
      "CreditCard         0   \n",
      "IsActiveMember     0   \n",
      "EstimatedSalary    0   \n",
      "Churn              0   \n",
      "dtype: int64\n",
      "====================================================\n"
     ]
    }
   ],
   "source": [
    "df_look(df)"
   ]
  },
  {
   "cell_type": "markdown",
   "metadata": {},
   "source": [
    "* Имеются пропуски в столбце со значением баланса, скорее всего на счету нет денег, однако этот момент нужно, по возможности, уточнить у заказчика, остальные данные в порядке\n",
    "* нужно переименовать название стобцов"
   ]
  },
  {
   "cell_type": "markdown",
   "metadata": {},
   "source": [
    "Посмотрим на данные методом `describe()`, для удобства транспонируем таблицу, чтобы названия признаков располагались в одной колонке"
   ]
  },
  {
   "cell_type": "code",
   "execution_count": 5,
   "metadata": {},
   "outputs": [
    {
     "data": {
      "text/html": [
       "<div>\n",
       "<style scoped>\n",
       "    .dataframe tbody tr th:only-of-type {\n",
       "        vertical-align: middle;\n",
       "    }\n",
       "\n",
       "    .dataframe tbody tr th {\n",
       "        vertical-align: top;\n",
       "    }\n",
       "\n",
       "    .dataframe thead th {\n",
       "        text-align: right;\n",
       "    }\n",
       "</style>\n",
       "<table border=\"1\" class=\"dataframe\">\n",
       "  <thead>\n",
       "    <tr style=\"text-align: right;\">\n",
       "      <th></th>\n",
       "      <th>count</th>\n",
       "      <th>mean</th>\n",
       "      <th>std</th>\n",
       "      <th>min</th>\n",
       "      <th>25%</th>\n",
       "      <th>50%</th>\n",
       "      <th>75%</th>\n",
       "      <th>max</th>\n",
       "    </tr>\n",
       "  </thead>\n",
       "  <tbody>\n",
       "    <tr>\n",
       "      <th>userid</th>\n",
       "      <td>10000.0</td>\n",
       "      <td>15733677.0</td>\n",
       "      <td>71936.0</td>\n",
       "      <td>15608437.0</td>\n",
       "      <td>15671264.0</td>\n",
       "      <td>15733474.0</td>\n",
       "      <td>15795970.0</td>\n",
       "      <td>15858426.0</td>\n",
       "    </tr>\n",
       "    <tr>\n",
       "      <th>score</th>\n",
       "      <td>10000.0</td>\n",
       "      <td>651.0</td>\n",
       "      <td>97.0</td>\n",
       "      <td>350.0</td>\n",
       "      <td>584.0</td>\n",
       "      <td>652.0</td>\n",
       "      <td>718.0</td>\n",
       "      <td>850.0</td>\n",
       "    </tr>\n",
       "    <tr>\n",
       "      <th>Age</th>\n",
       "      <td>10000.0</td>\n",
       "      <td>39.0</td>\n",
       "      <td>10.0</td>\n",
       "      <td>18.0</td>\n",
       "      <td>32.0</td>\n",
       "      <td>37.0</td>\n",
       "      <td>44.0</td>\n",
       "      <td>92.0</td>\n",
       "    </tr>\n",
       "    <tr>\n",
       "      <th>Objects</th>\n",
       "      <td>10000.0</td>\n",
       "      <td>5.0</td>\n",
       "      <td>3.0</td>\n",
       "      <td>0.0</td>\n",
       "      <td>3.0</td>\n",
       "      <td>5.0</td>\n",
       "      <td>7.0</td>\n",
       "      <td>10.0</td>\n",
       "    </tr>\n",
       "    <tr>\n",
       "      <th>Balance</th>\n",
       "      <td>6383.0</td>\n",
       "      <td>119827.0</td>\n",
       "      <td>30095.0</td>\n",
       "      <td>3769.0</td>\n",
       "      <td>100182.0</td>\n",
       "      <td>119840.0</td>\n",
       "      <td>139512.0</td>\n",
       "      <td>250898.0</td>\n",
       "    </tr>\n",
       "    <tr>\n",
       "      <th>NumOfProducts</th>\n",
       "      <td>10000.0</td>\n",
       "      <td>2.0</td>\n",
       "      <td>1.0</td>\n",
       "      <td>1.0</td>\n",
       "      <td>1.0</td>\n",
       "      <td>1.0</td>\n",
       "      <td>2.0</td>\n",
       "      <td>4.0</td>\n",
       "    </tr>\n",
       "    <tr>\n",
       "      <th>CreditCard</th>\n",
       "      <td>10000.0</td>\n",
       "      <td>1.0</td>\n",
       "      <td>0.0</td>\n",
       "      <td>0.0</td>\n",
       "      <td>0.0</td>\n",
       "      <td>1.0</td>\n",
       "      <td>1.0</td>\n",
       "      <td>1.0</td>\n",
       "    </tr>\n",
       "    <tr>\n",
       "      <th>IsActiveMember</th>\n",
       "      <td>10000.0</td>\n",
       "      <td>1.0</td>\n",
       "      <td>0.0</td>\n",
       "      <td>0.0</td>\n",
       "      <td>0.0</td>\n",
       "      <td>1.0</td>\n",
       "      <td>1.0</td>\n",
       "      <td>1.0</td>\n",
       "    </tr>\n",
       "    <tr>\n",
       "      <th>EstimatedSalary</th>\n",
       "      <td>10000.0</td>\n",
       "      <td>100090.0</td>\n",
       "      <td>57510.0</td>\n",
       "      <td>12.0</td>\n",
       "      <td>51002.0</td>\n",
       "      <td>100194.0</td>\n",
       "      <td>149388.0</td>\n",
       "      <td>199992.0</td>\n",
       "    </tr>\n",
       "    <tr>\n",
       "      <th>Churn</th>\n",
       "      <td>10000.0</td>\n",
       "      <td>0.0</td>\n",
       "      <td>0.0</td>\n",
       "      <td>0.0</td>\n",
       "      <td>0.0</td>\n",
       "      <td>0.0</td>\n",
       "      <td>0.0</td>\n",
       "      <td>1.0</td>\n",
       "    </tr>\n",
       "  </tbody>\n",
       "</table>\n",
       "</div>"
      ],
      "text/plain": [
       "                   count        mean      std         min         25%  \\\n",
       "userid           10000.0  15733677.0  71936.0  15608437.0  15671264.0   \n",
       "score            10000.0  651.0       97.0     350.0       584.0        \n",
       "Age              10000.0  39.0        10.0     18.0        32.0         \n",
       "Objects          10000.0  5.0         3.0      0.0         3.0          \n",
       "Balance          6383.0   119827.0    30095.0  3769.0      100182.0     \n",
       "NumOfProducts    10000.0  2.0         1.0      1.0         1.0          \n",
       "CreditCard       10000.0  1.0         0.0      0.0         0.0          \n",
       "IsActiveMember   10000.0  1.0         0.0      0.0         0.0          \n",
       "EstimatedSalary  10000.0  100090.0    57510.0  12.0        51002.0      \n",
       "Churn            10000.0  0.0         0.0      0.0         0.0          \n",
       "\n",
       "                        50%         75%         max  \n",
       "userid           15733474.0  15795970.0  15858426.0  \n",
       "score            652.0       718.0       850.0       \n",
       "Age              37.0        44.0        92.0        \n",
       "Objects          5.0         7.0         10.0        \n",
       "Balance          119840.0    139512.0    250898.0    \n",
       "NumOfProducts    1.0         2.0         4.0         \n",
       "CreditCard       1.0         1.0         1.0         \n",
       "IsActiveMember   1.0         1.0         1.0         \n",
       "EstimatedSalary  100194.0    149388.0    199992.0    \n",
       "Churn            0.0         0.0         1.0         "
      ]
     },
     "execution_count": 5,
     "metadata": {},
     "output_type": "execute_result"
    }
   ],
   "source": [
    "df.describe().transpose().round()"
   ]
  },
  {
   "cell_type": "markdown",
   "metadata": {},
   "source": [
    "* Баллы кредитного скоринга: min=350, max=850 \n",
    "* Средний возраст клиента - 39 лет\n",
    "* Среднее количество объектов в собственности - 5 (вероятно, это не только недвижимость, но и автомобили и другая собственность)\n",
    "* Средний баланс ~ 120 000 \n",
    "* Среднее количество продуктов клиентов - 2 продукта\n",
    "* Средняя зарплата составляет 100 000 рублей"
   ]
  },
  {
   "cell_type": "markdown",
   "metadata": {},
   "source": [
    "**Предобработка (замена названий столбцов, заполнение нулями `NaN`-значений в балансе)** "
   ]
  },
  {
   "cell_type": "code",
   "execution_count": 6,
   "metadata": {},
   "outputs": [
    {
     "data": {
      "text/html": [
       "<div>\n",
       "<style scoped>\n",
       "    .dataframe tbody tr th:only-of-type {\n",
       "        vertical-align: middle;\n",
       "    }\n",
       "\n",
       "    .dataframe tbody tr th {\n",
       "        vertical-align: top;\n",
       "    }\n",
       "\n",
       "    .dataframe thead th {\n",
       "        text-align: right;\n",
       "    }\n",
       "</style>\n",
       "<table border=\"1\" class=\"dataframe\">\n",
       "  <thead>\n",
       "    <tr style=\"text-align: right;\">\n",
       "      <th></th>\n",
       "      <th>userid</th>\n",
       "      <th>score</th>\n",
       "      <th>city</th>\n",
       "      <th>gender</th>\n",
       "      <th>age</th>\n",
       "      <th>objects</th>\n",
       "      <th>balance</th>\n",
       "      <th>numofproducts</th>\n",
       "      <th>creditcard</th>\n",
       "      <th>isactivemember</th>\n",
       "      <th>estimatedsalary</th>\n",
       "      <th>churn</th>\n",
       "    </tr>\n",
       "  </thead>\n",
       "  <tbody>\n",
       "    <tr>\n",
       "      <th>0</th>\n",
       "      <td>15677338</td>\n",
       "      <td>619</td>\n",
       "      <td>Ярославль</td>\n",
       "      <td>Ж</td>\n",
       "      <td>42</td>\n",
       "      <td>2</td>\n",
       "      <td>NaN</td>\n",
       "      <td>1</td>\n",
       "      <td>1</td>\n",
       "      <td>1</td>\n",
       "      <td>101348.88</td>\n",
       "      <td>1</td>\n",
       "    </tr>\n",
       "    <tr>\n",
       "      <th>1</th>\n",
       "      <td>15690047</td>\n",
       "      <td>608</td>\n",
       "      <td>Рыбинск</td>\n",
       "      <td>Ж</td>\n",
       "      <td>41</td>\n",
       "      <td>1</td>\n",
       "      <td>83807.86</td>\n",
       "      <td>1</td>\n",
       "      <td>0</td>\n",
       "      <td>1</td>\n",
       "      <td>112542.58</td>\n",
       "      <td>0</td>\n",
       "    </tr>\n",
       "    <tr>\n",
       "      <th>2</th>\n",
       "      <td>15662040</td>\n",
       "      <td>502</td>\n",
       "      <td>Ярославль</td>\n",
       "      <td>Ж</td>\n",
       "      <td>42</td>\n",
       "      <td>8</td>\n",
       "      <td>159660.80</td>\n",
       "      <td>3</td>\n",
       "      <td>1</td>\n",
       "      <td>0</td>\n",
       "      <td>113931.57</td>\n",
       "      <td>1</td>\n",
       "    </tr>\n",
       "  </tbody>\n",
       "</table>\n",
       "</div>"
      ],
      "text/plain": [
       "     userid  score       city gender  age  objects    balance  numofproducts  \\\n",
       "0  15677338  619    Ярославль  Ж      42   2       NaN         1               \n",
       "1  15690047  608    Рыбинск    Ж      41   1        83807.86   1               \n",
       "2  15662040  502    Ярославль  Ж      42   8        159660.80  3               \n",
       "\n",
       "   creditcard  isactivemember  estimatedsalary  churn  \n",
       "0  1           1               101348.88        1      \n",
       "1  0           1               112542.58        0      \n",
       "2  1           0               113931.57        1      "
      ]
     },
     "execution_count": 6,
     "metadata": {},
     "output_type": "execute_result"
    }
   ],
   "source": [
    "# формируем список с названиями признаков в нижнем регистре, и переименовываем колонки\n",
    "lowercase_columns = []\n",
    "for col in df.columns.tolist():\n",
    "    col=col.lower()\n",
    "    lowercase_columns.append(col)\n",
    "    \n",
    "df.columns = lowercase_columns\n",
    "df.head(3)"
   ]
  },
  {
   "cell_type": "code",
   "execution_count": 7,
   "metadata": {},
   "outputs": [],
   "source": [
    "new_value = ['user_id', 'score', 'city', 'gender', \n",
    "             'age', 'num_of_objects','balance', \n",
    "             'num_of_products', 'credit_card', \n",
    "             'is_active', 'salary', 'churn']  \n",
    "df.columns = new_value"
   ]
  },
  {
   "cell_type": "code",
   "execution_count": 8,
   "metadata": {},
   "outputs": [
    {
     "data": {
      "text/plain": [
       "Index(['user_id', 'score', 'city', 'gender', 'age', 'num_of_objects',\n",
       "       'balance', 'num_of_products', 'credit_card', 'is_active', 'salary',\n",
       "       'churn'],\n",
       "      dtype='object')"
      ]
     },
     "execution_count": 8,
     "metadata": {},
     "output_type": "execute_result"
    }
   ],
   "source": [
    "df.columns"
   ]
  },
  {
   "cell_type": "code",
   "execution_count": 9,
   "metadata": {},
   "outputs": [],
   "source": [
    "df['balance'] = df['balance'].fillna(0)"
   ]
  },
  {
   "cell_type": "code",
   "execution_count": 10,
   "metadata": {},
   "outputs": [
    {
     "data": {
      "text/html": [
       "<div>\n",
       "<style scoped>\n",
       "    .dataframe tbody tr th:only-of-type {\n",
       "        vertical-align: middle;\n",
       "    }\n",
       "\n",
       "    .dataframe tbody tr th {\n",
       "        vertical-align: top;\n",
       "    }\n",
       "\n",
       "    .dataframe thead th {\n",
       "        text-align: right;\n",
       "    }\n",
       "</style>\n",
       "<table border=\"1\" class=\"dataframe\">\n",
       "  <thead>\n",
       "    <tr style=\"text-align: right;\">\n",
       "      <th></th>\n",
       "      <th>user_id</th>\n",
       "      <th>score</th>\n",
       "      <th>city</th>\n",
       "      <th>gender</th>\n",
       "      <th>age</th>\n",
       "      <th>num_of_objects</th>\n",
       "      <th>balance</th>\n",
       "      <th>num_of_products</th>\n",
       "      <th>credit_card</th>\n",
       "      <th>is_active</th>\n",
       "      <th>salary</th>\n",
       "      <th>churn</th>\n",
       "    </tr>\n",
       "  </thead>\n",
       "  <tbody>\n",
       "    <tr>\n",
       "      <th>0</th>\n",
       "      <td>15677338</td>\n",
       "      <td>619</td>\n",
       "      <td>Ярославль</td>\n",
       "      <td>Ж</td>\n",
       "      <td>42</td>\n",
       "      <td>2</td>\n",
       "      <td>0.00</td>\n",
       "      <td>1</td>\n",
       "      <td>1</td>\n",
       "      <td>1</td>\n",
       "      <td>101348.88</td>\n",
       "      <td>1</td>\n",
       "    </tr>\n",
       "    <tr>\n",
       "      <th>1</th>\n",
       "      <td>15690047</td>\n",
       "      <td>608</td>\n",
       "      <td>Рыбинск</td>\n",
       "      <td>Ж</td>\n",
       "      <td>41</td>\n",
       "      <td>1</td>\n",
       "      <td>83807.86</td>\n",
       "      <td>1</td>\n",
       "      <td>0</td>\n",
       "      <td>1</td>\n",
       "      <td>112542.58</td>\n",
       "      <td>0</td>\n",
       "    </tr>\n",
       "    <tr>\n",
       "      <th>2</th>\n",
       "      <td>15662040</td>\n",
       "      <td>502</td>\n",
       "      <td>Ярославль</td>\n",
       "      <td>Ж</td>\n",
       "      <td>42</td>\n",
       "      <td>8</td>\n",
       "      <td>159660.80</td>\n",
       "      <td>3</td>\n",
       "      <td>1</td>\n",
       "      <td>0</td>\n",
       "      <td>113931.57</td>\n",
       "      <td>1</td>\n",
       "    </tr>\n",
       "    <tr>\n",
       "      <th>3</th>\n",
       "      <td>15744090</td>\n",
       "      <td>699</td>\n",
       "      <td>Ярославль</td>\n",
       "      <td>Ж</td>\n",
       "      <td>39</td>\n",
       "      <td>1</td>\n",
       "      <td>0.00</td>\n",
       "      <td>2</td>\n",
       "      <td>0</td>\n",
       "      <td>0</td>\n",
       "      <td>93826.63</td>\n",
       "      <td>0</td>\n",
       "    </tr>\n",
       "    <tr>\n",
       "      <th>4</th>\n",
       "      <td>15780624</td>\n",
       "      <td>850</td>\n",
       "      <td>Рыбинск</td>\n",
       "      <td>Ж</td>\n",
       "      <td>43</td>\n",
       "      <td>2</td>\n",
       "      <td>125510.82</td>\n",
       "      <td>1</td>\n",
       "      <td>1</td>\n",
       "      <td>1</td>\n",
       "      <td>79084.10</td>\n",
       "      <td>0</td>\n",
       "    </tr>\n",
       "  </tbody>\n",
       "</table>\n",
       "</div>"
      ],
      "text/plain": [
       "    user_id  score       city gender  age  num_of_objects    balance  \\\n",
       "0  15677338  619    Ярославль  Ж      42   2               0.00        \n",
       "1  15690047  608    Рыбинск    Ж      41   1               83807.86    \n",
       "2  15662040  502    Ярославль  Ж      42   8               159660.80   \n",
       "3  15744090  699    Ярославль  Ж      39   1               0.00        \n",
       "4  15780624  850    Рыбинск    Ж      43   2               125510.82   \n",
       "\n",
       "   num_of_products  credit_card  is_active     salary  churn  \n",
       "0  1                1            1          101348.88  1      \n",
       "1  1                0            1          112542.58  0      \n",
       "2  3                1            0          113931.57  1      \n",
       "3  2                0            0          93826.63   0      \n",
       "4  1                1            1          79084.10   0      "
      ]
     },
     "execution_count": 10,
     "metadata": {},
     "output_type": "execute_result"
    }
   ],
   "source": [
    "df.head()"
   ]
  },
  {
   "cell_type": "markdown",
   "metadata": {},
   "source": [
    "<a id='eda'>"
   ]
  },
  {
   "cell_type": "markdown",
   "metadata": {},
   "source": [
    "**3. Исследовательский анализ данных** "
   ]
  },
  {
   "cell_type": "markdown",
   "metadata": {},
   "source": [
    "Создадим копию предобработанного датафрейма `df_ml` для последующего машинного обучения"
   ]
  },
  {
   "cell_type": "code",
   "execution_count": 11,
   "metadata": {},
   "outputs": [],
   "source": [
    "df_ml = df.copy()"
   ]
  },
  {
   "cell_type": "code",
   "execution_count": 12,
   "metadata": {
    "scrolled": false
   },
   "outputs": [],
   "source": [
    "def feature_hist(data, target_column, all_columns):\n",
    "    \"\"\"Функция для построения гистограмм распределения\"\"\"\n",
    "    for column in all_columns:\n",
    "        for churn_type in data[target_column].unique():\n",
    "            sns.distplot(data[data[target_column]==churn_type][column],\n",
    "                         label='{} = {}'.format(churn_type, str(column)), bins = 10)\n",
    "        plt.title(column)\n",
    "        plt.legend()\n",
    "        plt.show()"
   ]
  },
  {
   "cell_type": "code",
   "execution_count": 13,
   "metadata": {
    "scrolled": false
   },
   "outputs": [
    {
     "data": {
      "image/png": "[encoded data removed]",
      "text/plain": [
       "<Figure size 432x288 with 1 Axes>"
      ]
     },
     "metadata": {
      "needs_background": "light"
     },
     "output_type": "display_data"
    },
    {
     "data": {
      "image/png": "[encoded data removed]",
      "text/plain": [
       "<Figure size 432x288 with 1 Axes>"
      ]
     },
     "metadata": {
      "needs_background": "light"
     },
     "output_type": "display_data"
    },
    {
     "data": {
      "image/png": "[encoded data removed]",
      "text/plain": [
       "<Figure size 432x288 with 1 Axes>"
      ]
     },
     "metadata": {
      "needs_background": "light"
     },
     "output_type": "display_data"
    },
    {
     "data": {
      "image/png": "[encoded data removed]",
      "text/plain": [
       "<Figure size 432x288 with 1 Axes>"
      ]
     },
     "metadata": {
      "needs_background": "light"
     },
     "output_type": "display_data"
    },
    {
     "data": {
      "image/png": "[encoded data removed]",
      "text/plain": [
       "<Figure size 432x288 with 1 Axes>"
      ]
     },
     "metadata": {
      "needs_background": "light"
     },
     "output_type": "display_data"
    },
    {
     "data": {
      "image/png": "[encoded data removed]",
      "text/plain": [
       "<Figure size 432x288 with 1 Axes>"
      ]
     },
     "metadata": {
      "needs_background": "light"
     },
     "output_type": "display_data"
    },
    {
     "data": {
      "image/png": "[encoded data removed]",
      "text/plain": [
       "<Figure size 432x288 with 1 Axes>"
      ]
     },
     "metadata": {
      "needs_background": "light"
     },
     "output_type": "display_data"
    },
    {
     "data": {
      "image/png": "[encoded data removed]",
      "text/plain": [
       "<Figure size 432x288 with 1 Axes>"
      ]
     },
     "metadata": {
      "needs_background": "light"
     },
     "output_type": "display_data"
    }
   ],
   "source": [
    "# Формируем список числовых признаков\n",
    "columns_list = new_value[4:11]\n",
    "columns_list.append('score')\n",
    "# Строим гистограммы\n",
    "feature_hist(df, 'churn', columns_list)"
   ]
  },
  {
   "cell_type": "code",
   "execution_count": 14,
   "metadata": {},
   "outputs": [],
   "source": [
    "# Посмотрим на категориальные признаки с помощью столбчатой диаграммы\n",
    "def bar_plot(df,grouping_col, target_col):\n",
    "    \"\"\"Функция для построения столбчатой диаграммы\"\"\"\n",
    "    churn_temp = (df\n",
    "                  .groupby([grouping_col])[target_col]\n",
    "                  .mean()\n",
    "                  .reset_index())\n",
    "    sns.barplot(x=grouping_col, y=target_col, data=churn_temp);\n"
   ]
  },
  {
   "cell_type": "code",
   "execution_count": 15,
   "metadata": {},
   "outputs": [
    {
     "data": {
      "image/png": "[encoded data removed]",
      "text/plain": [
       "<Figure size 432x288 with 1 Axes>"
      ]
     },
     "metadata": {
      "needs_background": "light"
     },
     "output_type": "display_data"
    }
   ],
   "source": [
    "bar_plot(df, 'city', 'churn')"
   ]
  },
  {
   "cell_type": "markdown",
   "metadata": {},
   "source": [
    "**В Рыбинске и Ярославле примерно одинаковый уровень оттока ~ 17 %, а вот в Ростове Великом более 30%   \n",
    "Что там не так? Сотрудники хамят клиентам, или появился банк с более выгодными продуктами?**"
   ]
  },
  {
   "cell_type": "code",
   "execution_count": 16,
   "metadata": {},
   "outputs": [
    {
     "data": {
      "image/png": "[encoded data removed]",
      "text/plain": [
       "<Figure size 432x288 with 1 Axes>"
      ]
     },
     "metadata": {
      "needs_background": "light"
     },
     "output_type": "display_data"
    }
   ],
   "source": [
    "bar_plot(df, 'gender', 'churn')"
   ]
  },
  {
   "cell_type": "markdown",
   "metadata": {},
   "source": [
    "**Отток выше у клиентов женского пола**"
   ]
  },
  {
   "cell_type": "markdown",
   "metadata": {},
   "source": [
    "`Посмотрим на средний отток в разрезе городов и пола клиентов`"
   ]
  },
  {
   "cell_type": "code",
   "execution_count": 17,
   "metadata": {},
   "outputs": [],
   "source": [
    "churn_gr = df.groupby(['city', 'gender'])['churn'].agg(['count', 'mean']).reset_index()"
   ]
  },
  {
   "cell_type": "code",
   "execution_count": 18,
   "metadata": {},
   "outputs": [
    {
     "data": {
      "text/html": [
       "<div>\n",
       "<style scoped>\n",
       "    .dataframe tbody tr th:only-of-type {\n",
       "        vertical-align: middle;\n",
       "    }\n",
       "\n",
       "    .dataframe tbody tr th {\n",
       "        vertical-align: top;\n",
       "    }\n",
       "\n",
       "    .dataframe thead th {\n",
       "        text-align: right;\n",
       "    }\n",
       "</style>\n",
       "<table border=\"1\" class=\"dataframe\">\n",
       "  <thead>\n",
       "    <tr style=\"text-align: right;\">\n",
       "      <th></th>\n",
       "      <th>city</th>\n",
       "      <th>gender</th>\n",
       "      <th>count</th>\n",
       "      <th>mean</th>\n",
       "    </tr>\n",
       "  </thead>\n",
       "  <tbody>\n",
       "    <tr>\n",
       "      <th>0</th>\n",
       "      <td>Ростов Великий</td>\n",
       "      <td>Ж</td>\n",
       "      <td>1193</td>\n",
       "      <td>0.375524</td>\n",
       "    </tr>\n",
       "    <tr>\n",
       "      <th>1</th>\n",
       "      <td>Ростов Великий</td>\n",
       "      <td>М</td>\n",
       "      <td>1316</td>\n",
       "      <td>0.278116</td>\n",
       "    </tr>\n",
       "    <tr>\n",
       "      <th>2</th>\n",
       "      <td>Рыбинск</td>\n",
       "      <td>Ж</td>\n",
       "      <td>1089</td>\n",
       "      <td>0.212121</td>\n",
       "    </tr>\n",
       "    <tr>\n",
       "      <th>3</th>\n",
       "      <td>Рыбинск</td>\n",
       "      <td>М</td>\n",
       "      <td>1388</td>\n",
       "      <td>0.131124</td>\n",
       "    </tr>\n",
       "    <tr>\n",
       "      <th>4</th>\n",
       "      <td>Ярославль</td>\n",
       "      <td>Ж</td>\n",
       "      <td>2261</td>\n",
       "      <td>0.203450</td>\n",
       "    </tr>\n",
       "    <tr>\n",
       "      <th>5</th>\n",
       "      <td>Ярославль</td>\n",
       "      <td>М</td>\n",
       "      <td>2753</td>\n",
       "      <td>0.127134</td>\n",
       "    </tr>\n",
       "  </tbody>\n",
       "</table>\n",
       "</div>"
      ],
      "text/plain": [
       "             city gender  count      mean\n",
       "0  Ростов Великий  Ж      1193   0.375524\n",
       "1  Ростов Великий  М      1316   0.278116\n",
       "2  Рыбинск         Ж      1089   0.212121\n",
       "3  Рыбинск         М      1388   0.131124\n",
       "4  Ярославль       Ж      2261   0.203450\n",
       "5  Ярославль       М      2753   0.127134"
      ]
     },
     "execution_count": 18,
     "metadata": {},
     "output_type": "execute_result"
    }
   ],
   "source": [
    "churn_gr"
   ]
  },
  {
   "cell_type": "code",
   "execution_count": 19,
   "metadata": {},
   "outputs": [],
   "source": [
    "# напишем функцию для построения графиков в seaborn\n",
    "def grafoman(df, kind, x, y, hue, rot, title_name, x_name, y_name, img_name, save):\n",
    "    \"\"\"\n",
    "    grafoman(df, kind, x, y, hue, title_name, x_name, y_name, img_name, save)\n",
    "    -Строит график (какой задается в параметре kind)\n",
    "    -Сохраняет график в формате *.png\n",
    "    \n",
    "    Принимает на вход датафрейм - df\n",
    "    kind - тип графика, может принимать значения:\n",
    "            -'point', 'bar', 'strip', \n",
    "            -'swarm', 'box', 'violin', 'boxen'\n",
    "    x, y - оси графика X и Y, соответственно\n",
    "    hue - дополнительное информация\n",
    "          для отображения \n",
    "    title_name, x_name, y_name - название графика и осей \n",
    "    img_name - название графика для сохранения\n",
    "               сохраняет в формате *.png (если save==True)\n",
    "               формат имени файла: 'image_{img_name}'\n",
    "    save - принимает значение True (сохраняет) или False (не сохраняет)\n",
    "    график в *.png\n",
    "    \"\"\"\n",
    "    ax=sns.catplot(x=x, y=y, hue=hue, kind=kind, data=df, \n",
    "                   palette=my_palette, \n",
    "                   height=3.0, aspect=2.5)\n",
    "    (ax\n",
    "     .set_xticklabels(rotation=rot)\n",
    "     .set(title = title_name)\n",
    "     .set(xlabel = x_name)\n",
    "     .set(ylabel = y_name)\n",
    "    )\n",
    "    \n",
    "    sns.despine()\n",
    "    if save==True:\n",
    "        plt.savefig(f'image_{img_name}.png', bbox_inches='tight', dpi=300, transparent=True)\n",
    "    else:\n",
    "        pass;"
   ]
  },
  {
   "cell_type": "markdown",
   "metadata": {},
   "source": [
    "[1. Документация seaborn](#ref_1)"
   ]
  },
  {
   "cell_type": "code",
   "execution_count": 20,
   "metadata": {},
   "outputs": [
    {
     "data": {
      "image/png": "[encoded data removed]",
      "text/plain": [
       "<Figure size 617.15x216 with 1 Axes>"
      ]
     },
     "metadata": {
      "needs_background": "light"
     },
     "output_type": "display_data"
    }
   ],
   "source": [
    "grafoman(churn_gr, 'bar', 'city', 'mean', 'gender', 0, 'Уровень оттока по полу и городу', '', 'отток(доли)', 1, False)"
   ]
  },
  {
   "cell_type": "code",
   "execution_count": 21,
   "metadata": {},
   "outputs": [
    {
     "data": {
      "image/png": "[encoded data removed]",
      "text/plain": [
       "<Figure size 617.15x216 with 1 Axes>"
      ]
     },
     "metadata": {
      "needs_background": "light"
     },
     "output_type": "display_data"
    }
   ],
   "source": [
    "grafoman(churn_gr, 'bar', 'city', 'count', 'gender', 0, 'Кол-во клиентов по полу и городу', '', 'отток(доли)', 2, False)"
   ]
  },
  {
   "cell_type": "code",
   "execution_count": 22,
   "metadata": {},
   "outputs": [],
   "source": [
    "def client_amount(city_name):\n",
    "    \"\"\"Рассчитывает кол-во клиентов в городах присутствия банка\"\"\"\n",
    "    print(f\"Количество клиентов банка в {city_name}: {df[df['city']==city_name]['user_id'].count()}\")"
   ]
  },
  {
   "cell_type": "code",
   "execution_count": 23,
   "metadata": {},
   "outputs": [
    {
     "name": "stdout",
     "output_type": "stream",
     "text": [
      "Количество клиентов банка в Ярославль: 5014\n",
      "Количество клиентов банка в Рыбинск: 2477\n",
      "Количество клиентов банка в Ростов Великий: 2509\n"
     ]
    }
   ],
   "source": [
    "for name in df['city'].unique().tolist():\n",
    "    client_amount(name)"
   ]
  },
  {
   "cell_type": "code",
   "execution_count": 24,
   "metadata": {},
   "outputs": [
    {
     "data": {
      "text/plain": [
       "6.077361563517916"
      ]
     },
     "execution_count": 24,
     "metadata": {},
     "output_type": "execute_result"
    }
   ],
   "source": [
    "186575/30700"
   ]
  },
  {
   "cell_type": "markdown",
   "metadata": {},
   "source": [
    "Больше всего клиентов у \"Метанпромбанка\" в Ярославле -- это логично, в Ярославле самое большое население по области (609828 чел.) Население Рыбинска (186575 чел.), население Ростова Великого (30700)\n",
    "Кол-во клиентов в Рыбинске и Ростове почти одинаковое: 2477 и 2509, соответственно, при том что в Ростове население в 6 раз меньше чем в Рыбинске.   \n",
    "**Ростов Великий это 1/4 всех клиентов банка с уровнем оттока почти в два раза выше чем в других городах Ярославской области**"
   ]
  },
  {
   "cell_type": "markdown",
   "metadata": {},
   "source": [
    "[2. Статистика по Ярославской области](#ref_2)"
   ]
  },
  {
   "cell_type": "code",
   "execution_count": 25,
   "metadata": {},
   "outputs": [
    {
     "name": "stdout",
     "output_type": "stream",
     "text": [
      "Количество клиентов женского пола: 45.43\n",
      "Количество клиентов мужского пола: 54.56999999999999\n"
     ]
    }
   ],
   "source": [
    "print('Количество клиентов женского пола: {}'.format((df[df['gender']==\"Ж\"]['user_id'].count()/df.shape[0])*100))\n",
    "print('Количество клиентов мужского пола: {}'.format((df[df['gender']==\"М\"]['user_id'].count()/df.shape[0])*100))\n"
   ]
  },
  {
   "cell_type": "code",
   "execution_count": 26,
   "metadata": {},
   "outputs": [],
   "source": [
    "#print(grafoman.__doc__)"
   ]
  },
  {
   "cell_type": "code",
   "execution_count": 27,
   "metadata": {},
   "outputs": [
    {
     "data": {
      "image/png": "[encoded data removed]",
      "text/plain": [
       "<Figure size 617.15x216 with 1 Axes>"
      ]
     },
     "metadata": {
      "needs_background": "light"
     },
     "output_type": "display_data"
    }
   ],
   "source": [
    "df_num_products = df.groupby(['num_of_products','gender'])['churn'].agg(['count','mean']).reset_index()\n",
    "grafoman(df_num_products, 'bar', 'num_of_products', 'mean', 'gender', 0, \\\n",
    "         'Зависимость оттока от кол-ва\\n используемых продуктов',\\\n",
    "         'Кол-во продуктов', 'Отток (доли)', 3, False)"
   ]
  },
  {
   "cell_type": "code",
   "execution_count": 28,
   "metadata": {},
   "outputs": [
    {
     "data": {
      "text/html": [
       "<div>\n",
       "<style scoped>\n",
       "    .dataframe tbody tr th:only-of-type {\n",
       "        vertical-align: middle;\n",
       "    }\n",
       "\n",
       "    .dataframe tbody tr th {\n",
       "        vertical-align: top;\n",
       "    }\n",
       "\n",
       "    .dataframe thead th {\n",
       "        text-align: right;\n",
       "    }\n",
       "</style>\n",
       "<table border=\"1\" class=\"dataframe\">\n",
       "  <thead>\n",
       "    <tr style=\"text-align: right;\">\n",
       "      <th></th>\n",
       "      <th>num_of_products</th>\n",
       "      <th>gender</th>\n",
       "      <th>count</th>\n",
       "      <th>mean</th>\n",
       "    </tr>\n",
       "  </thead>\n",
       "  <tbody>\n",
       "    <tr>\n",
       "      <th>0</th>\n",
       "      <td>1</td>\n",
       "      <td>Ж</td>\n",
       "      <td>2296</td>\n",
       "      <td>0.331882</td>\n",
       "    </tr>\n",
       "    <tr>\n",
       "      <th>1</th>\n",
       "      <td>1</td>\n",
       "      <td>М</td>\n",
       "      <td>2788</td>\n",
       "      <td>0.232066</td>\n",
       "    </tr>\n",
       "    <tr>\n",
       "      <th>2</th>\n",
       "      <td>2</td>\n",
       "      <td>Ж</td>\n",
       "      <td>2060</td>\n",
       "      <td>0.101942</td>\n",
       "    </tr>\n",
       "    <tr>\n",
       "      <th>3</th>\n",
       "      <td>2</td>\n",
       "      <td>М</td>\n",
       "      <td>2530</td>\n",
       "      <td>0.054545</td>\n",
       "    </tr>\n",
       "    <tr>\n",
       "      <th>4</th>\n",
       "      <td>3</td>\n",
       "      <td>Ж</td>\n",
       "      <td>149</td>\n",
       "      <td>0.865772</td>\n",
       "    </tr>\n",
       "    <tr>\n",
       "      <th>5</th>\n",
       "      <td>3</td>\n",
       "      <td>М</td>\n",
       "      <td>117</td>\n",
       "      <td>0.777778</td>\n",
       "    </tr>\n",
       "    <tr>\n",
       "      <th>6</th>\n",
       "      <td>4</td>\n",
       "      <td>Ж</td>\n",
       "      <td>38</td>\n",
       "      <td>1.000000</td>\n",
       "    </tr>\n",
       "    <tr>\n",
       "      <th>7</th>\n",
       "      <td>4</td>\n",
       "      <td>М</td>\n",
       "      <td>22</td>\n",
       "      <td>1.000000</td>\n",
       "    </tr>\n",
       "  </tbody>\n",
       "</table>\n",
       "</div>"
      ],
      "text/plain": [
       "   num_of_products gender  count      mean\n",
       "0  1                Ж      2296   0.331882\n",
       "1  1                М      2788   0.232066\n",
       "2  2                Ж      2060   0.101942\n",
       "3  2                М      2530   0.054545\n",
       "4  3                Ж      149    0.865772\n",
       "5  3                М      117    0.777778\n",
       "6  4                Ж      38     1.000000\n",
       "7  4                М      22     1.000000"
      ]
     },
     "execution_count": 28,
     "metadata": {},
     "output_type": "execute_result"
    }
   ],
   "source": [
    "df_num_products"
   ]
  },
  {
   "cell_type": "markdown",
   "metadata": {},
   "source": [
    "Количество продуктов у клиента важный параметр, влияющий на отток,\n",
    "причем нужно рассматривать клиентов у которых 1 или 2 банковских продукта. Доля тех у кого 3 и 4 продукта небольшая"
   ]
  },
  {
   "cell_type": "markdown",
   "metadata": {},
   "source": [
    "Разделим клиентов по уровню баланса \n"
   ]
  },
  {
   "cell_type": "code",
   "execution_count": 29,
   "metadata": {},
   "outputs": [],
   "source": [
    "df['balance_cat'] = pd.cut(df['balance'], bins=np.linspace(0, 251000, 20))"
   ]
  },
  {
   "cell_type": "markdown",
   "metadata": {},
   "source": [
    "[3. Использование фун-ций `pd.cut()` и `np.linspace()`](#ref_3)"
   ]
  },
  {
   "cell_type": "code",
   "execution_count": 30,
   "metadata": {},
   "outputs": [
    {
     "data": {
      "text/html": [
       "<div>\n",
       "<style scoped>\n",
       "    .dataframe tbody tr th:only-of-type {\n",
       "        vertical-align: middle;\n",
       "    }\n",
       "\n",
       "    .dataframe tbody tr th {\n",
       "        vertical-align: top;\n",
       "    }\n",
       "\n",
       "    .dataframe thead th {\n",
       "        text-align: right;\n",
       "    }\n",
       "</style>\n",
       "<table border=\"1\" class=\"dataframe\">\n",
       "  <thead>\n",
       "    <tr style=\"text-align: right;\">\n",
       "      <th></th>\n",
       "      <th>user_id</th>\n",
       "      <th>score</th>\n",
       "      <th>city</th>\n",
       "      <th>gender</th>\n",
       "      <th>age</th>\n",
       "      <th>num_of_objects</th>\n",
       "      <th>balance</th>\n",
       "      <th>num_of_products</th>\n",
       "      <th>credit_card</th>\n",
       "      <th>is_active</th>\n",
       "      <th>salary</th>\n",
       "      <th>churn</th>\n",
       "      <th>balance_cat</th>\n",
       "    </tr>\n",
       "  </thead>\n",
       "  <tbody>\n",
       "    <tr>\n",
       "      <th>0</th>\n",
       "      <td>15677338</td>\n",
       "      <td>619</td>\n",
       "      <td>Ярославль</td>\n",
       "      <td>Ж</td>\n",
       "      <td>42</td>\n",
       "      <td>2</td>\n",
       "      <td>0.00</td>\n",
       "      <td>1</td>\n",
       "      <td>1</td>\n",
       "      <td>1</td>\n",
       "      <td>101348.88</td>\n",
       "      <td>1</td>\n",
       "      <td>NaN</td>\n",
       "    </tr>\n",
       "    <tr>\n",
       "      <th>1</th>\n",
       "      <td>15690047</td>\n",
       "      <td>608</td>\n",
       "      <td>Рыбинск</td>\n",
       "      <td>Ж</td>\n",
       "      <td>41</td>\n",
       "      <td>1</td>\n",
       "      <td>83807.86</td>\n",
       "      <td>1</td>\n",
       "      <td>0</td>\n",
       "      <td>1</td>\n",
       "      <td>112542.58</td>\n",
       "      <td>0</td>\n",
       "      <td>(79263.158, 92473.684]</td>\n",
       "    </tr>\n",
       "    <tr>\n",
       "      <th>2</th>\n",
       "      <td>15662040</td>\n",
       "      <td>502</td>\n",
       "      <td>Ярославль</td>\n",
       "      <td>Ж</td>\n",
       "      <td>42</td>\n",
       "      <td>8</td>\n",
       "      <td>159660.80</td>\n",
       "      <td>3</td>\n",
       "      <td>1</td>\n",
       "      <td>0</td>\n",
       "      <td>113931.57</td>\n",
       "      <td>1</td>\n",
       "      <td>(158526.316, 171736.842]</td>\n",
       "    </tr>\n",
       "    <tr>\n",
       "      <th>3</th>\n",
       "      <td>15744090</td>\n",
       "      <td>699</td>\n",
       "      <td>Ярославль</td>\n",
       "      <td>Ж</td>\n",
       "      <td>39</td>\n",
       "      <td>1</td>\n",
       "      <td>0.00</td>\n",
       "      <td>2</td>\n",
       "      <td>0</td>\n",
       "      <td>0</td>\n",
       "      <td>93826.63</td>\n",
       "      <td>0</td>\n",
       "      <td>NaN</td>\n",
       "    </tr>\n",
       "    <tr>\n",
       "      <th>4</th>\n",
       "      <td>15780624</td>\n",
       "      <td>850</td>\n",
       "      <td>Рыбинск</td>\n",
       "      <td>Ж</td>\n",
       "      <td>43</td>\n",
       "      <td>2</td>\n",
       "      <td>125510.82</td>\n",
       "      <td>1</td>\n",
       "      <td>1</td>\n",
       "      <td>1</td>\n",
       "      <td>79084.10</td>\n",
       "      <td>0</td>\n",
       "      <td>(118894.737, 132105.263]</td>\n",
       "    </tr>\n",
       "  </tbody>\n",
       "</table>\n",
       "</div>"
      ],
      "text/plain": [
       "    user_id  score       city gender  age  num_of_objects    balance  \\\n",
       "0  15677338  619    Ярославль  Ж      42   2               0.00        \n",
       "1  15690047  608    Рыбинск    Ж      41   1               83807.86    \n",
       "2  15662040  502    Ярославль  Ж      42   8               159660.80   \n",
       "3  15744090  699    Ярославль  Ж      39   1               0.00        \n",
       "4  15780624  850    Рыбинск    Ж      43   2               125510.82   \n",
       "\n",
       "   num_of_products  credit_card  is_active     salary  churn  \\\n",
       "0  1                1            1          101348.88  1       \n",
       "1  1                0            1          112542.58  0       \n",
       "2  3                1            0          113931.57  1       \n",
       "3  2                0            0          93826.63   0       \n",
       "4  1                1            1          79084.10   0       \n",
       "\n",
       "                balance_cat  \n",
       "0  NaN                       \n",
       "1  (79263.158, 92473.684]    \n",
       "2  (158526.316, 171736.842]  \n",
       "3  NaN                       \n",
       "4  (118894.737, 132105.263]  "
      ]
     },
     "execution_count": 30,
     "metadata": {},
     "output_type": "execute_result"
    }
   ],
   "source": [
    "df.head()"
   ]
  },
  {
   "cell_type": "code",
   "execution_count": 31,
   "metadata": {},
   "outputs": [],
   "source": [
    "df_balance = df.groupby(['balance_cat','gender'])['churn'].mean().reset_index()#.plot(rot=60, figsize=(15, 7));"
   ]
  },
  {
   "cell_type": "code",
   "execution_count": 32,
   "metadata": {},
   "outputs": [
    {
     "data": {
      "image/png": "[encoded data removed]",
      "text/plain": [
       "<Figure size 617.15x216 with 1 Axes>"
      ]
     },
     "metadata": {
      "needs_background": "light"
     },
     "output_type": "display_data"
    }
   ],
   "source": [
    "grafoman(df_balance, 'bar', 'balance_cat', 'churn', 'gender', 90, \\\n",
    "         'Зависимость оттока от баланса',\\\n",
    "         'Баланс', 'Отток (доли)', 4, False)"
   ]
  },
  {
   "cell_type": "markdown",
   "metadata": {},
   "source": [
    "Отток клиентов расчет с увеличением баланса на счете"
   ]
  },
  {
   "cell_type": "code",
   "execution_count": 33,
   "metadata": {},
   "outputs": [],
   "source": [
    "df['age_cat'] = pd.cut(df['age'], bins=np.linspace(17, 92, 10))"
   ]
  },
  {
   "cell_type": "code",
   "execution_count": 34,
   "metadata": {},
   "outputs": [],
   "source": [
    "df_age = df.groupby(['age_cat','gender'])['churn'].mean().reset_index()#.plot(rot=60, figsize=(15, 7));"
   ]
  },
  {
   "cell_type": "code",
   "execution_count": 35,
   "metadata": {},
   "outputs": [
    {
     "data": {
      "image/png": "[encoded data removed]",
      "text/plain": [
       "<Figure size 617.15x216 with 1 Axes>"
      ]
     },
     "metadata": {
      "needs_background": "light"
     },
     "output_type": "display_data"
    }
   ],
   "source": [
    "grafoman(df_age, 'bar', 'age_cat', 'churn', 'gender', 90, \\\n",
    "         'Зависимость оттока от возраста',\\\n",
    "         'возраст', 'Отток (доли)', 5, False)"
   ]
  },
  {
   "cell_type": "code",
   "execution_count": 36,
   "metadata": {},
   "outputs": [],
   "source": [
    "df['salary_cat'] = pd.cut(df['salary'], bins=np.linspace(0, 200000, 10))\n",
    "df_salary = df.groupby(['salary_cat','gender'])['churn'].mean().reset_index()"
   ]
  },
  {
   "cell_type": "code",
   "execution_count": 37,
   "metadata": {},
   "outputs": [
    {
     "data": {
      "image/png": "[encoded data removed]",
      "text/plain": [
       "<Figure size 617.15x216 with 1 Axes>"
      ]
     },
     "metadata": {
      "needs_background": "light"
     },
     "output_type": "display_data"
    }
   ],
   "source": [
    "grafoman(df_salary, 'bar', 'salary_cat', 'churn', 'gender', 90, \\\n",
    "         'Зависимость оттока от оценочной з/п',\\\n",
    "         'з/п', 'Отток (доли)', 6, False)"
   ]
  },
  {
   "cell_type": "code",
   "execution_count": 38,
   "metadata": {},
   "outputs": [],
   "source": [
    "df['score_cat'] = pd.cut(df['score'], bins=np.linspace(350, 850, 10))\n",
    "df_score = df.groupby(['score_cat','gender'])['churn'].mean().reset_index()"
   ]
  },
  {
   "cell_type": "code",
   "execution_count": 39,
   "metadata": {},
   "outputs": [
    {
     "data": {
      "image/png": "[encoded data removed]",
      "text/plain": [
       "<Figure size 617.15x216 with 1 Axes>"
      ]
     },
     "metadata": {
      "needs_background": "light"
     },
     "output_type": "display_data"
    }
   ],
   "source": [
    "grafoman(df_score, 'bar', 'score_cat', 'churn', 'gender', 90, \\\n",
    "         'Зависимость оттока от кредитного рейтинга',\\\n",
    "         'рейтинг', 'Отток (доли)', 7, False)"
   ]
  },
  {
   "cell_type": "markdown",
   "metadata": {},
   "source": [
    "**Посмотрим как влияет на отток наличие/отсутствие кредитной карты и активность клиента**"
   ]
  },
  {
   "cell_type": "code",
   "execution_count": 40,
   "metadata": {},
   "outputs": [
    {
     "data": {
      "text/plain": [
       "credit_card\n",
       "0    0.208149\n",
       "1    0.201843\n",
       "Name: churn, dtype: float64"
      ]
     },
     "execution_count": 40,
     "metadata": {},
     "output_type": "execute_result"
    }
   ],
   "source": [
    "df.groupby(['credit_card'])['churn'].mean()"
   ]
  },
  {
   "cell_type": "code",
   "execution_count": 41,
   "metadata": {},
   "outputs": [
    {
     "data": {
      "text/plain": [
       "is_active\n",
       "0    0.268509\n",
       "1    0.142691\n",
       "Name: churn, dtype: float64"
      ]
     },
     "execution_count": 41,
     "metadata": {},
     "output_type": "execute_result"
    }
   ],
   "source": [
    "df.groupby(['is_active'])['churn'].mean()"
   ]
  },
  {
   "cell_type": "markdown",
   "metadata": {},
   "source": [
    "* наличие/отсутствие кредитной карты не влияет на отток\n",
    "* уровень оттока активных клиентов почти в два раза ниже чем неактивных"
   ]
  },
  {
   "cell_type": "markdown",
   "metadata": {},
   "source": [
    "**Построим матрицу корреляций числовых признаков**"
   ]
  },
  {
   "cell_type": "code",
   "execution_count": 42,
   "metadata": {},
   "outputs": [
    {
     "data": {
      "image/png": "[encoded data removed]",
      "text/plain": [
       "<Figure size 1008x504 with 2 Axes>"
      ]
     },
     "metadata": {
      "needs_background": "light"
     },
     "output_type": "display_data"
    }
   ],
   "source": [
    "corr = df.corr()\n",
    "f, ax = plt.subplots(figsize=(14, 7))\n",
    "ax = sns.heatmap(corr, xticklabels=corr.columns, yticklabels=corr.columns, annot=True);"
   ]
  },
  {
   "cell_type": "markdown",
   "metadata": {},
   "source": [
    "По матрице корреляций самые важные признаки, влияющие на отток:\n",
    "  * возраст\n",
    "  * баланс\n",
    "  * активность клиента  \n",
    "Количество используемых продуктов банка показывает слабую корреляцию с оттоком, хотя выше было показано что это не так."
   ]
  },
  {
   "cell_type": "markdown",
   "metadata": {},
   "source": [
    "<a id='stat'>"
   ]
  },
  {
   "cell_type": "markdown",
   "metadata": {},
   "source": [
    "### 3. Статистические гипотезы"
   ]
  },
  {
   "cell_type": "markdown",
   "metadata": {},
   "source": [
    "**Выделение портретов клиентов, склонных к уходу из банка**\n",
    "* Сегментировать пользователей на основании результатов EDA (выделение портретов склонных к уходу из банка)\n",
    "* Сформулировать и проверить статистические гипотезы о равенстве средних значений:\n",
    "     * Оттока у клиентов которые пользуются одним и двумя банковскими продуктами\n",
    "     * Оттока у клиентов с одним и двумя объектами в собственности\n",
    "     * Уровня зарплаты у тех, кто остался и тех, кто ушел"
   ]
  },
  {
   "cell_type": "code",
   "execution_count": 43,
   "metadata": {},
   "outputs": [],
   "source": [
    "# Функция для проверки p-value\n",
    "def ttest_independent(df1, df2):\n",
    "    \"\"\"Фун-ция для проверки стат.гипотез (t-test Стьюдента)\"\"\"\n",
    "    alpha = 0.05\n",
    "    results = st.ttest_ind(df1, df2)\n",
    "    if results.pvalue < alpha:\n",
    "        print(\"Отвергаем нулевую гипотезу, p-value:\", results.pvalue)\n",
    "    else:\n",
    "        print(\"Не получилось отвергнуть нулевую гипотезу,  p-value:\", results.pvalue)"
   ]
  },
  {
   "cell_type": "code",
   "execution_count": 44,
   "metadata": {},
   "outputs": [],
   "source": [
    "def mw_test(df1, df2):\n",
    "    \"\"\"Фун-ция для проверки стат.гипотез (критерий Манна-Уитни)\"\"\"\n",
    "    alpha = 0.05\n",
    "    results = st.mannwhitneyu(df1, df2)\n",
    "    if results.pvalue < alpha:\n",
    "        print(\"Отвергаем нулевую гипотезу, p-value:\", results.pvalue)\n",
    "    else:\n",
    "        print(\"Не получилось отвергнуть нулевую гипотезу,  p-value:\", results.pvalue)"
   ]
  },
  {
   "cell_type": "code",
   "execution_count": 45,
   "metadata": {},
   "outputs": [],
   "source": [
    "\n",
    "def full_test(df1, df2):\n",
    "    \"\"\"Фун-ция для проверки распределения на нормальность и выбора критерия\n",
    "       в зависимости от результата: нормальное распределение - t-test Стьюдента\n",
    "       ненормальное - критерий Манна-Уитни\n",
    "    \"\"\"\n",
    "    alpha = 0.05\n",
    "    sh_test_result_df1 = st.shapiro(df1)\n",
    "    sh_test_result_df2 = st.shapiro(df2)\n",
    "    if sh_test_result_df1[1] < alpha or sh_test_result_df2[1] < alpha:\n",
    "        print(f'По результатам теста Шапиро-Уилка, p-value={sh_test_result_df1[1]} распределение не нормальное\\n используем критерий Манна-Уитни')\n",
    "        print(\"=\"*80)\n",
    "        mw_test(df1, df2)\n",
    "    else:\n",
    "        print(f'Распределение нормальное, используем t-test')\n",
    "        ttest_independent(df1, df2)"
   ]
  },
  {
   "cell_type": "markdown",
   "metadata": {},
   "source": [
    "**Отток у клиентов которые пользуются одним и двумя банковскими продуктами**\n",
    ">`AC - average churn`\n",
    "\n",
    ">**H0: `AC(num_of_products==1) = AC(num_of_products==2)`**"
   ]
  },
  {
   "cell_type": "code",
   "execution_count": 46,
   "metadata": {},
   "outputs": [
    {
     "name": "stdout",
     "output_type": "stream",
     "text": [
      "По результатам теста Шапиро-Уилка, p-value=0.0 распределение не нормальное\n",
      " используем критерий Манна-Уитни\n",
      "================================================================================\n",
      "Отвергаем нулевую гипотезу, p-value: 2.3223711627553688e-145\n"
     ]
    }
   ],
   "source": [
    "df_1_prod = df[df['num_of_products']==1]['churn']\n",
    "df_2_prod = df[df['num_of_products']==2]['churn']\n",
    "\n",
    "full_test(df_1_prod, df_2_prod)"
   ]
  },
  {
   "cell_type": "markdown",
   "metadata": {},
   "source": [
    "**Уверенно отвергаем нулевую гипотезу, уровень оттока у клиентов с 1 и 2 продуктами значимо различается**"
   ]
  },
  {
   "cell_type": "markdown",
   "metadata": {},
   "source": [
    "-----------------------------------------\n",
    "**Отток у клиентов с одним и двумя объектами в собственности**\n",
    "\n",
    ">**H0: `AC(num_of_objects==1) = AC(num_of_objects==2)`**"
   ]
  },
  {
   "cell_type": "code",
   "execution_count": 47,
   "metadata": {},
   "outputs": [
    {
     "name": "stdout",
     "output_type": "stream",
     "text": [
      "По результатам теста Шапиро-Уилка, p-value=0.0 распределение не нормальное\n",
      " используем критерий Манна-Уитни\n",
      "================================================================================\n",
      "Отвергаем нулевую гипотезу, p-value: 0.03443078536038547\n"
     ]
    }
   ],
   "source": [
    "df_1_obj = df[df['num_of_objects']==1]['churn']\n",
    "df_2_obj = df[df['num_of_objects']==2]['churn']\n",
    "\n",
    "full_test(df_1_obj, df_2_obj)"
   ]
  },
  {
   "cell_type": "markdown",
   "metadata": {},
   "source": [
    "**При уровне значимости `alpha = 0.01` мы бы не смогли отвергнуть нулевую гипотезу, будем считать что уровень оттока у клиентов с 1 и 2 объектами в собственности одинаковый**"
   ]
  },
  {
   "cell_type": "markdown",
   "metadata": {},
   "source": [
    "--------------------------------\n",
    "**Уровень зарплаты у тех, кто остался и тех, кто ушел**\n",
    "\n",
    ">`AS - average salary`\n",
    "\n",
    ">**H0: `AS(churn==0) = AC(churn==1)`**"
   ]
  },
  {
   "cell_type": "code",
   "execution_count": 48,
   "metadata": {},
   "outputs": [
    {
     "name": "stdout",
     "output_type": "stream",
     "text": [
      "По результатам теста Шапиро-Уилка, p-value=4.594104044877579e-25 распределение не нормальное\n",
      " используем критерий Манна-Уитни\n",
      "================================================================================\n",
      "Не получилось отвергнуть нулевую гипотезу,  p-value: 0.11352575465076892\n"
     ]
    }
   ],
   "source": [
    "df_salary_churn = df[df['churn']==1]['salary']\n",
    "df_salary_nonchurn = df[df['churn']==0]['salary']\n",
    "\n",
    "full_test(df_salary_churn, df_salary_nonchurn)"
   ]
  },
  {
   "cell_type": "markdown",
   "metadata": {},
   "source": [
    "**Уровень \"оценочной\" зарплаты у тех кто ушел, и тех кто остался одинаковый**"
   ]
  },
  {
   "cell_type": "markdown",
   "metadata": {},
   "source": [
    "**Проверим аналогичные гипотезы о равенстве средних: возраста, кредитного рейтинга,  активности, и баланса у тех кто ушел, и тех кто остался** "
   ]
  },
  {
   "cell_type": "markdown",
   "metadata": {},
   "source": [
    "* age\n",
    "* score\n",
    "* is_active\n",
    "* balancе\n"
   ]
  },
  {
   "cell_type": "code",
   "execution_count": 49,
   "metadata": {},
   "outputs": [
    {
     "name": "stdout",
     "output_type": "stream",
     "text": [
      "По результатам теста Шапиро-Уилка, p-value=0.005956501234322786 распределение не нормальное\n",
      " используем критерий Манна-Уитни\n",
      "================================================================================\n",
      "Отвергаем нулевую гипотезу, p-value: 1.6052007159685838e-230\n"
     ]
    }
   ],
   "source": [
    "df_age_churn = df[df['churn']==1]['age']\n",
    "df_age_nonchurn = df[df['churn']==0]['age']\n",
    "\n",
    "full_test(df_age_churn, df_age_nonchurn)"
   ]
  },
  {
   "cell_type": "markdown",
   "metadata": {},
   "source": [
    "**средний возраст \"отточных\" и \"неотточных\" клиентов значимо различается**"
   ]
  },
  {
   "cell_type": "code",
   "execution_count": 50,
   "metadata": {},
   "outputs": [
    {
     "name": "stdout",
     "output_type": "stream",
     "text": [
      "По результатам теста Шапиро-Уилка, p-value=1.2323278042458696e-07 распределение не нормальное\n",
      " используем критерий Манна-Уитни\n",
      "================================================================================\n",
      "Отвергаем нулевую гипотезу, p-value: 0.00993433058636417\n"
     ]
    }
   ],
   "source": [
    "df_score_churn = df[df['churn']==1]['score']\n",
    "df_score_nonchurn = df[df['churn']==0]['score']\n",
    "\n",
    "full_test(df_score_churn, df_score_nonchurn)"
   ]
  },
  {
   "cell_type": "markdown",
   "metadata": {},
   "source": [
    "**В данном случае `p-value близок к 0,01` и при таком уровне значимости мы бы не смогли отвергнуть нулевую гипотезу  \n",
    "кредитный рейтинг значимо не влияет на отток**"
   ]
  },
  {
   "cell_type": "code",
   "execution_count": 51,
   "metadata": {},
   "outputs": [
    {
     "name": "stdout",
     "output_type": "stream",
     "text": [
      "По результатам теста Шапиро-Уилка, p-value=0.0 распределение не нормальное\n",
      " используем критерий Манна-Уитни\n",
      "================================================================================\n",
      "Отвергаем нулевую гипотезу, p-value: 3.0138152767839447e-55\n"
     ]
    }
   ],
   "source": [
    "df_active_churn = df[df['churn']==1]['is_active']\n",
    "df_active_nonchurn = df[df['churn']==0]['is_active']\n",
    "\n",
    "full_test(df_active_churn, df_active_nonchurn)"
   ]
  },
  {
   "cell_type": "code",
   "execution_count": 52,
   "metadata": {},
   "outputs": [
    {
     "name": "stdout",
     "output_type": "stream",
     "text": [
      "По результатам теста Шапиро-Уилка, p-value=3.2270264114197277e-38 распределение не нормальное\n",
      " используем критерий Манна-Уитни\n",
      "================================================================================\n",
      "Отвергаем нулевую гипотезу, p-value: 5.579199689574611e-29\n"
     ]
    }
   ],
   "source": [
    "df_balance_churn = df[df['churn']==1]['balance']\n",
    "df_balance_nonchurn = df[df['churn']==0]['balance']\n",
    "\n",
    "full_test(df_balance_churn, df_balance_nonchurn)"
   ]
  },
  {
   "cell_type": "markdown",
   "metadata": {},
   "source": [
    "Дополнительно проверим гипотезу о равенстве средних значений оттока у клиентов-мужчин и клиентов-женщин"
   ]
  },
  {
   "cell_type": "code",
   "execution_count": 53,
   "metadata": {},
   "outputs": [
    {
     "name": "stdout",
     "output_type": "stream",
     "text": [
      "Отвергаем нулевую гипотезу, p-value: 8.65189721860455e-27\n"
     ]
    }
   ],
   "source": [
    "df_gender_female = df[df['gender']==\"Ж\"]['churn']\n",
    "df_gender_male = df[df['gender']=='М']['churn']\n",
    "\n",
    "mw_test(df_gender_female, df_gender_male)"
   ]
  },
  {
   "cell_type": "code",
   "execution_count": 54,
   "metadata": {},
   "outputs": [
    {
     "data": {
      "text/html": [
       "<div>\n",
       "<style scoped>\n",
       "    .dataframe tbody tr th:only-of-type {\n",
       "        vertical-align: middle;\n",
       "    }\n",
       "\n",
       "    .dataframe tbody tr th {\n",
       "        vertical-align: top;\n",
       "    }\n",
       "\n",
       "    .dataframe thead th {\n",
       "        text-align: right;\n",
       "    }\n",
       "</style>\n",
       "<table border=\"1\" class=\"dataframe\">\n",
       "  <thead>\n",
       "    <tr style=\"text-align: right;\">\n",
       "      <th></th>\n",
       "      <th>user_id</th>\n",
       "      <th>score</th>\n",
       "      <th>city</th>\n",
       "      <th>gender</th>\n",
       "      <th>age</th>\n",
       "      <th>num_of_objects</th>\n",
       "      <th>balance</th>\n",
       "      <th>num_of_products</th>\n",
       "      <th>credit_card</th>\n",
       "      <th>is_active</th>\n",
       "      <th>salary</th>\n",
       "      <th>churn</th>\n",
       "      <th>balance_cat</th>\n",
       "      <th>age_cat</th>\n",
       "      <th>salary_cat</th>\n",
       "      <th>score_cat</th>\n",
       "    </tr>\n",
       "  </thead>\n",
       "  <tbody>\n",
       "    <tr>\n",
       "      <th>0</th>\n",
       "      <td>15677338</td>\n",
       "      <td>619</td>\n",
       "      <td>Ярославль</td>\n",
       "      <td>Ж</td>\n",
       "      <td>42</td>\n",
       "      <td>2</td>\n",
       "      <td>0.00</td>\n",
       "      <td>1</td>\n",
       "      <td>1</td>\n",
       "      <td>1</td>\n",
       "      <td>101348.88</td>\n",
       "      <td>1</td>\n",
       "      <td>NaN</td>\n",
       "      <td>(33.667, 42.0]</td>\n",
       "      <td>(88888.889, 111111.111]</td>\n",
       "      <td>(572.222, 627.778]</td>\n",
       "    </tr>\n",
       "    <tr>\n",
       "      <th>1</th>\n",
       "      <td>15690047</td>\n",
       "      <td>608</td>\n",
       "      <td>Рыбинск</td>\n",
       "      <td>Ж</td>\n",
       "      <td>41</td>\n",
       "      <td>1</td>\n",
       "      <td>83807.86</td>\n",
       "      <td>1</td>\n",
       "      <td>0</td>\n",
       "      <td>1</td>\n",
       "      <td>112542.58</td>\n",
       "      <td>0</td>\n",
       "      <td>(79263.158, 92473.684]</td>\n",
       "      <td>(33.667, 42.0]</td>\n",
       "      <td>(111111.111, 133333.333]</td>\n",
       "      <td>(572.222, 627.778]</td>\n",
       "    </tr>\n",
       "    <tr>\n",
       "      <th>2</th>\n",
       "      <td>15662040</td>\n",
       "      <td>502</td>\n",
       "      <td>Ярославль</td>\n",
       "      <td>Ж</td>\n",
       "      <td>42</td>\n",
       "      <td>8</td>\n",
       "      <td>159660.80</td>\n",
       "      <td>3</td>\n",
       "      <td>1</td>\n",
       "      <td>0</td>\n",
       "      <td>113931.57</td>\n",
       "      <td>1</td>\n",
       "      <td>(158526.316, 171736.842]</td>\n",
       "      <td>(33.667, 42.0]</td>\n",
       "      <td>(111111.111, 133333.333]</td>\n",
       "      <td>(461.111, 516.667]</td>\n",
       "    </tr>\n",
       "    <tr>\n",
       "      <th>3</th>\n",
       "      <td>15744090</td>\n",
       "      <td>699</td>\n",
       "      <td>Ярославль</td>\n",
       "      <td>Ж</td>\n",
       "      <td>39</td>\n",
       "      <td>1</td>\n",
       "      <td>0.00</td>\n",
       "      <td>2</td>\n",
       "      <td>0</td>\n",
       "      <td>0</td>\n",
       "      <td>93826.63</td>\n",
       "      <td>0</td>\n",
       "      <td>NaN</td>\n",
       "      <td>(33.667, 42.0]</td>\n",
       "      <td>(88888.889, 111111.111]</td>\n",
       "      <td>(683.333, 738.889]</td>\n",
       "    </tr>\n",
       "    <tr>\n",
       "      <th>4</th>\n",
       "      <td>15780624</td>\n",
       "      <td>850</td>\n",
       "      <td>Рыбинск</td>\n",
       "      <td>Ж</td>\n",
       "      <td>43</td>\n",
       "      <td>2</td>\n",
       "      <td>125510.82</td>\n",
       "      <td>1</td>\n",
       "      <td>1</td>\n",
       "      <td>1</td>\n",
       "      <td>79084.10</td>\n",
       "      <td>0</td>\n",
       "      <td>(118894.737, 132105.263]</td>\n",
       "      <td>(42.0, 50.333]</td>\n",
       "      <td>(66666.667, 88888.889]</td>\n",
       "      <td>(794.444, 850.0]</td>\n",
       "    </tr>\n",
       "  </tbody>\n",
       "</table>\n",
       "</div>"
      ],
      "text/plain": [
       "    user_id  score       city gender  age  num_of_objects    balance  \\\n",
       "0  15677338  619    Ярославль  Ж      42   2               0.00        \n",
       "1  15690047  608    Рыбинск    Ж      41   1               83807.86    \n",
       "2  15662040  502    Ярославль  Ж      42   8               159660.80   \n",
       "3  15744090  699    Ярославль  Ж      39   1               0.00        \n",
       "4  15780624  850    Рыбинск    Ж      43   2               125510.82   \n",
       "\n",
       "   num_of_products  credit_card  is_active     salary  churn  \\\n",
       "0  1                1            1          101348.88  1       \n",
       "1  1                0            1          112542.58  0       \n",
       "2  3                1            0          113931.57  1       \n",
       "3  2                0            0          93826.63   0       \n",
       "4  1                1            1          79084.10   0       \n",
       "\n",
       "                balance_cat         age_cat                salary_cat  \\\n",
       "0  NaN                       (33.667, 42.0]  (88888.889, 111111.111]    \n",
       "1  (79263.158, 92473.684]    (33.667, 42.0]  (111111.111, 133333.333]   \n",
       "2  (158526.316, 171736.842]  (33.667, 42.0]  (111111.111, 133333.333]   \n",
       "3  NaN                       (33.667, 42.0]  (88888.889, 111111.111]    \n",
       "4  (118894.737, 132105.263]  (42.0, 50.333]  (66666.667, 88888.889]     \n",
       "\n",
       "            score_cat  \n",
       "0  (572.222, 627.778]  \n",
       "1  (572.222, 627.778]  \n",
       "2  (461.111, 516.667]  \n",
       "3  (683.333, 738.889]  \n",
       "4  (794.444, 850.0]    "
      ]
     },
     "execution_count": 54,
     "metadata": {},
     "output_type": "execute_result"
    }
   ],
   "source": [
    "df.head()"
   ]
  },
  {
   "cell_type": "markdown",
   "metadata": {},
   "source": [
    "**Баланс на счете и активность клиента значимо влияют на отток**\n",
    "<a id='churn_features'>"
   ]
  },
  {
   "cell_type": "markdown",
   "metadata": {},
   "source": [
    ">**Портрет клиента \"Метанпромбанка\" склонного к оттоку:**\n",
    "* Использует только один продукта банка\n",
    "* Возраст 35-65, максимальный уровень оттока у клиентов 50-58 лет\n",
    "* Не активен\n",
    "* На счету либо сравнительно небольшой >50 тыс, либо сравнительно большой < 180 тыс баланс\n",
    "* Женского пола  \n",
    ">Отдельно нужно выделить город Ростов Великий, так как **там 1/4 всех клиентов, и самый большой отток**, возможно в этом отделении банка какие-то проблемы с уровнем обслуживания, либо есть конкурент с более выгодными условиями, что маловероятно, т.к город небольшой ~ 30 тыс. население"
   ]
  },
  {
   "cell_type": "markdown",
   "metadata": {},
   "source": [
    "<a id='ml'>"
   ]
  },
  {
   "cell_type": "markdown",
   "metadata": {},
   "source": [
    "### 5. Машинное обучение"
   ]
  },
  {
   "cell_type": "code",
   "execution_count": 55,
   "metadata": {},
   "outputs": [
    {
     "data": {
      "text/html": [
       "<div>\n",
       "<style scoped>\n",
       "    .dataframe tbody tr th:only-of-type {\n",
       "        vertical-align: middle;\n",
       "    }\n",
       "\n",
       "    .dataframe tbody tr th {\n",
       "        vertical-align: top;\n",
       "    }\n",
       "\n",
       "    .dataframe thead th {\n",
       "        text-align: right;\n",
       "    }\n",
       "</style>\n",
       "<table border=\"1\" class=\"dataframe\">\n",
       "  <thead>\n",
       "    <tr style=\"text-align: right;\">\n",
       "      <th></th>\n",
       "      <th>user_id</th>\n",
       "      <th>score</th>\n",
       "      <th>city</th>\n",
       "      <th>gender</th>\n",
       "      <th>age</th>\n",
       "      <th>num_of_objects</th>\n",
       "      <th>balance</th>\n",
       "      <th>num_of_products</th>\n",
       "      <th>credit_card</th>\n",
       "      <th>is_active</th>\n",
       "      <th>salary</th>\n",
       "      <th>churn</th>\n",
       "    </tr>\n",
       "  </thead>\n",
       "  <tbody>\n",
       "    <tr>\n",
       "      <th>0</th>\n",
       "      <td>15677338</td>\n",
       "      <td>619</td>\n",
       "      <td>Ярославль</td>\n",
       "      <td>Ж</td>\n",
       "      <td>42</td>\n",
       "      <td>2</td>\n",
       "      <td>0.00</td>\n",
       "      <td>1</td>\n",
       "      <td>1</td>\n",
       "      <td>1</td>\n",
       "      <td>101348.88</td>\n",
       "      <td>1</td>\n",
       "    </tr>\n",
       "    <tr>\n",
       "      <th>1</th>\n",
       "      <td>15690047</td>\n",
       "      <td>608</td>\n",
       "      <td>Рыбинск</td>\n",
       "      <td>Ж</td>\n",
       "      <td>41</td>\n",
       "      <td>1</td>\n",
       "      <td>83807.86</td>\n",
       "      <td>1</td>\n",
       "      <td>0</td>\n",
       "      <td>1</td>\n",
       "      <td>112542.58</td>\n",
       "      <td>0</td>\n",
       "    </tr>\n",
       "    <tr>\n",
       "      <th>2</th>\n",
       "      <td>15662040</td>\n",
       "      <td>502</td>\n",
       "      <td>Ярославль</td>\n",
       "      <td>Ж</td>\n",
       "      <td>42</td>\n",
       "      <td>8</td>\n",
       "      <td>159660.80</td>\n",
       "      <td>3</td>\n",
       "      <td>1</td>\n",
       "      <td>0</td>\n",
       "      <td>113931.57</td>\n",
       "      <td>1</td>\n",
       "    </tr>\n",
       "    <tr>\n",
       "      <th>3</th>\n",
       "      <td>15744090</td>\n",
       "      <td>699</td>\n",
       "      <td>Ярославль</td>\n",
       "      <td>Ж</td>\n",
       "      <td>39</td>\n",
       "      <td>1</td>\n",
       "      <td>0.00</td>\n",
       "      <td>2</td>\n",
       "      <td>0</td>\n",
       "      <td>0</td>\n",
       "      <td>93826.63</td>\n",
       "      <td>0</td>\n",
       "    </tr>\n",
       "    <tr>\n",
       "      <th>4</th>\n",
       "      <td>15780624</td>\n",
       "      <td>850</td>\n",
       "      <td>Рыбинск</td>\n",
       "      <td>Ж</td>\n",
       "      <td>43</td>\n",
       "      <td>2</td>\n",
       "      <td>125510.82</td>\n",
       "      <td>1</td>\n",
       "      <td>1</td>\n",
       "      <td>1</td>\n",
       "      <td>79084.10</td>\n",
       "      <td>0</td>\n",
       "    </tr>\n",
       "  </tbody>\n",
       "</table>\n",
       "</div>"
      ],
      "text/plain": [
       "    user_id  score       city gender  age  num_of_objects    balance  \\\n",
       "0  15677338  619    Ярославль  Ж      42   2               0.00        \n",
       "1  15690047  608    Рыбинск    Ж      41   1               83807.86    \n",
       "2  15662040  502    Ярославль  Ж      42   8               159660.80   \n",
       "3  15744090  699    Ярославль  Ж      39   1               0.00        \n",
       "4  15780624  850    Рыбинск    Ж      43   2               125510.82   \n",
       "\n",
       "   num_of_products  credit_card  is_active     salary  churn  \n",
       "0  1                1            1          101348.88  1      \n",
       "1  1                0            1          112542.58  0      \n",
       "2  3                1            0          113931.57  1      \n",
       "3  2                0            0          93826.63   0      \n",
       "4  1                1            1          79084.10   0      "
      ]
     },
     "execution_count": 55,
     "metadata": {},
     "output_type": "execute_result"
    }
   ],
   "source": [
    "df_ml.head()"
   ]
  },
  {
   "cell_type": "markdown",
   "metadata": {},
   "source": [
    "* Заменим пол на 1 для мужчин и 0 для женщин.\n",
    "* Название городов на `латиницу` \n",
    "* для преобразования (векторизации) названия городов в бинарные признаки применим метод `get_dummies()`"
   ]
  },
  {
   "cell_type": "code",
   "execution_count": 56,
   "metadata": {},
   "outputs": [],
   "source": [
    "def replacer (df, col, old_value, new_value):\n",
    "    \"\"\"\n",
    "    Производит замену значений в столбцах\n",
    "    переменные: df, col, old_value, new_value\n",
    "    \"\"\"\n",
    "    for i in col:\n",
    "        df[col] = df[col].replace(old_value, new_value)"
   ]
  },
  {
   "cell_type": "code",
   "execution_count": 57,
   "metadata": {},
   "outputs": [
    {
     "data": {
      "text/plain": [
       "['Ярославль', 'Рыбинск', 'Ростов Великий']"
      ]
     },
     "execution_count": 57,
     "metadata": {},
     "output_type": "execute_result"
    }
   ],
   "source": [
    "df_ml['city'].unique().tolist()"
   ]
  },
  {
   "cell_type": "code",
   "execution_count": 58,
   "metadata": {},
   "outputs": [],
   "source": [
    "# заменим и преобразуем данные\n",
    "replacer(df_ml, 'gender', ['М', 'Ж'], ['1', '0'])\n",
    "df_ml['gender'] = df_ml['gender'].astype('int64')\n",
    "# переименуем города\n",
    "replacer(df_ml, 'city', ['Ярославль', 'Рыбинск', 'Ростов Великий'], ['yaroslavl', 'rybinsk','rostov'])\n",
    "\n",
    "# удалим лишний числовой признак \"user_id\"\n",
    "df_ml.drop(['user_id'], axis=1, inplace=True)\n",
    "\n",
    "# векторизуем города\n",
    "df_ml = pd.get_dummies(df_ml)"
   ]
  },
  {
   "cell_type": "markdown",
   "metadata": {},
   "source": [
    "[4. Использование метода `get_dummies()`](#ref_4) \n"
   ]
  },
  {
   "cell_type": "code",
   "execution_count": 59,
   "metadata": {},
   "outputs": [
    {
     "data": {
      "text/html": [
       "<div>\n",
       "<style scoped>\n",
       "    .dataframe tbody tr th:only-of-type {\n",
       "        vertical-align: middle;\n",
       "    }\n",
       "\n",
       "    .dataframe tbody tr th {\n",
       "        vertical-align: top;\n",
       "    }\n",
       "\n",
       "    .dataframe thead th {\n",
       "        text-align: right;\n",
       "    }\n",
       "</style>\n",
       "<table border=\"1\" class=\"dataframe\">\n",
       "  <thead>\n",
       "    <tr style=\"text-align: right;\">\n",
       "      <th></th>\n",
       "      <th>score</th>\n",
       "      <th>gender</th>\n",
       "      <th>age</th>\n",
       "      <th>num_of_objects</th>\n",
       "      <th>balance</th>\n",
       "      <th>num_of_products</th>\n",
       "      <th>credit_card</th>\n",
       "      <th>is_active</th>\n",
       "      <th>salary</th>\n",
       "      <th>churn</th>\n",
       "      <th>city_rostov</th>\n",
       "      <th>city_rybinsk</th>\n",
       "      <th>city_yaroslavl</th>\n",
       "    </tr>\n",
       "  </thead>\n",
       "  <tbody>\n",
       "    <tr>\n",
       "      <th>0</th>\n",
       "      <td>619</td>\n",
       "      <td>0</td>\n",
       "      <td>42</td>\n",
       "      <td>2</td>\n",
       "      <td>0.00</td>\n",
       "      <td>1</td>\n",
       "      <td>1</td>\n",
       "      <td>1</td>\n",
       "      <td>101348.88</td>\n",
       "      <td>1</td>\n",
       "      <td>0</td>\n",
       "      <td>0</td>\n",
       "      <td>1</td>\n",
       "    </tr>\n",
       "    <tr>\n",
       "      <th>1</th>\n",
       "      <td>608</td>\n",
       "      <td>0</td>\n",
       "      <td>41</td>\n",
       "      <td>1</td>\n",
       "      <td>83807.86</td>\n",
       "      <td>1</td>\n",
       "      <td>0</td>\n",
       "      <td>1</td>\n",
       "      <td>112542.58</td>\n",
       "      <td>0</td>\n",
       "      <td>0</td>\n",
       "      <td>1</td>\n",
       "      <td>0</td>\n",
       "    </tr>\n",
       "    <tr>\n",
       "      <th>2</th>\n",
       "      <td>502</td>\n",
       "      <td>0</td>\n",
       "      <td>42</td>\n",
       "      <td>8</td>\n",
       "      <td>159660.80</td>\n",
       "      <td>3</td>\n",
       "      <td>1</td>\n",
       "      <td>0</td>\n",
       "      <td>113931.57</td>\n",
       "      <td>1</td>\n",
       "      <td>0</td>\n",
       "      <td>0</td>\n",
       "      <td>1</td>\n",
       "    </tr>\n",
       "  </tbody>\n",
       "</table>\n",
       "</div>"
      ],
      "text/plain": [
       "   score  gender  age  num_of_objects    balance  num_of_products  \\\n",
       "0  619    0       42   2               0.00       1                 \n",
       "1  608    0       41   1               83807.86   1                 \n",
       "2  502    0       42   8               159660.80  3                 \n",
       "\n",
       "   credit_card  is_active     salary  churn  city_rostov  city_rybinsk  \\\n",
       "0  1            1          101348.88  1      0            0              \n",
       "1  0            1          112542.58  0      0            1              \n",
       "2  1            0          113931.57  1      0            0              \n",
       "\n",
       "   city_yaroslavl  \n",
       "0  1               \n",
       "1  0               \n",
       "2  1               "
      ]
     },
     "execution_count": 59,
     "metadata": {},
     "output_type": "execute_result"
    }
   ],
   "source": [
    "df_ml.head(3)"
   ]
  },
  {
   "cell_type": "markdown",
   "metadata": {},
   "source": [
    "**Разделяем признаки и целевую переменную**"
   ]
  },
  {
   "cell_type": "code",
   "execution_count": 60,
   "metadata": {},
   "outputs": [],
   "source": [
    "# X - признаки\n",
    "features = df_ml.drop(['churn'], axis=1)\n",
    "# y - целевая переменная\n",
    "target = df_ml['churn']"
   ]
  },
  {
   "cell_type": "code",
   "execution_count": 61,
   "metadata": {},
   "outputs": [],
   "source": [
    "# features_train - X_train; features_valid - X_test; target_train - y_train; target_valid - y_test\n",
    "features_train, features_valid, target_train, target_valid = train_test_split(features,target, test_size=0.2, random_state=42)"
   ]
  },
  {
   "cell_type": "code",
   "execution_count": 62,
   "metadata": {},
   "outputs": [],
   "source": [
    "# Обучаем модель логистической регрессии\n",
    "lr_model = LogisticRegression(random_state=42)\n",
    "lr_model.fit(features_train, target_train)\n",
    "pred_valid = lr_model.predict(features_valid)\n",
    "lr_mse = mean_squared_error(target_valid, pred_valid)\n",
    "lr_rmse = math.sqrt(lr_mse)"
   ]
  },
  {
   "cell_type": "code",
   "execution_count": 63,
   "metadata": {},
   "outputs": [
    {
     "name": "stdout",
     "output_type": "stream",
     "text": [
      "Логистическая регрессия\n",
      "=======================\n",
      "RMSE_linear: 0.4455333881989093\n",
      "Accuracy: 0.8015\n",
      "Precision: 0.46774193548387094\n",
      "Recall: 0.0737913486005089\n",
      "F1: 0.12747252747252746\n"
     ]
    }
   ],
   "source": [
    "# выводим метрики \n",
    "print('Логистическая регрессия')\n",
    "print('='*len('Логистическая регрессия'))\n",
    "print('RMSE_linear:', lr_rmse)\n",
    "print('Accuracy:', accuracy_score(target_valid, pred_valid))\n",
    "print('Precision:', precision_score(target_valid, pred_valid))\n",
    "print('Recall:', recall_score(target_valid, pred_valid))\n",
    "print('F1:', f1_score(target_valid, pred_valid))"
   ]
  },
  {
   "cell_type": "code",
   "execution_count": 64,
   "metadata": {
    "scrolled": false
   },
   "outputs": [],
   "source": [
    "# обучаем модель \"случайный лес\"\n",
    "# объявляем пустой список, в который будут записываться метрики\n",
    "rf_metrics = []\n",
    "for estimator in range(5, 100, 10):\n",
    "    for i in range(1,11,1):\n",
    "        rf_model = RandomForestClassifier(n_estimators=estimator, max_depth=i, random_state=42)\n",
    "        rf_model.fit(features_train, target_train)\n",
    "        pred_valid = rf_model.predict(features_valid)\n",
    "        rf_mse = mean_squared_error(target_valid, pred_valid)\n",
    "        rf_rmse = math.sqrt(rf_mse)\n",
    "        # записываем метрики\n",
    "        rf_metrics.append([estimator, i, \n",
    "                              rf_rmse,\n",
    "                              accuracy_score(target_valid, pred_valid),\n",
    "                              precision_score(target_valid, pred_valid),\n",
    "                              recall_score(target_valid, pred_valid),\n",
    "                              f1_score(target_valid, pred_valid)])"
   ]
  },
  {
   "cell_type": "code",
   "execution_count": 65,
   "metadata": {},
   "outputs": [
    {
     "name": "stdout",
     "output_type": "stream",
     "text": [
      "<class 'pandas.core.frame.DataFrame'>\n",
      "RangeIndex: 100 entries, 0 to 99\n",
      "Data columns (total 7 columns):\n",
      "n_estimators    100 non-null int64\n",
      "max_depth       100 non-null int64\n",
      "rmse            100 non-null float64\n",
      "accuracy        100 non-null float64\n",
      "precision       100 non-null float64\n",
      "recall          100 non-null float64\n",
      "f1              100 non-null float64\n",
      "dtypes: float64(5), int64(2)\n",
      "memory usage: 5.5 KB\n"
     ]
    }
   ],
   "source": [
    "# формируем датафрейм из списка \"rf_metrics\"\n",
    "df_rf_metrics = pd.DataFrame(rf_metrics)\n",
    "# переименовываем колонки\n",
    "df_rf_metrics.columns = ['n_estimators', 'max_depth', 'rmse',\n",
    "                         'accuracy', 'precision', 'recall', 'f1']\n",
    "# выводим общую информацию о датафрейме\n",
    "df_rf_metrics.info()"
   ]
  },
  {
   "cell_type": "code",
   "execution_count": 66,
   "metadata": {},
   "outputs": [
    {
     "data": {
      "text/html": [
       "<div>\n",
       "<style scoped>\n",
       "    .dataframe tbody tr th:only-of-type {\n",
       "        vertical-align: middle;\n",
       "    }\n",
       "\n",
       "    .dataframe tbody tr th {\n",
       "        vertical-align: top;\n",
       "    }\n",
       "\n",
       "    .dataframe thead th {\n",
       "        text-align: right;\n",
       "    }\n",
       "</style>\n",
       "<table border=\"1\" class=\"dataframe\">\n",
       "  <thead>\n",
       "    <tr style=\"text-align: right;\">\n",
       "      <th></th>\n",
       "      <th>n_estimators</th>\n",
       "      <th>max_depth</th>\n",
       "      <th>rmse</th>\n",
       "      <th>accuracy</th>\n",
       "      <th>precision</th>\n",
       "      <th>recall</th>\n",
       "      <th>f1</th>\n",
       "    </tr>\n",
       "  </thead>\n",
       "  <tbody>\n",
       "    <tr>\n",
       "      <th>17</th>\n",
       "      <td>15</td>\n",
       "      <td>8</td>\n",
       "      <td>0.366742</td>\n",
       "      <td>0.8655</td>\n",
       "      <td>0.767241</td>\n",
       "      <td>0.452926</td>\n",
       "      <td>0.569600</td>\n",
       "    </tr>\n",
       "    <tr>\n",
       "      <th>49</th>\n",
       "      <td>45</td>\n",
       "      <td>10</td>\n",
       "      <td>0.367423</td>\n",
       "      <td>0.8650</td>\n",
       "      <td>0.766234</td>\n",
       "      <td>0.450382</td>\n",
       "      <td>0.567308</td>\n",
       "    </tr>\n",
       "    <tr>\n",
       "      <th>78</th>\n",
       "      <td>75</td>\n",
       "      <td>9</td>\n",
       "      <td>0.367423</td>\n",
       "      <td>0.8650</td>\n",
       "      <td>0.768559</td>\n",
       "      <td>0.447837</td>\n",
       "      <td>0.565916</td>\n",
       "    </tr>\n",
       "  </tbody>\n",
       "</table>\n",
       "</div>"
      ],
      "text/plain": [
       "    n_estimators  max_depth      rmse  accuracy  precision    recall        f1\n",
       "17  15            8          0.366742  0.8655    0.767241   0.452926  0.569600\n",
       "49  45            10         0.367423  0.8650    0.766234   0.450382  0.567308\n",
       "78  75            9          0.367423  0.8650    0.768559   0.447837  0.565916"
      ]
     },
     "execution_count": 66,
     "metadata": {},
     "output_type": "execute_result"
    }
   ],
   "source": [
    "# выводим 3 модели с наибольшим значеним f1\n",
    "df_rf_metrics.sort_values(by='f1', ascending=False).head(3)"
   ]
  },
  {
   "cell_type": "code",
   "execution_count": 67,
   "metadata": {},
   "outputs": [
    {
     "data": {
      "text/html": [
       "<div>\n",
       "<style scoped>\n",
       "    .dataframe tbody tr th:only-of-type {\n",
       "        vertical-align: middle;\n",
       "    }\n",
       "\n",
       "    .dataframe tbody tr th {\n",
       "        vertical-align: top;\n",
       "    }\n",
       "\n",
       "    .dataframe thead th {\n",
       "        text-align: right;\n",
       "    }\n",
       "</style>\n",
       "<table border=\"1\" class=\"dataframe\">\n",
       "  <thead>\n",
       "    <tr style=\"text-align: right;\">\n",
       "      <th></th>\n",
       "      <th>n_estimators</th>\n",
       "      <th>max_depth</th>\n",
       "      <th>rmse</th>\n",
       "      <th>accuracy</th>\n",
       "      <th>precision</th>\n",
       "      <th>recall</th>\n",
       "      <th>f1</th>\n",
       "    </tr>\n",
       "  </thead>\n",
       "  <tbody>\n",
       "    <tr>\n",
       "      <th>37</th>\n",
       "      <td>35</td>\n",
       "      <td>8</td>\n",
       "      <td>0.366742</td>\n",
       "      <td>0.8655</td>\n",
       "      <td>0.781818</td>\n",
       "      <td>0.437659</td>\n",
       "      <td>0.561175</td>\n",
       "    </tr>\n",
       "    <tr>\n",
       "      <th>27</th>\n",
       "      <td>25</td>\n",
       "      <td>8</td>\n",
       "      <td>0.366742</td>\n",
       "      <td>0.8655</td>\n",
       "      <td>0.774336</td>\n",
       "      <td>0.445293</td>\n",
       "      <td>0.565428</td>\n",
       "    </tr>\n",
       "    <tr>\n",
       "      <th>17</th>\n",
       "      <td>15</td>\n",
       "      <td>8</td>\n",
       "      <td>0.366742</td>\n",
       "      <td>0.8655</td>\n",
       "      <td>0.767241</td>\n",
       "      <td>0.452926</td>\n",
       "      <td>0.569600</td>\n",
       "    </tr>\n",
       "  </tbody>\n",
       "</table>\n",
       "</div>"
      ],
      "text/plain": [
       "    n_estimators  max_depth      rmse  accuracy  precision    recall        f1\n",
       "37  35            8          0.366742  0.8655    0.781818   0.437659  0.561175\n",
       "27  25            8          0.366742  0.8655    0.774336   0.445293  0.565428\n",
       "17  15            8          0.366742  0.8655    0.767241   0.452926  0.569600"
      ]
     },
     "execution_count": 67,
     "metadata": {},
     "output_type": "execute_result"
    }
   ],
   "source": [
    "# выводим 3 модели с наименьшим значеним rmse\n",
    "df_rf_metrics.sort_values(by='rmse', ascending=True).head(3)"
   ]
  },
  {
   "cell_type": "code",
   "execution_count": 68,
   "metadata": {},
   "outputs": [
    {
     "data": {
      "text/html": [
       "<div>\n",
       "<style scoped>\n",
       "    .dataframe tbody tr th:only-of-type {\n",
       "        vertical-align: middle;\n",
       "    }\n",
       "\n",
       "    .dataframe tbody tr th {\n",
       "        vertical-align: top;\n",
       "    }\n",
       "\n",
       "    .dataframe thead th {\n",
       "        text-align: right;\n",
       "    }\n",
       "</style>\n",
       "<table border=\"1\" class=\"dataframe\">\n",
       "  <thead>\n",
       "    <tr style=\"text-align: right;\">\n",
       "      <th></th>\n",
       "      <th>n_estimators</th>\n",
       "      <th>max_depth</th>\n",
       "      <th>rmse</th>\n",
       "      <th>accuracy</th>\n",
       "      <th>precision</th>\n",
       "      <th>recall</th>\n",
       "      <th>f1</th>\n",
       "    </tr>\n",
       "  </thead>\n",
       "  <tbody>\n",
       "    <tr>\n",
       "      <th>17</th>\n",
       "      <td>15</td>\n",
       "      <td>8</td>\n",
       "      <td>0.366742</td>\n",
       "      <td>0.8655</td>\n",
       "      <td>0.767241</td>\n",
       "      <td>0.452926</td>\n",
       "      <td>0.5696</td>\n",
       "    </tr>\n",
       "  </tbody>\n",
       "</table>\n",
       "</div>"
      ],
      "text/plain": [
       "    n_estimators  max_depth      rmse  accuracy  precision    recall      f1\n",
       "17  15            8          0.366742  0.8655    0.767241   0.452926  0.5696"
      ]
     },
     "execution_count": 68,
     "metadata": {},
     "output_type": "execute_result"
    }
   ],
   "source": [
    "# выведем модели по условию минимального rmse и максимального f1\n",
    "rmse_min = df_rf_metrics['rmse'].min()\n",
    "f1_max = df_rf_metrics['f1'].max()\n",
    "df_rf_metrics.query('rmse==@rmse_min and f1==@f1_max')"
   ]
  },
  {
   "cell_type": "markdown",
   "metadata": {},
   "source": [
    "**Посмотрим какие гиперпараметры будут получены при кросс-валидации**  \n",
    "С помощью `GridSearchCV`"
   ]
  },
  {
   "cell_type": "markdown",
   "metadata": {},
   "source": [
    "[5. Использование `GridSearchCV` для нахождения оптимальных параметров](#ref_5)"
   ]
  },
  {
   "cell_type": "code",
   "execution_count": 69,
   "metadata": {},
   "outputs": [],
   "source": [
    "from sklearn.model_selection import GridSearchCV, cross_val_score\n",
    "\n",
    "forest = RandomForestClassifier(n_estimators=100, random_state=42)\n",
    "\n",
    "forest_params = {'max_depth':range(1,11), 'n_estimators':[5, 15, 25, 35, 45, 65]}\n",
    "scoring={'F1':'f1', 'MSE':make_scorer(mean_squared_error)}\n",
    "\n",
    "forest_grid = GridSearchCV(forest, forest_params, cv=5, verbose=True,\\\n",
    "                           scoring=scoring,\\\n",
    "                           refit='F1')"
   ]
  },
  {
   "cell_type": "code",
   "execution_count": 71,
   "metadata": {},
   "outputs": [
    {
     "name": "stdout",
     "output_type": "stream",
     "text": [
      "Fitting 5 folds for each of 60 candidates, totalling 300 fits\n"
     ]
    },
    {
     "name": "stderr",
     "output_type": "stream",
     "text": [
      "[Parallel(n_jobs=1)]: Using backend SequentialBackend with 1 concurrent workers.\n",
      "[Parallel(n_jobs=1)]: Done 300 out of 300 | elapsed:  1.2min finished\n"
     ]
    },
    {
     "data": {
      "text/plain": [
       "GridSearchCV(cv=5, error_score='raise-deprecating',\n",
       "             estimator=RandomForestClassifier(bootstrap=True, class_weight=None,\n",
       "                                              criterion='gini', max_depth=None,\n",
       "                                              max_features='auto',\n",
       "                                              max_leaf_nodes=None,\n",
       "                                              min_impurity_decrease=0.0,\n",
       "                                              min_impurity_split=None,\n",
       "                                              min_samples_leaf=1,\n",
       "                                              min_samples_split=2,\n",
       "                                              min_weight_fraction_leaf=0.0,\n",
       "                                              n_estimators=100, n_jobs=None,\n",
       "                                              oob_score=False, random_state=42,\n",
       "                                              verbose=0, warm_start=False),\n",
       "             iid='warn', n_jobs=None,\n",
       "             param_grid={'max_depth': range(1, 11),\n",
       "                         'n_estimators': [5, 15, 25, 35, 45, 65]},\n",
       "             pre_dispatch='2*n_jobs', refit='F1', return_train_score=False,\n",
       "             scoring={'F1': 'f1', 'MSE': make_scorer(mean_squared_error)},\n",
       "             verbose=True)"
      ]
     },
     "execution_count": 71,
     "metadata": {},
     "output_type": "execute_result"
    }
   ],
   "source": [
    "forest_grid.fit(features_train, target_train)"
   ]
  },
  {
   "cell_type": "code",
   "execution_count": 72,
   "metadata": {},
   "outputs": [
    {
     "data": {
      "text/plain": [
       "({'max_depth': 10, 'n_estimators': 35}, 0.5670259742231841)"
      ]
     },
     "execution_count": 72,
     "metadata": {},
     "output_type": "execute_result"
    }
   ],
   "source": [
    "forest_grid.best_params_,forest_grid.best_score_"
   ]
  },
  {
   "cell_type": "markdown",
   "metadata": {},
   "source": [
    ">**Лучше всего модель \"случайный лес\"\n",
    "со следующими гиперпараметрами**:\n",
    ">\n",
    "* **n_estimators = 15**\n",
    "* **max_depth = 8**\n"
   ]
  },
  {
   "cell_type": "markdown",
   "metadata": {},
   "source": [
    "**Проведем кластеризацию пользователей с помощью алгоритма `K-Means`**"
   ]
  },
  {
   "cell_type": "code",
   "execution_count": 73,
   "metadata": {},
   "outputs": [],
   "source": [
    "# стандартизаруем данные, удаляем столбец с целевой переменной\n",
    "sc = StandardScaler()\n",
    "data=df_ml.drop('churn', axis=1)\n",
    "x_sc=sc.fit_transform(data)"
   ]
  },
  {
   "cell_type": "code",
   "execution_count": 74,
   "metadata": {},
   "outputs": [
    {
     "data": {
      "image/png": "[encoded data removed]",
      "text/plain": [
       "<Figure size 864x720 with 1 Axes>"
      ]
     },
     "metadata": {
      "needs_background": "light"
     },
     "output_type": "display_data"
    }
   ],
   "source": [
    "# строим дендрограмму \n",
    "plt.figure(figsize=(12,10))\n",
    "linked = linkage(x_sc, method='ward')\n",
    "dendrogram(linked, orientation='top')\n",
    "plt.title('Дендрограмма иерархической кластеризации клиентов банка')\n",
    "plt.show()"
   ]
  },
  {
   "cell_type": "markdown",
   "metadata": {},
   "source": [
    "**Выделяем по цвету 3 кластера клиентов**"
   ]
  },
  {
   "cell_type": "code",
   "execution_count": 75,
   "metadata": {},
   "outputs": [],
   "source": [
    "# стандартизируем данные, обучаем модель\n",
    "sc_km = StandardScaler()\n",
    "x_sc_km = sc_km.fit_transform(df_ml)\n",
    "# строим прогноз\n",
    "km = KMeans(n_clusters=3, random_state=42)\n",
    "labels = km.fit_predict(x_sc_km)\n",
    "# добавляем столбец с кластерами и группируем по кластерам, находим среднее\n",
    "df_ml['cluster_km'] = labels\n",
    "clusters_grouped = df_ml.groupby('cluster_km').mean()"
   ]
  },
  {
   "cell_type": "code",
   "execution_count": 76,
   "metadata": {},
   "outputs": [
    {
     "data": {
      "text/html": [
       "<div>\n",
       "<style scoped>\n",
       "    .dataframe tbody tr th:only-of-type {\n",
       "        vertical-align: middle;\n",
       "    }\n",
       "\n",
       "    .dataframe tbody tr th {\n",
       "        vertical-align: top;\n",
       "    }\n",
       "\n",
       "    .dataframe thead th {\n",
       "        text-align: right;\n",
       "    }\n",
       "</style>\n",
       "<table border=\"1\" class=\"dataframe\">\n",
       "  <thead>\n",
       "    <tr style=\"text-align: right;\">\n",
       "      <th></th>\n",
       "      <th>score</th>\n",
       "      <th>gender</th>\n",
       "      <th>age</th>\n",
       "      <th>num_of_objects</th>\n",
       "      <th>balance</th>\n",
       "      <th>num_of_products</th>\n",
       "      <th>credit_card</th>\n",
       "      <th>is_active</th>\n",
       "      <th>salary</th>\n",
       "      <th>churn</th>\n",
       "      <th>city_rostov</th>\n",
       "      <th>city_rybinsk</th>\n",
       "      <th>city_yaroslavl</th>\n",
       "      <th>cluster_km</th>\n",
       "    </tr>\n",
       "  </thead>\n",
       "  <tbody>\n",
       "    <tr>\n",
       "      <th>0</th>\n",
       "      <td>619</td>\n",
       "      <td>0</td>\n",
       "      <td>42</td>\n",
       "      <td>2</td>\n",
       "      <td>0.00</td>\n",
       "      <td>1</td>\n",
       "      <td>1</td>\n",
       "      <td>1</td>\n",
       "      <td>101348.88</td>\n",
       "      <td>1</td>\n",
       "      <td>0</td>\n",
       "      <td>0</td>\n",
       "      <td>1</td>\n",
       "      <td>2</td>\n",
       "    </tr>\n",
       "    <tr>\n",
       "      <th>1</th>\n",
       "      <td>608</td>\n",
       "      <td>0</td>\n",
       "      <td>41</td>\n",
       "      <td>1</td>\n",
       "      <td>83807.86</td>\n",
       "      <td>1</td>\n",
       "      <td>0</td>\n",
       "      <td>1</td>\n",
       "      <td>112542.58</td>\n",
       "      <td>0</td>\n",
       "      <td>0</td>\n",
       "      <td>1</td>\n",
       "      <td>0</td>\n",
       "      <td>1</td>\n",
       "    </tr>\n",
       "    <tr>\n",
       "      <th>2</th>\n",
       "      <td>502</td>\n",
       "      <td>0</td>\n",
       "      <td>42</td>\n",
       "      <td>8</td>\n",
       "      <td>159660.80</td>\n",
       "      <td>3</td>\n",
       "      <td>1</td>\n",
       "      <td>0</td>\n",
       "      <td>113931.57</td>\n",
       "      <td>1</td>\n",
       "      <td>0</td>\n",
       "      <td>0</td>\n",
       "      <td>1</td>\n",
       "      <td>2</td>\n",
       "    </tr>\n",
       "    <tr>\n",
       "      <th>3</th>\n",
       "      <td>699</td>\n",
       "      <td>0</td>\n",
       "      <td>39</td>\n",
       "      <td>1</td>\n",
       "      <td>0.00</td>\n",
       "      <td>2</td>\n",
       "      <td>0</td>\n",
       "      <td>0</td>\n",
       "      <td>93826.63</td>\n",
       "      <td>0</td>\n",
       "      <td>0</td>\n",
       "      <td>0</td>\n",
       "      <td>1</td>\n",
       "      <td>2</td>\n",
       "    </tr>\n",
       "    <tr>\n",
       "      <th>4</th>\n",
       "      <td>850</td>\n",
       "      <td>0</td>\n",
       "      <td>43</td>\n",
       "      <td>2</td>\n",
       "      <td>125510.82</td>\n",
       "      <td>1</td>\n",
       "      <td>1</td>\n",
       "      <td>1</td>\n",
       "      <td>79084.10</td>\n",
       "      <td>0</td>\n",
       "      <td>0</td>\n",
       "      <td>1</td>\n",
       "      <td>0</td>\n",
       "      <td>1</td>\n",
       "    </tr>\n",
       "  </tbody>\n",
       "</table>\n",
       "</div>"
      ],
      "text/plain": [
       "   score  gender  age  num_of_objects    balance  num_of_products  \\\n",
       "0  619    0       42   2               0.00       1                 \n",
       "1  608    0       41   1               83807.86   1                 \n",
       "2  502    0       42   8               159660.80  3                 \n",
       "3  699    0       39   1               0.00       2                 \n",
       "4  850    0       43   2               125510.82  1                 \n",
       "\n",
       "   credit_card  is_active     salary  churn  city_rostov  city_rybinsk  \\\n",
       "0  1            1          101348.88  1      0            0              \n",
       "1  0            1          112542.58  0      0            1              \n",
       "2  1            0          113931.57  1      0            0              \n",
       "3  0            0          93826.63   0      0            0              \n",
       "4  1            1          79084.10   0      0            1              \n",
       "\n",
       "   city_yaroslavl  cluster_km  \n",
       "0  1               2           \n",
       "1  0               1           \n",
       "2  1               2           \n",
       "3  1               2           \n",
       "4  0               1           "
      ]
     },
     "execution_count": 76,
     "metadata": {},
     "output_type": "execute_result"
    }
   ],
   "source": [
    "df_ml.head()"
   ]
  },
  {
   "cell_type": "code",
   "execution_count": 77,
   "metadata": {},
   "outputs": [
    {
     "data": {
      "text/html": [
       "<div>\n",
       "<style scoped>\n",
       "    .dataframe tbody tr th:only-of-type {\n",
       "        vertical-align: middle;\n",
       "    }\n",
       "\n",
       "    .dataframe tbody tr th {\n",
       "        vertical-align: top;\n",
       "    }\n",
       "\n",
       "    .dataframe thead th {\n",
       "        text-align: right;\n",
       "    }\n",
       "</style>\n",
       "<table border=\"1\" class=\"dataframe\">\n",
       "  <thead>\n",
       "    <tr style=\"text-align: right;\">\n",
       "      <th></th>\n",
       "      <th>cluster_1</th>\n",
       "      <th>cluster_2</th>\n",
       "      <th>cluster_3</th>\n",
       "    </tr>\n",
       "  </thead>\n",
       "  <tbody>\n",
       "    <tr>\n",
       "      <th>score</th>\n",
       "      <td>651.453567</td>\n",
       "      <td>651.333872</td>\n",
       "      <td>649.668329</td>\n",
       "    </tr>\n",
       "    <tr>\n",
       "      <th>gender</th>\n",
       "      <td>0.524512</td>\n",
       "      <td>0.560355</td>\n",
       "      <td>0.549063</td>\n",
       "    </tr>\n",
       "    <tr>\n",
       "      <th>age</th>\n",
       "      <td>39.771622</td>\n",
       "      <td>38.890997</td>\n",
       "      <td>38.511767</td>\n",
       "    </tr>\n",
       "    <tr>\n",
       "      <th>num_of_objects</th>\n",
       "      <td>5.009964</td>\n",
       "      <td>5.032297</td>\n",
       "      <td>5.004587</td>\n",
       "    </tr>\n",
       "    <tr>\n",
       "      <th>balance</th>\n",
       "      <td>119730.116134</td>\n",
       "      <td>61818.147763</td>\n",
       "      <td>62092.636516</td>\n",
       "    </tr>\n",
       "    <tr>\n",
       "      <th>num_of_products</th>\n",
       "      <td>1.519729</td>\n",
       "      <td>1.539362</td>\n",
       "      <td>1.530913</td>\n",
       "    </tr>\n",
       "    <tr>\n",
       "      <th>credit_card</th>\n",
       "      <td>0.713830</td>\n",
       "      <td>0.694792</td>\n",
       "      <td>0.706621</td>\n",
       "    </tr>\n",
       "    <tr>\n",
       "      <th>is_active</th>\n",
       "      <td>0.497409</td>\n",
       "      <td>0.529673</td>\n",
       "      <td>0.516753</td>\n",
       "    </tr>\n",
       "    <tr>\n",
       "      <th>salary</th>\n",
       "      <td>101113.435102</td>\n",
       "      <td>99440.572281</td>\n",
       "      <td>99899.180814</td>\n",
       "    </tr>\n",
       "    <tr>\n",
       "      <th>churn</th>\n",
       "      <td>0.324432</td>\n",
       "      <td>0.166734</td>\n",
       "      <td>0.161548</td>\n",
       "    </tr>\n",
       "    <tr>\n",
       "      <th>city_rostov</th>\n",
       "      <td>1.000000</td>\n",
       "      <td>0.000000</td>\n",
       "      <td>0.000000</td>\n",
       "    </tr>\n",
       "    <tr>\n",
       "      <th>city_rybinsk</th>\n",
       "      <td>0.000000</td>\n",
       "      <td>1.000000</td>\n",
       "      <td>0.000000</td>\n",
       "    </tr>\n",
       "    <tr>\n",
       "      <th>city_yaroslavl</th>\n",
       "      <td>0.000000</td>\n",
       "      <td>0.000000</td>\n",
       "      <td>1.000000</td>\n",
       "    </tr>\n",
       "  </tbody>\n",
       "</table>\n",
       "</div>"
      ],
      "text/plain": [
       "                     cluster_1     cluster_2     cluster_3\n",
       "score            651.453567     651.333872    649.668329  \n",
       "gender           0.524512       0.560355      0.549063    \n",
       "age              39.771622      38.890997     38.511767   \n",
       "num_of_objects   5.009964       5.032297      5.004587    \n",
       "balance          119730.116134  61818.147763  62092.636516\n",
       "num_of_products  1.519729       1.539362      1.530913    \n",
       "credit_card      0.713830       0.694792      0.706621    \n",
       "is_active        0.497409       0.529673      0.516753    \n",
       "salary           101113.435102  99440.572281  99899.180814\n",
       "churn            0.324432       0.166734      0.161548    \n",
       "city_rostov      1.000000       0.000000      0.000000    \n",
       "city_rybinsk     0.000000       1.000000      0.000000    \n",
       "city_yaroslavl   0.000000       0.000000      1.000000    "
      ]
     },
     "execution_count": 77,
     "metadata": {},
     "output_type": "execute_result"
    }
   ],
   "source": [
    "# транспонируем сгруппированную таблицу, переименовываем кластеры\n",
    "clusters_grouped_new = clusters_grouped.transpose()\n",
    "clusters_grouped_new.columns = ['cluster_1', 'cluster_2', 'cluster_3']\n",
    "clusters_grouped_new"
   ]
  },
  {
   "cell_type": "code",
   "execution_count": 78,
   "metadata": {},
   "outputs": [],
   "source": [
    "# копируем датафрейм и заменяем цифровое обозначение кластера на категориальное\n",
    "cluster_df = df_ml.copy()\n",
    "replacer(cluster_df, 'cluster_km', [0, 1, 2], ['cluster_1', 'cluster_2', 'cluster_3'])"
   ]
  },
  {
   "cell_type": "code",
   "execution_count": 79,
   "metadata": {},
   "outputs": [
    {
     "data": {
      "text/html": [
       "<div>\n",
       "<style scoped>\n",
       "    .dataframe tbody tr th:only-of-type {\n",
       "        vertical-align: middle;\n",
       "    }\n",
       "\n",
       "    .dataframe tbody tr th {\n",
       "        vertical-align: top;\n",
       "    }\n",
       "\n",
       "    .dataframe thead th {\n",
       "        text-align: right;\n",
       "    }\n",
       "</style>\n",
       "<table border=\"1\" class=\"dataframe\">\n",
       "  <thead>\n",
       "    <tr style=\"text-align: right;\">\n",
       "      <th></th>\n",
       "      <th>score</th>\n",
       "      <th>gender</th>\n",
       "      <th>age</th>\n",
       "      <th>num_of_objects</th>\n",
       "      <th>balance</th>\n",
       "      <th>num_of_products</th>\n",
       "      <th>credit_card</th>\n",
       "      <th>is_active</th>\n",
       "      <th>salary</th>\n",
       "      <th>churn</th>\n",
       "      <th>city_rostov</th>\n",
       "      <th>city_rybinsk</th>\n",
       "      <th>city_yaroslavl</th>\n",
       "      <th>cluster_km</th>\n",
       "    </tr>\n",
       "  </thead>\n",
       "  <tbody>\n",
       "    <tr>\n",
       "      <th>0</th>\n",
       "      <td>619</td>\n",
       "      <td>0</td>\n",
       "      <td>42</td>\n",
       "      <td>2</td>\n",
       "      <td>0.00</td>\n",
       "      <td>1</td>\n",
       "      <td>1</td>\n",
       "      <td>1</td>\n",
       "      <td>101348.88</td>\n",
       "      <td>1</td>\n",
       "      <td>0</td>\n",
       "      <td>0</td>\n",
       "      <td>1</td>\n",
       "      <td>cluster_3</td>\n",
       "    </tr>\n",
       "    <tr>\n",
       "      <th>1</th>\n",
       "      <td>608</td>\n",
       "      <td>0</td>\n",
       "      <td>41</td>\n",
       "      <td>1</td>\n",
       "      <td>83807.86</td>\n",
       "      <td>1</td>\n",
       "      <td>0</td>\n",
       "      <td>1</td>\n",
       "      <td>112542.58</td>\n",
       "      <td>0</td>\n",
       "      <td>0</td>\n",
       "      <td>1</td>\n",
       "      <td>0</td>\n",
       "      <td>cluster_2</td>\n",
       "    </tr>\n",
       "    <tr>\n",
       "      <th>2</th>\n",
       "      <td>502</td>\n",
       "      <td>0</td>\n",
       "      <td>42</td>\n",
       "      <td>8</td>\n",
       "      <td>159660.80</td>\n",
       "      <td>3</td>\n",
       "      <td>1</td>\n",
       "      <td>0</td>\n",
       "      <td>113931.57</td>\n",
       "      <td>1</td>\n",
       "      <td>0</td>\n",
       "      <td>0</td>\n",
       "      <td>1</td>\n",
       "      <td>cluster_3</td>\n",
       "    </tr>\n",
       "    <tr>\n",
       "      <th>3</th>\n",
       "      <td>699</td>\n",
       "      <td>0</td>\n",
       "      <td>39</td>\n",
       "      <td>1</td>\n",
       "      <td>0.00</td>\n",
       "      <td>2</td>\n",
       "      <td>0</td>\n",
       "      <td>0</td>\n",
       "      <td>93826.63</td>\n",
       "      <td>0</td>\n",
       "      <td>0</td>\n",
       "      <td>0</td>\n",
       "      <td>1</td>\n",
       "      <td>cluster_3</td>\n",
       "    </tr>\n",
       "    <tr>\n",
       "      <th>4</th>\n",
       "      <td>850</td>\n",
       "      <td>0</td>\n",
       "      <td>43</td>\n",
       "      <td>2</td>\n",
       "      <td>125510.82</td>\n",
       "      <td>1</td>\n",
       "      <td>1</td>\n",
       "      <td>1</td>\n",
       "      <td>79084.10</td>\n",
       "      <td>0</td>\n",
       "      <td>0</td>\n",
       "      <td>1</td>\n",
       "      <td>0</td>\n",
       "      <td>cluster_2</td>\n",
       "    </tr>\n",
       "  </tbody>\n",
       "</table>\n",
       "</div>"
      ],
      "text/plain": [
       "   score  gender  age  num_of_objects    balance  num_of_products  \\\n",
       "0  619    0       42   2               0.00       1                 \n",
       "1  608    0       41   1               83807.86   1                 \n",
       "2  502    0       42   8               159660.80  3                 \n",
       "3  699    0       39   1               0.00       2                 \n",
       "4  850    0       43   2               125510.82  1                 \n",
       "\n",
       "   credit_card  is_active     salary  churn  city_rostov  city_rybinsk  \\\n",
       "0  1            1          101348.88  1      0            0              \n",
       "1  0            1          112542.58  0      0            1              \n",
       "2  1            0          113931.57  1      0            0              \n",
       "3  0            0          93826.63   0      0            0              \n",
       "4  1            1          79084.10   0      0            1              \n",
       "\n",
       "   city_yaroslavl cluster_km  \n",
       "0  1               cluster_3  \n",
       "1  0               cluster_2  \n",
       "2  1               cluster_3  \n",
       "3  1               cluster_3  \n",
       "4  0               cluster_2  "
      ]
     },
     "execution_count": 79,
     "metadata": {},
     "output_type": "execute_result"
    }
   ],
   "source": [
    "cluster_df.head()"
   ]
  },
  {
   "cell_type": "code",
   "execution_count": 80,
   "metadata": {},
   "outputs": [
    {
     "name": "stdout",
     "output_type": "stream",
     "text": [
      "Доля кластера cluster_1: 25.09 %\n",
      "Доля кластера cluster_2: 24.77 %\n",
      "Доля кластера cluster_3: 50.13999999999999 %\n"
     ]
    }
   ],
   "source": [
    "def amount(df, cluster):\n",
    "    print(f'Доля кластера {cluster}:', (df.query('cluster_km==@cluster').shape[0]/df.shape[0])*100, '%')\n",
    " \n",
    "clusters = ['cluster_1', 'cluster_2', 'cluster_3']\n",
    "\n",
    "for i in clusters:\n",
    "    amount(cluster_df, i)"
   ]
  },
  {
   "cell_type": "markdown",
   "metadata": {},
   "source": [
    "<a id='conclusions'>"
   ]
  },
  {
   "cell_type": "markdown",
   "metadata": {},
   "source": [
    "#### Выводы и рекомендации\n",
    ">**Портрет клиента \"Метанпромбанка\" склонного к оттоку:**\n",
    "* Использует только один продукта банка\n",
    "* Возраст 35-65, максимальный уровень оттока у клиентов 50-58 лет\n",
    "* Не активен\n",
    "* На счету либо сравнительно небольшой >50 тыс, либо сравнительно большой < 180 тыс баланс\n",
    "* Женского пола  \n",
    ">Отдельно нужно выделить город Ростов Великий, так как **там 1/4 всех клиентов, и самый большой отток**, возможно в этом отделении банка какие-то проблемы с уровнем обслуживания, либо есть конкурент с более выгодными условиями, что маловероятно, т.к город небольшой ~ 30 тыс. население\n",
    "\n",
    "> Исходя из портрета клиента склонного к оттоку:\n",
    "* Нужны дополнительные данные для анализа причин высокого оттока в отделении банка в Ростове Великом\n",
    "* Если у банка нет программ по повышении лояльности клиентов женского пола, то стоит о них подумать\n",
    "   * увеличенные скидки или кэшбек в салоны красоты, магазины одежды и обуви, товаров для дома и т.д.\n",
    "* В целом нужно стараться повышать количество продуктов банка, используемых клиентами и активность:\n",
    "   * полезные сервисы и услуги\n",
    "   * повышенный процент по остатку на счете за выполнение определенных условий\n",
    "* Повышать персонализацию обслуживания для клиентов старше 45 и с большим балансом\n"
   ]
  },
  {
   "cell_type": "markdown",
   "metadata": {},
   "source": [
    "<a id='references'>"
   ]
  },
  {
   "cell_type": "markdown",
   "metadata": {},
   "source": [
    "### 6. Использованные источники (для чего использовались):"
   ]
  },
  {
   "cell_type": "markdown",
   "metadata": {},
   "source": [
    "1. Документация seaborn (построение функции `grafoman()` для визуализации и сохранения графиков в `*.png` формат )  \n",
    "https://seaborn.pydata.org/generated/seaborn.catplot.html\n",
    "<a id='ref_1'>"
   ]
  },
  {
   "cell_type": "markdown",
   "metadata": {},
   "source": [
    "2. Официальная статистика (Росстат) по Ярославской области (данные о населении по городам)  \n",
    "https://tinyurl.com/uvnn9km\n",
    "<a id='ref_2'>"
   ]
  },
  {
   "cell_type": "markdown",
   "metadata": {},
   "source": [
    "3. Сайт `pbpython.ru` (пример использования функций `pd.cut()` и `np.linspace()`)  \n",
    "https://pbpython.com/pandas-qcut-cut.html\n",
    "<a id='ref_3'>"
   ]
  },
  {
   "cell_type": "markdown",
   "metadata": {},
   "source": [
    "4. Сайт `mlbootcamp.ru` (использование метода `get_dummies()`)  \n",
    "https://mlbootcamp.ru/article/tutorial/   \n",
    "<a id='ref_4'>"
   ]
  },
  {
   "cell_type": "markdown",
   "metadata": {},
   "source": [
    "5. Документация `scikit-learn` (Использование `GridSearchCV` для нахождения оптимальных параметров)\n",
    "https://scikit-learn.org/stable/modules/generated/sklearn.model_selection.GridSearchCV.html\n",
    "<a id='ref_5'>"
   ]
  },
  {
   "cell_type": "markdown",
   "metadata": {},
   "source": [
    "[Возврат к началу](#TOC)"
   ]
  }
 ],
 "metadata": {
  "kernelspec": {
   "display_name": "Python 3",
   "language": "python",
   "name": "python3"
  },
  "language_info": {
   "codemirror_mode": {
    "name": "ipython",
    "version": 3
   },
   "file_extension": ".py",
   "mimetype": "text/x-python",
   "name": "python",
   "nbconvert_exporter": "python",
   "pygments_lexer": "ipython3",
   "version": "3.7.3"
  }
 },
 "nbformat": 4,
 "nbformat_minor": 2
}
