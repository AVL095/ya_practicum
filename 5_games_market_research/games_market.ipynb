{
 "cells": [
  {
   "cell_type": "markdown",
   "metadata": {},
   "source": [
    "### Исследование рынка компьютерных игр\n",
    "-----------\n",
    "* Сборный проект 1-го модуля"
   ]
  },
  {
   "cell_type": "markdown",
   "metadata": {},
   "source": [
    "### Шаг 1. Импорт данных"
   ]
  },
  {
   "cell_type": "code",
   "execution_count": 1,
   "metadata": {},
   "outputs": [],
   "source": [
    "# импортируем необходимые библиотеки\n",
    "# и ознакомимся с данными \n",
    "import pandas as pd\n",
    "import matplotlib.pyplot as plt\n",
    "import numpy as np\n",
    "from scipy import stats as st\n",
    "import seaborn as sns\n",
    "sns.set(rc={'figure.figsize':(11.7,8.27)})\n",
    "import warnings\n",
    "warnings.filterwarnings('ignore')\n",
    "\n",
    "plt.style.use('seaborn')\n",
    "%matplotlib inline\n",
    "pd.set_option('display.max_columns', None)\n",
    "\n",
    "games = pd.read_csv('/datasets/games.csv', sep=',')\n",
    "rating = pd.read_csv('/datasets/rating.csv', sep=',')"
   ]
  },
  {
   "cell_type": "markdown",
   "metadata": {},
   "source": [
    "### Шаг 2. Предобработка данных"
   ]
  },
  {
   "cell_type": "code",
   "execution_count": 2,
   "metadata": {},
   "outputs": [
    {
     "name": "stdout",
     "output_type": "stream",
     "text": [
      "<class 'pandas.core.frame.DataFrame'>\n",
      "RangeIndex: 16719 entries, 0 to 16718\n",
      "Data columns (total 11 columns):\n",
      "Name               16717 non-null object\n",
      "Platform           16719 non-null object\n",
      "Year_of_Release    16450 non-null float64\n",
      "Genre              16717 non-null object\n",
      "NA_players         16719 non-null float64\n",
      "EU_players         16719 non-null float64\n",
      "RU_players         16719 non-null float64\n",
      "Other_players      16719 non-null float64\n",
      "Critic_Score       8137 non-null float64\n",
      "User_Score         10015 non-null object\n",
      "Rating             9950 non-null object\n",
      "dtypes: float64(6), object(5)\n",
      "memory usage: 1.4+ MB\n"
     ]
    }
   ],
   "source": [
    "games.info()"
   ]
  },
  {
   "cell_type": "code",
   "execution_count": 3,
   "metadata": {},
   "outputs": [
    {
     "data": {
      "text/html": [
       "<div>\n",
       "<style scoped>\n",
       "    .dataframe tbody tr th:only-of-type {\n",
       "        vertical-align: middle;\n",
       "    }\n",
       "\n",
       "    .dataframe tbody tr th {\n",
       "        vertical-align: top;\n",
       "    }\n",
       "\n",
       "    .dataframe thead th {\n",
       "        text-align: right;\n",
       "    }\n",
       "</style>\n",
       "<table border=\"1\" class=\"dataframe\">\n",
       "  <thead>\n",
       "    <tr style=\"text-align: right;\">\n",
       "      <th></th>\n",
       "      <th>Name</th>\n",
       "      <th>Platform</th>\n",
       "      <th>Year_of_Release</th>\n",
       "      <th>Genre</th>\n",
       "      <th>NA_players</th>\n",
       "      <th>EU_players</th>\n",
       "      <th>RU_players</th>\n",
       "      <th>Other_players</th>\n",
       "      <th>Critic_Score</th>\n",
       "      <th>User_Score</th>\n",
       "      <th>Rating</th>\n",
       "    </tr>\n",
       "  </thead>\n",
       "  <tbody>\n",
       "    <tr>\n",
       "      <th>0</th>\n",
       "      <td>Wii Sports</td>\n",
       "      <td>Wii</td>\n",
       "      <td>2006.0</td>\n",
       "      <td>Sports</td>\n",
       "      <td>41.36</td>\n",
       "      <td>28.96</td>\n",
       "      <td>3.77</td>\n",
       "      <td>8.45</td>\n",
       "      <td>76.0</td>\n",
       "      <td>8</td>\n",
       "      <td>E</td>\n",
       "    </tr>\n",
       "    <tr>\n",
       "      <th>1</th>\n",
       "      <td>Super Mario Bros.</td>\n",
       "      <td>NES</td>\n",
       "      <td>1985.0</td>\n",
       "      <td>Platform</td>\n",
       "      <td>29.08</td>\n",
       "      <td>3.58</td>\n",
       "      <td>6.81</td>\n",
       "      <td>0.77</td>\n",
       "      <td>NaN</td>\n",
       "      <td>NaN</td>\n",
       "      <td>NaN</td>\n",
       "    </tr>\n",
       "    <tr>\n",
       "      <th>2</th>\n",
       "      <td>Mario Kart Wii</td>\n",
       "      <td>Wii</td>\n",
       "      <td>2008.0</td>\n",
       "      <td>Racing</td>\n",
       "      <td>15.68</td>\n",
       "      <td>12.76</td>\n",
       "      <td>3.79</td>\n",
       "      <td>3.29</td>\n",
       "      <td>82.0</td>\n",
       "      <td>8.3</td>\n",
       "      <td>E</td>\n",
       "    </tr>\n",
       "    <tr>\n",
       "      <th>3</th>\n",
       "      <td>Wii Sports Resort</td>\n",
       "      <td>Wii</td>\n",
       "      <td>2009.0</td>\n",
       "      <td>Sports</td>\n",
       "      <td>15.61</td>\n",
       "      <td>10.93</td>\n",
       "      <td>3.28</td>\n",
       "      <td>2.95</td>\n",
       "      <td>80.0</td>\n",
       "      <td>8</td>\n",
       "      <td>E</td>\n",
       "    </tr>\n",
       "    <tr>\n",
       "      <th>4</th>\n",
       "      <td>Pokemon Red/Pokemon Blue</td>\n",
       "      <td>GB</td>\n",
       "      <td>1996.0</td>\n",
       "      <td>Role-Playing</td>\n",
       "      <td>11.27</td>\n",
       "      <td>8.89</td>\n",
       "      <td>10.22</td>\n",
       "      <td>1.00</td>\n",
       "      <td>NaN</td>\n",
       "      <td>NaN</td>\n",
       "      <td>NaN</td>\n",
       "    </tr>\n",
       "  </tbody>\n",
       "</table>\n",
       "</div>"
      ],
      "text/plain": [
       "                       Name Platform  Year_of_Release         Genre  \\\n",
       "0                Wii Sports      Wii           2006.0        Sports   \n",
       "1         Super Mario Bros.      NES           1985.0      Platform   \n",
       "2            Mario Kart Wii      Wii           2008.0        Racing   \n",
       "3         Wii Sports Resort      Wii           2009.0        Sports   \n",
       "4  Pokemon Red/Pokemon Blue       GB           1996.0  Role-Playing   \n",
       "\n",
       "   NA_players  EU_players  RU_players  Other_players  Critic_Score User_Score  \\\n",
       "0       41.36       28.96        3.77           8.45          76.0          8   \n",
       "1       29.08        3.58        6.81           0.77           NaN        NaN   \n",
       "2       15.68       12.76        3.79           3.29          82.0        8.3   \n",
       "3       15.61       10.93        3.28           2.95          80.0          8   \n",
       "4       11.27        8.89       10.22           1.00           NaN        NaN   \n",
       "\n",
       "  Rating  \n",
       "0      E  \n",
       "1    NaN  \n",
       "2      E  \n",
       "3      E  \n",
       "4    NaN  "
      ]
     },
     "execution_count": 3,
     "metadata": {},
     "output_type": "execute_result"
    }
   ],
   "source": [
    "games.head()"
   ]
  },
  {
   "cell_type": "code",
   "execution_count": 4,
   "metadata": {},
   "outputs": [
    {
     "data": {
      "text/html": [
       "<div>\n",
       "<style scoped>\n",
       "    .dataframe tbody tr th:only-of-type {\n",
       "        vertical-align: middle;\n",
       "    }\n",
       "\n",
       "    .dataframe tbody tr th {\n",
       "        vertical-align: top;\n",
       "    }\n",
       "\n",
       "    .dataframe thead th {\n",
       "        text-align: right;\n",
       "    }\n",
       "</style>\n",
       "<table border=\"1\" class=\"dataframe\">\n",
       "  <thead>\n",
       "    <tr style=\"text-align: right;\">\n",
       "      <th></th>\n",
       "      <th>rating_type</th>\n",
       "      <th>decryption</th>\n",
       "    </tr>\n",
       "  </thead>\n",
       "  <tbody>\n",
       "    <tr>\n",
       "      <th>0</th>\n",
       "      <td>E</td>\n",
       "      <td>Для всех</td>\n",
       "    </tr>\n",
       "    <tr>\n",
       "      <th>1</th>\n",
       "      <td>M</td>\n",
       "      <td>От 17 лет</td>\n",
       "    </tr>\n",
       "    <tr>\n",
       "      <th>2</th>\n",
       "      <td>T</td>\n",
       "      <td>Подросткам 13—19 лет</td>\n",
       "    </tr>\n",
       "    <tr>\n",
       "      <th>3</th>\n",
       "      <td>E10+</td>\n",
       "      <td>Для всех старше 10 лет</td>\n",
       "    </tr>\n",
       "    <tr>\n",
       "      <th>4</th>\n",
       "      <td>K-A</td>\n",
       "      <td>Для всех(до 1998 года)</td>\n",
       "    </tr>\n",
       "    <tr>\n",
       "      <th>5</th>\n",
       "      <td>AO</td>\n",
       "      <td>Только для взрослых</td>\n",
       "    </tr>\n",
       "    <tr>\n",
       "      <th>6</th>\n",
       "      <td>EC</td>\n",
       "      <td>Для детей младшего возраста</td>\n",
       "    </tr>\n",
       "    <tr>\n",
       "      <th>7</th>\n",
       "      <td>RP</td>\n",
       "      <td>Рейтинг ожидается</td>\n",
       "    </tr>\n",
       "  </tbody>\n",
       "</table>\n",
       "</div>"
      ],
      "text/plain": [
       "  rating_type                   decryption\n",
       "0           E                     Для всех\n",
       "1           M                    От 17 лет\n",
       "2           T         Подросткам 13—19 лет\n",
       "3        E10+       Для всех старше 10 лет\n",
       "4         K-A       Для всех(до 1998 года)\n",
       "5          AO          Только для взрослых\n",
       "6          EC  Для детей младшего возраста\n",
       "7          RP            Рейтинг ожидается"
      ]
     },
     "execution_count": 4,
     "metadata": {},
     "output_type": "execute_result"
    }
   ],
   "source": [
    "rating"
   ]
  },
  {
   "cell_type": "code",
   "execution_count": 5,
   "metadata": {},
   "outputs": [],
   "source": [
    "# Заменим названия столбцов так, чтобы они начинались со строчных букв\n",
    "games.columns = ['name', 'platform', 'year_of_release', 'genre', 'na_players',\n",
    "       'eu_players', 'ru_players', 'other_players', 'critic_score',\n",
    "       'user_score', 'rating']"
   ]
  },
  {
   "cell_type": "code",
   "execution_count": 6,
   "metadata": {},
   "outputs": [
    {
     "data": {
      "text/html": [
       "<div>\n",
       "<style scoped>\n",
       "    .dataframe tbody tr th:only-of-type {\n",
       "        vertical-align: middle;\n",
       "    }\n",
       "\n",
       "    .dataframe tbody tr th {\n",
       "        vertical-align: top;\n",
       "    }\n",
       "\n",
       "    .dataframe thead th {\n",
       "        text-align: right;\n",
       "    }\n",
       "</style>\n",
       "<table border=\"1\" class=\"dataframe\">\n",
       "  <thead>\n",
       "    <tr style=\"text-align: right;\">\n",
       "      <th></th>\n",
       "      <th>name</th>\n",
       "      <th>platform</th>\n",
       "      <th>year_of_release</th>\n",
       "      <th>genre</th>\n",
       "      <th>na_players</th>\n",
       "      <th>eu_players</th>\n",
       "      <th>ru_players</th>\n",
       "      <th>other_players</th>\n",
       "      <th>critic_score</th>\n",
       "      <th>user_score</th>\n",
       "      <th>rating</th>\n",
       "    </tr>\n",
       "  </thead>\n",
       "  <tbody>\n",
       "    <tr>\n",
       "      <th>0</th>\n",
       "      <td>wii sports</td>\n",
       "      <td>wii</td>\n",
       "      <td>2006.0</td>\n",
       "      <td>sports</td>\n",
       "      <td>41.36</td>\n",
       "      <td>28.96</td>\n",
       "      <td>3.77</td>\n",
       "      <td>8.45</td>\n",
       "      <td>76.0</td>\n",
       "      <td>8</td>\n",
       "      <td>e</td>\n",
       "    </tr>\n",
       "    <tr>\n",
       "      <th>1</th>\n",
       "      <td>super mario bros.</td>\n",
       "      <td>nes</td>\n",
       "      <td>1985.0</td>\n",
       "      <td>platform</td>\n",
       "      <td>29.08</td>\n",
       "      <td>3.58</td>\n",
       "      <td>6.81</td>\n",
       "      <td>0.77</td>\n",
       "      <td>NaN</td>\n",
       "      <td>NaN</td>\n",
       "      <td>NaN</td>\n",
       "    </tr>\n",
       "    <tr>\n",
       "      <th>2</th>\n",
       "      <td>mario kart wii</td>\n",
       "      <td>wii</td>\n",
       "      <td>2008.0</td>\n",
       "      <td>racing</td>\n",
       "      <td>15.68</td>\n",
       "      <td>12.76</td>\n",
       "      <td>3.79</td>\n",
       "      <td>3.29</td>\n",
       "      <td>82.0</td>\n",
       "      <td>8.3</td>\n",
       "      <td>e</td>\n",
       "    </tr>\n",
       "    <tr>\n",
       "      <th>3</th>\n",
       "      <td>wii sports resort</td>\n",
       "      <td>wii</td>\n",
       "      <td>2009.0</td>\n",
       "      <td>sports</td>\n",
       "      <td>15.61</td>\n",
       "      <td>10.93</td>\n",
       "      <td>3.28</td>\n",
       "      <td>2.95</td>\n",
       "      <td>80.0</td>\n",
       "      <td>8</td>\n",
       "      <td>e</td>\n",
       "    </tr>\n",
       "    <tr>\n",
       "      <th>4</th>\n",
       "      <td>pokemon red/pokemon blue</td>\n",
       "      <td>gb</td>\n",
       "      <td>1996.0</td>\n",
       "      <td>role-playing</td>\n",
       "      <td>11.27</td>\n",
       "      <td>8.89</td>\n",
       "      <td>10.22</td>\n",
       "      <td>1.00</td>\n",
       "      <td>NaN</td>\n",
       "      <td>NaN</td>\n",
       "      <td>NaN</td>\n",
       "    </tr>\n",
       "  </tbody>\n",
       "</table>\n",
       "</div>"
      ],
      "text/plain": [
       "                       name platform  year_of_release         genre  \\\n",
       "0                wii sports      wii           2006.0        sports   \n",
       "1         super mario bros.      nes           1985.0      platform   \n",
       "2            mario kart wii      wii           2008.0        racing   \n",
       "3         wii sports resort      wii           2009.0        sports   \n",
       "4  pokemon red/pokemon blue       gb           1996.0  role-playing   \n",
       "\n",
       "   na_players  eu_players  ru_players  other_players  critic_score user_score  \\\n",
       "0       41.36       28.96        3.77           8.45          76.0          8   \n",
       "1       29.08        3.58        6.81           0.77           NaN        NaN   \n",
       "2       15.68       12.76        3.79           3.29          82.0        8.3   \n",
       "3       15.61       10.93        3.28           2.95          80.0          8   \n",
       "4       11.27        8.89       10.22           1.00           NaN        NaN   \n",
       "\n",
       "  rating  \n",
       "0      e  \n",
       "1    NaN  \n",
       "2      e  \n",
       "3      e  \n",
       "4    NaN  "
      ]
     },
     "execution_count": 6,
     "metadata": {},
     "output_type": "execute_result"
    }
   ],
   "source": [
    "# Преобразуем значения столбцов к нижнему регистру\n",
    "games_column = ['name', 'platform', 'genre', 'user_score', 'rating']\n",
    "for column in games_column:\n",
    "    games[column]=games[column].str.lower()\n",
    "\n",
    "games.head()"
   ]
  },
  {
   "cell_type": "code",
   "execution_count": 7,
   "metadata": {},
   "outputs": [
    {
     "data": {
      "text/plain": [
       "name                  2\n",
       "platform              0\n",
       "year_of_release     269\n",
       "genre                 2\n",
       "na_players            0\n",
       "eu_players            0\n",
       "ru_players            0\n",
       "other_players         0\n",
       "critic_score       8582\n",
       "user_score         6704\n",
       "rating             6769\n",
       "dtype: int64"
      ]
     },
     "execution_count": 7,
     "metadata": {},
     "output_type": "execute_result"
    }
   ],
   "source": [
    "# Проверка, подсчет количества NaN - значений во всех столбцах\n",
    "games.isna().sum(axis=0)"
   ]
  },
  {
   "cell_type": "markdown",
   "metadata": {},
   "source": [
    "* В столбцах `name` и `genre` содержатся пропуски, которые можно удалить - их совсем не много\n",
    "* пропуски в столбце с датой релиза `year_of_release` заменим на специальные значения `999` \n",
    "* пропуски в оценках пользователей `user_score` и критиков `critic_score` заменим на `-1` - что позволит выделить эти данные в отдельную группу \n",
    "* пропуски в стоблце `rating` заменим на значение `rp` - рейтинг ожидается (т.е неизвестен на момент анализа) "
   ]
  },
  {
   "cell_type": "code",
   "execution_count": 8,
   "metadata": {},
   "outputs": [
    {
     "data": {
      "text/plain": [
       "16719"
      ]
     },
     "execution_count": 8,
     "metadata": {},
     "output_type": "execute_result"
    }
   ],
   "source": [
    "games.shape[0]"
   ]
  },
  {
   "cell_type": "code",
   "execution_count": 9,
   "metadata": {},
   "outputs": [],
   "source": [
    "# создадим функцию для замены пропущенных значений \n",
    "def placeholder(df, column, surrogate):\n",
    "    df[column].fillna(surrogate, inplace=True)\n",
    "\n",
    "# Заменим пропуски в столбце \"rating\" на значения \"rp\" - рейтинг ожидается\n",
    "placeholder(games, 'rating', 'rp')\n",
    "# Заменим пропуски в столбце 'user_score' \n",
    "placeholder(games, 'user_score', -1)\n",
    "# Заменим пропуски в столбце 'critic_score'\n",
    "placeholder(games, 'critic_score', -1)\n",
    "# Заменим пропуски в столбце 'year_of_release'\n",
    "placeholder(games, 'year_of_release', 999)\n",
    "# Удалим пропуски в 'name' и 'genre'\n",
    "games.dropna(subset=['name'], inplace=True)\n",
    "games.dropna(subset=['genre'], inplace=True)"
   ]
  },
  {
   "cell_type": "code",
   "execution_count": 10,
   "metadata": {},
   "outputs": [
    {
     "name": "stdout",
     "output_type": "stream",
     "text": [
      "<class 'pandas.core.frame.DataFrame'>\n",
      "Int64Index: 16717 entries, 0 to 16718\n",
      "Data columns (total 11 columns):\n",
      "name               16717 non-null object\n",
      "platform           16717 non-null object\n",
      "year_of_release    16717 non-null float64\n",
      "genre              16717 non-null object\n",
      "na_players         16717 non-null float64\n",
      "eu_players         16717 non-null float64\n",
      "ru_players         16717 non-null float64\n",
      "other_players      16717 non-null float64\n",
      "critic_score       16717 non-null float64\n",
      "user_score         16717 non-null object\n",
      "rating             16717 non-null object\n",
      "dtypes: float64(6), object(5)\n",
      "memory usage: 1.5+ MB\n"
     ]
    }
   ],
   "source": [
    "games.info()"
   ]
  },
  {
   "cell_type": "code",
   "execution_count": 11,
   "metadata": {},
   "outputs": [],
   "source": [
    "# приведем к целочисленному типу \"int\" \n",
    "games['year_of_release'] = games['year_of_release'].astype('int64')\n",
    "#games['user_score'] = games['user_score'].astype('float64')"
   ]
  },
  {
   "cell_type": "markdown",
   "metadata": {},
   "source": [
    "* При попытке изменения типа данных столбца `user_score` появляется ошибка `ValueError: could not convert string to float: 'tbd'`\n",
    "\n",
    "`\n",
    "games['user_score'] = games['user_score'].astype('float64')\n",
    "`\n",
    "* Сделам срез и рассчитаем сколько таких значений "
   ]
  },
  {
   "cell_type": "code",
   "execution_count": 12,
   "metadata": {},
   "outputs": [
    {
     "data": {
      "text/plain": [
       "2425"
      ]
     },
     "execution_count": 12,
     "metadata": {},
     "output_type": "execute_result"
    }
   ],
   "source": [
    "games.query('user_score ==\"tbd\"').shape[0]"
   ]
  },
  {
   "cell_type": "markdown",
   "metadata": {},
   "source": [
    "* Получается, что для 2425 строк не определена оценка пользователей \n",
    "\n",
    "* Значения (tbd) в \"user_score\", заменим на \"-1\", так как этом можно считать пропуском -- рейтинг неизвестен"
   ]
  },
  {
   "cell_type": "code",
   "execution_count": 13,
   "metadata": {},
   "outputs": [],
   "source": [
    "# Проведем замену \"tbd\" на \"\"-1\"\n",
    "games.loc[games['user_score']=='tbd', 'user_score'] = -1\n",
    "# приведем к целочисленному типу \"int\" \n",
    "games['user_score'] = games['user_score'].astype('float64')"
   ]
  },
  {
   "cell_type": "code",
   "execution_count": 14,
   "metadata": {},
   "outputs": [
    {
     "data": {
      "text/plain": [
       "0"
      ]
     },
     "execution_count": 14,
     "metadata": {},
     "output_type": "execute_result"
    }
   ],
   "source": [
    "# проверим полные дубликаты \n",
    "games.duplicated().sum()"
   ]
  },
  {
   "cell_type": "code",
   "execution_count": 15,
   "metadata": {},
   "outputs": [],
   "source": [
    "# Добавим столбец с данными о количестве продаж по всем регионам\n",
    "games['total_players'] = games['na_players'] + games['eu_players'] + games['ru_players'] + games['other_players']"
   ]
  },
  {
   "cell_type": "code",
   "execution_count": 16,
   "metadata": {
    "scrolled": true
   },
   "outputs": [
    {
     "name": "stdout",
     "output_type": "stream",
     "text": [
      "<class 'pandas.core.frame.DataFrame'>\n",
      "Int64Index: 16717 entries, 0 to 16718\n",
      "Data columns (total 12 columns):\n",
      "name               16717 non-null object\n",
      "platform           16717 non-null object\n",
      "year_of_release    16717 non-null int64\n",
      "genre              16717 non-null object\n",
      "na_players         16717 non-null float64\n",
      "eu_players         16717 non-null float64\n",
      "ru_players         16717 non-null float64\n",
      "other_players      16717 non-null float64\n",
      "critic_score       16717 non-null float64\n",
      "user_score         16717 non-null float64\n",
      "rating             16717 non-null object\n",
      "total_players      16717 non-null float64\n",
      "dtypes: float64(7), int64(1), object(4)\n",
      "memory usage: 1.7+ MB\n"
     ]
    }
   ],
   "source": [
    "games.info()"
   ]
  },
  {
   "cell_type": "markdown",
   "metadata": {},
   "source": [
    "#### Шаг 3. Исследовательский анализ данных"
   ]
  },
  {
   "cell_type": "markdown",
   "metadata": {},
   "source": [
    "* Постройте распределение по годам релиза и опишите полученный результат\n",
    "* Постройте распределение по годам релиза для игр с отзывом и без отзыва; cравните полученные распределения и сделайте вывод\n",
    "* Постройте график продаж по каждому году; сделайте вывод\n",
    "* Постройте ящик с усами по глобальным продажам, опишите полученный результат\n",
    "* Узнайте, на какой платформе было выпущено больше всего игр\n",
    "* Определите, игр какого жанра больше всего\n",
    "* Найдите игры с наибольшей и наименьшей оценкой от пользователей\n",
    "* Найдите игры с наибольшей и наименьшей оценкой от критиков\n",
    "* Оцените корреляцию между оценками критиков и пользовательскими оценками."
   ]
  },
  {
   "cell_type": "code",
   "execution_count": 17,
   "metadata": {},
   "outputs": [
    {
     "data": {
      "image/png": "[encoded data removed]",
      "text/plain": [
       "<Figure size 864x720 with 1 Axes>"
      ]
     },
     "metadata": {
      "needs_background": "light"
     },
     "output_type": "display_data"
    }
   ],
   "source": [
    "# Распределение количества игр по годам релиза\n",
    "(games\n",
    "   .pivot_table(index='year_of_release', values=['name'],\n",
    "                aggfunc='count')\n",
    "   .sort_values(by='year_of_release', ascending=True)\n",
    "   .plot(kind='bar',figsize=(12, 10), fontsize=15, color='b')\n",
    ")\n",
    "plt.title('Распределение количества игр по годам релиза (общее)', fontsize=15, color='b')\n",
    "plt.legend(fontsize=15);\n"
   ]
  },
  {
   "cell_type": "markdown",
   "metadata": {},
   "source": [
    "##### Вывод:\n",
    "* Начиная с 1993 года наблюдается резкий рост количества выпускаемых игр, максимум достигается в 2008-2009 году, после чего происходит резкий обвал рынка -- количество выпускаемых игр в год быстро убывает\n",
    "* Количество игр, год релиза для которых неизвестен, находится примерно на уровне 1997 года"
   ]
  },
  {
   "cell_type": "code",
   "execution_count": 18,
   "metadata": {},
   "outputs": [],
   "source": [
    "# Создадим функцию для группировки игр по наличию отзыва\n",
    "# если ячейки в столбцах с отзывами критиков и пользователей одновременно будут содержать значения < 0\n",
    "# которые появились после замены пропусков\n",
    "def category_of_score(row):\n",
    "    critic_score = row['critic_score']\n",
    "    user_score = row['user_score']\n",
    "    if critic_score < 0 and user_score < 0:\n",
    "        return 'без отзыва'\n",
    "    return 'с отзывом'\n",
    "\n",
    "# Создадим новый столбец с категориями, применив функцию к датафрейму\n",
    "games['score_category'] = games.apply(category_of_score, axis=1)    \n",
    " "
   ]
  },
  {
   "cell_type": "code",
   "execution_count": 19,
   "metadata": {},
   "outputs": [
    {
     "data": {
      "image/png": "[encoded data removed]",
      "text/plain": [
       "<Figure size 864x720 with 1 Axes>"
      ]
     },
     "metadata": {
      "needs_background": "light"
     },
     "output_type": "display_data"
    },
    {
     "data": {
      "image/png": "[encoded data removed]",
      "text/plain": [
       "<Figure size 864x720 with 1 Axes>"
      ]
     },
     "metadata": {
      "needs_background": "light"
     },
     "output_type": "display_data"
    }
   ],
   "source": [
    "# С отзывом\n",
    "games_score = (games\n",
    "               .query('score_category == \"с отзывом\"')\n",
    "               .pivot_table(index='year_of_release', values=['name'],\n",
    "                            aggfunc='count')\n",
    "               .sort_values(by='year_of_release', ascending=True)\n",
    "               .plot(kind='bar',figsize=(12, 10), fontsize=15, color='g')\n",
    "              )\n",
    "plt.title('Распределение количества игр по годам релиза (c отзывом)', fontsize=15, color='g')\n",
    "plt.legend(fontsize=15);\n",
    "              \n",
    "# Без отзыва\n",
    "games_no_score = (games\n",
    "               .query('score_category == \"без отзыва\"')\n",
    "               .pivot_table(index='year_of_release', values=['name'],\n",
    "                            aggfunc='count')\n",
    "               .sort_values(by='year_of_release', ascending=True)\n",
    "               .plot(kind='bar',figsize=(12, 10), fontsize=15, color='orange')\n",
    "              )\n",
    "plt.title('Распределение количества игр по годам релиза (без отзыва)', fontsize=15, color='orange')\n",
    "plt.legend(fontsize=15);"
   ]
  },
  {
   "cell_type": "markdown",
   "metadata": {},
   "source": [
    "##### Вывод:\n",
    "* Количество игр без отзыва больше чем с отзывом\n",
    "* Распределения отличаются друг от друга:\n",
    "  * Распределение количества игр с отзывом не похоже на нормальное\n",
    "  * Распределение количества игр без отзыва имеет \"провал\", обусловленный \"удалением\" количества игр с отзывом\n",
    "* С 2000 года количество игр с отзывом начало расти"
   ]
  },
  {
   "cell_type": "code",
   "execution_count": 20,
   "metadata": {},
   "outputs": [
    {
     "data": {
      "image/png": "[encoded data removed]",
      "text/plain": [
       "<Figure size 864x720 with 1 Axes>"
      ]
     },
     "metadata": {
      "needs_background": "light"
     },
     "output_type": "display_data"
    }
   ],
   "source": [
    "(games\n",
    "   .pivot_table(index='year_of_release', values='total_players',\n",
    "                aggfunc='sum')\n",
    "   .sort_values(by='year_of_release', ascending=True)\n",
    "   .plot(kind='bar',figsize=(12, 10), fontsize=15, color='navy')\n",
    ")\n",
    "plt.title('Глобальные продажи игр по годам (в млн.долл)', fontsize=15, color='navy')\n",
    "plt.legend(fontsize=15);"
   ]
  },
  {
   "cell_type": "code",
   "execution_count": 21,
   "metadata": {},
   "outputs": [
    {
     "data": {
      "image/png": "[encoded data removed]",
      "text/plain": [
       "<Figure size 864x720 with 1 Axes>"
      ]
     },
     "metadata": {
      "needs_background": "light"
     },
     "output_type": "display_data"
    }
   ],
   "source": [
    "#games.boxplot(column='total_players')\n",
    "(games\n",
    "   .pivot_table(index='year_of_release', values='total_players',\n",
    "                aggfunc='sum')\n",
    "   .plot(kind='box',figsize=(12, 10), fontsize=15, color='navy')\n",
    ")\n",
    "plt.title('Распределение глобальных продаж', fontsize=15, color='navy');\n"
   ]
  },
  {
   "cell_type": "markdown",
   "metadata": {},
   "source": [
    "* **Медианное значение глобальных продаж игр расположено около 180 млн.долл**\n",
    "* **Распределение глобальных продаж по годам (в млн.долл) показывает, что в период с 1996 по 2008 год был бешенный рост**\n",
    "* **пик пришелся на 2008 год (более 650 млн.долл), после чего наблюдалось такое же резкое падение продаж и выручки** \n",
    "* Возможно, что падение обусловлено мировым финасовым кризисом 2008-2009 гг. \n",
    "* Дальнейшее снижение может быть также связано с оттоком пользователей, например к мобильным играм или онлайн-играм"
   ]
  },
  {
   "cell_type": "code",
   "execution_count": 22,
   "metadata": {},
   "outputs": [
    {
     "data": {
      "text/plain": [
       "ps2     2161\n",
       "ds      2152\n",
       "ps3     1331\n",
       "wii     1320\n",
       "x360    1262\n",
       "Name: platform, dtype: int64"
      ]
     },
     "execution_count": 22,
     "metadata": {},
     "output_type": "execute_result"
    }
   ],
   "source": [
    "# Узнайте, на какой платформе было выпущено больше всего игр\n",
    "games['platform'].value_counts().sort_values(ascending = False).head()\n"
   ]
  },
  {
   "cell_type": "markdown",
   "metadata": {},
   "source": [
    "* **Больше всего игр было выпущено на платформе `ps2` (PlayStation2)**"
   ]
  },
  {
   "cell_type": "markdown",
   "metadata": {},
   "source": [
    "\n",
    " "
   ]
  },
  {
   "cell_type": "code",
   "execution_count": 23,
   "metadata": {},
   "outputs": [
    {
     "data": {
      "text/plain": [
       "action          3370\n",
       "sports          2348\n",
       "misc            1750\n",
       "role-playing    1500\n",
       "shooter         1323\n",
       "Name: genre, dtype: int64"
      ]
     },
     "execution_count": 23,
     "metadata": {},
     "output_type": "execute_result"
    }
   ],
   "source": [
    "# Определите, игр какого жанра больше всего\n",
    "games['genre'].value_counts().sort_values(ascending = False).head()"
   ]
  },
  {
   "cell_type": "markdown",
   "metadata": {},
   "source": [
    "* **Лидерами являются игры жанра `экшн`** "
   ]
  },
  {
   "cell_type": "code",
   "execution_count": 24,
   "metadata": {},
   "outputs": [
    {
     "data": {
      "text/html": [
       "<div>\n",
       "<style scoped>\n",
       "    .dataframe tbody tr th:only-of-type {\n",
       "        vertical-align: middle;\n",
       "    }\n",
       "\n",
       "    .dataframe tbody tr th {\n",
       "        vertical-align: top;\n",
       "    }\n",
       "\n",
       "    .dataframe thead th {\n",
       "        text-align: right;\n",
       "    }\n",
       "</style>\n",
       "<table border=\"1\" class=\"dataframe\">\n",
       "  <thead>\n",
       "    <tr style=\"text-align: right;\">\n",
       "      <th></th>\n",
       "      <th>user_score</th>\n",
       "    </tr>\n",
       "    <tr>\n",
       "      <th>name</th>\n",
       "      <th></th>\n",
       "    </tr>\n",
       "  </thead>\n",
       "  <tbody>\n",
       "    <tr>\n",
       "      <th>madden nfl 17</th>\n",
       "      <td>0.2</td>\n",
       "    </tr>\n",
       "    <tr>\n",
       "      <th>myth makers: trixie in toyland</th>\n",
       "      <td>0.2</td>\n",
       "    </tr>\n",
       "    <tr>\n",
       "      <th>billy the wizard: rocket broomstick racing</th>\n",
       "      <td>0.3</td>\n",
       "    </tr>\n",
       "    <tr>\n",
       "      <th>happy feet</th>\n",
       "      <td>0.3</td>\n",
       "    </tr>\n",
       "    <tr>\n",
       "      <th>power gig: rise of the sixstring</th>\n",
       "      <td>0.5</td>\n",
       "    </tr>\n",
       "  </tbody>\n",
       "</table>\n",
       "</div>"
      ],
      "text/plain": [
       "                                            user_score\n",
       "name                                                  \n",
       "madden nfl 17                                      0.2\n",
       "myth makers: trixie in toyland                     0.2\n",
       "billy the wizard: rocket broomstick racing         0.3\n",
       "happy feet                                         0.3\n",
       "power gig: rise of the sixstring                   0.5"
      ]
     },
     "execution_count": 24,
     "metadata": {},
     "output_type": "execute_result"
    }
   ],
   "source": [
    "# Наименьшая оценка пользователей\n",
    "(games\n",
    " .query('user_score > 0')\n",
    " .pivot_table(index='name', values='user_score', aggfunc='min')\n",
    " .sort_values(by='user_score', ascending=True)\n",
    " .head()\n",
    ")\n"
   ]
  },
  {
   "cell_type": "code",
   "execution_count": 25,
   "metadata": {},
   "outputs": [
    {
     "data": {
      "text/html": [
       "<div>\n",
       "<style scoped>\n",
       "    .dataframe tbody tr th:only-of-type {\n",
       "        vertical-align: middle;\n",
       "    }\n",
       "\n",
       "    .dataframe tbody tr th {\n",
       "        vertical-align: top;\n",
       "    }\n",
       "\n",
       "    .dataframe thead th {\n",
       "        text-align: right;\n",
       "    }\n",
       "</style>\n",
       "<table border=\"1\" class=\"dataframe\">\n",
       "  <thead>\n",
       "    <tr style=\"text-align: right;\">\n",
       "      <th></th>\n",
       "      <th>user_score</th>\n",
       "    </tr>\n",
       "    <tr>\n",
       "      <th>name</th>\n",
       "      <th></th>\n",
       "    </tr>\n",
       "  </thead>\n",
       "  <tbody>\n",
       "    <tr>\n",
       "      <th>breath of fire iii</th>\n",
       "      <td>9.7</td>\n",
       "    </tr>\n",
       "    <tr>\n",
       "      <th>boktai: the sun is in your hand</th>\n",
       "      <td>9.6</td>\n",
       "    </tr>\n",
       "    <tr>\n",
       "      <th>harvest moon: friends of mineral town</th>\n",
       "      <td>9.6</td>\n",
       "    </tr>\n",
       "    <tr>\n",
       "      <th>karnaaj rally</th>\n",
       "      <td>9.5</td>\n",
       "    </tr>\n",
       "    <tr>\n",
       "      <th>super puzzle fighter ii</th>\n",
       "      <td>9.5</td>\n",
       "    </tr>\n",
       "  </tbody>\n",
       "</table>\n",
       "</div>"
      ],
      "text/plain": [
       "                                       user_score\n",
       "name                                             \n",
       "breath of fire iii                            9.7\n",
       "boktai: the sun is in your hand               9.6\n",
       "harvest moon: friends of mineral town         9.6\n",
       "karnaaj rally                                 9.5\n",
       "super puzzle fighter ii                       9.5"
      ]
     },
     "execution_count": 25,
     "metadata": {},
     "output_type": "execute_result"
    }
   ],
   "source": [
    "# Наибольшая оценка пользователей\n",
    "(games\n",
    " .query('user_score > 0')\n",
    " .pivot_table(index='name', values='user_score', aggfunc='max')\n",
    " .sort_values(by='user_score', ascending=False)\n",
    " .head()\n",
    ")"
   ]
  },
  {
   "cell_type": "markdown",
   "metadata": {},
   "source": [
    " ##### Вывод\n",
    " *Шкала 0 - 10 баллов*\n",
    " * Наименьшую оценку: `0.2`, пользователи поставили двум играм:      \n",
    " **madden nfl 17** и **myth makers: trixie in toyland**\n",
    "-----------------\n",
    " * Наибольшую оценку: `9.7`, пользователи поставили игре **breath of fire iii**"
   ]
  },
  {
   "cell_type": "code",
   "execution_count": 26,
   "metadata": {},
   "outputs": [
    {
     "data": {
      "text/html": [
       "<div>\n",
       "<style scoped>\n",
       "    .dataframe tbody tr th:only-of-type {\n",
       "        vertical-align: middle;\n",
       "    }\n",
       "\n",
       "    .dataframe tbody tr th {\n",
       "        vertical-align: top;\n",
       "    }\n",
       "\n",
       "    .dataframe thead th {\n",
       "        text-align: right;\n",
       "    }\n",
       "</style>\n",
       "<table border=\"1\" class=\"dataframe\">\n",
       "  <thead>\n",
       "    <tr style=\"text-align: right;\">\n",
       "      <th></th>\n",
       "      <th>critic_score</th>\n",
       "    </tr>\n",
       "    <tr>\n",
       "      <th>name</th>\n",
       "      <th></th>\n",
       "    </tr>\n",
       "  </thead>\n",
       "  <tbody>\n",
       "    <tr>\n",
       "      <th>ride to hell</th>\n",
       "      <td>13.0</td>\n",
       "    </tr>\n",
       "    <tr>\n",
       "      <th>leisure suit larry: box office bust</th>\n",
       "      <td>17.0</td>\n",
       "    </tr>\n",
       "    <tr>\n",
       "      <th>rugby 15</th>\n",
       "      <td>19.0</td>\n",
       "    </tr>\n",
       "    <tr>\n",
       "      <th>nickelodeon party blast</th>\n",
       "      <td>19.0</td>\n",
       "    </tr>\n",
       "    <tr>\n",
       "      <th>anubis ii</th>\n",
       "      <td>19.0</td>\n",
       "    </tr>\n",
       "  </tbody>\n",
       "</table>\n",
       "</div>"
      ],
      "text/plain": [
       "                                     critic_score\n",
       "name                                             \n",
       "ride to hell                                 13.0\n",
       "leisure suit larry: box office bust          17.0\n",
       "rugby 15                                     19.0\n",
       "nickelodeon party blast                      19.0\n",
       "anubis ii                                    19.0"
      ]
     },
     "execution_count": 26,
     "metadata": {},
     "output_type": "execute_result"
    }
   ],
   "source": [
    "# Наименьшая оценка критиков\n",
    "(games\n",
    " .query('critic_score > 0')\n",
    " .pivot_table(index='name', values='critic_score', aggfunc='min')\n",
    " .sort_values(by='critic_score', ascending=True)\n",
    " .head()\n",
    ")"
   ]
  },
  {
   "cell_type": "code",
   "execution_count": 27,
   "metadata": {},
   "outputs": [
    {
     "data": {
      "text/html": [
       "<div>\n",
       "<style scoped>\n",
       "    .dataframe tbody tr th:only-of-type {\n",
       "        vertical-align: middle;\n",
       "    }\n",
       "\n",
       "    .dataframe tbody tr th {\n",
       "        vertical-align: top;\n",
       "    }\n",
       "\n",
       "    .dataframe thead th {\n",
       "        text-align: right;\n",
       "    }\n",
       "</style>\n",
       "<table border=\"1\" class=\"dataframe\">\n",
       "  <thead>\n",
       "    <tr style=\"text-align: right;\">\n",
       "      <th></th>\n",
       "      <th>critic_score</th>\n",
       "    </tr>\n",
       "    <tr>\n",
       "      <th>name</th>\n",
       "      <th></th>\n",
       "    </tr>\n",
       "  </thead>\n",
       "  <tbody>\n",
       "    <tr>\n",
       "      <th>grand theft auto iv</th>\n",
       "      <td>98.0</td>\n",
       "    </tr>\n",
       "    <tr>\n",
       "      <th>soulcalibur</th>\n",
       "      <td>98.0</td>\n",
       "    </tr>\n",
       "    <tr>\n",
       "      <th>tony hawk's pro skater 2</th>\n",
       "      <td>98.0</td>\n",
       "    </tr>\n",
       "    <tr>\n",
       "      <th>halo: combat evolved</th>\n",
       "      <td>97.0</td>\n",
       "    </tr>\n",
       "    <tr>\n",
       "      <th>nfl 2k1</th>\n",
       "      <td>97.0</td>\n",
       "    </tr>\n",
       "  </tbody>\n",
       "</table>\n",
       "</div>"
      ],
      "text/plain": [
       "                          critic_score\n",
       "name                                  \n",
       "grand theft auto iv               98.0\n",
       "soulcalibur                       98.0\n",
       "tony hawk's pro skater 2          98.0\n",
       "halo: combat evolved              97.0\n",
       "nfl 2k1                           97.0"
      ]
     },
     "execution_count": 27,
     "metadata": {},
     "output_type": "execute_result"
    }
   ],
   "source": [
    "# Наибольшая оценка критиков\n",
    "(games\n",
    " .query('critic_score > 0')\n",
    " .pivot_table(index='name', values='critic_score', aggfunc='max')\n",
    " .sort_values(by='critic_score', ascending=False)\n",
    " .head()\n",
    ")"
   ]
  },
  {
   "cell_type": "markdown",
   "metadata": {},
   "source": [
    " ##### Вывод\n",
    " \n",
    " *Шкала 0 - 100 баллов*\n",
    "\n",
    " * Наименьшую оценку: `13`, критики поставили игре: **ride to hell**\n",
    "-----------------\n",
    " * Наибольшую оценку: `98`, критики поставили сразу 3-м играм **grand theft auto iv**,  **soulcalibur**,  **tony hawk's pro skater 2**"
   ]
  },
  {
   "cell_type": "code",
   "execution_count": 28,
   "metadata": {},
   "outputs": [
    {
     "name": "stdout",
     "output_type": "stream",
     "text": [
      "Количество объектов в выборке: 4471\n",
      "\n",
      "              critic_score  user_score\n",
      "critic_score         1.000       0.632\n",
      "user_score           0.632       1.000\n"
     ]
    },
    {
     "data": {
      "image/png": "[encoded data removed]",
      "text/plain": [
       "<Figure size 432x432 with 3 Axes>"
      ]
     },
     "metadata": {
      "needs_background": "light"
     },
     "output_type": "display_data"
    }
   ],
   "source": [
    "# Оцените корреляцию между оценками критиков и пользовательскими оценками.\n",
    "data = (games\n",
    "         .query('critic_score > 0 and user_score > 0')\n",
    "         .pivot_table(index='name', \n",
    "            values=['user_score', 'critic_score'], \n",
    "            aggfunc='mean') \n",
    "       )\n",
    "print('Количество объектов в выборке:', data.shape[0])\n",
    "print()\n",
    "print(data.corr().round(decimals=3))\n",
    "\n",
    "score_flt = games.query('critic_score > 0 and user_score > 0')\n",
    "\n",
    "sns.jointplot(x='user_score', y='critic_score', data=score_flt, kind='hex', bins=50, alpha=0.5);"
   ]
  },
  {
   "cell_type": "markdown",
   "metadata": {},
   "source": [
    " * Корреляция между оценками пользователей и критиков средняя (не сильная, но и не слабая) - 63 %\n",
    " * Оценки пользователей и критиков в большинстве случаев сходятся, особенно это заметно для высоких оценок, которых большинство: (\"облако\" расположено близко к диагонали)\n",
    " * При этом лидеры и аутсайдеры у пользователей и критиков различаются"
   ]
  },
  {
   "cell_type": "markdown",
   "metadata": {},
   "source": [
    "#### Шаг 4. Составьте портрет пользователя для каждого региона\n"
   ]
  },
  {
   "cell_type": "markdown",
   "metadata": {},
   "source": [
    "* Для пользователей каждого региона (Северная Америка, Европа и Россия) определите:\n",
    "* топ-5 предпочтительных жанров\n",
    "* в какие года пользователи были наиболее активны (больше всего покупали игры)\n",
    "* топ-5 предпочтительных платформ\n",
    "* какой рейтинг ESRB встречается чаще всего (наиболее частотная категория)"
   ]
  },
  {
   "cell_type": "markdown",
   "metadata": {},
   "source": [
    "##### Северная Америка"
   ]
  },
  {
   "cell_type": "code",
   "execution_count": 29,
   "metadata": {},
   "outputs": [],
   "source": [
    "# Функция для вывода Топ-5 значений\n",
    "# на вход принимает parametre (жанр или платформу)\n",
    "# column (продажи в млн.долл по региону, например Северная Америка)\n",
    "# aggf (агрегирующая функция - сумма продаж по заданному параметру)\n",
    "def top_rating(parameter, column, aggf):\n",
    "    games_id = games.pivot_table(index=parameter, values=column, aggfunc=[aggf])\n",
    "    return games_id.sort_values(by=(aggf, column), ascending=False).head()"
   ]
  },
  {
   "cell_type": "code",
   "execution_count": 30,
   "metadata": {},
   "outputs": [
    {
     "data": {
      "text/html": [
       "<div>\n",
       "<style scoped>\n",
       "    .dataframe tbody tr th:only-of-type {\n",
       "        vertical-align: middle;\n",
       "    }\n",
       "\n",
       "    .dataframe tbody tr th {\n",
       "        vertical-align: top;\n",
       "    }\n",
       "\n",
       "    .dataframe thead tr th {\n",
       "        text-align: left;\n",
       "    }\n",
       "\n",
       "    .dataframe thead tr:last-of-type th {\n",
       "        text-align: right;\n",
       "    }\n",
       "</style>\n",
       "<table border=\"1\" class=\"dataframe\">\n",
       "  <thead>\n",
       "    <tr>\n",
       "      <th></th>\n",
       "      <th>sum</th>\n",
       "    </tr>\n",
       "    <tr>\n",
       "      <th></th>\n",
       "      <th>na_players</th>\n",
       "    </tr>\n",
       "    <tr>\n",
       "      <th>genre</th>\n",
       "      <th></th>\n",
       "    </tr>\n",
       "  </thead>\n",
       "  <tbody>\n",
       "    <tr>\n",
       "      <th>action</th>\n",
       "      <td>879.01</td>\n",
       "    </tr>\n",
       "    <tr>\n",
       "      <th>sports</th>\n",
       "      <td>684.43</td>\n",
       "    </tr>\n",
       "    <tr>\n",
       "      <th>shooter</th>\n",
       "      <td>592.24</td>\n",
       "    </tr>\n",
       "    <tr>\n",
       "      <th>platform</th>\n",
       "      <td>445.50</td>\n",
       "    </tr>\n",
       "    <tr>\n",
       "      <th>misc</th>\n",
       "      <td>407.27</td>\n",
       "    </tr>\n",
       "  </tbody>\n",
       "</table>\n",
       "</div>"
      ],
      "text/plain": [
       "                sum\n",
       "         na_players\n",
       "genre              \n",
       "action       879.01\n",
       "sports       684.43\n",
       "shooter      592.24\n",
       "platform     445.50\n",
       "misc         407.27"
      ]
     },
     "execution_count": 30,
     "metadata": {},
     "output_type": "execute_result"
    }
   ],
   "source": [
    "# Топ-5 жанров\n",
    "top_rating('genre', 'na_players', 'sum')"
   ]
  },
  {
   "cell_type": "code",
   "execution_count": 31,
   "metadata": {},
   "outputs": [
    {
     "data": {
      "text/html": [
       "<div>\n",
       "<style scoped>\n",
       "    .dataframe tbody tr th:only-of-type {\n",
       "        vertical-align: middle;\n",
       "    }\n",
       "\n",
       "    .dataframe tbody tr th {\n",
       "        vertical-align: top;\n",
       "    }\n",
       "\n",
       "    .dataframe thead tr th {\n",
       "        text-align: left;\n",
       "    }\n",
       "\n",
       "    .dataframe thead tr:last-of-type th {\n",
       "        text-align: right;\n",
       "    }\n",
       "</style>\n",
       "<table border=\"1\" class=\"dataframe\">\n",
       "  <thead>\n",
       "    <tr>\n",
       "      <th></th>\n",
       "      <th>sum</th>\n",
       "    </tr>\n",
       "    <tr>\n",
       "      <th></th>\n",
       "      <th>na_players</th>\n",
       "    </tr>\n",
       "    <tr>\n",
       "      <th>platform</th>\n",
       "      <th></th>\n",
       "    </tr>\n",
       "  </thead>\n",
       "  <tbody>\n",
       "    <tr>\n",
       "      <th>x360</th>\n",
       "      <td>602.47</td>\n",
       "    </tr>\n",
       "    <tr>\n",
       "      <th>ps2</th>\n",
       "      <td>583.84</td>\n",
       "    </tr>\n",
       "    <tr>\n",
       "      <th>wii</th>\n",
       "      <td>496.90</td>\n",
       "    </tr>\n",
       "    <tr>\n",
       "      <th>ps3</th>\n",
       "      <td>393.49</td>\n",
       "    </tr>\n",
       "    <tr>\n",
       "      <th>ds</th>\n",
       "      <td>382.67</td>\n",
       "    </tr>\n",
       "  </tbody>\n",
       "</table>\n",
       "</div>"
      ],
      "text/plain": [
       "                sum\n",
       "         na_players\n",
       "platform           \n",
       "x360         602.47\n",
       "ps2          583.84\n",
       "wii          496.90\n",
       "ps3          393.49\n",
       "ds           382.67"
      ]
     },
     "execution_count": 31,
     "metadata": {},
     "output_type": "execute_result"
    }
   ],
   "source": [
    "# Топ-5 платформ\n",
    "top_rating('platform', 'na_players', 'sum')"
   ]
  },
  {
   "cell_type": "code",
   "execution_count": 32,
   "metadata": {},
   "outputs": [
    {
     "data": {
      "text/html": [
       "<div>\n",
       "<style scoped>\n",
       "    .dataframe tbody tr th:only-of-type {\n",
       "        vertical-align: middle;\n",
       "    }\n",
       "\n",
       "    .dataframe tbody tr th {\n",
       "        vertical-align: top;\n",
       "    }\n",
       "\n",
       "    .dataframe thead tr th {\n",
       "        text-align: left;\n",
       "    }\n",
       "\n",
       "    .dataframe thead tr:last-of-type th {\n",
       "        text-align: right;\n",
       "    }\n",
       "</style>\n",
       "<table border=\"1\" class=\"dataframe\">\n",
       "  <thead>\n",
       "    <tr>\n",
       "      <th></th>\n",
       "      <th>sum</th>\n",
       "    </tr>\n",
       "    <tr>\n",
       "      <th></th>\n",
       "      <th>na_players</th>\n",
       "    </tr>\n",
       "    <tr>\n",
       "      <th>rating</th>\n",
       "      <th></th>\n",
       "    </tr>\n",
       "  </thead>\n",
       "  <tbody>\n",
       "    <tr>\n",
       "      <th>e</th>\n",
       "      <td>1293.26</td>\n",
       "    </tr>\n",
       "    <tr>\n",
       "      <th>rp</th>\n",
       "      <td>1240.68</td>\n",
       "    </tr>\n",
       "    <tr>\n",
       "      <th>t</th>\n",
       "      <td>759.75</td>\n",
       "    </tr>\n",
       "    <tr>\n",
       "      <th>m</th>\n",
       "      <td>748.48</td>\n",
       "    </tr>\n",
       "    <tr>\n",
       "      <th>e10+</th>\n",
       "      <td>353.32</td>\n",
       "    </tr>\n",
       "  </tbody>\n",
       "</table>\n",
       "</div>"
      ],
      "text/plain": [
       "              sum\n",
       "       na_players\n",
       "rating           \n",
       "e         1293.26\n",
       "rp        1240.68\n",
       "t          759.75\n",
       "m          748.48\n",
       "e10+       353.32"
      ]
     },
     "execution_count": 32,
     "metadata": {},
     "output_type": "execute_result"
    }
   ],
   "source": [
    "# Топ-5 рейтинг ESRB\n",
    "top_rating('rating', 'na_players', 'sum')"
   ]
  },
  {
   "cell_type": "code",
   "execution_count": 33,
   "metadata": {},
   "outputs": [
    {
     "data": {
      "image/png": "[encoded data removed]",
      "text/plain": [
       "<Figure size 864x720 with 1 Axes>"
      ]
     },
     "metadata": {
      "needs_background": "light"
     },
     "output_type": "display_data"
    }
   ],
   "source": [
    "# Распределение покупок пользователей по годам\n",
    "(games\n",
    "   .pivot_table(index='year_of_release', values='na_players',\n",
    "                aggfunc='sum')\n",
    "   .sort_values(by='year_of_release', ascending=True)\n",
    "   .plot(kind='bar',figsize=(12, 10), fontsize=15, color='navy')\n",
    ")\n",
    "plt.title('Продажи игр по годам (в млн.долл) для Северной Америки', fontsize=15, color='navy')\n",
    "plt.legend(fontsize=15);"
   ]
  },
  {
   "cell_type": "markdown",
   "metadata": {},
   "source": [
    "##### портрет пользователя: Северная Америка:\n",
    "* Топ-5 жанров: **action**,\tsports,\tshooter, platform, misc\n",
    "* Топ-5 платформ: **x360**, ps2, wii, ps3, ds\t\n",
    "* рейтинг ESRB (категория игр): **\"Для всех\"**\n",
    "* Годы наибольшей покупательской активности: начиная с 1996, Топ-5: 2006-2010"
   ]
  },
  {
   "cell_type": "markdown",
   "metadata": {},
   "source": [
    "#### Для Европы"
   ]
  },
  {
   "cell_type": "code",
   "execution_count": 34,
   "metadata": {},
   "outputs": [
    {
     "data": {
      "text/html": [
       "<div>\n",
       "<style scoped>\n",
       "    .dataframe tbody tr th:only-of-type {\n",
       "        vertical-align: middle;\n",
       "    }\n",
       "\n",
       "    .dataframe tbody tr th {\n",
       "        vertical-align: top;\n",
       "    }\n",
       "\n",
       "    .dataframe thead tr th {\n",
       "        text-align: left;\n",
       "    }\n",
       "\n",
       "    .dataframe thead tr:last-of-type th {\n",
       "        text-align: right;\n",
       "    }\n",
       "</style>\n",
       "<table border=\"1\" class=\"dataframe\">\n",
       "  <thead>\n",
       "    <tr>\n",
       "      <th></th>\n",
       "      <th>sum</th>\n",
       "    </tr>\n",
       "    <tr>\n",
       "      <th></th>\n",
       "      <th>eu_players</th>\n",
       "    </tr>\n",
       "    <tr>\n",
       "      <th>genre</th>\n",
       "      <th></th>\n",
       "    </tr>\n",
       "  </thead>\n",
       "  <tbody>\n",
       "    <tr>\n",
       "      <th>action</th>\n",
       "      <td>519.13</td>\n",
       "    </tr>\n",
       "    <tr>\n",
       "      <th>sports</th>\n",
       "      <td>376.79</td>\n",
       "    </tr>\n",
       "    <tr>\n",
       "      <th>shooter</th>\n",
       "      <td>317.34</td>\n",
       "    </tr>\n",
       "    <tr>\n",
       "      <th>racing</th>\n",
       "      <td>236.51</td>\n",
       "    </tr>\n",
       "    <tr>\n",
       "      <th>misc</th>\n",
       "      <td>212.74</td>\n",
       "    </tr>\n",
       "  </tbody>\n",
       "</table>\n",
       "</div>"
      ],
      "text/plain": [
       "               sum\n",
       "        eu_players\n",
       "genre             \n",
       "action      519.13\n",
       "sports      376.79\n",
       "shooter     317.34\n",
       "racing      236.51\n",
       "misc        212.74"
      ]
     },
     "execution_count": 34,
     "metadata": {},
     "output_type": "execute_result"
    }
   ],
   "source": [
    "# Топ-5 жанров\n",
    "top_rating('genre', 'eu_players', 'sum')"
   ]
  },
  {
   "cell_type": "code",
   "execution_count": 35,
   "metadata": {},
   "outputs": [
    {
     "data": {
      "text/html": [
       "<div>\n",
       "<style scoped>\n",
       "    .dataframe tbody tr th:only-of-type {\n",
       "        vertical-align: middle;\n",
       "    }\n",
       "\n",
       "    .dataframe tbody tr th {\n",
       "        vertical-align: top;\n",
       "    }\n",
       "\n",
       "    .dataframe thead tr th {\n",
       "        text-align: left;\n",
       "    }\n",
       "\n",
       "    .dataframe thead tr:last-of-type th {\n",
       "        text-align: right;\n",
       "    }\n",
       "</style>\n",
       "<table border=\"1\" class=\"dataframe\">\n",
       "  <thead>\n",
       "    <tr>\n",
       "      <th></th>\n",
       "      <th>sum</th>\n",
       "    </tr>\n",
       "    <tr>\n",
       "      <th></th>\n",
       "      <th>eu_players</th>\n",
       "    </tr>\n",
       "    <tr>\n",
       "      <th>platform</th>\n",
       "      <th></th>\n",
       "    </tr>\n",
       "  </thead>\n",
       "  <tbody>\n",
       "    <tr>\n",
       "      <th>ps2</th>\n",
       "      <td>339.29</td>\n",
       "    </tr>\n",
       "    <tr>\n",
       "      <th>ps3</th>\n",
       "      <td>330.29</td>\n",
       "    </tr>\n",
       "    <tr>\n",
       "      <th>x360</th>\n",
       "      <td>270.76</td>\n",
       "    </tr>\n",
       "    <tr>\n",
       "      <th>wii</th>\n",
       "      <td>262.21</td>\n",
       "    </tr>\n",
       "    <tr>\n",
       "      <th>ps</th>\n",
       "      <td>213.61</td>\n",
       "    </tr>\n",
       "  </tbody>\n",
       "</table>\n",
       "</div>"
      ],
      "text/plain": [
       "                sum\n",
       "         eu_players\n",
       "platform           \n",
       "ps2          339.29\n",
       "ps3          330.29\n",
       "x360         270.76\n",
       "wii          262.21\n",
       "ps           213.61"
      ]
     },
     "execution_count": 35,
     "metadata": {},
     "output_type": "execute_result"
    }
   ],
   "source": [
    "# Топ-5 платформ\n",
    "top_rating('platform', 'eu_players', 'sum')"
   ]
  },
  {
   "cell_type": "code",
   "execution_count": 36,
   "metadata": {},
   "outputs": [
    {
     "data": {
      "text/html": [
       "<div>\n",
       "<style scoped>\n",
       "    .dataframe tbody tr th:only-of-type {\n",
       "        vertical-align: middle;\n",
       "    }\n",
       "\n",
       "    .dataframe tbody tr th {\n",
       "        vertical-align: top;\n",
       "    }\n",
       "\n",
       "    .dataframe thead tr th {\n",
       "        text-align: left;\n",
       "    }\n",
       "\n",
       "    .dataframe thead tr:last-of-type th {\n",
       "        text-align: right;\n",
       "    }\n",
       "</style>\n",
       "<table border=\"1\" class=\"dataframe\">\n",
       "  <thead>\n",
       "    <tr>\n",
       "      <th></th>\n",
       "      <th>sum</th>\n",
       "    </tr>\n",
       "    <tr>\n",
       "      <th></th>\n",
       "      <th>eu_players</th>\n",
       "    </tr>\n",
       "    <tr>\n",
       "      <th>rating</th>\n",
       "      <th></th>\n",
       "    </tr>\n",
       "  </thead>\n",
       "  <tbody>\n",
       "    <tr>\n",
       "      <th>e</th>\n",
       "      <td>710.25</td>\n",
       "    </tr>\n",
       "    <tr>\n",
       "      <th>rp</th>\n",
       "      <td>613.38</td>\n",
       "    </tr>\n",
       "    <tr>\n",
       "      <th>m</th>\n",
       "      <td>483.97</td>\n",
       "    </tr>\n",
       "    <tr>\n",
       "      <th>t</th>\n",
       "      <td>427.03</td>\n",
       "    </tr>\n",
       "    <tr>\n",
       "      <th>e10+</th>\n",
       "      <td>188.52</td>\n",
       "    </tr>\n",
       "  </tbody>\n",
       "</table>\n",
       "</div>"
      ],
      "text/plain": [
       "              sum\n",
       "       eu_players\n",
       "rating           \n",
       "e          710.25\n",
       "rp         613.38\n",
       "m          483.97\n",
       "t          427.03\n",
       "e10+       188.52"
      ]
     },
     "execution_count": 36,
     "metadata": {},
     "output_type": "execute_result"
    }
   ],
   "source": [
    "# Топ-5 рейтинг ESRB\n",
    "top_rating('rating', 'eu_players', 'sum')"
   ]
  },
  {
   "cell_type": "code",
   "execution_count": 37,
   "metadata": {},
   "outputs": [
    {
     "data": {
      "image/png": "[encoded data removed]",
      "text/plain": [
       "<Figure size 864x720 with 1 Axes>"
      ]
     },
     "metadata": {
      "needs_background": "light"
     },
     "output_type": "display_data"
    }
   ],
   "source": [
    "# Распределение покупок пользователей по годам\n",
    "(games\n",
    "   .pivot_table(index='year_of_release', values='eu_players',\n",
    "                aggfunc='sum')\n",
    "   .sort_values(by='year_of_release', ascending=True)\n",
    "   .plot(kind='bar',figsize=(12, 10), fontsize=15, color='navy')\n",
    ")\n",
    "plt.title('Продажи игр по годам (в млн.долл) для Европы', fontsize=15, color='navy')\n",
    "plt.legend(fontsize=15);"
   ]
  },
  {
   "cell_type": "markdown",
   "metadata": {},
   "source": [
    "##### портрет пользователя: Европа:\n",
    "* Топ-5 жанров: **action**,\tsports,\tshooter, racing, misc\n",
    "* Топ-5 платформ: **ps2**, ps3, x360,\twii, ps\t\n",
    "* рейтинг ESRB (категория игр): **\"Для всех\"**\n",
    "* Годы наибольшей покупательской активности: начиная с 1996, Топ-5: 2007-2011"
   ]
  },
  {
   "cell_type": "markdown",
   "metadata": {},
   "source": [
    "#### Для России"
   ]
  },
  {
   "cell_type": "code",
   "execution_count": 38,
   "metadata": {},
   "outputs": [
    {
     "data": {
      "text/html": [
       "<div>\n",
       "<style scoped>\n",
       "    .dataframe tbody tr th:only-of-type {\n",
       "        vertical-align: middle;\n",
       "    }\n",
       "\n",
       "    .dataframe tbody tr th {\n",
       "        vertical-align: top;\n",
       "    }\n",
       "\n",
       "    .dataframe thead tr th {\n",
       "        text-align: left;\n",
       "    }\n",
       "\n",
       "    .dataframe thead tr:last-of-type th {\n",
       "        text-align: right;\n",
       "    }\n",
       "</style>\n",
       "<table border=\"1\" class=\"dataframe\">\n",
       "  <thead>\n",
       "    <tr>\n",
       "      <th></th>\n",
       "      <th>sum</th>\n",
       "    </tr>\n",
       "    <tr>\n",
       "      <th></th>\n",
       "      <th>ru_players</th>\n",
       "    </tr>\n",
       "    <tr>\n",
       "      <th>genre</th>\n",
       "      <th></th>\n",
       "    </tr>\n",
       "  </thead>\n",
       "  <tbody>\n",
       "    <tr>\n",
       "      <th>role-playing</th>\n",
       "      <td>355.46</td>\n",
       "    </tr>\n",
       "    <tr>\n",
       "      <th>action</th>\n",
       "      <td>161.44</td>\n",
       "    </tr>\n",
       "    <tr>\n",
       "      <th>sports</th>\n",
       "      <td>135.54</td>\n",
       "    </tr>\n",
       "    <tr>\n",
       "      <th>platform</th>\n",
       "      <td>130.83</td>\n",
       "    </tr>\n",
       "    <tr>\n",
       "      <th>misc</th>\n",
       "      <td>108.11</td>\n",
       "    </tr>\n",
       "  </tbody>\n",
       "</table>\n",
       "</div>"
      ],
      "text/plain": [
       "                    sum\n",
       "             ru_players\n",
       "genre                  \n",
       "role-playing     355.46\n",
       "action           161.44\n",
       "sports           135.54\n",
       "platform         130.83\n",
       "misc             108.11"
      ]
     },
     "execution_count": 38,
     "metadata": {},
     "output_type": "execute_result"
    }
   ],
   "source": [
    "# Топ-5 жанров\n",
    "top_rating('genre', 'ru_players', 'sum')"
   ]
  },
  {
   "cell_type": "code",
   "execution_count": 39,
   "metadata": {},
   "outputs": [
    {
     "data": {
      "text/html": [
       "<div>\n",
       "<style scoped>\n",
       "    .dataframe tbody tr th:only-of-type {\n",
       "        vertical-align: middle;\n",
       "    }\n",
       "\n",
       "    .dataframe tbody tr th {\n",
       "        vertical-align: top;\n",
       "    }\n",
       "\n",
       "    .dataframe thead tr th {\n",
       "        text-align: left;\n",
       "    }\n",
       "\n",
       "    .dataframe thead tr:last-of-type th {\n",
       "        text-align: right;\n",
       "    }\n",
       "</style>\n",
       "<table border=\"1\" class=\"dataframe\">\n",
       "  <thead>\n",
       "    <tr>\n",
       "      <th></th>\n",
       "      <th>sum</th>\n",
       "    </tr>\n",
       "    <tr>\n",
       "      <th></th>\n",
       "      <th>ru_players</th>\n",
       "    </tr>\n",
       "    <tr>\n",
       "      <th>platform</th>\n",
       "      <th></th>\n",
       "    </tr>\n",
       "  </thead>\n",
       "  <tbody>\n",
       "    <tr>\n",
       "      <th>ds</th>\n",
       "      <td>175.57</td>\n",
       "    </tr>\n",
       "    <tr>\n",
       "      <th>ps</th>\n",
       "      <td>139.82</td>\n",
       "    </tr>\n",
       "    <tr>\n",
       "      <th>ps2</th>\n",
       "      <td>139.20</td>\n",
       "    </tr>\n",
       "    <tr>\n",
       "      <th>snes</th>\n",
       "      <td>116.55</td>\n",
       "    </tr>\n",
       "    <tr>\n",
       "      <th>3ds</th>\n",
       "      <td>100.67</td>\n",
       "    </tr>\n",
       "  </tbody>\n",
       "</table>\n",
       "</div>"
      ],
      "text/plain": [
       "                sum\n",
       "         ru_players\n",
       "platform           \n",
       "ds           175.57\n",
       "ps           139.82\n",
       "ps2          139.20\n",
       "snes         116.55\n",
       "3ds          100.67"
      ]
     },
     "execution_count": 39,
     "metadata": {},
     "output_type": "execute_result"
    }
   ],
   "source": [
    "# Топ-5 платформ\n",
    "top_rating('platform', 'ru_players', 'sum')"
   ]
  },
  {
   "cell_type": "code",
   "execution_count": 40,
   "metadata": {},
   "outputs": [
    {
     "data": {
      "text/html": [
       "<div>\n",
       "<style scoped>\n",
       "    .dataframe tbody tr th:only-of-type {\n",
       "        vertical-align: middle;\n",
       "    }\n",
       "\n",
       "    .dataframe tbody tr th {\n",
       "        vertical-align: top;\n",
       "    }\n",
       "\n",
       "    .dataframe thead tr th {\n",
       "        text-align: left;\n",
       "    }\n",
       "\n",
       "    .dataframe thead tr:last-of-type th {\n",
       "        text-align: right;\n",
       "    }\n",
       "</style>\n",
       "<table border=\"1\" class=\"dataframe\">\n",
       "  <thead>\n",
       "    <tr>\n",
       "      <th></th>\n",
       "      <th>sum</th>\n",
       "    </tr>\n",
       "    <tr>\n",
       "      <th></th>\n",
       "      <th>ru_players</th>\n",
       "    </tr>\n",
       "    <tr>\n",
       "      <th>rating</th>\n",
       "      <th></th>\n",
       "    </tr>\n",
       "  </thead>\n",
       "  <tbody>\n",
       "    <tr>\n",
       "      <th>rp</th>\n",
       "      <td>841.99</td>\n",
       "    </tr>\n",
       "    <tr>\n",
       "      <th>e</th>\n",
       "      <td>198.11</td>\n",
       "    </tr>\n",
       "    <tr>\n",
       "      <th>t</th>\n",
       "      <td>151.40</td>\n",
       "    </tr>\n",
       "    <tr>\n",
       "      <th>m</th>\n",
       "      <td>64.24</td>\n",
       "    </tr>\n",
       "    <tr>\n",
       "      <th>e10+</th>\n",
       "      <td>40.20</td>\n",
       "    </tr>\n",
       "  </tbody>\n",
       "</table>\n",
       "</div>"
      ],
      "text/plain": [
       "              sum\n",
       "       ru_players\n",
       "rating           \n",
       "rp         841.99\n",
       "e          198.11\n",
       "t          151.40\n",
       "m           64.24\n",
       "e10+        40.20"
      ]
     },
     "execution_count": 40,
     "metadata": {},
     "output_type": "execute_result"
    }
   ],
   "source": [
    "# Топ-5 рейтинг ESRB\n",
    "top_rating('rating', 'ru_players', 'sum')"
   ]
  },
  {
   "cell_type": "code",
   "execution_count": 41,
   "metadata": {},
   "outputs": [
    {
     "data": {
      "image/png": "[encoded data removed]",
      "text/plain": [
       "<Figure size 864x720 with 1 Axes>"
      ]
     },
     "metadata": {
      "needs_background": "light"
     },
     "output_type": "display_data"
    }
   ],
   "source": [
    "# Распределение покупок пользователей по годам\n",
    "(games\n",
    "   .pivot_table(index='year_of_release', values='ru_players',\n",
    "                aggfunc='sum')\n",
    "   .sort_values(by='year_of_release', ascending=True)\n",
    "   .plot(kind='bar',figsize=(12, 10), fontsize=15, color='navy')\n",
    ")\n",
    "plt.title('Продажи игр по годам (в млн.долл) для России', fontsize=15, color='navy')\n",
    "plt.legend(fontsize=15);"
   ]
  },
  {
   "cell_type": "markdown",
   "metadata": {},
   "source": [
    "##### портрет пользователя: Россия:\n",
    "* Топ-5 жанров: **role-playing**, action, sports, platform, misc\n",
    "* Топ-5 платформ: **ds**,ps, ps2, snes, 3ds\t\t\n",
    "* рейтинг ESRB (категория игр): рейтинг ожидается, затем **\"Для всех\"**\n",
    "* Годы наибольшей покупательской активности:  1996, 1999, 2005, 2006 "
   ]
  },
  {
   "cell_type": "markdown",
   "metadata": {},
   "source": [
    "#### Другие страны"
   ]
  },
  {
   "cell_type": "code",
   "execution_count": 42,
   "metadata": {},
   "outputs": [
    {
     "data": {
      "text/html": [
       "<div>\n",
       "<style scoped>\n",
       "    .dataframe tbody tr th:only-of-type {\n",
       "        vertical-align: middle;\n",
       "    }\n",
       "\n",
       "    .dataframe tbody tr th {\n",
       "        vertical-align: top;\n",
       "    }\n",
       "\n",
       "    .dataframe thead tr th {\n",
       "        text-align: left;\n",
       "    }\n",
       "\n",
       "    .dataframe thead tr:last-of-type th {\n",
       "        text-align: right;\n",
       "    }\n",
       "</style>\n",
       "<table border=\"1\" class=\"dataframe\">\n",
       "  <thead>\n",
       "    <tr>\n",
       "      <th></th>\n",
       "      <th>sum</th>\n",
       "    </tr>\n",
       "    <tr>\n",
       "      <th></th>\n",
       "      <th>other_players</th>\n",
       "    </tr>\n",
       "    <tr>\n",
       "      <th>genre</th>\n",
       "      <th></th>\n",
       "    </tr>\n",
       "  </thead>\n",
       "  <tbody>\n",
       "    <tr>\n",
       "      <th>action</th>\n",
       "      <td>184.60</td>\n",
       "    </tr>\n",
       "    <tr>\n",
       "      <th>sports</th>\n",
       "      <td>134.51</td>\n",
       "    </tr>\n",
       "    <tr>\n",
       "      <th>shooter</th>\n",
       "      <td>104.11</td>\n",
       "    </tr>\n",
       "    <tr>\n",
       "      <th>racing</th>\n",
       "      <td>76.10</td>\n",
       "    </tr>\n",
       "    <tr>\n",
       "      <th>misc</th>\n",
       "      <td>74.39</td>\n",
       "    </tr>\n",
       "  </tbody>\n",
       "</table>\n",
       "</div>"
      ],
      "text/plain": [
       "                  sum\n",
       "        other_players\n",
       "genre                \n",
       "action         184.60\n",
       "sports         134.51\n",
       "shooter        104.11\n",
       "racing          76.10\n",
       "misc            74.39"
      ]
     },
     "execution_count": 42,
     "metadata": {},
     "output_type": "execute_result"
    }
   ],
   "source": [
    "# Топ-5 жанров\n",
    "top_rating('genre', 'other_players', 'sum')"
   ]
  },
  {
   "cell_type": "code",
   "execution_count": 43,
   "metadata": {},
   "outputs": [
    {
     "data": {
      "text/html": [
       "<div>\n",
       "<style scoped>\n",
       "    .dataframe tbody tr th:only-of-type {\n",
       "        vertical-align: middle;\n",
       "    }\n",
       "\n",
       "    .dataframe tbody tr th {\n",
       "        vertical-align: top;\n",
       "    }\n",
       "\n",
       "    .dataframe thead tr th {\n",
       "        text-align: left;\n",
       "    }\n",
       "\n",
       "    .dataframe thead tr:last-of-type th {\n",
       "        text-align: right;\n",
       "    }\n",
       "</style>\n",
       "<table border=\"1\" class=\"dataframe\">\n",
       "  <thead>\n",
       "    <tr>\n",
       "      <th></th>\n",
       "      <th>sum</th>\n",
       "    </tr>\n",
       "    <tr>\n",
       "      <th></th>\n",
       "      <th>other_players</th>\n",
       "    </tr>\n",
       "    <tr>\n",
       "      <th>platform</th>\n",
       "      <th></th>\n",
       "    </tr>\n",
       "  </thead>\n",
       "  <tbody>\n",
       "    <tr>\n",
       "      <th>ps2</th>\n",
       "      <td>193.44</td>\n",
       "    </tr>\n",
       "    <tr>\n",
       "      <th>ps3</th>\n",
       "      <td>135.68</td>\n",
       "    </tr>\n",
       "    <tr>\n",
       "      <th>x360</th>\n",
       "      <td>85.76</td>\n",
       "    </tr>\n",
       "    <tr>\n",
       "      <th>wii</th>\n",
       "      <td>79.07</td>\n",
       "    </tr>\n",
       "    <tr>\n",
       "      <th>ds</th>\n",
       "      <td>59.28</td>\n",
       "    </tr>\n",
       "  </tbody>\n",
       "</table>\n",
       "</div>"
      ],
      "text/plain": [
       "                   sum\n",
       "         other_players\n",
       "platform              \n",
       "ps2             193.44\n",
       "ps3             135.68\n",
       "x360             85.76\n",
       "wii              79.07\n",
       "ds               59.28"
      ]
     },
     "execution_count": 43,
     "metadata": {},
     "output_type": "execute_result"
    }
   ],
   "source": [
    "# Топ-5 платформ\n",
    "top_rating('platform', 'other_players', 'sum')"
   ]
  },
  {
   "cell_type": "code",
   "execution_count": 44,
   "metadata": {},
   "outputs": [
    {
     "data": {
      "text/html": [
       "<div>\n",
       "<style scoped>\n",
       "    .dataframe tbody tr th:only-of-type {\n",
       "        vertical-align: middle;\n",
       "    }\n",
       "\n",
       "    .dataframe tbody tr th {\n",
       "        vertical-align: top;\n",
       "    }\n",
       "\n",
       "    .dataframe thead tr th {\n",
       "        text-align: left;\n",
       "    }\n",
       "\n",
       "    .dataframe thead tr:last-of-type th {\n",
       "        text-align: right;\n",
       "    }\n",
       "</style>\n",
       "<table border=\"1\" class=\"dataframe\">\n",
       "  <thead>\n",
       "    <tr>\n",
       "      <th></th>\n",
       "      <th>sum</th>\n",
       "    </tr>\n",
       "    <tr>\n",
       "      <th></th>\n",
       "      <th>other_players</th>\n",
       "    </tr>\n",
       "    <tr>\n",
       "      <th>rating</th>\n",
       "      <th></th>\n",
       "    </tr>\n",
       "  </thead>\n",
       "  <tbody>\n",
       "    <tr>\n",
       "      <th>e</th>\n",
       "      <td>234.19</td>\n",
       "    </tr>\n",
       "    <tr>\n",
       "      <th>m</th>\n",
       "      <td>177.10</td>\n",
       "    </tr>\n",
       "    <tr>\n",
       "      <th>t</th>\n",
       "      <td>155.17</td>\n",
       "    </tr>\n",
       "    <tr>\n",
       "      <th>rp</th>\n",
       "      <td>151.01</td>\n",
       "    </tr>\n",
       "    <tr>\n",
       "      <th>e10+</th>\n",
       "      <td>73.56</td>\n",
       "    </tr>\n",
       "  </tbody>\n",
       "</table>\n",
       "</div>"
      ],
      "text/plain": [
       "                 sum\n",
       "       other_players\n",
       "rating              \n",
       "e             234.19\n",
       "m             177.10\n",
       "t             155.17\n",
       "rp            151.01\n",
       "e10+           73.56"
      ]
     },
     "execution_count": 44,
     "metadata": {},
     "output_type": "execute_result"
    }
   ],
   "source": [
    "# Топ-5 рейтинг ESRB\n",
    "top_rating('rating', 'other_players', 'sum')"
   ]
  },
  {
   "cell_type": "code",
   "execution_count": 45,
   "metadata": {},
   "outputs": [
    {
     "data": {
      "image/png": "[encoded data removed]",
      "text/plain": [
       "<Figure size 864x720 with 1 Axes>"
      ]
     },
     "metadata": {
      "needs_background": "light"
     },
     "output_type": "display_data"
    }
   ],
   "source": [
    "# Распределение покупок пользователей по годам\n",
    "(games\n",
    "   .pivot_table(index='year_of_release', values='other_players',\n",
    "                aggfunc='count')\n",
    "   .sort_values(by='year_of_release', ascending=True)\n",
    "   .plot(kind='bar',figsize=(12, 10), fontsize=15, color='navy')\n",
    ")\n",
    "plt.title('Продажи игр по годам (в млн.долл) для других стран', fontsize=15, color='navy')\n",
    "plt.legend(fontsize=15);"
   ]
  },
  {
   "cell_type": "markdown",
   "metadata": {},
   "source": [
    "##### портрет пользователя: Другие страны:\n",
    "* Топ-5 жанров: **action**,\tsports,\tshooter, racing, misc\n",
    "* Топ-5 платформ: **ps2**, ps3, x360, wii, ds\t\n",
    "* рейтинг ESRB (категория игр): **\"Для всех\"**\n",
    "* Годы наибольшей покупательской активности: начиная с 1996, Топ-5: 2007-2011"
   ]
  },
  {
   "cell_type": "markdown",
   "metadata": {},
   "source": [
    "### Шаг 5.  Гипотезы"
   ]
  },
  {
   "cell_type": "markdown",
   "metadata": {},
   "source": [
    "* средний пользовательский рейтинг платформ PS2 и PS3 одинаковый;\n",
    "* средний пользовательский рейтинг жанров Action и Sports различается."
   ]
  },
  {
   "cell_type": "code",
   "execution_count": 46,
   "metadata": {},
   "outputs": [],
   "source": [
    "# Создадим выборку по условиям для платформы ps2\n",
    "games_ps2 = games.query('user_score > 0 and platform==\"ps2\"')\n",
    "games_ps2_final = games_ps2['user_score']\n",
    "# Создадим выборку по условиям для платформы ps3\n",
    "games_ps3 = games.query('user_score > 0 and platform==\"ps3\"')\n",
    "games_ps3_final = games_ps3['user_score']\n",
    "\n",
    "# Создадим выборку по условиям для жанра Action\n",
    "games_action = games.query('user_score > 0 and genre==\"action\"')\n",
    "games_action_final = games_action['user_score']\n",
    "# Создадим выборку по условиям для жанра Sport\n",
    "games_sports = games.query('user_score > 0 and genre==\"sports\"')\n",
    "games_sports_final = games_sports['user_score']\n",
    "\n",
    "# Функция для проверки p-value\n",
    "\n",
    "def ttest_independent(df1, df2):\n",
    "    alpha = 0.05\n",
    "    results = st.ttest_ind(df1, df2)\n",
    "    if results.pvalue < alpha:\n",
    "        print(\"Отвергаем нулевую гипотезу, p-value:\", results.pvalue)\n",
    "    else:\n",
    "        print(\"Не получилось отвергнуть нулевую гипотезу,  p-value:\", results.pvalue)\n"
   ]
  },
  {
   "cell_type": "markdown",
   "metadata": {},
   "source": [
    "#### Гипотезы о равенстве средних двух независимых совокупностей\n",
    "* Будем проверять **средние пользовательские рейтинги** \n",
    "    * для игровых платформ PS2 и PS3\n",
    "    * для жанров Action и Sports\n",
    "* обозначим их `АR`( от англ. `average revenue`)\n"
   ]
  },
  {
   "cell_type": "markdown",
   "metadata": {},
   "source": [
    "#### Платформы\n",
    "-----------\n",
    "* Нулевая гипотеза Н0: **AR(PS2) = AR(PS3)**\n",
    "\n",
    "* Альтернативная гипотеза Н1: **AR(PS2) != AR(PS3)**\n",
    "---------\n"
   ]
  },
  {
   "cell_type": "code",
   "execution_count": 47,
   "metadata": {},
   "outputs": [
    {
     "name": "stdout",
     "output_type": "stream",
     "text": [
      "Отвергаем нулевую гипотезу, p-value: 1.5742610791426753e-47\n"
     ]
    }
   ],
   "source": [
    "# Проверяем гипотезу\n",
    "ttest_independent(games_ps2_final, games_ps3_final)"
   ]
  },
  {
   "cell_type": "code",
   "execution_count": 48,
   "metadata": {},
   "outputs": [
    {
     "name": "stdout",
     "output_type": "stream",
     "text": [
      "Средний пользовательский рейтинг \"PS2\": 8.0\n",
      "Средний пользовательский рейтинг \"PS3\": 7.0\n"
     ]
    }
   ],
   "source": [
    "# Рассчитаем средние пользовательские рейтинги для игровых платформ ps2, ps3\n",
    "print('Средний пользовательский рейтинг \"PS2\":', games_ps2_final.mean().round())\n",
    "print('Средний пользовательский рейтинг \"PS3\":', games_ps3_final.mean().round())"
   ]
  },
  {
   "cell_type": "markdown",
   "metadata": {},
   "source": [
    "#### Жанры\n",
    "-----------\n",
    "* Нулевая гипотеза Н0: **AR(Sports) = AR(Action)**\n",
    "\n",
    "* Альтернативная гипотеза Н1: **AR(Sports) != AR(Action)**\n",
    "---------\n"
   ]
  },
  {
   "cell_type": "code",
   "execution_count": 49,
   "metadata": {},
   "outputs": [
    {
     "name": "stdout",
     "output_type": "stream",
     "text": [
      "Не получилось отвергнуть нулевую гипотезу,  p-value: 0.10406951359049141\n"
     ]
    }
   ],
   "source": [
    "# Проверяем гипотезу\n",
    "ttest_independent(games_action_final, games_sports_final)"
   ]
  },
  {
   "cell_type": "code",
   "execution_count": 50,
   "metadata": {},
   "outputs": [
    {
     "name": "stdout",
     "output_type": "stream",
     "text": [
      "Средний пользовательский рейтинг жанра \"Sports\": 7.0\n",
      "Средний пользовательский рейтинг жанра \"Action\": 7.0\n"
     ]
    }
   ],
   "source": [
    "print('Средний пользовательский рейтинг жанра \"Sports\":', games_sports_final.mean().round())\n",
    "print('Средний пользовательский рейтинг жанра \"Action\":', games_action_final.mean().round())"
   ]
  },
  {
   "cell_type": "markdown",
   "metadata": {},
   "source": [
    "### Общий вывод:\n",
    "---------------\n",
    "#### 1) Общая характеристика\n",
    "* Начиная **с 1993 года наблюдается резкий рост количества выпускаемых игр, максимум достигается в 2008-2009 году (более 650 млн.долл)**, после чего происходит резкий обвал рынка -- количество выпускаемых игр в год быстро убывает\n",
    "  * Возможно, что падение обусловлено мировым финасовым кризисом 2008-2009 гг.\n",
    "  * Дальнейшее снижение может быть также связано с оттоком пользователей, например к мобильным играм или онлайн-играм\n",
    "* Медианное значение глобальных продаж игр расположено около 180 млн.долл\n",
    "* **Больше всего игр было выпущено на платформе `ps2` (PlayStation2)**\n",
    "* **Лидерами являются игры жанра `экшн`** \n",
    "---------\n",
    "###### 1.1 пользовательская оценка\n",
    " *Шкала 0 - 10 баллов*\n",
    " * Наименьшую оценку: `0.2`, пользователи поставили двум играм:**madden nfl 17** и **myth makers: trixie in toyland**\n",
    " * Наибольшую оценку: `9.7`, пользователи поставили игре **breath of fire iii**\n",
    " --------------\n",
    "###### 1.2 экспертная оценка\n",
    " *Шкала 0 - 100 баллов*\n",
    " * Наименьшую оценку: `13`, критики поставили игре: **ride to hell**\n",
    " * Наибольшую оценку: `98`, критики поставили сразу 3-м играм **grand theft auto iv**,  **soulcalibur**,  **tony hawk's pro skater 2**\n",
    "------------\n",
    " * Корреляция между оценками пользователей и критиков средняя `63 %`\n",
    " * Лидеры и аутсайдеры у пользователей и критиков различаются\n",
    "-------------\n",
    "#### 2) Портрет пользователя\n",
    "----------------\n",
    "##### 2.1 Северная Америка:\n",
    "* Топ-5 жанров: **action**,\tsports,\tshooter, platform, misc\n",
    "* Топ-5 платформ: **x360**, ps2, wii, ps3, ds\t\n",
    "* рейтинг ESRB (категория игр): **\"Для всех\"**\n",
    "* Годы наибольшей покупательской активности: начиная с 1996, Топ-5: 2006-2010\n",
    "----------------------\n",
    "##### 2.2 Европа:\n",
    "* Топ-5 жанров: **action**,\tsports,\tshooter, racing, misc\n",
    "* Топ-5 платформ: **ps2**, ps3, x360,\twii, ps\t\n",
    "* рейтинг ESRB (категория игр): **\"Для всех\"**\n",
    "* Годы наибольшей покупательской активности: начиная с 1996, Топ-5: 2007-2011\n",
    "-------------------------\n",
    "##### 2.3 Россия:\n",
    "* Топ-5 жанров: **role-playing**, action, sports, platform, misc\n",
    "* Топ-5 платформ: **ds**,ps, ps2, snes, 3ds\t\t\n",
    "* рейтинг ESRB (категория игр): рейтинг ожидается, затем **\"Для всех\"**\n",
    "* Годы наибольшей покупательской активности:  1996, 1999, 2005, 2006 \n",
    "--------------------------\n",
    "##### 2.4 Другие страны:\n",
    "* Топ-5 жанров: **action**,\tsports,\tshooter, racing, misc\n",
    "* Топ-5 платформ: **ps2**, ps3, x360, wii, ds\t\n",
    "* рейтинг ESRB (категория игр): **\"Для всех\"**\n",
    "* Годы наибольшей покупательской активности: начиная с 1996, Топ-5: 2007-2011\n",
    "-----------------\n",
    "#### 3) Гипотезы\n",
    "-----------------\n",
    "#####  3.1 Платформы\n",
    "-----------\n",
    "* Нулевая гипотеза Н0: **AR(PS2) = AR(PS3)**\n",
    "\n",
    "* Альтернативная гипотеза Н1: **AR(PS2) != AR(PS3)**\n",
    "---------\n",
    "* Отвергаем нулевую гипотезу, p-value: 1.5742610791426753e-47\n",
    "* **Средний пользовательский рейтинг \"PS2\": 8.0**\n",
    "* **Средний пользовательский рейтинг \"PS3\": 7.0**\n",
    "##### 3.2 Жанры\n",
    "-----------\n",
    "* Нулевая гипотеза Н0: **AR(Sports) = AR(Action)**\n",
    "\n",
    "* Альтернативная гипотеза Н1: **AR(Sports) != AR(Action)**\n",
    "---------\n",
    "* Не получилось отвергнуть нулевую гипотезу,  p-value: 0.10406951359049141\n",
    "* **Средний пользовательский рейтинг жанра \"Sports\": 7.0**\n",
    "* **Средний пользовательский рейтинг жанра \"Action\": 7.0**"
   ]
  }
 ],
 "metadata": {
  "kernelspec": {
   "display_name": "Python 3",
   "language": "python",
   "name": "python3"
  },
  "language_info": {
   "codemirror_mode": {
    "name": "ipython",
    "version": 3
   },
   "file_extension": ".py",
   "mimetype": "text/x-python",
   "name": "python",
   "nbconvert_exporter": "python",
   "pygments_lexer": "ipython3",
   "version": "3.7.3"
  }
 },
 "nbformat": 4,
 "nbformat_minor": 2
}
