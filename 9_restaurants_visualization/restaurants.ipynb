{
 "cells": [
  {
   "cell_type": "markdown",
   "metadata": {},
   "source": [
    "### Исследование заведений общественного питания (визуализация результатов анализа данных)\n",
    "--------------------------\n"
   ]
  },
  {
   "cell_type": "markdown",
   "metadata": {},
   "source": [
    "<a id='start'></a>"
   ]
  },
  {
   "cell_type": "markdown",
   "metadata": {},
   "source": [
    "#### Содержание"
   ]
  },
  {
   "cell_type": "markdown",
   "metadata": {},
   "source": [
    "* [Презентация](https://yadi.sk/i/Yt6KjhDzTRx31w)\n",
    "* [Файл с адресами](#msk_data)\n",
    "\n",
    " * [1. Предобработка](#1)\n",
    " * [2. Анализ данных](#2) \n",
    " * [3. Выводы](#3)\n"
   ]
  },
  {
   "cell_type": "markdown",
   "metadata": {},
   "source": [
    "#### 1. Предобработка данных\n",
    "<a id='1'></a>"
   ]
  },
  {
   "cell_type": "code",
   "execution_count": 1,
   "metadata": {},
   "outputs": [],
   "source": [
    "# Импортируем необходимые библиотеки \n",
    "import pandas as pd\n",
    "import numpy as np\n",
    "import seaborn as sns\n",
    "import matplotlib.pyplot as plt\n",
    "# Задание параметров для графиков в seaborn\n",
    "plt.style.use('tableau-colorblind10')\n",
    "sns.set_palette('colorblind')\n",
    "sns.set_context(\"talk\")\n",
    "# Своя палитра\n",
    "my_palette = ['#e15f41', '#786fa6', '#9b59b6', '#e74c3c', '#7f8c8d']\n",
    "\n",
    "import warnings\n",
    "warnings.filterwarnings('ignore')\n",
    "\n",
    "pd.set_option('display.max_columns', None)\n",
    "%matplotlib inline\n",
    "\n",
    "# для полного отображения содержимого столбцов\n",
    "pd.set_option('display.max_colwidth', -1)"
   ]
  },
  {
   "cell_type": "code",
   "execution_count": 2,
   "metadata": {},
   "outputs": [],
   "source": [
    "df = pd.read_csv('/datasets/rest_data.csv')"
   ]
  },
  {
   "cell_type": "code",
   "execution_count": 3,
   "metadata": {},
   "outputs": [
    {
     "data": {
      "text/html": [
       "<div>\n",
       "<style scoped>\n",
       "    .dataframe tbody tr th:only-of-type {\n",
       "        vertical-align: middle;\n",
       "    }\n",
       "\n",
       "    .dataframe tbody tr th {\n",
       "        vertical-align: top;\n",
       "    }\n",
       "\n",
       "    .dataframe thead th {\n",
       "        text-align: right;\n",
       "    }\n",
       "</style>\n",
       "<table border=\"1\" class=\"dataframe\">\n",
       "  <thead>\n",
       "    <tr style=\"text-align: right;\">\n",
       "      <th></th>\n",
       "      <th>id</th>\n",
       "      <th>object_name</th>\n",
       "      <th>chain</th>\n",
       "      <th>object_type</th>\n",
       "      <th>address</th>\n",
       "      <th>number</th>\n",
       "    </tr>\n",
       "  </thead>\n",
       "  <tbody>\n",
       "    <tr>\n",
       "      <td>0</td>\n",
       "      <td>151635</td>\n",
       "      <td>СМЕТАНА</td>\n",
       "      <td>нет</td>\n",
       "      <td>кафе</td>\n",
       "      <td>город Москва, улица Егора Абакумова, дом 9</td>\n",
       "      <td>48</td>\n",
       "    </tr>\n",
       "    <tr>\n",
       "      <td>1</td>\n",
       "      <td>77874</td>\n",
       "      <td>Родник</td>\n",
       "      <td>нет</td>\n",
       "      <td>кафе</td>\n",
       "      <td>город Москва, улица Талалихина, дом 2/1, корпус 1</td>\n",
       "      <td>35</td>\n",
       "    </tr>\n",
       "    <tr>\n",
       "      <td>2</td>\n",
       "      <td>24309</td>\n",
       "      <td>Кафе «Академия»</td>\n",
       "      <td>нет</td>\n",
       "      <td>кафе</td>\n",
       "      <td>город Москва, Абельмановская улица, дом 6</td>\n",
       "      <td>95</td>\n",
       "    </tr>\n",
       "    <tr>\n",
       "      <td>3</td>\n",
       "      <td>21894</td>\n",
       "      <td>ПИЦЦЕТОРИЯ</td>\n",
       "      <td>да</td>\n",
       "      <td>кафе</td>\n",
       "      <td>город Москва, Абрамцевская улица, дом 1</td>\n",
       "      <td>40</td>\n",
       "    </tr>\n",
       "    <tr>\n",
       "      <td>4</td>\n",
       "      <td>119365</td>\n",
       "      <td>Кафе «Вишневая метель»</td>\n",
       "      <td>нет</td>\n",
       "      <td>кафе</td>\n",
       "      <td>город Москва, Абрамцевская улица, дом 9, корпус 1</td>\n",
       "      <td>50</td>\n",
       "    </tr>\n",
       "  </tbody>\n",
       "</table>\n",
       "</div>"
      ],
      "text/plain": [
       "       id             object_name chain object_type  \\\n",
       "0  151635  СМЕТАНА                 нет   кафе         \n",
       "1  77874   Родник                  нет   кафе         \n",
       "2  24309   Кафе «Академия»         нет   кафе         \n",
       "3  21894   ПИЦЦЕТОРИЯ              да    кафе         \n",
       "4  119365  Кафе «Вишневая метель»  нет   кафе         \n",
       "\n",
       "                                             address  number  \n",
       "0  город Москва, улица Егора Абакумова, дом 9         48      \n",
       "1  город Москва, улица Талалихина, дом 2/1, корпус 1  35      \n",
       "2  город Москва, Абельмановская улица, дом 6          95      \n",
       "3  город Москва, Абрамцевская улица, дом 1            40      \n",
       "4  город Москва, Абрамцевская улица, дом 9, корпус 1  50      "
      ]
     },
     "execution_count": 3,
     "metadata": {},
     "output_type": "execute_result"
    }
   ],
   "source": [
    "df.head()"
   ]
  },
  {
   "cell_type": "code",
   "execution_count": 4,
   "metadata": {},
   "outputs": [],
   "source": [
    "def df_look(df):\n",
    "    \"\"\"\n",
    "    Функция для получения общей информации о датафрейме\n",
    "    \"\"\"\n",
    "    print('Первые 3 строки датафрейма')\n",
    "    print('-'*52)\n",
    "    print('{}'.format(df.head(3)))\n",
    "    print('='*52)\n",
    "    print('Размер датафрейма: (строк:столбцов) {}'.format(df.shape))\n",
    "    print('='*52)\n",
    "    print('Типы данных и общая информация')\n",
    "    print('-'*52)\n",
    "    print(df.info())\n",
    "    print('='*52)\n",
    "    print('Наличие дубликатов')\n",
    "    print('='*52)\n",
    "    print(df.duplicated().sum())\n",
    "    print('-'*52)\n",
    "    print('Наличие пропусков')\n",
    "    print('-'*52)\n",
    "    print(df.isna().sum())\n",
    "    print('='*52)"
   ]
  },
  {
   "cell_type": "code",
   "execution_count": 5,
   "metadata": {},
   "outputs": [
    {
     "name": "stdout",
     "output_type": "stream",
     "text": [
      "Первые 3 строки датафрейма\n",
      "----------------------------------------------------\n",
      "       id      object_name chain object_type  \\\n",
      "0  151635  СМЕТАНА          нет   кафе         \n",
      "1  77874   Родник           нет   кафе         \n",
      "2  24309   Кафе «Академия»  нет   кафе         \n",
      "\n",
      "                                             address  number  \n",
      "0  город Москва, улица Егора Абакумова, дом 9         48      \n",
      "1  город Москва, улица Талалихина, дом 2/1, корпус 1  35      \n",
      "2  город Москва, Абельмановская улица, дом 6          95      \n",
      "====================================================\n",
      "Размер датафрейма: (строк:столбцов) (15366, 6)\n",
      "====================================================\n",
      "Типы данных и общая информация\n",
      "----------------------------------------------------\n",
      "<class 'pandas.core.frame.DataFrame'>\n",
      "RangeIndex: 15366 entries, 0 to 15365\n",
      "Data columns (total 6 columns):\n",
      "id             15366 non-null int64\n",
      "object_name    15366 non-null object\n",
      "chain          15366 non-null object\n",
      "object_type    15366 non-null object\n",
      "address        15366 non-null object\n",
      "number         15366 non-null int64\n",
      "dtypes: int64(2), object(4)\n",
      "memory usage: 720.4+ KB\n",
      "None\n",
      "====================================================\n",
      "Наличие дубликатов\n",
      "====================================================\n",
      "0\n",
      "----------------------------------------------------\n",
      "Наличие пропусков\n",
      "----------------------------------------------------\n",
      "id             0\n",
      "object_name    0\n",
      "chain          0\n",
      "object_type    0\n",
      "address        0\n",
      "number         0\n",
      "dtype: int64\n",
      "====================================================\n"
     ]
    }
   ],
   "source": [
    "df_look(df)"
   ]
  },
  {
   "cell_type": "markdown",
   "metadata": {},
   "source": [
    ">Проведем пребразование к нижнему регистру"
   ]
  },
  {
   "cell_type": "code",
   "execution_count": 6,
   "metadata": {},
   "outputs": [],
   "source": [
    "columns=['object_name', 'chain', 'object_type', 'address']\n",
    "for column in columns:\n",
    "    df[column] = df[column].str.lower()"
   ]
  },
  {
   "cell_type": "code",
   "execution_count": 7,
   "metadata": {},
   "outputs": [
    {
     "data": {
      "text/html": [
       "<div>\n",
       "<style scoped>\n",
       "    .dataframe tbody tr th:only-of-type {\n",
       "        vertical-align: middle;\n",
       "    }\n",
       "\n",
       "    .dataframe tbody tr th {\n",
       "        vertical-align: top;\n",
       "    }\n",
       "\n",
       "    .dataframe thead th {\n",
       "        text-align: right;\n",
       "    }\n",
       "</style>\n",
       "<table border=\"1\" class=\"dataframe\">\n",
       "  <thead>\n",
       "    <tr style=\"text-align: right;\">\n",
       "      <th></th>\n",
       "      <th>id</th>\n",
       "      <th>object_name</th>\n",
       "      <th>chain</th>\n",
       "      <th>object_type</th>\n",
       "      <th>address</th>\n",
       "      <th>number</th>\n",
       "    </tr>\n",
       "  </thead>\n",
       "  <tbody>\n",
       "    <tr>\n",
       "      <td>0</td>\n",
       "      <td>151635</td>\n",
       "      <td>сметана</td>\n",
       "      <td>нет</td>\n",
       "      <td>кафе</td>\n",
       "      <td>город москва, улица егора абакумова, дом 9</td>\n",
       "      <td>48</td>\n",
       "    </tr>\n",
       "    <tr>\n",
       "      <td>1</td>\n",
       "      <td>77874</td>\n",
       "      <td>родник</td>\n",
       "      <td>нет</td>\n",
       "      <td>кафе</td>\n",
       "      <td>город москва, улица талалихина, дом 2/1, корпус 1</td>\n",
       "      <td>35</td>\n",
       "    </tr>\n",
       "    <tr>\n",
       "      <td>2</td>\n",
       "      <td>24309</td>\n",
       "      <td>кафе «академия»</td>\n",
       "      <td>нет</td>\n",
       "      <td>кафе</td>\n",
       "      <td>город москва, абельмановская улица, дом 6</td>\n",
       "      <td>95</td>\n",
       "    </tr>\n",
       "    <tr>\n",
       "      <td>3</td>\n",
       "      <td>21894</td>\n",
       "      <td>пиццетория</td>\n",
       "      <td>да</td>\n",
       "      <td>кафе</td>\n",
       "      <td>город москва, абрамцевская улица, дом 1</td>\n",
       "      <td>40</td>\n",
       "    </tr>\n",
       "    <tr>\n",
       "      <td>4</td>\n",
       "      <td>119365</td>\n",
       "      <td>кафе «вишневая метель»</td>\n",
       "      <td>нет</td>\n",
       "      <td>кафе</td>\n",
       "      <td>город москва, абрамцевская улица, дом 9, корпус 1</td>\n",
       "      <td>50</td>\n",
       "    </tr>\n",
       "  </tbody>\n",
       "</table>\n",
       "</div>"
      ],
      "text/plain": [
       "       id             object_name chain object_type  \\\n",
       "0  151635  сметана                 нет   кафе         \n",
       "1  77874   родник                  нет   кафе         \n",
       "2  24309   кафе «академия»         нет   кафе         \n",
       "3  21894   пиццетория              да    кафе         \n",
       "4  119365  кафе «вишневая метель»  нет   кафе         \n",
       "\n",
       "                                             address  number  \n",
       "0  город москва, улица егора абакумова, дом 9         48      \n",
       "1  город москва, улица талалихина, дом 2/1, корпус 1  35      \n",
       "2  город москва, абельмановская улица, дом 6          95      \n",
       "3  город москва, абрамцевская улица, дом 1            40      \n",
       "4  город москва, абрамцевская улица, дом 9, корпус 1  50      "
      ]
     },
     "execution_count": 7,
     "metadata": {},
     "output_type": "execute_result"
    }
   ],
   "source": [
    "df.head()"
   ]
  },
  {
   "cell_type": "code",
   "execution_count": 8,
   "metadata": {},
   "outputs": [
    {
     "data": {
      "text/plain": [
       "array(['кафе', 'столовая', 'закусочная',\n",
       "       'предприятие быстрого обслуживания', 'ресторан', 'кафетерий',\n",
       "       'буфет', 'бар', 'магазин (отдел кулинарии)'], dtype=object)"
      ]
     },
     "execution_count": 8,
     "metadata": {},
     "output_type": "execute_result"
    }
   ],
   "source": [
    "df['object_type'].unique()"
   ]
  },
  {
   "cell_type": "markdown",
   "metadata": {},
   "source": [
    ">Заменим \"предприятие быстрого обслуживания\" на \"пбо\" и \"магазин (отдел кулинарии)\" на \"магазин\""
   ]
  },
  {
   "cell_type": "code",
   "execution_count": 9,
   "metadata": {},
   "outputs": [],
   "source": [
    "def replacer (df, col, old_value, new_value):\n",
    "    for i in col:\n",
    "        df[col] = df[col].replace(old_value, new_value)"
   ]
  },
  {
   "cell_type": "code",
   "execution_count": 10,
   "metadata": {},
   "outputs": [],
   "source": [
    "replacer(df, 'object_type', 'магазин (отдел кулинарии)', 'магазин')\n",
    "replacer(df, 'object_type', 'предприятие быстрого обслуживания', 'пбо')"
   ]
  },
  {
   "cell_type": "code",
   "execution_count": 11,
   "metadata": {},
   "outputs": [
    {
     "data": {
      "text/plain": [
       "array(['кафе', 'столовая', 'закусочная', 'пбо', 'ресторан', 'кафетерий',\n",
       "       'буфет', 'бар', 'магазин'], dtype=object)"
      ]
     },
     "execution_count": 11,
     "metadata": {},
     "output_type": "execute_result"
    }
   ],
   "source": [
    "df['object_type'].unique()"
   ]
  },
  {
   "cell_type": "markdown",
   "metadata": {},
   "source": [
    "проверим еще раз на дубликаты, они могли возникнуть после преобразования к нижнему регистру"
   ]
  },
  {
   "cell_type": "code",
   "execution_count": 12,
   "metadata": {},
   "outputs": [
    {
     "data": {
      "text/plain": [
       "0"
      ]
     },
     "execution_count": 12,
     "metadata": {},
     "output_type": "execute_result"
    }
   ],
   "source": [
    "df.duplicated().sum()"
   ]
  },
  {
   "cell_type": "markdown",
   "metadata": {},
   "source": [
    "<a id='2'></a>\n",
    "#### 2. Анализ данных\n",
    "-----------\n",
    "* Исследуйте соотношение видов объектов общественного питания по количеству. Постройте график.\n",
    "* Исследуйте соотношение сетевых и несетевых заведений по количеству. Постройте график.\n",
    "* Для какого вида объекта общественного питания характерно сетевое распространение?\n",
    "* Что характерно для сетевых заведений: много заведений с небольшим числом посадочных мест в каждом или мало заведений с большим количеством посадочных мест?\n",
    "* Для каждого вида объекта общественного питания опишите среднее количество посадочных мест. Какой вид предоставляет в среднем самое большое количество посадочных мест? Постройте графики.\n",
    "* Выделите в отдельный столбец информацию об улице из столбца address.\n",
    "* Постройте график топ-10 улиц по количеству объектов общественного питания. Воспользуйтесь внешней информацией и ответьте на вопрос — в каких районах Москвы находятся эти улицы?\n",
    "* Найдите число улиц с одним объектом общественного питания. Воспользуйтесь внешней информацией и ответьте на вопрос — в каких районах Москвы находятся эти улицы?\n",
    "* Посмотрите на распределение количества посадочных мест для улиц с большим количеством объектов общественного питания. Какие закономерности можно выявить?"
   ]
  },
  {
   "cell_type": "code",
   "execution_count": 13,
   "metadata": {},
   "outputs": [],
   "source": [
    "# напишем функцию для построения графиков в seaborn\n",
    "def grafoman(df, kind, x, y, hue, title_name, x_name, y_name, img_name, save):\n",
    "    \"\"\"\n",
    "    grafoman(df, kind, x, y, hue, title_name, x_name, y_name, img_name, save)\n",
    "    -Строит график (какой задается в параметре kind)\n",
    "    -Сохраняет график в формате *.png\n",
    "    \n",
    "    Принимает на вход датафрейм - df\n",
    "    kind - тип графика, может принимать значения:\n",
    "            -'point', 'bar', 'strip', \n",
    "            -'swarm', 'box', 'violin', 'boxen'\n",
    "    x, y - оси графика X и Y, соответственно\n",
    "    hue - дополнительное информация\n",
    "          для отображения \n",
    "    title_name, x_name, y_name - название графика и осей \n",
    "    img_name - название графика для сохранения\n",
    "               сохраняет в формате *.png (если save==True)\n",
    "               формат имени файла: 'image_{img_name}'\n",
    "    save - принимает значение True (сохраняет) или False (не сохраняет)\n",
    "    график в *.png\n",
    "    \"\"\"\n",
    "    ax=sns.catplot(x=x, y=y, hue=hue, kind=kind, data=df, \n",
    "                   palette=my_palette, \n",
    "                   height=3.0, aspect=2.5)\n",
    "    (ax\n",
    "     .set_xticklabels(rotation=60)\n",
    "     .set(title = title_name)\n",
    "     .set(xlabel = x_name)\n",
    "     .set(ylabel = y_name)\n",
    "    )\n",
    "    \n",
    "    sns.despine()\n",
    "    if save==True:\n",
    "        plt.savefig(f'image_{img_name}.png', bbox_inches='tight', dpi=300, transparent=True)\n",
    "    else:\n",
    "        pass;"
   ]
  },
  {
   "cell_type": "markdown",
   "metadata": {},
   "source": [
    "Далее во всех вызовах функции выставил параметр <code>save==False</code> (чтобы не было постоянного пересохранения картинок при перезапуске)"
   ]
  },
  {
   "cell_type": "markdown",
   "metadata": {},
   "source": [
    "* **Исследуйте соотношение видов объектов общественного питания по количеству. Постройте график.**\n"
   ]
  },
  {
   "cell_type": "code",
   "execution_count": 14,
   "metadata": {},
   "outputs": [],
   "source": [
    "# Группируем по типу объекта и типу распространения, считаем id для распределения по количеству\n",
    "type_obj= (df\n",
    "           .groupby(['object_type','chain'])['id']\n",
    "           .count()\n",
    "           .reset_index()\n",
    "           .sort_values(by='id', ascending=True)\n",
    "          )"
   ]
  },
  {
   "cell_type": "code",
   "execution_count": 15,
   "metadata": {},
   "outputs": [
    {
     "data": {
      "image/png": "[encoded data removed]",
      "text/plain": [
       "<Figure size 629.9x216 with 1 Axes>"
      ]
     },
     "metadata": {
      "needs_background": "light"
     },
     "output_type": "display_data"
    }
   ],
   "source": [
    "grafoman(type_obj, 'bar', 'object_type', 'id', 'chain',\\\n",
    "        'тип \\n вид: \"сетевое\" / \"не сетевое\"\\n и кол-во заведений',\\\n",
    "         'тип заведения', 'кол-во заведений', 1, False)"
   ]
  },
  {
   "cell_type": "markdown",
   "metadata": {},
   "source": [
    "* **Исследуйте соотношение сетевых и несетевых заведений по количеству. Постройте график.**\n"
   ]
  },
  {
   "cell_type": "code",
   "execution_count": 16,
   "metadata": {},
   "outputs": [
    {
     "data": {
      "image/png": "[encoded data removed]",
      "text/plain": [
       "<Figure size 540x216 with 1 Axes>"
      ]
     },
     "metadata": {
      "needs_background": "light"
     },
     "output_type": "display_data"
    }
   ],
   "source": [
    "grafoman(type_obj, 'box', 'id', 'chain', None,\\\n",
    "        'Кто преобладает ?','Кол-во', 'Тип \\n распространения', 2, False)"
   ]
  },
  {
   "cell_type": "markdown",
   "metadata": {},
   "source": [
    " * **Для какого вида объекта общественного питания характерно сетевое распространение?**\n"
   ]
  },
  {
   "cell_type": "code",
   "execution_count": 17,
   "metadata": {},
   "outputs": [],
   "source": [
    "type_chain= (df\n",
    "             .query('chain == \"да\"')\n",
    "             .groupby('object_type')['id']\n",
    "             .count()\n",
    "             .reset_index()\n",
    "             .sort_values(by='id', ascending=False)\n",
    "            )"
   ]
  },
  {
   "cell_type": "code",
   "execution_count": 18,
   "metadata": {},
   "outputs": [],
   "source": [
    "# доступ к докстрингу функции\n",
    "#print(grafoman.__doc__)"
   ]
  },
  {
   "cell_type": "code",
   "execution_count": 19,
   "metadata": {},
   "outputs": [
    {
     "data": {
      "image/png": "[encoded data removed]",
      "text/plain": [
       "<Figure size 540x216 with 1 Axes>"
      ]
     },
     "metadata": {
      "needs_background": "light"
     },
     "output_type": "display_data"
    }
   ],
   "source": [
    "grafoman(type_chain, 'bar', 'object_type', 'id', None,\\\n",
    "         'Тип заведения\\n преобладающий среди сетевых', '', '', 3, False)"
   ]
  },
  {
   "cell_type": "markdown",
   "metadata": {},
   "source": [
    "**Вывод**\n",
    "* Значительно преобладают несетевые объекты\n",
    "* Среди сетевых лидерами по количеству являются: кафе, предприятия быстрого питания (пбо) и рестораны"
   ]
  },
  {
   "cell_type": "markdown",
   "metadata": {},
   "source": [
    "* **Что характерно для сетевых заведений: много заведений с небольшим числом посадочных мест в каждом или мало заведений с большим количеством посадочных мест?**\n"
   ]
  },
  {
   "cell_type": "code",
   "execution_count": 20,
   "metadata": {},
   "outputs": [
    {
     "data": {
      "image/png": "[encoded data removed]",
      "text/plain": [
       "<Figure size 504x288 with 1 Axes>"
      ]
     },
     "metadata": {
      "needs_background": "light"
     },
     "output_type": "display_data"
    }
   ],
   "source": [
    "plt.figure(figsize=(7, 4))\n",
    "ax = sns.distplot(df.query('chain==\"да\"')['number'], bins=50)\n",
    "ax.set_title('Распределение количества\\n посадочных мест для сетевых заведений\"')\n",
    "ax.set_xlabel('Количество посадочных мест')\n",
    "ax.set_ylabel('')\n",
    "sns.despine()\n",
    "# тут сохранения просто закомментим\n",
    "#plt.savefig(f'image_4.png', bbox_inches='tight', dpi=300, transparent=True);"
   ]
  },
  {
   "cell_type": "markdown",
   "metadata": {},
   "source": [
    "**Вывод**\n",
    "* Для сетевых характерно большое количество заведений с небольшим числом посадочных мест"
   ]
  },
  {
   "cell_type": "markdown",
   "metadata": {},
   "source": [
    "* **Для каждого вида объекта общественного питания опишите среднее количество посадочных мест. Какой вид предоставляет в среднем самое большое количество посадочных мест? Постройте графики.**\n"
   ]
  },
  {
   "cell_type": "code",
   "execution_count": 21,
   "metadata": {},
   "outputs": [
    {
     "data": {
      "text/html": [
       "<div>\n",
       "<style scoped>\n",
       "    .dataframe tbody tr th:only-of-type {\n",
       "        vertical-align: middle;\n",
       "    }\n",
       "\n",
       "    .dataframe tbody tr th {\n",
       "        vertical-align: top;\n",
       "    }\n",
       "\n",
       "    .dataframe thead th {\n",
       "        text-align: right;\n",
       "    }\n",
       "</style>\n",
       "<table border=\"1\" class=\"dataframe\">\n",
       "  <thead>\n",
       "    <tr style=\"text-align: right;\">\n",
       "      <th></th>\n",
       "      <th>id</th>\n",
       "      <th>object_name</th>\n",
       "      <th>chain</th>\n",
       "      <th>object_type</th>\n",
       "      <th>address</th>\n",
       "      <th>number</th>\n",
       "    </tr>\n",
       "  </thead>\n",
       "  <tbody>\n",
       "    <tr>\n",
       "      <td>0</td>\n",
       "      <td>151635</td>\n",
       "      <td>сметана</td>\n",
       "      <td>нет</td>\n",
       "      <td>кафе</td>\n",
       "      <td>город москва, улица егора абакумова, дом 9</td>\n",
       "      <td>48</td>\n",
       "    </tr>\n",
       "    <tr>\n",
       "      <td>1</td>\n",
       "      <td>77874</td>\n",
       "      <td>родник</td>\n",
       "      <td>нет</td>\n",
       "      <td>кафе</td>\n",
       "      <td>город москва, улица талалихина, дом 2/1, корпус 1</td>\n",
       "      <td>35</td>\n",
       "    </tr>\n",
       "    <tr>\n",
       "      <td>2</td>\n",
       "      <td>24309</td>\n",
       "      <td>кафе «академия»</td>\n",
       "      <td>нет</td>\n",
       "      <td>кафе</td>\n",
       "      <td>город москва, абельмановская улица, дом 6</td>\n",
       "      <td>95</td>\n",
       "    </tr>\n",
       "    <tr>\n",
       "      <td>3</td>\n",
       "      <td>21894</td>\n",
       "      <td>пиццетория</td>\n",
       "      <td>да</td>\n",
       "      <td>кафе</td>\n",
       "      <td>город москва, абрамцевская улица, дом 1</td>\n",
       "      <td>40</td>\n",
       "    </tr>\n",
       "    <tr>\n",
       "      <td>4</td>\n",
       "      <td>119365</td>\n",
       "      <td>кафе «вишневая метель»</td>\n",
       "      <td>нет</td>\n",
       "      <td>кафе</td>\n",
       "      <td>город москва, абрамцевская улица, дом 9, корпус 1</td>\n",
       "      <td>50</td>\n",
       "    </tr>\n",
       "  </tbody>\n",
       "</table>\n",
       "</div>"
      ],
      "text/plain": [
       "       id             object_name chain object_type  \\\n",
       "0  151635  сметана                 нет   кафе         \n",
       "1  77874   родник                  нет   кафе         \n",
       "2  24309   кафе «академия»         нет   кафе         \n",
       "3  21894   пиццетория              да    кафе         \n",
       "4  119365  кафе «вишневая метель»  нет   кафе         \n",
       "\n",
       "                                             address  number  \n",
       "0  город москва, улица егора абакумова, дом 9         48      \n",
       "1  город москва, улица талалихина, дом 2/1, корпус 1  35      \n",
       "2  город москва, абельмановская улица, дом 6          95      \n",
       "3  город москва, абрамцевская улица, дом 1            40      \n",
       "4  город москва, абрамцевская улица, дом 9, корпус 1  50      "
      ]
     },
     "execution_count": 21,
     "metadata": {},
     "output_type": "execute_result"
    }
   ],
   "source": [
    "df.head()"
   ]
  },
  {
   "cell_type": "code",
   "execution_count": 22,
   "metadata": {},
   "outputs": [],
   "source": [
    "number_of_seats = (df\n",
    "                   .groupby(['object_type', 'chain'])['number']\n",
    "                   .mean()\n",
    "                   .reset_index()\n",
    "                   .sort_values(by='number', ascending=False)\n",
    ")"
   ]
  },
  {
   "cell_type": "code",
   "execution_count": 23,
   "metadata": {},
   "outputs": [
    {
     "data": {
      "text/html": [
       "<div>\n",
       "<style scoped>\n",
       "    .dataframe tbody tr th:only-of-type {\n",
       "        vertical-align: middle;\n",
       "    }\n",
       "\n",
       "    .dataframe tbody tr th {\n",
       "        vertical-align: top;\n",
       "    }\n",
       "\n",
       "    .dataframe thead th {\n",
       "        text-align: right;\n",
       "    }\n",
       "</style>\n",
       "<table border=\"1\" class=\"dataframe\">\n",
       "  <thead>\n",
       "    <tr style=\"text-align: right;\">\n",
       "      <th></th>\n",
       "      <th>object_type</th>\n",
       "      <th>chain</th>\n",
       "      <th>number</th>\n",
       "    </tr>\n",
       "  </thead>\n",
       "  <tbody>\n",
       "    <tr>\n",
       "      <td>17</td>\n",
       "      <td>столовая</td>\n",
       "      <td>нет</td>\n",
       "      <td>130.267415</td>\n",
       "    </tr>\n",
       "    <tr>\n",
       "      <td>16</td>\n",
       "      <td>столовая</td>\n",
       "      <td>да</td>\n",
       "      <td>112.333333</td>\n",
       "    </tr>\n",
       "    <tr>\n",
       "      <td>14</td>\n",
       "      <td>ресторан</td>\n",
       "      <td>да</td>\n",
       "      <td>100.233456</td>\n",
       "    </tr>\n",
       "    <tr>\n",
       "      <td>15</td>\n",
       "      <td>ресторан</td>\n",
       "      <td>нет</td>\n",
       "      <td>95.771970</td>\n",
       "    </tr>\n",
       "    <tr>\n",
       "      <td>0</td>\n",
       "      <td>бар</td>\n",
       "      <td>да</td>\n",
       "      <td>53.027027</td>\n",
       "    </tr>\n",
       "    <tr>\n",
       "      <td>3</td>\n",
       "      <td>буфет</td>\n",
       "      <td>нет</td>\n",
       "      <td>51.865854</td>\n",
       "    </tr>\n",
       "    <tr>\n",
       "      <td>6</td>\n",
       "      <td>кафе</td>\n",
       "      <td>да</td>\n",
       "      <td>47.426934</td>\n",
       "    </tr>\n",
       "    <tr>\n",
       "      <td>1</td>\n",
       "      <td>бар</td>\n",
       "      <td>нет</td>\n",
       "      <td>43.063492</td>\n",
       "    </tr>\n",
       "    <tr>\n",
       "      <td>12</td>\n",
       "      <td>пбо</td>\n",
       "      <td>да</td>\n",
       "      <td>40.166877</td>\n",
       "    </tr>\n",
       "    <tr>\n",
       "      <td>7</td>\n",
       "      <td>кафе</td>\n",
       "      <td>нет</td>\n",
       "      <td>37.427174</td>\n",
       "    </tr>\n",
       "    <tr>\n",
       "      <td>4</td>\n",
       "      <td>закусочная</td>\n",
       "      <td>да</td>\n",
       "      <td>14.375000</td>\n",
       "    </tr>\n",
       "    <tr>\n",
       "      <td>2</td>\n",
       "      <td>буфет</td>\n",
       "      <td>да</td>\n",
       "      <td>12.727273</td>\n",
       "    </tr>\n",
       "    <tr>\n",
       "      <td>8</td>\n",
       "      <td>кафетерий</td>\n",
       "      <td>да</td>\n",
       "      <td>12.269231</td>\n",
       "    </tr>\n",
       "    <tr>\n",
       "      <td>10</td>\n",
       "      <td>магазин</td>\n",
       "      <td>да</td>\n",
       "      <td>8.679487</td>\n",
       "    </tr>\n",
       "    <tr>\n",
       "      <td>9</td>\n",
       "      <td>кафетерий</td>\n",
       "      <td>нет</td>\n",
       "      <td>8.650289</td>\n",
       "    </tr>\n",
       "    <tr>\n",
       "      <td>13</td>\n",
       "      <td>пбо</td>\n",
       "      <td>нет</td>\n",
       "      <td>6.846290</td>\n",
       "    </tr>\n",
       "    <tr>\n",
       "      <td>5</td>\n",
       "      <td>закусочная</td>\n",
       "      <td>нет</td>\n",
       "      <td>6.361842</td>\n",
       "    </tr>\n",
       "    <tr>\n",
       "      <td>11</td>\n",
       "      <td>магазин</td>\n",
       "      <td>нет</td>\n",
       "      <td>4.353846</td>\n",
       "    </tr>\n",
       "  </tbody>\n",
       "</table>\n",
       "</div>"
      ],
      "text/plain": [
       "   object_type chain      number\n",
       "17  столовая    нет   130.267415\n",
       "16  столовая    да    112.333333\n",
       "14  ресторан    да    100.233456\n",
       "15  ресторан    нет   95.771970 \n",
       "0   бар         да    53.027027 \n",
       "3   буфет       нет   51.865854 \n",
       "6   кафе        да    47.426934 \n",
       "1   бар         нет   43.063492 \n",
       "12  пбо         да    40.166877 \n",
       "7   кафе        нет   37.427174 \n",
       "4   закусочная  да    14.375000 \n",
       "2   буфет       да    12.727273 \n",
       "8   кафетерий   да    12.269231 \n",
       "10  магазин     да    8.679487  \n",
       "9   кафетерий   нет   8.650289  \n",
       "13  пбо         нет   6.846290  \n",
       "5   закусочная  нет   6.361842  \n",
       "11  магазин     нет   4.353846  "
      ]
     },
     "execution_count": 23,
     "metadata": {},
     "output_type": "execute_result"
    }
   ],
   "source": [
    "number_of_seats"
   ]
  },
  {
   "cell_type": "code",
   "execution_count": 24,
   "metadata": {},
   "outputs": [],
   "source": [
    "#print(grafoman.__doc__)"
   ]
  },
  {
   "cell_type": "code",
   "execution_count": 25,
   "metadata": {},
   "outputs": [
    {
     "data": {
      "image/png": "[encoded data removed]",
      "text/plain": [
       "<Figure size 629.9x216 with 1 Axes>"
      ]
     },
     "metadata": {
      "needs_background": "light"
     },
     "output_type": "display_data"
    }
   ],
   "source": [
    "grafoman(number_of_seats, 'bar', 'object_type', 'number', 'chain', \\\n",
    "         'Распределение среднего кол-ва\\n посадочных мест', '', '', 5, False)"
   ]
  },
  {
   "cell_type": "markdown",
   "metadata": {},
   "source": [
    "Самое большое количество посадочных мест (среднее значение) предлагают столовые (112-130 мест),  \n",
    "затем идут рестораны (95-100) и бары (51-53)"
   ]
  },
  {
   "cell_type": "markdown",
   "metadata": {},
   "source": [
    "* **Выделите в отдельный столбец информацию об улице из столбца address.**\n"
   ]
  },
  {
   "cell_type": "code",
   "execution_count": 26,
   "metadata": {},
   "outputs": [],
   "source": [
    "df['street_name'] = df['address'].str.split(r',', expand=True)[1]"
   ]
  },
  {
   "cell_type": "code",
   "execution_count": 27,
   "metadata": {},
   "outputs": [
    {
     "data": {
      "text/html": [
       "<div>\n",
       "<style scoped>\n",
       "    .dataframe tbody tr th:only-of-type {\n",
       "        vertical-align: middle;\n",
       "    }\n",
       "\n",
       "    .dataframe tbody tr th {\n",
       "        vertical-align: top;\n",
       "    }\n",
       "\n",
       "    .dataframe thead th {\n",
       "        text-align: right;\n",
       "    }\n",
       "</style>\n",
       "<table border=\"1\" class=\"dataframe\">\n",
       "  <thead>\n",
       "    <tr style=\"text-align: right;\">\n",
       "      <th></th>\n",
       "      <th>id</th>\n",
       "      <th>object_name</th>\n",
       "      <th>chain</th>\n",
       "      <th>object_type</th>\n",
       "      <th>address</th>\n",
       "      <th>number</th>\n",
       "      <th>street_name</th>\n",
       "    </tr>\n",
       "  </thead>\n",
       "  <tbody>\n",
       "    <tr>\n",
       "      <td>0</td>\n",
       "      <td>151635</td>\n",
       "      <td>сметана</td>\n",
       "      <td>нет</td>\n",
       "      <td>кафе</td>\n",
       "      <td>город москва, улица егора абакумова, дом 9</td>\n",
       "      <td>48</td>\n",
       "      <td>улица егора абакумова</td>\n",
       "    </tr>\n",
       "    <tr>\n",
       "      <td>1</td>\n",
       "      <td>77874</td>\n",
       "      <td>родник</td>\n",
       "      <td>нет</td>\n",
       "      <td>кафе</td>\n",
       "      <td>город москва, улица талалихина, дом 2/1, корпус 1</td>\n",
       "      <td>35</td>\n",
       "      <td>улица талалихина</td>\n",
       "    </tr>\n",
       "    <tr>\n",
       "      <td>2</td>\n",
       "      <td>24309</td>\n",
       "      <td>кафе «академия»</td>\n",
       "      <td>нет</td>\n",
       "      <td>кафе</td>\n",
       "      <td>город москва, абельмановская улица, дом 6</td>\n",
       "      <td>95</td>\n",
       "      <td>абельмановская улица</td>\n",
       "    </tr>\n",
       "    <tr>\n",
       "      <td>3</td>\n",
       "      <td>21894</td>\n",
       "      <td>пиццетория</td>\n",
       "      <td>да</td>\n",
       "      <td>кафе</td>\n",
       "      <td>город москва, абрамцевская улица, дом 1</td>\n",
       "      <td>40</td>\n",
       "      <td>абрамцевская улица</td>\n",
       "    </tr>\n",
       "    <tr>\n",
       "      <td>4</td>\n",
       "      <td>119365</td>\n",
       "      <td>кафе «вишневая метель»</td>\n",
       "      <td>нет</td>\n",
       "      <td>кафе</td>\n",
       "      <td>город москва, абрамцевская улица, дом 9, корпус 1</td>\n",
       "      <td>50</td>\n",
       "      <td>абрамцевская улица</td>\n",
       "    </tr>\n",
       "  </tbody>\n",
       "</table>\n",
       "</div>"
      ],
      "text/plain": [
       "       id             object_name chain object_type  \\\n",
       "0  151635  сметана                 нет   кафе         \n",
       "1  77874   родник                  нет   кафе         \n",
       "2  24309   кафе «академия»         нет   кафе         \n",
       "3  21894   пиццетория              да    кафе         \n",
       "4  119365  кафе «вишневая метель»  нет   кафе         \n",
       "\n",
       "                                             address  number  \\\n",
       "0  город москва, улица егора абакумова, дом 9         48       \n",
       "1  город москва, улица талалихина, дом 2/1, корпус 1  35       \n",
       "2  город москва, абельмановская улица, дом 6          95       \n",
       "3  город москва, абрамцевская улица, дом 1            40       \n",
       "4  город москва, абрамцевская улица, дом 9, корпус 1  50       \n",
       "\n",
       "              street_name  \n",
       "0   улица егора абакумова  \n",
       "1   улица талалихина       \n",
       "2   абельмановская улица   \n",
       "3   абрамцевская улица     \n",
       "4   абрамцевская улица     "
      ]
     },
     "execution_count": 27,
     "metadata": {},
     "output_type": "execute_result"
    }
   ],
   "source": [
    "df.head()"
   ]
  },
  {
   "cell_type": "markdown",
   "metadata": {},
   "source": [
    "Для того чтобы продолжить выполнение задания нужно дополнить исходные данные информацией о принадлежности адреса к определенному округу\n",
    "<a id='msk_data'></a>"
   ]
  },
  {
   "cell_type": "markdown",
   "metadata": {},
   "source": [
    ">Таблица **'msk_data.xlsx'** была получена при обработке базы '.xlsx' с сайта (https://data.mos.ru/datasets/60562) (открытые данные правительства Москвы). В исходной таблице оставил только нужные столбцы (адрес,  административный округ, округ, улица) и привел все записи к нижнему регистру, полученную таблицу ('msk_data.xlsx') загрузил в корневую папку с проектом и на Яндекс.Диск"
   ]
  },
  {
   "cell_type": "markdown",
   "metadata": {},
   "source": [
    "Ссылка на файл c данными: [msk_data.xlsx](https://yadi.sk/d/bYdJbTmG8JiUbw)"
   ]
  },
  {
   "cell_type": "code",
   "execution_count": 28,
   "metadata": {},
   "outputs": [],
   "source": [
    "msk_data = pd.read_excel('msk_data.xlsx')"
   ]
  },
  {
   "cell_type": "code",
   "execution_count": 29,
   "metadata": {},
   "outputs": [
    {
     "data": {
      "text/html": [
       "<div>\n",
       "<style scoped>\n",
       "    .dataframe tbody tr th:only-of-type {\n",
       "        vertical-align: middle;\n",
       "    }\n",
       "\n",
       "    .dataframe tbody tr th {\n",
       "        vertical-align: top;\n",
       "    }\n",
       "\n",
       "    .dataframe thead th {\n",
       "        text-align: right;\n",
       "    }\n",
       "</style>\n",
       "<table border=\"1\" class=\"dataframe\">\n",
       "  <thead>\n",
       "    <tr style=\"text-align: right;\">\n",
       "      <th></th>\n",
       "      <th>Unnamed: 0</th>\n",
       "      <th>address</th>\n",
       "      <th>adm_area</th>\n",
       "      <th>district</th>\n",
       "      <th>street_name</th>\n",
       "    </tr>\n",
       "  </thead>\n",
       "  <tbody>\n",
       "    <tr>\n",
       "      <td>0</td>\n",
       "      <td>0</td>\n",
       "      <td>город москва, варшавское шоссе, дом 150, строение 2</td>\n",
       "      <td>южный административный округ</td>\n",
       "      <td>муниципальный округ чертаново южное</td>\n",
       "      <td>варшавское шоссе</td>\n",
       "    </tr>\n",
       "    <tr>\n",
       "      <td>1</td>\n",
       "      <td>1</td>\n",
       "      <td>город москва, косинская улица, дом 26а</td>\n",
       "      <td>восточный административный округ</td>\n",
       "      <td>муниципальный округ вешняки</td>\n",
       "      <td>косинская улица</td>\n",
       "    </tr>\n",
       "    <tr>\n",
       "      <td>2</td>\n",
       "      <td>2</td>\n",
       "      <td>город москва, гороховский переулок, дом 21</td>\n",
       "      <td>центральный административный округ</td>\n",
       "      <td>муниципальный округ басманный</td>\n",
       "      <td>гороховский переулок</td>\n",
       "    </tr>\n",
       "  </tbody>\n",
       "</table>\n",
       "</div>"
      ],
      "text/plain": [
       "   Unnamed: 0                                              address  \\\n",
       "0  0           город москва, варшавское шоссе, дом 150, строение 2   \n",
       "1  1           город москва, косинская улица, дом 26а                \n",
       "2  2           город москва, гороховский переулок, дом 21            \n",
       "\n",
       "                             adm_area                             district  \\\n",
       "0  южный административный округ        муниципальный округ чертаново южное   \n",
       "1  восточный административный округ    муниципальный округ вешняки           \n",
       "2  центральный административный округ  муниципальный округ басманный         \n",
       "\n",
       "            street_name  \n",
       "0  варшавское шоссе      \n",
       "1  косинская улица       \n",
       "2  гороховский переулок  "
      ]
     },
     "execution_count": 29,
     "metadata": {},
     "output_type": "execute_result"
    }
   ],
   "source": [
    "msk_data.head(3)"
   ]
  },
  {
   "cell_type": "code",
   "execution_count": 30,
   "metadata": {},
   "outputs": [
    {
     "data": {
      "text/html": [
       "<div>\n",
       "<style scoped>\n",
       "    .dataframe tbody tr th:only-of-type {\n",
       "        vertical-align: middle;\n",
       "    }\n",
       "\n",
       "    .dataframe tbody tr th {\n",
       "        vertical-align: top;\n",
       "    }\n",
       "\n",
       "    .dataframe thead th {\n",
       "        text-align: right;\n",
       "    }\n",
       "</style>\n",
       "<table border=\"1\" class=\"dataframe\">\n",
       "  <thead>\n",
       "    <tr style=\"text-align: right;\">\n",
       "      <th></th>\n",
       "      <th>address</th>\n",
       "      <th>adm_area</th>\n",
       "      <th>district</th>\n",
       "    </tr>\n",
       "  </thead>\n",
       "  <tbody>\n",
       "    <tr>\n",
       "      <td>0</td>\n",
       "      <td>город москва, варшавское шоссе, дом 150, строение 2</td>\n",
       "      <td>южный административный округ</td>\n",
       "      <td>муниципальный округ чертаново южное</td>\n",
       "    </tr>\n",
       "    <tr>\n",
       "      <td>1</td>\n",
       "      <td>город москва, косинская улица, дом 26а</td>\n",
       "      <td>восточный административный округ</td>\n",
       "      <td>муниципальный округ вешняки</td>\n",
       "    </tr>\n",
       "    <tr>\n",
       "      <td>2</td>\n",
       "      <td>город москва, гороховский переулок, дом 21</td>\n",
       "      <td>центральный административный округ</td>\n",
       "      <td>муниципальный округ басманный</td>\n",
       "    </tr>\n",
       "  </tbody>\n",
       "</table>\n",
       "</div>"
      ],
      "text/plain": [
       "                                               address  \\\n",
       "0  город москва, варшавское шоссе, дом 150, строение 2   \n",
       "1  город москва, косинская улица, дом 26а                \n",
       "2  город москва, гороховский переулок, дом 21            \n",
       "\n",
       "                             adm_area                             district  \n",
       "0  южный административный округ        муниципальный округ чертаново южное  \n",
       "1  восточный административный округ    муниципальный округ вешняки          \n",
       "2  центральный административный округ  муниципальный округ басманный        "
      ]
     },
     "execution_count": 30,
     "metadata": {},
     "output_type": "execute_result"
    }
   ],
   "source": [
    "# Удаляем столбцы 'Unnamed: 0', 'street_name'\n",
    "msk_data = msk_data.drop(['Unnamed: 0', 'street_name'], axis=1)\n",
    "msk_data.head(3)"
   ]
  },
  {
   "cell_type": "code",
   "execution_count": 31,
   "metadata": {},
   "outputs": [],
   "source": [
    "df = df.merge(msk_data, on='address', how='inner')"
   ]
  },
  {
   "cell_type": "code",
   "execution_count": 32,
   "metadata": {},
   "outputs": [
    {
     "data": {
      "text/html": [
       "<div>\n",
       "<style scoped>\n",
       "    .dataframe tbody tr th:only-of-type {\n",
       "        vertical-align: middle;\n",
       "    }\n",
       "\n",
       "    .dataframe tbody tr th {\n",
       "        vertical-align: top;\n",
       "    }\n",
       "\n",
       "    .dataframe thead th {\n",
       "        text-align: right;\n",
       "    }\n",
       "</style>\n",
       "<table border=\"1\" class=\"dataframe\">\n",
       "  <thead>\n",
       "    <tr style=\"text-align: right;\">\n",
       "      <th></th>\n",
       "      <th>id</th>\n",
       "      <th>object_name</th>\n",
       "      <th>chain</th>\n",
       "      <th>object_type</th>\n",
       "      <th>address</th>\n",
       "      <th>number</th>\n",
       "      <th>street_name</th>\n",
       "      <th>adm_area</th>\n",
       "      <th>district</th>\n",
       "    </tr>\n",
       "  </thead>\n",
       "  <tbody>\n",
       "    <tr>\n",
       "      <td>0</td>\n",
       "      <td>151635</td>\n",
       "      <td>сметана</td>\n",
       "      <td>нет</td>\n",
       "      <td>кафе</td>\n",
       "      <td>город москва, улица егора абакумова, дом 9</td>\n",
       "      <td>48</td>\n",
       "      <td>улица егора абакумова</td>\n",
       "      <td>северо-восточный административный округ</td>\n",
       "      <td>муниципальный округ ярославский</td>\n",
       "    </tr>\n",
       "    <tr>\n",
       "      <td>1</td>\n",
       "      <td>77874</td>\n",
       "      <td>родник</td>\n",
       "      <td>нет</td>\n",
       "      <td>кафе</td>\n",
       "      <td>город москва, улица талалихина, дом 2/1, корпус 1</td>\n",
       "      <td>35</td>\n",
       "      <td>улица талалихина</td>\n",
       "      <td>центральный административный округ</td>\n",
       "      <td>муниципальный округ таганский</td>\n",
       "    </tr>\n",
       "    <tr>\n",
       "      <td>2</td>\n",
       "      <td>24309</td>\n",
       "      <td>кафе «академия»</td>\n",
       "      <td>нет</td>\n",
       "      <td>кафе</td>\n",
       "      <td>город москва, абельмановская улица, дом 6</td>\n",
       "      <td>95</td>\n",
       "      <td>абельмановская улица</td>\n",
       "      <td>центральный административный округ</td>\n",
       "      <td>муниципальный округ таганский</td>\n",
       "    </tr>\n",
       "    <tr>\n",
       "      <td>3</td>\n",
       "      <td>21894</td>\n",
       "      <td>пиццетория</td>\n",
       "      <td>да</td>\n",
       "      <td>кафе</td>\n",
       "      <td>город москва, абрамцевская улица, дом 1</td>\n",
       "      <td>40</td>\n",
       "      <td>абрамцевская улица</td>\n",
       "      <td>северо-восточный административный округ</td>\n",
       "      <td>муниципальный округ лианозово</td>\n",
       "    </tr>\n",
       "    <tr>\n",
       "      <td>4</td>\n",
       "      <td>119365</td>\n",
       "      <td>кафе «вишневая метель»</td>\n",
       "      <td>нет</td>\n",
       "      <td>кафе</td>\n",
       "      <td>город москва, абрамцевская улица, дом 9, корпус 1</td>\n",
       "      <td>50</td>\n",
       "      <td>абрамцевская улица</td>\n",
       "      <td>северо-восточный административный округ</td>\n",
       "      <td>муниципальный округ лианозово</td>\n",
       "    </tr>\n",
       "  </tbody>\n",
       "</table>\n",
       "</div>"
      ],
      "text/plain": [
       "       id             object_name chain object_type  \\\n",
       "0  151635  сметана                 нет   кафе         \n",
       "1  77874   родник                  нет   кафе         \n",
       "2  24309   кафе «академия»         нет   кафе         \n",
       "3  21894   пиццетория              да    кафе         \n",
       "4  119365  кафе «вишневая метель»  нет   кафе         \n",
       "\n",
       "                                             address  number  \\\n",
       "0  город москва, улица егора абакумова, дом 9         48       \n",
       "1  город москва, улица талалихина, дом 2/1, корпус 1  35       \n",
       "2  город москва, абельмановская улица, дом 6          95       \n",
       "3  город москва, абрамцевская улица, дом 1            40       \n",
       "4  город москва, абрамцевская улица, дом 9, корпус 1  50       \n",
       "\n",
       "              street_name                                 adm_area  \\\n",
       "0   улица егора абакумова  северо-восточный административный округ   \n",
       "1   улица талалихина       центральный административный округ        \n",
       "2   абельмановская улица   центральный административный округ        \n",
       "3   абрамцевская улица     северо-восточный административный округ   \n",
       "4   абрамцевская улица     северо-восточный административный округ   \n",
       "\n",
       "                          district  \n",
       "0  муниципальный округ ярославский  \n",
       "1  муниципальный округ таганский    \n",
       "2  муниципальный округ таганский    \n",
       "3  муниципальный округ лианозово    \n",
       "4  муниципальный округ лианозово    "
      ]
     },
     "execution_count": 32,
     "metadata": {},
     "output_type": "execute_result"
    }
   ],
   "source": [
    "df.head()"
   ]
  },
  {
   "cell_type": "code",
   "execution_count": 33,
   "metadata": {},
   "outputs": [
    {
     "name": "stdout",
     "output_type": "stream",
     "text": [
      "Первые 3 строки датафрейма\n",
      "----------------------------------------------------\n",
      "       id      object_name chain object_type  \\\n",
      "0  151635  сметана          нет   кафе         \n",
      "1  77874   родник           нет   кафе         \n",
      "2  24309   кафе «академия»  нет   кафе         \n",
      "\n",
      "                                             address  number  \\\n",
      "0  город москва, улица егора абакумова, дом 9         48       \n",
      "1  город москва, улица талалихина, дом 2/1, корпус 1  35       \n",
      "2  город москва, абельмановская улица, дом 6          95       \n",
      "\n",
      "              street_name                                 adm_area  \\\n",
      "0   улица егора абакумова  северо-восточный административный округ   \n",
      "1   улица талалихина       центральный административный округ        \n",
      "2   абельмановская улица   центральный административный округ        \n",
      "\n",
      "                          district  \n",
      "0  муниципальный округ ярославский  \n",
      "1  муниципальный округ таганский    \n",
      "2  муниципальный округ таганский    \n",
      "====================================================\n",
      "Размер датафрейма: (строк:столбцов) (15274, 9)\n",
      "====================================================\n",
      "Типы данных и общая информация\n",
      "----------------------------------------------------\n",
      "<class 'pandas.core.frame.DataFrame'>\n",
      "Int64Index: 15274 entries, 0 to 15273\n",
      "Data columns (total 9 columns):\n",
      "id             15274 non-null int64\n",
      "object_name    15274 non-null object\n",
      "chain          15274 non-null object\n",
      "object_type    15274 non-null object\n",
      "address        15274 non-null object\n",
      "number         15274 non-null int64\n",
      "street_name    15274 non-null object\n",
      "adm_area       15274 non-null object\n",
      "district       15274 non-null object\n",
      "dtypes: int64(2), object(7)\n",
      "memory usage: 1.2+ MB\n",
      "None\n",
      "====================================================\n",
      "Наличие дубликатов\n",
      "====================================================\n",
      "26\n",
      "----------------------------------------------------\n",
      "Наличие пропусков\n",
      "----------------------------------------------------\n",
      "id             0\n",
      "object_name    0\n",
      "chain          0\n",
      "object_type    0\n",
      "address        0\n",
      "number         0\n",
      "street_name    0\n",
      "adm_area       0\n",
      "district       0\n",
      "dtype: int64\n",
      "====================================================\n"
     ]
    }
   ],
   "source": [
    "df_look(df)"
   ]
  },
  {
   "cell_type": "markdown",
   "metadata": {},
   "source": [
    "**Нужно удалить дубликаты** "
   ]
  },
  {
   "cell_type": "code",
   "execution_count": 34,
   "metadata": {},
   "outputs": [],
   "source": [
    "df.drop_duplicates(inplace=True)"
   ]
  },
  {
   "cell_type": "code",
   "execution_count": 35,
   "metadata": {},
   "outputs": [
    {
     "name": "stdout",
     "output_type": "stream",
     "text": [
      "<class 'pandas.core.frame.DataFrame'>\n",
      "Int64Index: 15248 entries, 0 to 15273\n",
      "Data columns (total 9 columns):\n",
      "id             15248 non-null int64\n",
      "object_name    15248 non-null object\n",
      "chain          15248 non-null object\n",
      "object_type    15248 non-null object\n",
      "address        15248 non-null object\n",
      "number         15248 non-null int64\n",
      "street_name    15248 non-null object\n",
      "adm_area       15248 non-null object\n",
      "district       15248 non-null object\n",
      "dtypes: int64(2), object(7)\n",
      "memory usage: 1.2+ MB\n"
     ]
    }
   ],
   "source": [
    "df.info()"
   ]
  },
  {
   "cell_type": "markdown",
   "metadata": {},
   "source": [
    "* **Постройте график топ-10 улиц по количеству объектов общественного питания. Воспользуйтесь внешней информацией и ответьте на вопрос — в каких районах Москвы находятся эти улицы?**\n"
   ]
  },
  {
   "cell_type": "code",
   "execution_count": 36,
   "metadata": {},
   "outputs": [],
   "source": [
    "top_objects_count = (df\n",
    "                     .groupby('street_name', as_index=False)\n",
    "                     .agg({'id':'count', 'district':'max'})\n",
    "                     .sort_values(by='id', ascending=False)\n",
    "                     .rename(columns={'id':'id_count_top'})\n",
    "                    )"
   ]
  },
  {
   "cell_type": "code",
   "execution_count": 37,
   "metadata": {},
   "outputs": [
    {
     "data": {
      "text/html": [
       "<div>\n",
       "<style scoped>\n",
       "    .dataframe tbody tr th:only-of-type {\n",
       "        vertical-align: middle;\n",
       "    }\n",
       "\n",
       "    .dataframe tbody tr th {\n",
       "        vertical-align: top;\n",
       "    }\n",
       "\n",
       "    .dataframe thead th {\n",
       "        text-align: right;\n",
       "    }\n",
       "</style>\n",
       "<table border=\"1\" class=\"dataframe\">\n",
       "  <thead>\n",
       "    <tr style=\"text-align: right;\">\n",
       "      <th></th>\n",
       "      <th>street_name</th>\n",
       "      <th>id_count_top</th>\n",
       "      <th>district</th>\n",
       "    </tr>\n",
       "  </thead>\n",
       "  <tbody>\n",
       "    <tr>\n",
       "      <td>482</td>\n",
       "      <td>город зеленоград</td>\n",
       "      <td>229</td>\n",
       "      <td>муниципальный округ старое крюково</td>\n",
       "    </tr>\n",
       "    <tr>\n",
       "      <td>1072</td>\n",
       "      <td>проспект мира</td>\n",
       "      <td>204</td>\n",
       "      <td>муниципальный округ ярославский</td>\n",
       "    </tr>\n",
       "    <tr>\n",
       "      <td>1076</td>\n",
       "      <td>профсоюзная улица</td>\n",
       "      <td>181</td>\n",
       "      <td>муниципальный округ ясенево</td>\n",
       "    </tr>\n",
       "    <tr>\n",
       "      <td>698</td>\n",
       "      <td>ленинградский проспект</td>\n",
       "      <td>171</td>\n",
       "      <td>муниципальный округ хорошевский</td>\n",
       "    </tr>\n",
       "    <tr>\n",
       "      <td>1033</td>\n",
       "      <td>пресненская набережная</td>\n",
       "      <td>167</td>\n",
       "      <td>муниципальный округ пресненский</td>\n",
       "    </tr>\n",
       "    <tr>\n",
       "      <td>416</td>\n",
       "      <td>варшавское шоссе</td>\n",
       "      <td>161</td>\n",
       "      <td>муниципальный округ южное бутово</td>\n",
       "    </tr>\n",
       "    <tr>\n",
       "      <td>701</td>\n",
       "      <td>ленинский проспект</td>\n",
       "      <td>147</td>\n",
       "      <td>муниципальный округ якиманка</td>\n",
       "    </tr>\n",
       "    <tr>\n",
       "      <td>1022</td>\n",
       "      <td>поселение сосенское</td>\n",
       "      <td>138</td>\n",
       "      <td>поселение сосенское</td>\n",
       "    </tr>\n",
       "    <tr>\n",
       "      <td>1069</td>\n",
       "      <td>проспект вернадского</td>\n",
       "      <td>132</td>\n",
       "      <td>муниципальный округ тропарево-никулино</td>\n",
       "    </tr>\n",
       "    <tr>\n",
       "      <td>689</td>\n",
       "      <td>кутузовский проспект</td>\n",
       "      <td>114</td>\n",
       "      <td>муниципальный округ фили-давыдково</td>\n",
       "    </tr>\n",
       "  </tbody>\n",
       "</table>\n",
       "</div>"
      ],
      "text/plain": [
       "                  street_name  id_count_top  \\\n",
       "482    город зеленоград        229            \n",
       "1072   проспект мира           204            \n",
       "1076   профсоюзная улица       181            \n",
       "698    ленинградский проспект  171            \n",
       "1033   пресненская набережная  167            \n",
       "416    варшавское шоссе        161            \n",
       "701    ленинский проспект      147            \n",
       "1022   поселение сосенское     138            \n",
       "1069   проспект вернадского    132            \n",
       "689    кутузовский проспект    114            \n",
       "\n",
       "                                    district  \n",
       "482   муниципальный округ старое крюково      \n",
       "1072  муниципальный округ ярославский         \n",
       "1076  муниципальный округ ясенево             \n",
       "698   муниципальный округ хорошевский         \n",
       "1033  муниципальный округ пресненский         \n",
       "416   муниципальный округ южное бутово        \n",
       "701   муниципальный округ якиманка            \n",
       "1022  поселение сосенское                     \n",
       "1069  муниципальный округ тропарево-никулино  \n",
       "689   муниципальный округ фили-давыдково      "
      ]
     },
     "execution_count": 37,
     "metadata": {},
     "output_type": "execute_result"
    }
   ],
   "source": [
    "top_objects_count.head(10)"
   ]
  },
  {
   "cell_type": "code",
   "execution_count": 38,
   "metadata": {},
   "outputs": [
    {
     "data": {
      "image/png": "[encoded data removed]",
      "text/plain": [
       "<Figure size 1008x252 with 1 Axes>"
      ]
     },
     "metadata": {
      "needs_background": "light"
     },
     "output_type": "display_data"
    }
   ],
   "source": [
    "ax=sns.catplot(x='id_count_top', y='district', \n",
    "               kind='bar', data=top_objects_count.head(10), \n",
    "                   palette='coolwarm_r', \n",
    "                   height=3.5, aspect=4)\n",
    "(ax\n",
    " .set_xticklabels(rotation=0)\n",
    " .set(title = 'Муниципальные округа\\n Топ-10 улиц по количеству объектов')\n",
    " .set(ylabel = 'Муниципальные\\n округа')\n",
    " .set(xlabel = 'Кол-во')\n",
    ")\n",
    "\n",
    "sns.despine()\n",
    "# также комментим сохранение \n",
    "#plt.savefig('image_6.png', bbox_inches='tight', dpi=300, transparent=True);\n",
    "    "
   ]
  },
  {
   "cell_type": "markdown",
   "metadata": {},
   "source": [
    "**Вывод**\n",
    "* Улицы с большим кол-вом объектов распределены по всему городу, пожалуй за исключением восточной и юго-восточной части Москвы"
   ]
  },
  {
   "cell_type": "markdown",
   "metadata": {},
   "source": [
    "* **Найдите число улиц с одним объектом общественного питания. Воспользуйтесь внешней информацией и ответьте на вопрос — в каких районах Москвы находятся эти улицы?**\n"
   ]
  },
  {
   "cell_type": "code",
   "execution_count": 39,
   "metadata": {},
   "outputs": [
    {
     "name": "stdout",
     "output_type": "stream",
     "text": [
      "В Москве: 540 улиц с одним объектом общественного питания\n"
     ]
    }
   ],
   "source": [
    "amount = top_objects_count.query('id_count_top==1').count()[1]\n",
    "print(f'В Москве: {amount} улиц с одним объектом общественного питания')"
   ]
  },
  {
   "cell_type": "code",
   "execution_count": 40,
   "metadata": {},
   "outputs": [],
   "source": [
    "one_obj_district = (top_objects_count\n",
    "                    .query('id_count_top==1')\n",
    "                    .groupby(['district'])\n",
    "                    # 'id_count_top':'sum' покажет в каких районах больше всего улиц \n",
    "                    #  с одним объектом общественного питания\n",
    "                    .agg({'id_count_top':'sum'})\n",
    "                    .sort_values(by='id_count_top', ascending=False)\n",
    "                    .reset_index()\n",
    "                   )"
   ]
  },
  {
   "cell_type": "code",
   "execution_count": 41,
   "metadata": {},
   "outputs": [
    {
     "data": {
      "text/html": [
       "<div>\n",
       "<style scoped>\n",
       "    .dataframe tbody tr th:only-of-type {\n",
       "        vertical-align: middle;\n",
       "    }\n",
       "\n",
       "    .dataframe tbody tr th {\n",
       "        vertical-align: top;\n",
       "    }\n",
       "\n",
       "    .dataframe thead th {\n",
       "        text-align: right;\n",
       "    }\n",
       "</style>\n",
       "<table border=\"1\" class=\"dataframe\">\n",
       "  <thead>\n",
       "    <tr style=\"text-align: right;\">\n",
       "      <th></th>\n",
       "      <th>district</th>\n",
       "      <th>id_count_top</th>\n",
       "    </tr>\n",
       "  </thead>\n",
       "  <tbody>\n",
       "    <tr>\n",
       "      <td>0</td>\n",
       "      <td>муниципальный округ таганский</td>\n",
       "      <td>28</td>\n",
       "    </tr>\n",
       "    <tr>\n",
       "      <td>1</td>\n",
       "      <td>муниципальный округ хамовники</td>\n",
       "      <td>26</td>\n",
       "    </tr>\n",
       "    <tr>\n",
       "      <td>2</td>\n",
       "      <td>муниципальный округ басманный</td>\n",
       "      <td>22</td>\n",
       "    </tr>\n",
       "    <tr>\n",
       "      <td>3</td>\n",
       "      <td>муниципальный округ тверской</td>\n",
       "      <td>20</td>\n",
       "    </tr>\n",
       "    <tr>\n",
       "      <td>4</td>\n",
       "      <td>муниципальный округ пресненский</td>\n",
       "      <td>19</td>\n",
       "    </tr>\n",
       "    <tr>\n",
       "      <td>5</td>\n",
       "      <td>муниципальный округ марьина роща</td>\n",
       "      <td>17</td>\n",
       "    </tr>\n",
       "    <tr>\n",
       "      <td>6</td>\n",
       "      <td>муниципальный округ сокольники</td>\n",
       "      <td>15</td>\n",
       "    </tr>\n",
       "    <tr>\n",
       "      <td>7</td>\n",
       "      <td>муниципальный округ мещанский</td>\n",
       "      <td>13</td>\n",
       "    </tr>\n",
       "    <tr>\n",
       "      <td>8</td>\n",
       "      <td>муниципальный округ лефортово</td>\n",
       "      <td>12</td>\n",
       "    </tr>\n",
       "    <tr>\n",
       "      <td>9</td>\n",
       "      <td>муниципальный округ замоскворечье</td>\n",
       "      <td>12</td>\n",
       "    </tr>\n",
       "  </tbody>\n",
       "</table>\n",
       "</div>"
      ],
      "text/plain": [
       "                            district  id_count_top\n",
       "0  муниципальный округ таганский      28          \n",
       "1  муниципальный округ хамовники      26          \n",
       "2  муниципальный округ басманный      22          \n",
       "3  муниципальный округ тверской       20          \n",
       "4  муниципальный округ пресненский    19          \n",
       "5  муниципальный округ марьина роща   17          \n",
       "6  муниципальный округ сокольники     15          \n",
       "7  муниципальный округ мещанский      13          \n",
       "8  муниципальный округ лефортово      12          \n",
       "9  муниципальный округ замоскворечье  12          "
      ]
     },
     "execution_count": 41,
     "metadata": {},
     "output_type": "execute_result"
    }
   ],
   "source": [
    "one_obj_district.head(10)"
   ]
  },
  {
   "cell_type": "code",
   "execution_count": 42,
   "metadata": {},
   "outputs": [
    {
     "name": "stdout",
     "output_type": "stream",
     "text": [
      "\n",
      "    grafoman(df, kind, x, y, hue, title_name, x_name, y_name, img_name, save)\n",
      "    -Строит график (какой задается в параметре kind)\n",
      "    -Сохраняет график в формате *.png\n",
      "    \n",
      "    Принимает на вход датафрейм - df\n",
      "    kind - тип графика, может принимать значения:\n",
      "            -'point', 'bar', 'strip', \n",
      "            -'swarm', 'box', 'violin', 'boxen'\n",
      "    x, y - оси графика X и Y, соответственно\n",
      "    hue - дополнительное информация\n",
      "          для отображения \n",
      "    title_name, x_name, y_name - название графика и осей \n",
      "    img_name - название графика для сохранения\n",
      "               сохраняет в формате *.png (если save==True)\n",
      "               формат имени файла: 'image_{img_name}'\n",
      "    save - принимает значение True (сохраняет) или False (не сохраняет)\n",
      "    график в *.png\n",
      "    \n"
     ]
    }
   ],
   "source": [
    "print(grafoman.__doc__)"
   ]
  },
  {
   "cell_type": "code",
   "execution_count": 43,
   "metadata": {},
   "outputs": [
    {
     "data": {
      "image/png": "[encoded data removed]",
      "text/plain": [
       "<Figure size 540x216 with 1 Axes>"
      ]
     },
     "metadata": {
      "needs_background": "light"
     },
     "output_type": "display_data"
    }
   ],
   "source": [
    "grafoman(one_obj_district.head(10), 'bar', 'id_count_top', 'district', None, \\\n",
    "         'Районы с улицами\\n с одним заведением', '', '', 7, False)"
   ]
  },
  {
   "cell_type": "markdown",
   "metadata": {},
   "source": [
    "**Вывод:**\n",
    "* Довольно четко прослеживается зависимость что больше всего улиц с одним объектом общественного питания в центре города\n",
    "* скорее всего это обусловлено длиной улиц в центре и трудностью подбора подходящего под кафе/ресторан помещения в старых зданиях "
   ]
  },
  {
   "cell_type": "markdown",
   "metadata": {},
   "source": [
    "* **Посмотрите на распределение количества посадочных мест для улиц с большим количеством объектов общественного питания. Какие закономерности можно выявить?**"
   ]
  },
  {
   "cell_type": "code",
   "execution_count": 44,
   "metadata": {},
   "outputs": [
    {
     "data": {
      "text/html": [
       "<div>\n",
       "<style scoped>\n",
       "    .dataframe tbody tr th:only-of-type {\n",
       "        vertical-align: middle;\n",
       "    }\n",
       "\n",
       "    .dataframe tbody tr th {\n",
       "        vertical-align: top;\n",
       "    }\n",
       "\n",
       "    .dataframe thead th {\n",
       "        text-align: right;\n",
       "    }\n",
       "</style>\n",
       "<table border=\"1\" class=\"dataframe\">\n",
       "  <thead>\n",
       "    <tr style=\"text-align: right;\">\n",
       "      <th></th>\n",
       "      <th>street_name</th>\n",
       "      <th>id_count_top</th>\n",
       "      <th>district</th>\n",
       "    </tr>\n",
       "  </thead>\n",
       "  <tbody>\n",
       "    <tr>\n",
       "      <td>482</td>\n",
       "      <td>город зеленоград</td>\n",
       "      <td>229</td>\n",
       "      <td>муниципальный округ старое крюково</td>\n",
       "    </tr>\n",
       "    <tr>\n",
       "      <td>1072</td>\n",
       "      <td>проспект мира</td>\n",
       "      <td>204</td>\n",
       "      <td>муниципальный округ ярославский</td>\n",
       "    </tr>\n",
       "    <tr>\n",
       "      <td>1076</td>\n",
       "      <td>профсоюзная улица</td>\n",
       "      <td>181</td>\n",
       "      <td>муниципальный округ ясенево</td>\n",
       "    </tr>\n",
       "    <tr>\n",
       "      <td>698</td>\n",
       "      <td>ленинградский проспект</td>\n",
       "      <td>171</td>\n",
       "      <td>муниципальный округ хорошевский</td>\n",
       "    </tr>\n",
       "    <tr>\n",
       "      <td>1033</td>\n",
       "      <td>пресненская набережная</td>\n",
       "      <td>167</td>\n",
       "      <td>муниципальный округ пресненский</td>\n",
       "    </tr>\n",
       "  </tbody>\n",
       "</table>\n",
       "</div>"
      ],
      "text/plain": [
       "                  street_name  id_count_top  \\\n",
       "482    город зеленоград        229            \n",
       "1072   проспект мира           204            \n",
       "1076   профсоюзная улица       181            \n",
       "698    ленинградский проспект  171            \n",
       "1033   пресненская набережная  167            \n",
       "\n",
       "                                district  \n",
       "482   муниципальный округ старое крюково  \n",
       "1072  муниципальный округ ярославский     \n",
       "1076  муниципальный округ ясенево         \n",
       "698   муниципальный округ хорошевский     \n",
       "1033  муниципальный округ пресненский     "
      ]
     },
     "execution_count": 44,
     "metadata": {},
     "output_type": "execute_result"
    }
   ],
   "source": [
    "top_objects_count.head()"
   ]
  },
  {
   "cell_type": "code",
   "execution_count": 45,
   "metadata": {},
   "outputs": [],
   "source": [
    "top_10_objects = top_objects_count.head(10)"
   ]
  },
  {
   "cell_type": "code",
   "execution_count": 46,
   "metadata": {},
   "outputs": [],
   "source": [
    "top_10_objects = top_10_objects.drop(['district', 'id_count_top'], axis=1)"
   ]
  },
  {
   "cell_type": "code",
   "execution_count": 47,
   "metadata": {},
   "outputs": [
    {
     "data": {
      "text/html": [
       "<div>\n",
       "<style scoped>\n",
       "    .dataframe tbody tr th:only-of-type {\n",
       "        vertical-align: middle;\n",
       "    }\n",
       "\n",
       "    .dataframe tbody tr th {\n",
       "        vertical-align: top;\n",
       "    }\n",
       "\n",
       "    .dataframe thead th {\n",
       "        text-align: right;\n",
       "    }\n",
       "</style>\n",
       "<table border=\"1\" class=\"dataframe\">\n",
       "  <thead>\n",
       "    <tr style=\"text-align: right;\">\n",
       "      <th></th>\n",
       "      <th>street_name</th>\n",
       "    </tr>\n",
       "  </thead>\n",
       "  <tbody>\n",
       "    <tr>\n",
       "      <td>482</td>\n",
       "      <td>город зеленоград</td>\n",
       "    </tr>\n",
       "    <tr>\n",
       "      <td>1072</td>\n",
       "      <td>проспект мира</td>\n",
       "    </tr>\n",
       "    <tr>\n",
       "      <td>1076</td>\n",
       "      <td>профсоюзная улица</td>\n",
       "    </tr>\n",
       "    <tr>\n",
       "      <td>698</td>\n",
       "      <td>ленинградский проспект</td>\n",
       "    </tr>\n",
       "    <tr>\n",
       "      <td>1033</td>\n",
       "      <td>пресненская набережная</td>\n",
       "    </tr>\n",
       "    <tr>\n",
       "      <td>416</td>\n",
       "      <td>варшавское шоссе</td>\n",
       "    </tr>\n",
       "    <tr>\n",
       "      <td>701</td>\n",
       "      <td>ленинский проспект</td>\n",
       "    </tr>\n",
       "    <tr>\n",
       "      <td>1022</td>\n",
       "      <td>поселение сосенское</td>\n",
       "    </tr>\n",
       "    <tr>\n",
       "      <td>1069</td>\n",
       "      <td>проспект вернадского</td>\n",
       "    </tr>\n",
       "    <tr>\n",
       "      <td>689</td>\n",
       "      <td>кутузовский проспект</td>\n",
       "    </tr>\n",
       "  </tbody>\n",
       "</table>\n",
       "</div>"
      ],
      "text/plain": [
       "                  street_name\n",
       "482    город зеленоград      \n",
       "1072   проспект мира         \n",
       "1076   профсоюзная улица     \n",
       "698    ленинградский проспект\n",
       "1033   пресненская набережная\n",
       "416    варшавское шоссе      \n",
       "701    ленинский проспект    \n",
       "1022   поселение сосенское   \n",
       "1069   проспект вернадского  \n",
       "689    кутузовский проспект  "
      ]
     },
     "execution_count": 47,
     "metadata": {},
     "output_type": "execute_result"
    }
   ],
   "source": [
    "top_10_objects"
   ]
  },
  {
   "cell_type": "code",
   "execution_count": 48,
   "metadata": {},
   "outputs": [],
   "source": [
    "top_10_streets_and_seats = top_10_objects.merge(df, on='street_name', how='left')"
   ]
  },
  {
   "cell_type": "code",
   "execution_count": 49,
   "metadata": {},
   "outputs": [
    {
     "data": {
      "image/png": "[encoded data removed]",
      "text/plain": [
       "<Figure size 1080x540 with 1 Axes>"
      ]
     },
     "metadata": {
      "needs_background": "light"
     },
     "output_type": "display_data"
    }
   ],
   "source": [
    "ax=sns.catplot(y='street_name', x='number', \n",
    "               kind='swarm', data=top_10_streets_and_seats, \n",
    "                   palette='coolwarm_r', \n",
    "                   height=7.5, aspect=2)\n",
    "(ax\n",
    " .set_xticklabels(rotation=45)\n",
    " .set(title = '')\n",
    " .set(ylabel = '')\n",
    " .set(xlabel = '')\n",
    ")\n",
    "\n",
    "sns.despine()\n",
    "# комментим сохранение\n",
    "#plt.savefig('image_8.png', bbox_inches='tight', dpi=300, transparent=True);"
   ]
  },
  {
   "cell_type": "code",
   "execution_count": 50,
   "metadata": {},
   "outputs": [
    {
     "data": {
      "text/html": [
       "<div>\n",
       "<style scoped>\n",
       "    .dataframe tbody tr th:only-of-type {\n",
       "        vertical-align: middle;\n",
       "    }\n",
       "\n",
       "    .dataframe tbody tr th {\n",
       "        vertical-align: top;\n",
       "    }\n",
       "\n",
       "    .dataframe thead th {\n",
       "        text-align: right;\n",
       "    }\n",
       "</style>\n",
       "<table border=\"1\" class=\"dataframe\">\n",
       "  <thead>\n",
       "    <tr style=\"text-align: right;\">\n",
       "      <th></th>\n",
       "      <th>street_name</th>\n",
       "      <th>id</th>\n",
       "      <th>object_name</th>\n",
       "      <th>chain</th>\n",
       "      <th>object_type</th>\n",
       "      <th>address</th>\n",
       "      <th>number</th>\n",
       "      <th>adm_area</th>\n",
       "      <th>district</th>\n",
       "    </tr>\n",
       "  </thead>\n",
       "  <tbody>\n",
       "    <tr>\n",
       "      <td>86</td>\n",
       "      <td>город зеленоград</td>\n",
       "      <td>28600</td>\n",
       "      <td>столовая миэт</td>\n",
       "      <td>нет</td>\n",
       "      <td>столовая</td>\n",
       "      <td>город москва, город зеленоград, площадь шокина, дом 1</td>\n",
       "      <td>520</td>\n",
       "      <td>зеленоградский административный округ</td>\n",
       "      <td>муниципальный округ старое крюково</td>\n",
       "    </tr>\n",
       "    <tr>\n",
       "      <td>98</td>\n",
       "      <td>город зеленоград</td>\n",
       "      <td>59380</td>\n",
       "      <td>корчма диканька</td>\n",
       "      <td>нет</td>\n",
       "      <td>ресторан</td>\n",
       "      <td>город москва, город зеленоград, савёлкинский проезд, дом 12</td>\n",
       "      <td>286</td>\n",
       "      <td>зеленоградский административный округ</td>\n",
       "      <td>муниципальное образование савелки</td>\n",
       "    </tr>\n",
       "    <tr>\n",
       "      <td>157</td>\n",
       "      <td>город зеленоград</td>\n",
       "      <td>124698</td>\n",
       "      <td>столовая в школе 2045 корп. 2312</td>\n",
       "      <td>нет</td>\n",
       "      <td>столовая</td>\n",
       "      <td>город москва, город зеленоград, корпус 2312</td>\n",
       "      <td>290</td>\n",
       "      <td>зеленоградский административный округ</td>\n",
       "      <td>муниципальный округ крюково</td>\n",
       "    </tr>\n",
       "    <tr>\n",
       "      <td>297</td>\n",
       "      <td>проспект мира</td>\n",
       "      <td>27015</td>\n",
       "      <td>банкетный зал «галактика»</td>\n",
       "      <td>нет</td>\n",
       "      <td>ресторан</td>\n",
       "      <td>город москва, проспект мира, дом 150</td>\n",
       "      <td>250</td>\n",
       "      <td>северо-восточный административный округ</td>\n",
       "      <td>муниципальный округ алексеевский</td>\n",
       "    </tr>\n",
       "    <tr>\n",
       "      <td>298</td>\n",
       "      <td>проспект мира</td>\n",
       "      <td>27016</td>\n",
       "      <td>банкетный зал «вечерний-космос»</td>\n",
       "      <td>нет</td>\n",
       "      <td>ресторан</td>\n",
       "      <td>город москва, проспект мира, дом 150</td>\n",
       "      <td>250</td>\n",
       "      <td>северо-восточный административный округ</td>\n",
       "      <td>муниципальный округ алексеевский</td>\n",
       "    </tr>\n",
       "    <tr>\n",
       "      <td>327</td>\n",
       "      <td>проспект мира</td>\n",
       "      <td>25237</td>\n",
       "      <td>му-му</td>\n",
       "      <td>да</td>\n",
       "      <td>кафе</td>\n",
       "      <td>город москва, проспект мира, дом 114б, строение 2</td>\n",
       "      <td>273</td>\n",
       "      <td>северо-восточный административный округ</td>\n",
       "      <td>муниципальный округ алексеевский</td>\n",
       "    </tr>\n",
       "    <tr>\n",
       "      <td>364</td>\n",
       "      <td>проспект мира</td>\n",
       "      <td>23127</td>\n",
       "      <td>кафе в кинотеатре люксор</td>\n",
       "      <td>нет</td>\n",
       "      <td>кафе</td>\n",
       "      <td>город москва, проспект мира, дом 211, корпус 2</td>\n",
       "      <td>250</td>\n",
       "      <td>северо-восточный административный округ</td>\n",
       "      <td>муниципальный округ свиблово</td>\n",
       "    </tr>\n",
       "    <tr>\n",
       "      <td>425</td>\n",
       "      <td>проспект мира</td>\n",
       "      <td>175475</td>\n",
       "      <td>мандариновый гусь</td>\n",
       "      <td>нет</td>\n",
       "      <td>ресторан</td>\n",
       "      <td>город москва, проспект мира, дом 99</td>\n",
       "      <td>326</td>\n",
       "      <td>северо-восточный административный округ</td>\n",
       "      <td>муниципальный округ останкинский</td>\n",
       "    </tr>\n",
       "    <tr>\n",
       "      <td>725</td>\n",
       "      <td>ленинградский проспект</td>\n",
       "      <td>69359</td>\n",
       "      <td>эликсир</td>\n",
       "      <td>нет</td>\n",
       "      <td>столовая</td>\n",
       "      <td>город москва, ленинградский проспект, дом 31а, строение 1</td>\n",
       "      <td>300</td>\n",
       "      <td>северный административный округ</td>\n",
       "      <td>муниципальный округ беговой</td>\n",
       "    </tr>\n",
       "    <tr>\n",
       "      <td>730</td>\n",
       "      <td>ленинградский проспект</td>\n",
       "      <td>27033</td>\n",
       "      <td>банкетный</td>\n",
       "      <td>нет</td>\n",
       "      <td>ресторан</td>\n",
       "      <td>город москва, ленинградский проспект, дом 31а, строение 1</td>\n",
       "      <td>625</td>\n",
       "      <td>северный административный округ</td>\n",
       "      <td>муниципальный округ беговой</td>\n",
       "    </tr>\n",
       "    <tr>\n",
       "      <td>785</td>\n",
       "      <td>пресненская набережная</td>\n",
       "      <td>140422</td>\n",
       "      <td>ресторан «sixty»</td>\n",
       "      <td>нет</td>\n",
       "      <td>ресторан</td>\n",
       "      <td>город москва, пресненская набережная, дом 12</td>\n",
       "      <td>300</td>\n",
       "      <td>центральный административный округ</td>\n",
       "      <td>муниципальный округ пресненский</td>\n",
       "    </tr>\n",
       "    <tr>\n",
       "      <td>822</td>\n",
       "      <td>пресненская набережная</td>\n",
       "      <td>167392</td>\n",
       "      <td>ресторан «chef's kitchen by sodexo»</td>\n",
       "      <td>нет</td>\n",
       "      <td>ресторан</td>\n",
       "      <td>город москва, пресненская набережная, дом 10</td>\n",
       "      <td>250</td>\n",
       "      <td>центральный административный округ</td>\n",
       "      <td>муниципальный округ пресненский</td>\n",
       "    </tr>\n",
       "    <tr>\n",
       "      <td>827</td>\n",
       "      <td>пресненская набережная</td>\n",
       "      <td>140634</td>\n",
       "      <td>ресторан «bamboobar»</td>\n",
       "      <td>нет</td>\n",
       "      <td>ресторан</td>\n",
       "      <td>город москва, пресненская набережная, дом 8, строение 1</td>\n",
       "      <td>250</td>\n",
       "      <td>центральный административный округ</td>\n",
       "      <td>муниципальный округ пресненский</td>\n",
       "    </tr>\n",
       "    <tr>\n",
       "      <td>840</td>\n",
       "      <td>пресненская набережная</td>\n",
       "      <td>167290</td>\n",
       "      <td>ресторан фреш сити</td>\n",
       "      <td>нет</td>\n",
       "      <td>ресторан</td>\n",
       "      <td>город москва, пресненская набережная, дом 8, строение 1</td>\n",
       "      <td>478</td>\n",
       "      <td>центральный административный округ</td>\n",
       "      <td>муниципальный округ пресненский</td>\n",
       "    </tr>\n",
       "    <tr>\n",
       "      <td>865</td>\n",
       "      <td>пресненская набережная</td>\n",
       "      <td>93810</td>\n",
       "      <td>иль патио</td>\n",
       "      <td>да</td>\n",
       "      <td>ресторан</td>\n",
       "      <td>город москва, пресненская набережная, дом 2</td>\n",
       "      <td>350</td>\n",
       "      <td>центральный административный округ</td>\n",
       "      <td>муниципальный округ пресненский</td>\n",
       "    </tr>\n",
       "    <tr>\n",
       "      <td>966</td>\n",
       "      <td>варшавское шоссе</td>\n",
       "      <td>23815</td>\n",
       "      <td>огни баку</td>\n",
       "      <td>нет</td>\n",
       "      <td>ресторан</td>\n",
       "      <td>город москва, варшавское шоссе, дом 152, корпус 2</td>\n",
       "      <td>380</td>\n",
       "      <td>южный административный округ</td>\n",
       "      <td>муниципальный округ чертаново южное</td>\n",
       "    </tr>\n",
       "    <tr>\n",
       "      <td>974</td>\n",
       "      <td>варшавское шоссе</td>\n",
       "      <td>29055</td>\n",
       "      <td>столовая школы №629</td>\n",
       "      <td>нет</td>\n",
       "      <td>столовая</td>\n",
       "      <td>город москва, варшавское шоссе, дом 156б</td>\n",
       "      <td>300</td>\n",
       "      <td>южный административный округ</td>\n",
       "      <td>муниципальный округ чертаново южное</td>\n",
       "    </tr>\n",
       "    <tr>\n",
       "      <td>981</td>\n",
       "      <td>варшавское шоссе</td>\n",
       "      <td>29340</td>\n",
       "      <td>столовая «гбоу сош 1623»</td>\n",
       "      <td>нет</td>\n",
       "      <td>столовая</td>\n",
       "      <td>город москва, варшавское шоссе, дом 126а</td>\n",
       "      <td>300</td>\n",
       "      <td>южный административный округ</td>\n",
       "      <td>муниципальный округ чертаново северное</td>\n",
       "    </tr>\n",
       "    <tr>\n",
       "      <td>987</td>\n",
       "      <td>варшавское шоссе</td>\n",
       "      <td>28119</td>\n",
       "      <td>фгуп международный почтампт</td>\n",
       "      <td>нет</td>\n",
       "      <td>столовая</td>\n",
       "      <td>город москва, варшавское шоссе, дом 37</td>\n",
       "      <td>250</td>\n",
       "      <td>южный административный округ</td>\n",
       "      <td>муниципальный округ нагатино-садовники</td>\n",
       "    </tr>\n",
       "    <tr>\n",
       "      <td>996</td>\n",
       "      <td>варшавское шоссе</td>\n",
       "      <td>29351</td>\n",
       "      <td>столовая школы 1178</td>\n",
       "      <td>нет</td>\n",
       "      <td>столовая</td>\n",
       "      <td>город москва, варшавское шоссе, дом 152, корпус 10</td>\n",
       "      <td>300</td>\n",
       "      <td>южный административный округ</td>\n",
       "      <td>муниципальный округ чертаново южное</td>\n",
       "    </tr>\n",
       "    <tr>\n",
       "      <td>1029</td>\n",
       "      <td>варшавское шоссе</td>\n",
       "      <td>28149</td>\n",
       "      <td>сапфир 1</td>\n",
       "      <td>нет</td>\n",
       "      <td>столовая</td>\n",
       "      <td>город москва, варшавское шоссе, дом 127</td>\n",
       "      <td>500</td>\n",
       "      <td>южный административный округ</td>\n",
       "      <td>муниципальный округ чертаново центральное</td>\n",
       "    </tr>\n",
       "    <tr>\n",
       "      <td>1079</td>\n",
       "      <td>варшавское шоссе</td>\n",
       "      <td>189776</td>\n",
       "      <td>ресторан «вечерний баку»</td>\n",
       "      <td>нет</td>\n",
       "      <td>ресторан</td>\n",
       "      <td>город москва, варшавское шоссе, дом 27</td>\n",
       "      <td>300</td>\n",
       "      <td>южный административный округ</td>\n",
       "      <td>муниципальный округ донской</td>\n",
       "    </tr>\n",
       "    <tr>\n",
       "      <td>1154</td>\n",
       "      <td>ленинский проспект</td>\n",
       "      <td>29597</td>\n",
       "      <td>росс</td>\n",
       "      <td>нет</td>\n",
       "      <td>столовая</td>\n",
       "      <td>город москва, ленинский проспект, дом 65, корпус 1</td>\n",
       "      <td>290</td>\n",
       "      <td>юго-западный административный округ</td>\n",
       "      <td>муниципальный округ гагаринский</td>\n",
       "    </tr>\n",
       "    <tr>\n",
       "      <td>1167</td>\n",
       "      <td>ленинский проспект</td>\n",
       "      <td>19816</td>\n",
       "      <td>буфет «коникс-школьник»</td>\n",
       "      <td>нет</td>\n",
       "      <td>буфет</td>\n",
       "      <td>город москва, ленинский проспект, дом 132</td>\n",
       "      <td>250</td>\n",
       "      <td>западный административный округ</td>\n",
       "      <td>муниципальный округ проспект вернадского</td>\n",
       "    </tr>\n",
       "    <tr>\n",
       "      <td>1190</td>\n",
       "      <td>ленинский проспект</td>\n",
       "      <td>29615</td>\n",
       "      <td>столовая гбоу школа № 109</td>\n",
       "      <td>нет</td>\n",
       "      <td>столовая</td>\n",
       "      <td>город москва, ленинский проспект, дом 131, корпус 4</td>\n",
       "      <td>300</td>\n",
       "      <td>юго-западный административный округ</td>\n",
       "      <td>муниципальный округ теплый стан</td>\n",
       "    </tr>\n",
       "    <tr>\n",
       "      <td>1216</td>\n",
       "      <td>ленинский проспект</td>\n",
       "      <td>22856</td>\n",
       "      <td>ресторан «цдт»</td>\n",
       "      <td>нет</td>\n",
       "      <td>ресторан</td>\n",
       "      <td>город москва, ленинский проспект, дом 146</td>\n",
       "      <td>495</td>\n",
       "      <td>западный административный округ</td>\n",
       "      <td>муниципальный округ тропарево-никулино</td>\n",
       "    </tr>\n",
       "    <tr>\n",
       "      <td>1219</td>\n",
       "      <td>ленинский проспект</td>\n",
       "      <td>23633</td>\n",
       "      <td>ресторан «чайхана урюк»</td>\n",
       "      <td>да</td>\n",
       "      <td>ресторан</td>\n",
       "      <td>город москва, ленинский проспект, дом 31, корпус 1, строение 1</td>\n",
       "      <td>250</td>\n",
       "      <td>южный административный округ</td>\n",
       "      <td>муниципальный округ донской</td>\n",
       "    </tr>\n",
       "    <tr>\n",
       "      <td>1421</td>\n",
       "      <td>проспект вернадского</td>\n",
       "      <td>19720</td>\n",
       "      <td>столовая</td>\n",
       "      <td>нет</td>\n",
       "      <td>столовая</td>\n",
       "      <td>город москва, проспект вернадского, дом 82, строение 1</td>\n",
       "      <td>328</td>\n",
       "      <td>западный административный округ</td>\n",
       "      <td>муниципальный округ тропарево-никулино</td>\n",
       "    </tr>\n",
       "    <tr>\n",
       "      <td>1457</td>\n",
       "      <td>проспект вернадского</td>\n",
       "      <td>69447</td>\n",
       "      <td>чайхона №1</td>\n",
       "      <td>да</td>\n",
       "      <td>ресторан</td>\n",
       "      <td>город москва, проспект вернадского, дом 105, корпус 3</td>\n",
       "      <td>250</td>\n",
       "      <td>западный административный округ</td>\n",
       "      <td>муниципальный округ тропарево-никулино</td>\n",
       "    </tr>\n",
       "    <tr>\n",
       "      <td>1513</td>\n",
       "      <td>проспект вернадского</td>\n",
       "      <td>19719</td>\n",
       "      <td>комбинат питания «управление академсервис»</td>\n",
       "      <td>нет</td>\n",
       "      <td>столовая</td>\n",
       "      <td>город москва, проспект вернадского, дом 84, строение 1</td>\n",
       "      <td>1288</td>\n",
       "      <td>западный административный округ</td>\n",
       "      <td>муниципальный округ тропарево-никулино</td>\n",
       "    </tr>\n",
       "    <tr>\n",
       "      <td>1547</td>\n",
       "      <td>кутузовский проспект</td>\n",
       "      <td>27024</td>\n",
       "      <td>рум сервис</td>\n",
       "      <td>нет</td>\n",
       "      <td>ресторан</td>\n",
       "      <td>город москва, кутузовский проспект, дом 2/1, строение 1</td>\n",
       "      <td>1200</td>\n",
       "      <td>западный административный округ</td>\n",
       "      <td>муниципальный округ дорогомилово</td>\n",
       "    </tr>\n",
       "    <tr>\n",
       "      <td>1591</td>\n",
       "      <td>кутузовский проспект</td>\n",
       "      <td>80974</td>\n",
       "      <td>шеф</td>\n",
       "      <td>нет</td>\n",
       "      <td>ресторан</td>\n",
       "      <td>город москва, кутузовский проспект, дом 2/1, строение 6</td>\n",
       "      <td>255</td>\n",
       "      <td>западный административный округ</td>\n",
       "      <td>муниципальный округ дорогомилово</td>\n",
       "    </tr>\n",
       "    <tr>\n",
       "      <td>1639</td>\n",
       "      <td>кутузовский проспект</td>\n",
       "      <td>199696</td>\n",
       "      <td>arena by soho family</td>\n",
       "      <td>нет</td>\n",
       "      <td>бар</td>\n",
       "      <td>город москва, кутузовский проспект, дом 36, строение 11</td>\n",
       "      <td>1700</td>\n",
       "      <td>западный административный округ</td>\n",
       "      <td>муниципальный округ дорогомилово</td>\n",
       "    </tr>\n",
       "  </tbody>\n",
       "</table>\n",
       "</div>"
      ],
      "text/plain": [
       "                  street_name      id  \\\n",
       "86     город зеленоград        28600    \n",
       "98     город зеленоград        59380    \n",
       "157    город зеленоград        124698   \n",
       "297    проспект мира           27015    \n",
       "298    проспект мира           27016    \n",
       "327    проспект мира           25237    \n",
       "364    проспект мира           23127    \n",
       "425    проспект мира           175475   \n",
       "725    ленинградский проспект  69359    \n",
       "730    ленинградский проспект  27033    \n",
       "785    пресненская набережная  140422   \n",
       "822    пресненская набережная  167392   \n",
       "827    пресненская набережная  140634   \n",
       "840    пресненская набережная  167290   \n",
       "865    пресненская набережная  93810    \n",
       "966    варшавское шоссе        23815    \n",
       "974    варшавское шоссе        29055    \n",
       "981    варшавское шоссе        29340    \n",
       "987    варшавское шоссе        28119    \n",
       "996    варшавское шоссе        29351    \n",
       "1029   варшавское шоссе        28149    \n",
       "1079   варшавское шоссе        189776   \n",
       "1154   ленинский проспект      29597    \n",
       "1167   ленинский проспект      19816    \n",
       "1190   ленинский проспект      29615    \n",
       "1216   ленинский проспект      22856    \n",
       "1219   ленинский проспект      23633    \n",
       "1421   проспект вернадского    19720    \n",
       "1457   проспект вернадского    69447    \n",
       "1513   проспект вернадского    19719    \n",
       "1547   кутузовский проспект    27024    \n",
       "1591   кутузовский проспект    80974    \n",
       "1639   кутузовский проспект    199696   \n",
       "\n",
       "                                     object_name chain object_type  \\\n",
       "86    столовая миэт                               нет   столовая     \n",
       "98    корчма диканька                             нет   ресторан     \n",
       "157   столовая в школе 2045 корп. 2312            нет   столовая     \n",
       "297   банкетный зал «галактика»                   нет   ресторан     \n",
       "298   банкетный зал «вечерний-космос»             нет   ресторан     \n",
       "327   му-му                                       да    кафе         \n",
       "364   кафе в кинотеатре люксор                    нет   кафе         \n",
       "425   мандариновый гусь                           нет   ресторан     \n",
       "725   эликсир                                     нет   столовая     \n",
       "730   банкетный                                   нет   ресторан     \n",
       "785   ресторан «sixty»                            нет   ресторан     \n",
       "822   ресторан «chef's kitchen by sodexo»         нет   ресторан     \n",
       "827   ресторан «bamboobar»                        нет   ресторан     \n",
       "840   ресторан фреш сити                          нет   ресторан     \n",
       "865   иль патио                                   да    ресторан     \n",
       "966   огни баку                                   нет   ресторан     \n",
       "974   столовая школы №629                         нет   столовая     \n",
       "981   столовая «гбоу сош 1623»                    нет   столовая     \n",
       "987   фгуп международный почтампт                 нет   столовая     \n",
       "996   столовая школы 1178                         нет   столовая     \n",
       "1029  сапфир 1                                    нет   столовая     \n",
       "1079  ресторан «вечерний баку»                    нет   ресторан     \n",
       "1154  росс                                        нет   столовая     \n",
       "1167  буфет «коникс-школьник»                     нет   буфет        \n",
       "1190  столовая гбоу школа № 109                   нет   столовая     \n",
       "1216  ресторан «цдт»                              нет   ресторан     \n",
       "1219  ресторан «чайхана урюк»                     да    ресторан     \n",
       "1421  столовая                                    нет   столовая     \n",
       "1457  чайхона №1                                  да    ресторан     \n",
       "1513  комбинат питания «управление академсервис»  нет   столовая     \n",
       "1547  рум сервис                                  нет   ресторан     \n",
       "1591  шеф                                         нет   ресторан     \n",
       "1639  arena by soho family                        нет   бар          \n",
       "\n",
       "                                                             address  number  \\\n",
       "86    город москва, город зеленоград, площадь шокина, дом 1           520      \n",
       "98    город москва, город зеленоград, савёлкинский проезд, дом 12     286      \n",
       "157   город москва, город зеленоград, корпус 2312                     290      \n",
       "297   город москва, проспект мира, дом 150                            250      \n",
       "298   город москва, проспект мира, дом 150                            250      \n",
       "327   город москва, проспект мира, дом 114б, строение 2               273      \n",
       "364   город москва, проспект мира, дом 211, корпус 2                  250      \n",
       "425   город москва, проспект мира, дом 99                             326      \n",
       "725   город москва, ленинградский проспект, дом 31а, строение 1       300      \n",
       "730   город москва, ленинградский проспект, дом 31а, строение 1       625      \n",
       "785   город москва, пресненская набережная, дом 12                    300      \n",
       "822   город москва, пресненская набережная, дом 10                    250      \n",
       "827   город москва, пресненская набережная, дом 8, строение 1         250      \n",
       "840   город москва, пресненская набережная, дом 8, строение 1         478      \n",
       "865   город москва, пресненская набережная, дом 2                     350      \n",
       "966   город москва, варшавское шоссе, дом 152, корпус 2               380      \n",
       "974   город москва, варшавское шоссе, дом 156б                        300      \n",
       "981   город москва, варшавское шоссе, дом 126а                        300      \n",
       "987   город москва, варшавское шоссе, дом 37                          250      \n",
       "996   город москва, варшавское шоссе, дом 152, корпус 10              300      \n",
       "1029  город москва, варшавское шоссе, дом 127                         500      \n",
       "1079  город москва, варшавское шоссе, дом 27                          300      \n",
       "1154  город москва, ленинский проспект, дом 65, корпус 1              290      \n",
       "1167  город москва, ленинский проспект, дом 132                       250      \n",
       "1190  город москва, ленинский проспект, дом 131, корпус 4             300      \n",
       "1216  город москва, ленинский проспект, дом 146                       495      \n",
       "1219  город москва, ленинский проспект, дом 31, корпус 1, строение 1  250      \n",
       "1421  город москва, проспект вернадского, дом 82, строение 1          328      \n",
       "1457  город москва, проспект вернадского, дом 105, корпус 3           250      \n",
       "1513  город москва, проспект вернадского, дом 84, строение 1          1288     \n",
       "1547  город москва, кутузовский проспект, дом 2/1, строение 1         1200     \n",
       "1591  город москва, кутузовский проспект, дом 2/1, строение 6         255      \n",
       "1639  город москва, кутузовский проспект, дом 36, строение 11         1700     \n",
       "\n",
       "                                     adm_area  \\\n",
       "86    зеленоградский административный округ     \n",
       "98    зеленоградский административный округ     \n",
       "157   зеленоградский административный округ     \n",
       "297   северо-восточный административный округ   \n",
       "298   северо-восточный административный округ   \n",
       "327   северо-восточный административный округ   \n",
       "364   северо-восточный административный округ   \n",
       "425   северо-восточный административный округ   \n",
       "725   северный административный округ           \n",
       "730   северный административный округ           \n",
       "785   центральный административный округ        \n",
       "822   центральный административный округ        \n",
       "827   центральный административный округ        \n",
       "840   центральный административный округ        \n",
       "865   центральный административный округ        \n",
       "966   южный административный округ              \n",
       "974   южный административный округ              \n",
       "981   южный административный округ              \n",
       "987   южный административный округ              \n",
       "996   южный административный округ              \n",
       "1029  южный административный округ              \n",
       "1079  южный административный округ              \n",
       "1154  юго-западный административный округ       \n",
       "1167  западный административный округ           \n",
       "1190  юго-западный административный округ       \n",
       "1216  западный административный округ           \n",
       "1219  южный административный округ              \n",
       "1421  западный административный округ           \n",
       "1457  западный административный округ           \n",
       "1513  западный административный округ           \n",
       "1547  западный административный округ           \n",
       "1591  западный административный округ           \n",
       "1639  западный административный округ           \n",
       "\n",
       "                                       district  \n",
       "86    муниципальный округ старое крюково         \n",
       "98    муниципальное образование савелки          \n",
       "157   муниципальный округ крюково                \n",
       "297   муниципальный округ алексеевский           \n",
       "298   муниципальный округ алексеевский           \n",
       "327   муниципальный округ алексеевский           \n",
       "364   муниципальный округ свиблово               \n",
       "425   муниципальный округ останкинский           \n",
       "725   муниципальный округ беговой                \n",
       "730   муниципальный округ беговой                \n",
       "785   муниципальный округ пресненский            \n",
       "822   муниципальный округ пресненский            \n",
       "827   муниципальный округ пресненский            \n",
       "840   муниципальный округ пресненский            \n",
       "865   муниципальный округ пресненский            \n",
       "966   муниципальный округ чертаново южное        \n",
       "974   муниципальный округ чертаново южное        \n",
       "981   муниципальный округ чертаново северное     \n",
       "987   муниципальный округ нагатино-садовники     \n",
       "996   муниципальный округ чертаново южное        \n",
       "1029  муниципальный округ чертаново центральное  \n",
       "1079  муниципальный округ донской                \n",
       "1154  муниципальный округ гагаринский            \n",
       "1167  муниципальный округ проспект вернадского   \n",
       "1190  муниципальный округ теплый стан            \n",
       "1216  муниципальный округ тропарево-никулино     \n",
       "1219  муниципальный округ донской                \n",
       "1421  муниципальный округ тропарево-никулино     \n",
       "1457  муниципальный округ тропарево-никулино     \n",
       "1513  муниципальный округ тропарево-никулино     \n",
       "1547  муниципальный округ дорогомилово           \n",
       "1591  муниципальный округ дорогомилово           \n",
       "1639  муниципальный округ дорогомилово           "
      ]
     },
     "execution_count": 50,
     "metadata": {},
     "output_type": "execute_result"
    }
   ],
   "source": [
    "top_10_streets_and_seats.query('number >=250')"
   ]
  },
  {
   "cell_type": "markdown",
   "metadata": {},
   "source": [
    "**Больше 250 посадочных мест уже редкость**"
   ]
  },
  {
   "cell_type": "code",
   "execution_count": 51,
   "metadata": {},
   "outputs": [
    {
     "data": {
      "image/png": "[encoded data removed]",
      "text/plain": [
       "<Figure size 1080x540 with 1 Axes>"
      ]
     },
     "metadata": {
      "needs_background": "light"
     },
     "output_type": "display_data"
    }
   ],
   "source": [
    "ax=sns.catplot(y='street_name', x='number', \n",
    "               kind='violin', data=top_10_streets_and_seats.query('number<250'), \n",
    "                   palette='coolwarm_r', \n",
    "                   height=7.5, aspect=2)\n",
    "(ax\n",
    " .set_xticklabels(rotation=45)\n",
    " .set(title = '')\n",
    " .set(ylabel = '')\n",
    " .set(xlabel = '')\n",
    ")\n",
    "\n",
    "sns.despine()\n",
    "# комментим сохранение\n",
    "#plt.savefig('image_9.png', bbox_inches='tight', dpi=300, transparent=True);"
   ]
  },
  {
   "cell_type": "code",
   "execution_count": 52,
   "metadata": {},
   "outputs": [
    {
     "data": {
      "text/plain": [
       "38.0"
      ]
     },
     "execution_count": 52,
     "metadata": {},
     "output_type": "execute_result"
    }
   ],
   "source": [
    "top_10_streets_and_seats['number'].median()"
   ]
  },
  {
   "cell_type": "markdown",
   "metadata": {},
   "source": [
    "**Вывод:**\n",
    "* Количество посадочных мест на улицах где много объектов общепита (Топ-10) находится в интервале от 0 до 50 (медианное значение), сами улицы представляют собой длиные проспекты проходящие через весь город, или бОльшую его часть (преимущественно юг Москвы). Лидером по количеству объектов и медианному значению количества посадочных мест является город Зеленоград, также представлена Новая Москва (поселение Сосенское 8-е место в Топ-10). Присутствие пресненской набережной в Топ-10 на 5-ом месте, вероятно обусловлено тем, что в Москва-Сити много различных заведений общепита.\n",
    "* Смещение распределения вправо (в сторону больших значений) говорит о том, что на каждой улице есть небольшое количество заведений с большим числом посадочных мест (см swarmplot) - это большие банкетные залы ориентированные именно на банкет/корпоратив и т.д., а не на повседневное обслуживание."
   ]
  },
  {
   "cell_type": "markdown",
   "metadata": {},
   "source": [
    "<a id='3'></a>\n",
    "#### 3. Выводы\n",
    "-------------------------------\n",
    " * Значительно преобладают несетевые объекты. Среди сетевых лидерами по количеству являются: кафе, предприятия быстрого питания (пбо) и рестораны\n",
    " * Самое большое количество посадочных мест (среднее значение) предлагают столовые (112-130 мест), затем идут рестораны (95-100) и бары (51-53)\n",
    " * Улицы с большим кол-вом объектов распределены по всему городу, пожалуй за исключением восточной и юго-восточной части Москвы\n",
    " * Больше всего улиц с одним объектом общественного питания в центре города, скорее всего это обусловлено длиной улиц в центре и трудностью подбора подходящего под кафе/ресторан помещения в старых зданиях\n",
    "---------------------------------\n",
    "* Количество посадочных мест на улицах где много объектов общепита (Топ-10) находится в интервале от 0 до 50 (медианное значение), сами улицы представляют собой длиные проспекты проходящие через весь город, или бОльшую его часть (преимущественно юг Москвы). Лидером по количеству объектов и медианному значению количества посадочных мест является город Зеленоград, также представлена Новая Москва (поселение Сосенское 8-е место в Топ-10). Присутствие пресненской набережной в Топ-10 на 5-ом месте, вероятно обусловлено тем, что в Москва-Сити много различных заведений общепита.\n",
    "* Смещение распределения вправо (в сторону больших значений) говорит о том, что на каждой улице есть небольшое количество заведений с большим числом посадочных мест (см swarmplot) - скорее всего это большие банкетные залы ориентированные именно на банкет/корпоратив и т.д., а не на повседневное обслуживание.\n",
    " \n",
    "> **Сделайте общий вывод и дайте рекомендации о виде заведения, количестве посадочных мест, а также районе расположения. Прокомментируйте возможность развития сети**.  \n",
    ">Рекомендации:\n",
    "* Вид заведения: кафе / ресторан\n",
    "* Посадочных мест: не более 35-45 мест\n",
    "* Район расположения: Я бы выбрал Пресненский район, а именно Москва-Сити -- кажется, что там аудитории с деньгами и интересуется различными новинками\n",
    "* Аудиторию нужно исследовать отдельно, в кафе с роботами пойдут не все, по крайней мере далеко не все станут постоянными посетителями. \n",
    "* Развитие сети возможно, однако нужно подбирать места ближе к месту расположения бизнес центров с офисами технологических компаний и стартапов, предполагаю, что целевой аудиторией будут люди интересующиеся технологическими новинками (\"гики\")."
   ]
  },
  {
   "cell_type": "markdown",
   "metadata": {},
   "source": [
    "[Вернуться в начало](#start)"
   ]
  }
 ],
 "metadata": {
  "kernelspec": {
   "display_name": "Python 3",
   "language": "python",
   "name": "python3"
  },
  "language_info": {
   "codemirror_mode": {
    "name": "ipython",
    "version": 3
   },
   "file_extension": ".py",
   "mimetype": "text/x-python",
   "name": "python",
   "nbconvert_exporter": "python",
   "pygments_lexer": "ipython3",
   "version": "3.7.3"
  }
 },
 "nbformat": 4,
 "nbformat_minor": 2
}
