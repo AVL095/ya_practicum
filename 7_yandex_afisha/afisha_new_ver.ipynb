{
 "cells": [
  {
   "cell_type": "markdown",
   "metadata": {},
   "source": [
    "### Анализ бизнес-показателей\n",
    "----------------------"
   ]
  },
  {
   "cell_type": "markdown",
   "metadata": {},
   "source": [
    "<a id='return_to_the_top'></a>"
   ]
  },
  {
   "cell_type": "markdown",
   "metadata": {},
   "source": [
    "### Содержание\n",
    "--------------------------\n",
    "\n",
    "[1.Импорт и преобразование данных](#import_1)   \n",
    "\n",
    "* [2.Продукт](#calculations_1)  \n",
    "  * [2.1 Сколько людей пользуется](#how_much_people_uses) \n",
    "  * [2.2 Пользователькие сессии](#user_sessions)\n",
    "     * [2.2.3 Как часто люди возвращаются](#retentions)\n",
    "     \n",
    "* [3.Продажи](#purchases)\n",
    "  * [3.3  Cредний чек](#average_revenue)\n",
    "  * [3.4 Расчет LTV](#ltv_calculations) \n",
    "     * [Тепловая карта LTV](#ltv_calculations_heatmap)\n",
    "     \n",
    "* [4. Маркетинг](#marketing)\n",
    "  * [4.1 Сколько денег потратили](#total_marketing_investments)\n",
    "  * [4.2 Стоимость привлечения 1-го покупателя](#costs_per_buyer)\n",
    "  * [4.3 Расчет ROI (return of investments)](#return_of_investments )\n",
    "* [5. Выводы](#conclusions)\n"
   ]
  },
  {
   "cell_type": "markdown",
   "metadata": {},
   "source": [
    "### 1. Импорт и преобразование данных\n",
    "<a id='import_1'></a>"
   ]
  },
  {
   "cell_type": "code",
   "execution_count": 1,
   "metadata": {},
   "outputs": [],
   "source": [
    "# Импорт библиотек\n",
    "import pandas as pd\n",
    "import numpy as np\n",
    "import datetime as dt\n",
    "import matplotlib.pyplot as plt\n",
    "from scipy import stats as st\n",
    "\n",
    "import seaborn as sns\n",
    "sns.set(rc={'figure.figsize':(11.7, 8.27)})\n",
    "\n",
    "import warnings\n",
    "warnings.filterwarnings('ignore')\n",
    "\n",
    "plt.style.use('seaborn')\n",
    "%matplotlib inline\n",
    "pd.set_option('display.max_columns', None)"
   ]
  },
  {
   "cell_type": "code",
   "execution_count": 2,
   "metadata": {},
   "outputs": [],
   "source": [
    "def df_look(df):\n",
    "    \"\"\"\n",
    "    Функция для получения общей информации о датафрейме\n",
    "    \"\"\"\n",
    "    print('Первые 3 строки датафрейма')\n",
    "    print('-'*52)\n",
    "    print('{}'.format(df.head(3)))\n",
    "    print('='*52)\n",
    "    print('Размер датафрейма: (строк:столбцов) {}'.format(df.shape))\n",
    "    print('='*52)\n",
    "    print('Типы данных и общая информация')\n",
    "    print('-'*52)\n",
    "    print(df.info())\n",
    "    print('='*52)\n",
    "    print('Наличие дубликатов')\n",
    "    print('='*52)\n",
    "    print(df.duplicated().sum())\n",
    "    print('-'*52)\n",
    "    print('Наличие пропусков')\n",
    "    print('-'*52)\n",
    "    print(df.isna().sum())\n",
    "    print('='*52)\n"
   ]
  },
  {
   "cell_type": "code",
   "execution_count": 3,
   "metadata": {},
   "outputs": [],
   "source": [
    "# Импорт данных\n",
    "orders = pd.read_csv('/datasets/orders_log.csv', sep=',')\n",
    "costs = pd.read_csv('/datasets/costs.csv', sep=',')\n",
    "visits = pd.read_csv('/datasets/visits_log.csv', sep=',')"
   ]
  },
  {
   "cell_type": "markdown",
   "metadata": {},
   "source": [
    "#### 1.1 Заказы\n",
    "<a id='import_orders'></a>"
   ]
  },
  {
   "cell_type": "code",
   "execution_count": 4,
   "metadata": {},
   "outputs": [
    {
     "name": "stdout",
     "output_type": "stream",
     "text": [
      "Первые 3 строки датафрейма\n",
      "----------------------------------------------------\n",
      "                Buy Ts  Revenue                   Uid\n",
      "0  2017-06-01 00:10:00    17.00  10329302124590727494\n",
      "1  2017-06-01 00:25:00     0.55  11627257723692907447\n",
      "2  2017-06-01 00:27:00     0.37  17903680561304213844\n",
      "====================================================\n",
      "Размер датафрейма: (строк:столбцов) (50415, 3)\n",
      "====================================================\n",
      "Типы данных и общая информация\n",
      "----------------------------------------------------\n",
      "<class 'pandas.core.frame.DataFrame'>\n",
      "RangeIndex: 50415 entries, 0 to 50414\n",
      "Data columns (total 3 columns):\n",
      "Buy Ts     50415 non-null object\n",
      "Revenue    50415 non-null float64\n",
      "Uid        50415 non-null uint64\n",
      "dtypes: float64(1), object(1), uint64(1)\n",
      "memory usage: 1.2+ MB\n",
      "None\n",
      "====================================================\n",
      "Наличие дубликатов\n",
      "====================================================\n",
      "0\n",
      "----------------------------------------------------\n",
      "Наличие пропусков\n",
      "----------------------------------------------------\n",
      "Buy Ts     0\n",
      "Revenue    0\n",
      "Uid        0\n",
      "dtype: int64\n",
      "====================================================\n"
     ]
    }
   ],
   "source": [
    "df_look(orders)"
   ]
  },
  {
   "cell_type": "code",
   "execution_count": 5,
   "metadata": {},
   "outputs": [],
   "source": [
    "orders.columns = ['buy_ts', 'revenue', 'uid']\n",
    "orders['buy_ts'] = pd.to_datetime(orders['buy_ts'])"
   ]
  },
  {
   "cell_type": "markdown",
   "metadata": {},
   "source": [
    "#### 1.2 Затраты"
   ]
  },
  {
   "cell_type": "code",
   "execution_count": 6,
   "metadata": {},
   "outputs": [
    {
     "name": "stdout",
     "output_type": "stream",
     "text": [
      "Первые 3 строки датафрейма\n",
      "----------------------------------------------------\n",
      "   source_id          dt  costs\n",
      "0          1  2017-06-01  75.20\n",
      "1          1  2017-06-02  62.25\n",
      "2          1  2017-06-03  36.53\n",
      "====================================================\n",
      "Размер датафрейма: (строк:столбцов) (2542, 3)\n",
      "====================================================\n",
      "Типы данных и общая информация\n",
      "----------------------------------------------------\n",
      "<class 'pandas.core.frame.DataFrame'>\n",
      "RangeIndex: 2542 entries, 0 to 2541\n",
      "Data columns (total 3 columns):\n",
      "source_id    2542 non-null int64\n",
      "dt           2542 non-null object\n",
      "costs        2542 non-null float64\n",
      "dtypes: float64(1), int64(1), object(1)\n",
      "memory usage: 59.7+ KB\n",
      "None\n",
      "====================================================\n",
      "Наличие дубликатов\n",
      "====================================================\n",
      "0\n",
      "----------------------------------------------------\n",
      "Наличие пропусков\n",
      "----------------------------------------------------\n",
      "source_id    0\n",
      "dt           0\n",
      "costs        0\n",
      "dtype: int64\n",
      "====================================================\n"
     ]
    }
   ],
   "source": [
    "df_look(costs)"
   ]
  },
  {
   "cell_type": "code",
   "execution_count": 7,
   "metadata": {},
   "outputs": [],
   "source": [
    "costs['dt'] = pd.to_datetime(costs['dt'])"
   ]
  },
  {
   "cell_type": "markdown",
   "metadata": {},
   "source": [
    "#### 1.3 Визиты"
   ]
  },
  {
   "cell_type": "code",
   "execution_count": 8,
   "metadata": {},
   "outputs": [
    {
     "name": "stdout",
     "output_type": "stream",
     "text": [
      "Первые 3 строки датафрейма\n",
      "----------------------------------------------------\n",
      "    Device               End Ts  Source Id             Start Ts  \\\n",
      "0    touch  2017-12-20 17:38:00          4  2017-12-20 17:20:00   \n",
      "1  desktop  2018-02-19 17:21:00          2  2018-02-19 16:53:00   \n",
      "2    touch  2017-07-01 01:54:00          5  2017-07-01 01:54:00   \n",
      "\n",
      "                    Uid  \n",
      "0  16879256277535980062  \n",
      "1    104060357244891740  \n",
      "2   7459035603376831527  \n",
      "====================================================\n",
      "Размер датафрейма: (строк:столбцов) (359400, 5)\n",
      "====================================================\n",
      "Типы данных и общая информация\n",
      "----------------------------------------------------\n",
      "<class 'pandas.core.frame.DataFrame'>\n",
      "RangeIndex: 359400 entries, 0 to 359399\n",
      "Data columns (total 5 columns):\n",
      "Device       359400 non-null object\n",
      "End Ts       359400 non-null object\n",
      "Source Id    359400 non-null int64\n",
      "Start Ts     359400 non-null object\n",
      "Uid          359400 non-null uint64\n",
      "dtypes: int64(1), object(3), uint64(1)\n",
      "memory usage: 13.7+ MB\n",
      "None\n",
      "====================================================\n",
      "Наличие дубликатов\n",
      "====================================================\n",
      "0\n",
      "----------------------------------------------------\n",
      "Наличие пропусков\n",
      "----------------------------------------------------\n",
      "Device       0\n",
      "End Ts       0\n",
      "Source Id    0\n",
      "Start Ts     0\n",
      "Uid          0\n",
      "dtype: int64\n",
      "====================================================\n"
     ]
    }
   ],
   "source": [
    "df_look(visits)"
   ]
  },
  {
   "cell_type": "code",
   "execution_count": 9,
   "metadata": {},
   "outputs": [
    {
     "data": {
      "text/html": [
       "<div>\n",
       "<style scoped>\n",
       "    .dataframe tbody tr th:only-of-type {\n",
       "        vertical-align: middle;\n",
       "    }\n",
       "\n",
       "    .dataframe tbody tr th {\n",
       "        vertical-align: top;\n",
       "    }\n",
       "\n",
       "    .dataframe thead th {\n",
       "        text-align: right;\n",
       "    }\n",
       "</style>\n",
       "<table border=\"1\" class=\"dataframe\">\n",
       "  <thead>\n",
       "    <tr style=\"text-align: right;\">\n",
       "      <th></th>\n",
       "      <th>Device</th>\n",
       "      <th>End Ts</th>\n",
       "      <th>Source Id</th>\n",
       "      <th>Start Ts</th>\n",
       "      <th>Uid</th>\n",
       "    </tr>\n",
       "  </thead>\n",
       "  <tbody>\n",
       "    <tr>\n",
       "      <td>0</td>\n",
       "      <td>touch</td>\n",
       "      <td>2017-12-20 17:38:00</td>\n",
       "      <td>4</td>\n",
       "      <td>2017-12-20 17:20:00</td>\n",
       "      <td>16879256277535980062</td>\n",
       "    </tr>\n",
       "    <tr>\n",
       "      <td>1</td>\n",
       "      <td>desktop</td>\n",
       "      <td>2018-02-19 17:21:00</td>\n",
       "      <td>2</td>\n",
       "      <td>2018-02-19 16:53:00</td>\n",
       "      <td>104060357244891740</td>\n",
       "    </tr>\n",
       "    <tr>\n",
       "      <td>2</td>\n",
       "      <td>touch</td>\n",
       "      <td>2017-07-01 01:54:00</td>\n",
       "      <td>5</td>\n",
       "      <td>2017-07-01 01:54:00</td>\n",
       "      <td>7459035603376831527</td>\n",
       "    </tr>\n",
       "    <tr>\n",
       "      <td>3</td>\n",
       "      <td>desktop</td>\n",
       "      <td>2018-05-20 11:23:00</td>\n",
       "      <td>9</td>\n",
       "      <td>2018-05-20 10:59:00</td>\n",
       "      <td>16174680259334210214</td>\n",
       "    </tr>\n",
       "    <tr>\n",
       "      <td>4</td>\n",
       "      <td>desktop</td>\n",
       "      <td>2017-12-27 14:06:00</td>\n",
       "      <td>3</td>\n",
       "      <td>2017-12-27 14:06:00</td>\n",
       "      <td>9969694820036681168</td>\n",
       "    </tr>\n",
       "  </tbody>\n",
       "</table>\n",
       "</div>"
      ],
      "text/plain": [
       "    Device               End Ts  Source Id             Start Ts  \\\n",
       "0    touch  2017-12-20 17:38:00          4  2017-12-20 17:20:00   \n",
       "1  desktop  2018-02-19 17:21:00          2  2018-02-19 16:53:00   \n",
       "2    touch  2017-07-01 01:54:00          5  2017-07-01 01:54:00   \n",
       "3  desktop  2018-05-20 11:23:00          9  2018-05-20 10:59:00   \n",
       "4  desktop  2017-12-27 14:06:00          3  2017-12-27 14:06:00   \n",
       "\n",
       "                    Uid  \n",
       "0  16879256277535980062  \n",
       "1    104060357244891740  \n",
       "2   7459035603376831527  \n",
       "3  16174680259334210214  \n",
       "4   9969694820036681168  "
      ]
     },
     "execution_count": 9,
     "metadata": {},
     "output_type": "execute_result"
    }
   ],
   "source": [
    "visits.head()"
   ]
  },
  {
   "cell_type": "code",
   "execution_count": 10,
   "metadata": {},
   "outputs": [],
   "source": [
    "visits.columns = ['device', 'end_ts', 'source_id', 'start_ts', 'uid']\n",
    "visits['end_ts'] = pd.to_datetime(visits['end_ts'],  format = '%Y-%m-%d %H:%M:%S')\n",
    "visits['start_ts'] = pd.to_datetime(visits['start_ts'],  format = '%Y-%m-%d %H:%M:%S')"
   ]
  },
  {
   "cell_type": "code",
   "execution_count": 11,
   "metadata": {},
   "outputs": [
    {
     "data": {
      "text/html": [
       "<div>\n",
       "<style scoped>\n",
       "    .dataframe tbody tr th:only-of-type {\n",
       "        vertical-align: middle;\n",
       "    }\n",
       "\n",
       "    .dataframe tbody tr th {\n",
       "        vertical-align: top;\n",
       "    }\n",
       "\n",
       "    .dataframe thead th {\n",
       "        text-align: right;\n",
       "    }\n",
       "</style>\n",
       "<table border=\"1\" class=\"dataframe\">\n",
       "  <thead>\n",
       "    <tr style=\"text-align: right;\">\n",
       "      <th></th>\n",
       "      <th>device</th>\n",
       "      <th>end_ts</th>\n",
       "      <th>source_id</th>\n",
       "      <th>start_ts</th>\n",
       "      <th>uid</th>\n",
       "    </tr>\n",
       "  </thead>\n",
       "  <tbody>\n",
       "    <tr>\n",
       "      <td>0</td>\n",
       "      <td>touch</td>\n",
       "      <td>2017-12-20 17:38:00</td>\n",
       "      <td>4</td>\n",
       "      <td>2017-12-20 17:20:00</td>\n",
       "      <td>16879256277535980062</td>\n",
       "    </tr>\n",
       "    <tr>\n",
       "      <td>1</td>\n",
       "      <td>desktop</td>\n",
       "      <td>2018-02-19 17:21:00</td>\n",
       "      <td>2</td>\n",
       "      <td>2018-02-19 16:53:00</td>\n",
       "      <td>104060357244891740</td>\n",
       "    </tr>\n",
       "    <tr>\n",
       "      <td>2</td>\n",
       "      <td>touch</td>\n",
       "      <td>2017-07-01 01:54:00</td>\n",
       "      <td>5</td>\n",
       "      <td>2017-07-01 01:54:00</td>\n",
       "      <td>7459035603376831527</td>\n",
       "    </tr>\n",
       "    <tr>\n",
       "      <td>3</td>\n",
       "      <td>desktop</td>\n",
       "      <td>2018-05-20 11:23:00</td>\n",
       "      <td>9</td>\n",
       "      <td>2018-05-20 10:59:00</td>\n",
       "      <td>16174680259334210214</td>\n",
       "    </tr>\n",
       "    <tr>\n",
       "      <td>4</td>\n",
       "      <td>desktop</td>\n",
       "      <td>2017-12-27 14:06:00</td>\n",
       "      <td>3</td>\n",
       "      <td>2017-12-27 14:06:00</td>\n",
       "      <td>9969694820036681168</td>\n",
       "    </tr>\n",
       "  </tbody>\n",
       "</table>\n",
       "</div>"
      ],
      "text/plain": [
       "    device              end_ts  source_id            start_ts  \\\n",
       "0    touch 2017-12-20 17:38:00          4 2017-12-20 17:20:00   \n",
       "1  desktop 2018-02-19 17:21:00          2 2018-02-19 16:53:00   \n",
       "2    touch 2017-07-01 01:54:00          5 2017-07-01 01:54:00   \n",
       "3  desktop 2018-05-20 11:23:00          9 2018-05-20 10:59:00   \n",
       "4  desktop 2017-12-27 14:06:00          3 2017-12-27 14:06:00   \n",
       "\n",
       "                    uid  \n",
       "0  16879256277535980062  \n",
       "1    104060357244891740  \n",
       "2   7459035603376831527  \n",
       "3  16174680259334210214  \n",
       "4   9969694820036681168  "
      ]
     },
     "execution_count": 11,
     "metadata": {},
     "output_type": "execute_result"
    }
   ],
   "source": [
    "visits.head()"
   ]
  },
  {
   "cell_type": "markdown",
   "metadata": {},
   "source": [
    "### 2. Продукт\n",
    "<a id='calculations_1'></a>\n"
   ]
  },
  {
   "cell_type": "markdown",
   "metadata": {},
   "source": [
    "* Продукт  \n",
    "  * Сколько людей пользуются в день, неделю, месяц?  \n",
    "  * Сколько сессий в день?  \n",
    "  * Сколько длится одна сессия?  \n",
    "  * Как часто люди возвращаются? "
   ]
  },
  {
   "cell_type": "markdown",
   "metadata": {},
   "source": [
    "* Uid — уникальный идентификатор пользователя\n",
    "* Device — категория устройства пользователя\n",
    "* Start Ts — дата и время начала сессии\n",
    "* End Ts — дата и время окончания сессии\n",
    "* Source Id — идентификатор рекламного источника, из которого пришел пользователь"
   ]
  },
  {
   "cell_type": "markdown",
   "metadata": {},
   "source": [
    "#### 2.1 Сколько людей пользуется\n",
    "<a id='how_much_people_uses'></a>"
   ]
  },
  {
   "cell_type": "code",
   "execution_count": 12,
   "metadata": {},
   "outputs": [],
   "source": [
    "# добавляем новые столбцы датами, номерами недель, месяцов, и года (2017-2018)\n",
    "visits['session_date'] = visits['start_ts'].dt.date\n",
    "visits['session_week'] = visits['start_ts'].dt.week\n",
    "visits['session_month'] = visits['start_ts'].dt.month\n",
    "visits['session_year'] = visits['start_ts'].dt.year\n"
   ]
  },
  {
   "cell_type": "code",
   "execution_count": 13,
   "metadata": {},
   "outputs": [
    {
     "data": {
      "image/png": "[encoded data removed]",
      "text/plain": [
       "<Figure size 720x576 with 1 Axes>"
      ]
     },
     "metadata": {
      "needs_background": "light"
     },
     "output_type": "display_data"
    },
    {
     "data": {
      "image/png": "[encoded data removed]",
      "text/plain": [
       "<Figure size 576x360 with 1 Axes>"
      ]
     },
     "metadata": {
      "needs_background": "light"
     },
     "output_type": "display_data"
    }
   ],
   "source": [
    "# посмотрим на распределение количества уникальных посетителей с разных источников трафика и устройств\n",
    "visits_pivot = (visits\n",
    "                .pivot_table(index=['source_id'], aggfunc={'uid':'nunique'})\n",
    "                .sort_values(by='uid', ascending=False)\n",
    "                .plot(kind='bar',figsize=(10, 8), fontsize=15, color='g') \n",
    "               )\n",
    "plt.title('Уникальные посетители с различных рекламных источников ', fontsize=15, color='g')\n",
    "plt.show()\n",
    "\n",
    "visits_pivot = (visits\n",
    "                .pivot_table(index=['device'], aggfunc={'uid':'nunique'})\n",
    "                .plot(kind='bar',figsize=(8, 5), fontsize=15, color='b')\n",
    "               )\n",
    "plt.title('Уникальные посетители с различных платформ', fontsize=15, color='b')\n",
    "plt.show()"
   ]
  },
  {
   "cell_type": "markdown",
   "metadata": {},
   "source": [
    "**Вывод**\n",
    "* Больше всего уников приходит с **4,3,5** рекламного источника\n",
    "* С настольных компьютеров приходит примерно в 2 раза больше пользователей"
   ]
  },
  {
   "cell_type": "code",
   "execution_count": 14,
   "metadata": {},
   "outputs": [
    {
     "data": {
      "image/png": "[encoded data removed]",
      "text/plain": [
       "<Figure size 1080x576 with 1 Axes>"
      ]
     },
     "metadata": {
      "needs_background": "light"
     },
     "output_type": "display_data"
    }
   ],
   "source": [
    "# посмотрим на распределение количества уникальных посетителей с разных источников трафика и устройств\n",
    "visits_pivot = (visits\n",
    "                .pivot_table(index=['source_id', 'device'], aggfunc={'uid':'nunique'})\n",
    "                .sort_values(by='source_id', ascending=False)\n",
    "                .plot(kind='bar',figsize=(15, 8), fontsize=15) \n",
    "               )\n",
    "plt.title('Уникальные посетители с различных рекламных источников и платформ', fontsize=15, color='g')\n",
    "plt.show()"
   ]
  },
  {
   "cell_type": "markdown",
   "metadata": {},
   "source": [
    " * Картина сохраняется при группировке количества уников по рекламным источникам и устройствам "
   ]
  },
  {
   "cell_type": "code",
   "execution_count": 15,
   "metadata": {},
   "outputs": [
    {
     "data": {
      "text/plain": [
       "[1, 2, 3, 4, 5, 6, 7, 9, 10]"
      ]
     },
     "execution_count": 15,
     "metadata": {},
     "output_type": "execute_result"
    }
   ],
   "source": [
    "source_id_list=pd.unique(visits['source_id']).tolist()\n",
    "source_id_list=sorted(source_id_list)\n",
    "source_id_list"
   ]
  },
  {
   "cell_type": "code",
   "execution_count": 16,
   "metadata": {},
   "outputs": [],
   "source": [
    "def user_metrics(df, index, color, bins):\n",
    "    \"\"\"\n",
    "    Функция для построения гистограмм распределения \n",
    "    дневной (DAU), недельной (WAU), месячной (MAU)\n",
    "    посещаемости (уникальные посетители) \n",
    "    \"\"\"\n",
    "    (df\n",
    "     .query('source_id== @source_id_list')\n",
    "     .pivot_table(index=index, aggfunc={'uid':'nunique'})\n",
    "     .plot(kind='hist', bins=bins ,figsize=(10, 5), fontsize=15, color=color)\n",
    "    )\n",
    "    plt.ylabel('Частота', fontsize=15)\n",
    "    plt.xlabel('Количество уникальных посетителей',fontsize=15)\n",
    "    plt.show()"
   ]
  },
  {
   "cell_type": "code",
   "execution_count": 17,
   "metadata": {},
   "outputs": [
    {
     "name": "stdout",
     "output_type": "stream",
     "text": [
      "====================================================\n",
      "Распределение уникальных пользователей в день\n"
     ]
    },
    {
     "data": {
      "image/png": "[encoded data removed]",
      "text/plain": [
       "<Figure size 720x360 with 1 Axes>"
      ]
     },
     "metadata": {
      "needs_background": "light"
     },
     "output_type": "display_data"
    },
    {
     "name": "stdout",
     "output_type": "stream",
     "text": [
      "====================================================\n",
      "Распределение уникальных пользователей в неделю\n"
     ]
    },
    {
     "data": {
      "image/png": "[encoded data removed]",
      "text/plain": [
       "<Figure size 720x360 with 1 Axes>"
      ]
     },
     "metadata": {
      "needs_background": "light"
     },
     "output_type": "display_data"
    },
    {
     "name": "stdout",
     "output_type": "stream",
     "text": [
      "====================================================\n",
      "Распределение уникальных пользователей в месяц\n"
     ]
    },
    {
     "data": {
      "image/png": "[encoded data removed]",
      "text/plain": [
       "<Figure size 720x360 with 1 Axes>"
      ]
     },
     "metadata": {
      "needs_background": "light"
     },
     "output_type": "display_data"
    },
    {
     "name": "stdout",
     "output_type": "stream",
     "text": [
      "====================================================\n",
      "Среднее значение уникальных пользователей в день = 907 (DAU)\n",
      "Среднее значение уникальных пользователей в неделю = 5716 (WAU)\n",
      "Среднее значение уникальных пользователей в месяц = 23228 (MAU)\n",
      "====================================================\n"
     ]
    }
   ],
   "source": [
    "# Расчет DAU\n",
    "print('='*52)\n",
    "dau_total=visits.groupby('session_date').agg({'uid':'nunique'}).mean()\n",
    "print('Распределение уникальных пользователей в день')\n",
    "user_metrics(visits, ['session_date'], 'green', bins=100)\n",
    "print('='*52)\n",
    "# Расчет WAU\n",
    "wau_total=visits.groupby(['session_year', 'session_week']).agg({'uid':'nunique'}).mean()\n",
    "print('Распределение уникальных пользователей в неделю')\n",
    "user_metrics(visits, ['session_year', 'session_week'], 'navy', bins=50)\n",
    "print('='*52)\n",
    "# Расчет MAU\n",
    "mau_total=visits.groupby(['session_year', 'session_month']).agg({'uid':'nunique'}).mean()\n",
    "print('Распределение уникальных пользователей в месяц')\n",
    "user_metrics(visits, ['session_year', 'session_month'], 'orange', bins=30)\n",
    "print('='*52)\n",
    "\n",
    "# Вывод средних значений\n",
    "\n",
    "print('Среднее значение уникальных пользователей в день = {} (DAU)'.format(int(dau_total)))\n",
    "print('Среднее значение уникальных пользователей в неделю = {} (WAU)'.format(int(wau_total)))\n",
    "print('Среднее значение уникальных пользователей в месяц = {} (MAU)'.format(int(mau_total)))\n",
    "\n",
    "print('='*52)"
   ]
  },
  {
   "cell_type": "markdown",
   "metadata": {},
   "source": [
    "#### 2.2 Пользователькие сессии\n",
    "<a id='user_sessions'></a>\n",
    "\n",
    "* Сколько сессий в день?\n",
    "* Сколько длится одна сессия?\n",
    "* Как часто люди возвращаются?"
   ]
  },
  {
   "cell_type": "markdown",
   "metadata": {},
   "source": [
    "##### 2.2.1 Сколько сессий в день?\n"
   ]
  },
  {
   "cell_type": "code",
   "execution_count": 18,
   "metadata": {},
   "outputs": [
    {
     "data": {
      "text/html": [
       "<div>\n",
       "<style scoped>\n",
       "    .dataframe tbody tr th:only-of-type {\n",
       "        vertical-align: middle;\n",
       "    }\n",
       "\n",
       "    .dataframe tbody tr th {\n",
       "        vertical-align: top;\n",
       "    }\n",
       "\n",
       "    .dataframe thead th {\n",
       "        text-align: right;\n",
       "    }\n",
       "</style>\n",
       "<table border=\"1\" class=\"dataframe\">\n",
       "  <thead>\n",
       "    <tr style=\"text-align: right;\">\n",
       "      <th></th>\n",
       "      <th>device</th>\n",
       "      <th>end_ts</th>\n",
       "      <th>source_id</th>\n",
       "      <th>start_ts</th>\n",
       "      <th>uid</th>\n",
       "      <th>session_date</th>\n",
       "      <th>session_week</th>\n",
       "      <th>session_month</th>\n",
       "      <th>session_year</th>\n",
       "    </tr>\n",
       "  </thead>\n",
       "  <tbody>\n",
       "    <tr>\n",
       "      <td>0</td>\n",
       "      <td>touch</td>\n",
       "      <td>2017-12-20 17:38:00</td>\n",
       "      <td>4</td>\n",
       "      <td>2017-12-20 17:20:00</td>\n",
       "      <td>16879256277535980062</td>\n",
       "      <td>2017-12-20</td>\n",
       "      <td>51</td>\n",
       "      <td>12</td>\n",
       "      <td>2017</td>\n",
       "    </tr>\n",
       "    <tr>\n",
       "      <td>1</td>\n",
       "      <td>desktop</td>\n",
       "      <td>2018-02-19 17:21:00</td>\n",
       "      <td>2</td>\n",
       "      <td>2018-02-19 16:53:00</td>\n",
       "      <td>104060357244891740</td>\n",
       "      <td>2018-02-19</td>\n",
       "      <td>8</td>\n",
       "      <td>2</td>\n",
       "      <td>2018</td>\n",
       "    </tr>\n",
       "    <tr>\n",
       "      <td>2</td>\n",
       "      <td>touch</td>\n",
       "      <td>2017-07-01 01:54:00</td>\n",
       "      <td>5</td>\n",
       "      <td>2017-07-01 01:54:00</td>\n",
       "      <td>7459035603376831527</td>\n",
       "      <td>2017-07-01</td>\n",
       "      <td>26</td>\n",
       "      <td>7</td>\n",
       "      <td>2017</td>\n",
       "    </tr>\n",
       "    <tr>\n",
       "      <td>3</td>\n",
       "      <td>desktop</td>\n",
       "      <td>2018-05-20 11:23:00</td>\n",
       "      <td>9</td>\n",
       "      <td>2018-05-20 10:59:00</td>\n",
       "      <td>16174680259334210214</td>\n",
       "      <td>2018-05-20</td>\n",
       "      <td>20</td>\n",
       "      <td>5</td>\n",
       "      <td>2018</td>\n",
       "    </tr>\n",
       "    <tr>\n",
       "      <td>4</td>\n",
       "      <td>desktop</td>\n",
       "      <td>2017-12-27 14:06:00</td>\n",
       "      <td>3</td>\n",
       "      <td>2017-12-27 14:06:00</td>\n",
       "      <td>9969694820036681168</td>\n",
       "      <td>2017-12-27</td>\n",
       "      <td>52</td>\n",
       "      <td>12</td>\n",
       "      <td>2017</td>\n",
       "    </tr>\n",
       "  </tbody>\n",
       "</table>\n",
       "</div>"
      ],
      "text/plain": [
       "    device              end_ts  source_id            start_ts  \\\n",
       "0    touch 2017-12-20 17:38:00          4 2017-12-20 17:20:00   \n",
       "1  desktop 2018-02-19 17:21:00          2 2018-02-19 16:53:00   \n",
       "2    touch 2017-07-01 01:54:00          5 2017-07-01 01:54:00   \n",
       "3  desktop 2018-05-20 11:23:00          9 2018-05-20 10:59:00   \n",
       "4  desktop 2017-12-27 14:06:00          3 2017-12-27 14:06:00   \n",
       "\n",
       "                    uid session_date  session_week  session_month  \\\n",
       "0  16879256277535980062   2017-12-20            51             12   \n",
       "1    104060357244891740   2018-02-19             8              2   \n",
       "2   7459035603376831527   2017-07-01            26              7   \n",
       "3  16174680259334210214   2018-05-20            20              5   \n",
       "4   9969694820036681168   2017-12-27            52             12   \n",
       "\n",
       "   session_year  \n",
       "0          2017  \n",
       "1          2018  \n",
       "2          2017  \n",
       "3          2018  \n",
       "4          2017  "
      ]
     },
     "execution_count": 18,
     "metadata": {},
     "output_type": "execute_result"
    }
   ],
   "source": [
    "visits.head()"
   ]
  },
  {
   "cell_type": "code",
   "execution_count": 19,
   "metadata": {},
   "outputs": [
    {
     "data": {
      "image/png": "[encoded data removed]",
      "text/plain": [
       "<Figure size 720x360 with 1 Axes>"
      ]
     },
     "metadata": {
      "needs_background": "light"
     },
     "output_type": "display_data"
    }
   ],
   "source": [
    "# Посмотрим на распределение количества сессий (одна строка в таблице = одна сессия)\n",
    "# поэтому посчитаем количество uid (пользователей) в каждую session_date (дату)\n",
    "(visits\n",
    " .groupby('session_date')\n",
    " .agg({'uid':'count'})\n",
    " .plot(kind='hist', bins=100 ,figsize=(10, 5), fontsize=15, color='blue')\n",
    ")\n",
    "\n",
    "plt.ylabel('Частота', fontsize=15)\n",
    "plt.xlabel('Количество сессий',fontsize=15)\n",
    "plt.show()"
   ]
  },
  {
   "cell_type": "code",
   "execution_count": 20,
   "metadata": {},
   "outputs": [
    {
     "name": "stdout",
     "output_type": "stream",
     "text": [
      "Количество сессий в день: 987 среднее\n",
      "Количество сессий в день: 1003 медиана\n"
     ]
    }
   ],
   "source": [
    "# Рассчитаем количество сессий в день\n",
    "sessions_per_day_mean = visits.groupby('session_date').agg({'uid':'count'}).mean()[0]\n",
    "sessions_per_day_median = visits.groupby('session_date').agg({'uid':'count'}).median()[0]\n",
    "\n",
    "print('Количество сессий в день: {} среднее'.format(int(sessions_per_day_mean)))\n",
    "print('Количество сессий в день: {} медиана'.format(int(sessions_per_day_median)))\n"
   ]
  },
  {
   "cell_type": "code",
   "execution_count": 21,
   "metadata": {},
   "outputs": [
    {
     "name": "stdout",
     "output_type": "stream",
     "text": [
      "Количество сессий на пользователя: 1.28 среднее\n"
     ]
    },
    {
     "data": {
      "image/png": "[encoded data removed]",
      "text/plain": [
       "<Figure size 432x288 with 1 Axes>"
      ]
     },
     "metadata": {
      "needs_background": "light"
     },
     "output_type": "display_data"
    }
   ],
   "source": [
    "# Посмотрим сколько сессий приходится на одного пользователя\n",
    "sessions_per_user = visits.groupby(['session_year', 'session_month']).agg({'uid': ['count','nunique']})\n",
    "sessions_per_user.columns = ['n_sessions', 'n_users']\n",
    "sessions_per_user['session_per_user'] = sessions_per_user['n_sessions'] / sessions_per_user['n_users']\n",
    "sessions_per_user['session_per_user'].plot(kind='bar');\n",
    "\n",
    "sessions_per_user_mean = sessions_per_user['session_per_user'].mean().round(2)\n",
    "print('Количество сессий на пользователя: {} среднее'.format(sessions_per_user_mean))"
   ]
  },
  {
   "cell_type": "markdown",
   "metadata": {},
   "source": [
    "**Вывод**\n",
    "* Количество сессий на пользователя растет в последние 2 месяца 2017 года (новогодние празники) -- видимо люди выбирают подарки.    \n",
    "* В 2018 показатель стабилизируется. Но остается достаточно низким как и в 2017 году.    \n",
    "* Значения DAU (907 уников) и количество сессий в день: 999 (медиана) близки -- мало возвратов пользователей\n",
    "* Для более точных выводов необходимо определить Retention Rate (удержание пользователей)  \n"
   ]
  },
  {
   "cell_type": "markdown",
   "metadata": {},
   "source": [
    "##### 2.2.2  Сколько длится одна сессия?\n"
   ]
  },
  {
   "cell_type": "code",
   "execution_count": 22,
   "metadata": {},
   "outputs": [
    {
     "data": {
      "text/plain": [
       "count    359400.000000\n",
       "mean        643.506489\n",
       "std        1016.334786\n",
       "min           0.000000\n",
       "25%         120.000000\n",
       "50%         300.000000\n",
       "75%         840.000000\n",
       "max       84480.000000\n",
       "Name: session_duration, dtype: float64"
      ]
     },
     "execution_count": 22,
     "metadata": {},
     "output_type": "execute_result"
    }
   ],
   "source": [
    "# Рассчитаем продолжительность каждой сессии в секундах\n",
    "visits['session_duration'] = (visits['end_ts'] - visits['start_ts']).dt.seconds\n",
    "# Посмотрим на распределение продолжительности методом describe() и с помощью гистограммы\n",
    "visits['session_duration'].describe()"
   ]
  },
  {
   "cell_type": "code",
   "execution_count": 23,
   "metadata": {},
   "outputs": [
    {
     "data": {
      "image/png": "[encoded data removed]",
      "text/plain": [
       "<Figure size 432x288 with 1 Axes>"
      ]
     },
     "metadata": {
      "needs_background": "light"
     },
     "output_type": "display_data"
    }
   ],
   "source": [
    "visits['session_duration'].hist(bins=100, range=(0, 4000));"
   ]
  },
  {
   "cell_type": "code",
   "execution_count": 24,
   "metadata": {},
   "outputs": [
    {
     "data": {
      "text/plain": [
       "23.466666666666665"
      ]
     },
     "execution_count": 24,
     "metadata": {},
     "output_type": "execute_result"
    }
   ],
   "source": [
    "# Посмотрим на максимальное время сессии в часах\n",
    "visits['session_duration'].max()/3600"
   ]
  },
  {
   "cell_type": "code",
   "execution_count": 25,
   "metadata": {},
   "outputs": [
    {
     "data": {
      "text/plain": [
       "359400"
      ]
     },
     "execution_count": 25,
     "metadata": {},
     "output_type": "execute_result"
    }
   ],
   "source": [
    "visits.shape[0]"
   ]
  },
  {
   "cell_type": "markdown",
   "metadata": {},
   "source": [
    "**Сессия продолжительностью почти сутки это явная аномалия, как и нулевые по продолжительности сессии, удалим нулевые сессии и те, что больше 3-х часов, вряд-ли так долго выбирают концерт или спектакль**"
   ]
  },
  {
   "cell_type": "code",
   "execution_count": 26,
   "metadata": {},
   "outputs": [
    {
     "data": {
      "text/plain": [
       "0    60\n",
       "dtype: int64"
      ]
     },
     "execution_count": 26,
     "metadata": {},
     "output_type": "execute_result"
    }
   ],
   "source": [
    "# Перед удалением рассчитаем наиболее распростаненное значение продолжительности сессии - \"моду\"\n",
    "visits['session_duration'].mode()"
   ]
  },
  {
   "cell_type": "code",
   "execution_count": 27,
   "metadata": {},
   "outputs": [
    {
     "data": {
      "text/plain": [
       "323344"
      ]
     },
     "execution_count": 27,
     "metadata": {},
     "output_type": "execute_result"
    }
   ],
   "source": [
    "visits.drop(visits.query('session_duration <=0 or session_duration >= 3600*3').index, inplace=True)\n",
    "visits.shape[0]"
   ]
  },
  {
   "cell_type": "markdown",
   "metadata": {},
   "source": [
    "Удалено: **36056** строк"
   ]
  },
  {
   "cell_type": "code",
   "execution_count": 28,
   "metadata": {},
   "outputs": [
    {
     "data": {
      "text/plain": [
       "0    60\n",
       "dtype: int64"
      ]
     },
     "execution_count": 28,
     "metadata": {},
     "output_type": "execute_result"
    }
   ],
   "source": [
    "# Рассчитаем моду после удаления\n",
    "visits['session_duration'].mode()"
   ]
  },
  {
   "cell_type": "code",
   "execution_count": 29,
   "metadata": {},
   "outputs": [
    {
     "data": {
      "image/png": "[encoded data removed]",
      "text/plain": [
       "<Figure size 432x288 with 1 Axes>"
      ]
     },
     "metadata": {
      "needs_background": "light"
     },
     "output_type": "display_data"
    }
   ],
   "source": [
    "visits['session_duration'].hist(bins=100, range=(0, 4000));"
   ]
  },
  {
   "cell_type": "markdown",
   "metadata": {},
   "source": [
    "**Мода после удаления выбросов не изменилась.    \n",
    "Таким образом, ASL (average session length) составляет 60 секунд.**"
   ]
  },
  {
   "cell_type": "markdown",
   "metadata": {},
   "source": [
    "##### 2.2.3  Как часто люди возвращаются?\n",
    "<a id='retentions'></a>"
   ]
  },
  {
   "cell_type": "markdown",
   "metadata": {},
   "source": [
    "Разделим пользователей на когорты"
   ]
  },
  {
   "cell_type": "code",
   "execution_count": 30,
   "metadata": {},
   "outputs": [],
   "source": [
    "#  предварительно сохраним датафрейм visits в текущем виде в новую переменную visits_new\n",
    "visits_new = visits"
   ]
  },
  {
   "cell_type": "code",
   "execution_count": 31,
   "metadata": {},
   "outputs": [
    {
     "data": {
      "text/html": [
       "<div>\n",
       "<style scoped>\n",
       "    .dataframe tbody tr th:only-of-type {\n",
       "        vertical-align: middle;\n",
       "    }\n",
       "\n",
       "    .dataframe tbody tr th {\n",
       "        vertical-align: top;\n",
       "    }\n",
       "\n",
       "    .dataframe thead th {\n",
       "        text-align: right;\n",
       "    }\n",
       "</style>\n",
       "<table border=\"1\" class=\"dataframe\">\n",
       "  <thead>\n",
       "    <tr style=\"text-align: right;\">\n",
       "      <th></th>\n",
       "      <th>device</th>\n",
       "      <th>end_ts</th>\n",
       "      <th>source_id</th>\n",
       "      <th>start_ts</th>\n",
       "      <th>uid</th>\n",
       "      <th>session_date</th>\n",
       "      <th>session_week</th>\n",
       "      <th>session_month</th>\n",
       "      <th>session_year</th>\n",
       "      <th>session_duration</th>\n",
       "    </tr>\n",
       "  </thead>\n",
       "  <tbody>\n",
       "    <tr>\n",
       "      <td>0</td>\n",
       "      <td>touch</td>\n",
       "      <td>2017-12-20 17:38:00</td>\n",
       "      <td>4</td>\n",
       "      <td>2017-12-20 17:20:00</td>\n",
       "      <td>16879256277535980062</td>\n",
       "      <td>2017-12-20</td>\n",
       "      <td>51</td>\n",
       "      <td>12</td>\n",
       "      <td>2017</td>\n",
       "      <td>1080</td>\n",
       "    </tr>\n",
       "    <tr>\n",
       "      <td>1</td>\n",
       "      <td>desktop</td>\n",
       "      <td>2018-02-19 17:21:00</td>\n",
       "      <td>2</td>\n",
       "      <td>2018-02-19 16:53:00</td>\n",
       "      <td>104060357244891740</td>\n",
       "      <td>2018-02-19</td>\n",
       "      <td>8</td>\n",
       "      <td>2</td>\n",
       "      <td>2018</td>\n",
       "      <td>1680</td>\n",
       "    </tr>\n",
       "    <tr>\n",
       "      <td>3</td>\n",
       "      <td>desktop</td>\n",
       "      <td>2018-05-20 11:23:00</td>\n",
       "      <td>9</td>\n",
       "      <td>2018-05-20 10:59:00</td>\n",
       "      <td>16174680259334210214</td>\n",
       "      <td>2018-05-20</td>\n",
       "      <td>20</td>\n",
       "      <td>5</td>\n",
       "      <td>2018</td>\n",
       "      <td>1440</td>\n",
       "    </tr>\n",
       "  </tbody>\n",
       "</table>\n",
       "</div>"
      ],
      "text/plain": [
       "    device              end_ts  source_id            start_ts  \\\n",
       "0    touch 2017-12-20 17:38:00          4 2017-12-20 17:20:00   \n",
       "1  desktop 2018-02-19 17:21:00          2 2018-02-19 16:53:00   \n",
       "3  desktop 2018-05-20 11:23:00          9 2018-05-20 10:59:00   \n",
       "\n",
       "                    uid session_date  session_week  session_month  \\\n",
       "0  16879256277535980062   2017-12-20            51             12   \n",
       "1    104060357244891740   2018-02-19             8              2   \n",
       "3  16174680259334210214   2018-05-20            20              5   \n",
       "\n",
       "   session_year  session_duration  \n",
       "0          2017              1080  \n",
       "1          2018              1680  \n",
       "3          2018              1440  "
      ]
     },
     "execution_count": 31,
     "metadata": {},
     "output_type": "execute_result"
    }
   ],
   "source": [
    "visits.head(3)"
   ]
  },
  {
   "cell_type": "code",
   "execution_count": 32,
   "metadata": {},
   "outputs": [],
   "source": [
    "# Когорты будем формировать по дате первой активности\n",
    "first_activity_date = visits.groupby(['uid'])['start_ts'].min()\n",
    "first_activity_date.name = 'first_activity_date'\n",
    "visits = visits.join(first_activity_date, on='uid')\n"
   ]
  },
  {
   "cell_type": "markdown",
   "metadata": {},
   "source": [
    "Рассчитаем lifetime когорты по месяцам\n",
    "* Возьмем текущую дату (start_ts) из visits и посчитаем в какой день начался месяц в этой дате "
   ]
  },
  {
   "cell_type": "code",
   "execution_count": 33,
   "metadata": {},
   "outputs": [],
   "source": [
    "visits['first_activity_month'] = visits['first_activity_date'].astype('datetime64[M]')\n",
    "visits['activity_month'] = visits['start_ts'].astype('datetime64[M]')\n",
    "visits['cohort_lifetime'] = (visits['activity_month'] - visits['first_activity_month'])/np.timedelta64(1, 'M')\n",
    "visits['cohort_lifetime'] = visits['cohort_lifetime'].astype('int')"
   ]
  },
  {
   "cell_type": "code",
   "execution_count": 34,
   "metadata": {},
   "outputs": [],
   "source": [
    "cohorts = visits.groupby(['first_activity_month', 'cohort_lifetime']).agg({'uid':'nunique'}).reset_index()\n",
    "\n",
    "# переименуем столбец \"uid\" в \"user_count\" -- так как мы нашли количество\n",
    "# активных пользователей на каждый период жизни когорты \"cohort_lifetime\" (\"пользователи которые активны 'сейчас' \")\n",
    "# а также это необходимо для дальнейшего объединения -- чтобы не было одинаковых названий столбцов\n",
    "cohorts = cohorts.rename(columns={'uid':'user_count'})"
   ]
  },
  {
   "cell_type": "code",
   "execution_count": 35,
   "metadata": {},
   "outputs": [
    {
     "data": {
      "text/html": [
       "<div>\n",
       "<style scoped>\n",
       "    .dataframe tbody tr th:only-of-type {\n",
       "        vertical-align: middle;\n",
       "    }\n",
       "\n",
       "    .dataframe tbody tr th {\n",
       "        vertical-align: top;\n",
       "    }\n",
       "\n",
       "    .dataframe thead th {\n",
       "        text-align: right;\n",
       "    }\n",
       "</style>\n",
       "<table border=\"1\" class=\"dataframe\">\n",
       "  <thead>\n",
       "    <tr style=\"text-align: right;\">\n",
       "      <th></th>\n",
       "      <th>first_activity_month</th>\n",
       "      <th>cohort_lifetime</th>\n",
       "      <th>user_count</th>\n",
       "    </tr>\n",
       "  </thead>\n",
       "  <tbody>\n",
       "    <tr>\n",
       "      <td>0</td>\n",
       "      <td>2017-06-01</td>\n",
       "      <td>0</td>\n",
       "      <td>11884</td>\n",
       "    </tr>\n",
       "    <tr>\n",
       "      <td>1</td>\n",
       "      <td>2017-06-01</td>\n",
       "      <td>2</td>\n",
       "      <td>606</td>\n",
       "    </tr>\n",
       "    <tr>\n",
       "      <td>2</td>\n",
       "      <td>2017-06-01</td>\n",
       "      <td>3</td>\n",
       "      <td>710</td>\n",
       "    </tr>\n",
       "    <tr>\n",
       "      <td>3</td>\n",
       "      <td>2017-06-01</td>\n",
       "      <td>4</td>\n",
       "      <td>777</td>\n",
       "    </tr>\n",
       "    <tr>\n",
       "      <td>4</td>\n",
       "      <td>2017-06-01</td>\n",
       "      <td>5</td>\n",
       "      <td>802</td>\n",
       "    </tr>\n",
       "  </tbody>\n",
       "</table>\n",
       "</div>"
      ],
      "text/plain": [
       "  first_activity_month  cohort_lifetime  user_count\n",
       "0           2017-06-01                0       11884\n",
       "1           2017-06-01                2         606\n",
       "2           2017-06-01                3         710\n",
       "3           2017-06-01                4         777\n",
       "4           2017-06-01                5         802"
      ]
     },
     "execution_count": 35,
     "metadata": {},
     "output_type": "execute_result"
    }
   ],
   "source": [
    "cohorts.head()"
   ]
  },
  {
   "cell_type": "code",
   "execution_count": 36,
   "metadata": {},
   "outputs": [
    {
     "data": {
      "text/html": [
       "<div>\n",
       "<style scoped>\n",
       "    .dataframe tbody tr th:only-of-type {\n",
       "        vertical-align: middle;\n",
       "    }\n",
       "\n",
       "    .dataframe tbody tr th {\n",
       "        vertical-align: top;\n",
       "    }\n",
       "\n",
       "    .dataframe thead th {\n",
       "        text-align: right;\n",
       "    }\n",
       "</style>\n",
       "<table border=\"1\" class=\"dataframe\">\n",
       "  <thead>\n",
       "    <tr style=\"text-align: right;\">\n",
       "      <th></th>\n",
       "      <th>first_activity_month</th>\n",
       "      <th>user_count_initial</th>\n",
       "    </tr>\n",
       "  </thead>\n",
       "  <tbody>\n",
       "    <tr>\n",
       "      <td>0</td>\n",
       "      <td>2017-06-01</td>\n",
       "      <td>11884</td>\n",
       "    </tr>\n",
       "    <tr>\n",
       "      <td>10</td>\n",
       "      <td>2017-07-01</td>\n",
       "      <td>11824</td>\n",
       "    </tr>\n",
       "    <tr>\n",
       "      <td>19</td>\n",
       "      <td>2017-08-01</td>\n",
       "      <td>9214</td>\n",
       "    </tr>\n",
       "  </tbody>\n",
       "</table>\n",
       "</div>"
      ],
      "text/plain": [
       "   first_activity_month  user_count_initial\n",
       "0            2017-06-01               11884\n",
       "10           2017-07-01               11824\n",
       "19           2017-08-01                9214"
      ]
     },
     "execution_count": 36,
     "metadata": {},
     "output_type": "execute_result"
    }
   ],
   "source": [
    "# Тут отделяем количество пользователей, которое было изначально (в нулевой лайфтайм)\n",
    "initial_users_count = cohorts.query('cohort_lifetime==0')[['first_activity_month', 'user_count']]\n",
    "initial_users_count = initial_users_count.rename(columns={'user_count':'user_count_initial'})\n",
    "initial_users_count.head(3)"
   ]
  },
  {
   "cell_type": "code",
   "execution_count": 37,
   "metadata": {},
   "outputs": [
    {
     "data": {
      "text/html": [
       "<div>\n",
       "<style scoped>\n",
       "    .dataframe tbody tr th:only-of-type {\n",
       "        vertical-align: middle;\n",
       "    }\n",
       "\n",
       "    .dataframe tbody tr th {\n",
       "        vertical-align: top;\n",
       "    }\n",
       "\n",
       "    .dataframe thead th {\n",
       "        text-align: right;\n",
       "    }\n",
       "</style>\n",
       "<table border=\"1\" class=\"dataframe\">\n",
       "  <thead>\n",
       "    <tr style=\"text-align: right;\">\n",
       "      <th></th>\n",
       "      <th>first_activity_month</th>\n",
       "      <th>cohort_lifetime</th>\n",
       "      <th>user_count</th>\n",
       "      <th>user_count_initial</th>\n",
       "    </tr>\n",
       "  </thead>\n",
       "  <tbody>\n",
       "    <tr>\n",
       "      <td>0</td>\n",
       "      <td>2017-06-01</td>\n",
       "      <td>0</td>\n",
       "      <td>11884</td>\n",
       "      <td>11884</td>\n",
       "    </tr>\n",
       "    <tr>\n",
       "      <td>1</td>\n",
       "      <td>2017-06-01</td>\n",
       "      <td>2</td>\n",
       "      <td>606</td>\n",
       "      <td>11884</td>\n",
       "    </tr>\n",
       "    <tr>\n",
       "      <td>2</td>\n",
       "      <td>2017-06-01</td>\n",
       "      <td>3</td>\n",
       "      <td>710</td>\n",
       "      <td>11884</td>\n",
       "    </tr>\n",
       "    <tr>\n",
       "      <td>3</td>\n",
       "      <td>2017-06-01</td>\n",
       "      <td>4</td>\n",
       "      <td>777</td>\n",
       "      <td>11884</td>\n",
       "    </tr>\n",
       "    <tr>\n",
       "      <td>4</td>\n",
       "      <td>2017-06-01</td>\n",
       "      <td>5</td>\n",
       "      <td>802</td>\n",
       "      <td>11884</td>\n",
       "    </tr>\n",
       "    <tr>\n",
       "      <td>...</td>\n",
       "      <td>...</td>\n",
       "      <td>...</td>\n",
       "      <td>...</td>\n",
       "      <td>...</td>\n",
       "    </tr>\n",
       "    <tr>\n",
       "      <td>58</td>\n",
       "      <td>2018-03-01</td>\n",
       "      <td>0</td>\n",
       "      <td>18792</td>\n",
       "      <td>18792</td>\n",
       "    </tr>\n",
       "    <tr>\n",
       "      <td>59</td>\n",
       "      <td>2018-03-01</td>\n",
       "      <td>1</td>\n",
       "      <td>766</td>\n",
       "      <td>18792</td>\n",
       "    </tr>\n",
       "    <tr>\n",
       "      <td>60</td>\n",
       "      <td>2018-03-01</td>\n",
       "      <td>2</td>\n",
       "      <td>479</td>\n",
       "      <td>18792</td>\n",
       "    </tr>\n",
       "    <tr>\n",
       "      <td>61</td>\n",
       "      <td>2018-04-01</td>\n",
       "      <td>0</td>\n",
       "      <td>14214</td>\n",
       "      <td>14214</td>\n",
       "    </tr>\n",
       "    <tr>\n",
       "      <td>62</td>\n",
       "      <td>2018-05-01</td>\n",
       "      <td>0</td>\n",
       "      <td>13828</td>\n",
       "      <td>13828</td>\n",
       "    </tr>\n",
       "  </tbody>\n",
       "</table>\n",
       "<p>63 rows × 4 columns</p>\n",
       "</div>"
      ],
      "text/plain": [
       "   first_activity_month  cohort_lifetime  user_count  user_count_initial\n",
       "0            2017-06-01                0       11884               11884\n",
       "1            2017-06-01                2         606               11884\n",
       "2            2017-06-01                3         710               11884\n",
       "3            2017-06-01                4         777               11884\n",
       "4            2017-06-01                5         802               11884\n",
       "..                  ...              ...         ...                 ...\n",
       "58           2018-03-01                0       18792               18792\n",
       "59           2018-03-01                1         766               18792\n",
       "60           2018-03-01                2         479               18792\n",
       "61           2018-04-01                0       14214               14214\n",
       "62           2018-05-01                0       13828               13828\n",
       "\n",
       "[63 rows x 4 columns]"
      ]
     },
     "execution_count": 37,
     "metadata": {},
     "output_type": "execute_result"
    }
   ],
   "source": [
    "# присоединим к \"cohorts\" \"initial_users_count\" с помощью merge() по полю \"first_activity_month\"\n",
    "cohorts = cohorts.merge(initial_users_count, on='first_activity_month')\n",
    "cohorts"
   ]
  },
  {
   "cell_type": "code",
   "execution_count": 38,
   "metadata": {},
   "outputs": [],
   "source": [
    "# добавим столбец retention_rate\n",
    "cohorts['retention_rate'] = cohorts['user_count'] / cohorts['user_count_initial']"
   ]
  },
  {
   "cell_type": "code",
   "execution_count": 39,
   "metadata": {},
   "outputs": [
    {
     "data": {
      "text/html": [
       "<div>\n",
       "<style scoped>\n",
       "    .dataframe tbody tr th:only-of-type {\n",
       "        vertical-align: middle;\n",
       "    }\n",
       "\n",
       "    .dataframe tbody tr th {\n",
       "        vertical-align: top;\n",
       "    }\n",
       "\n",
       "    .dataframe thead th {\n",
       "        text-align: right;\n",
       "    }\n",
       "</style>\n",
       "<table border=\"1\" class=\"dataframe\">\n",
       "  <thead>\n",
       "    <tr style=\"text-align: right;\">\n",
       "      <th></th>\n",
       "      <th>first_activity_month</th>\n",
       "      <th>cohort_lifetime</th>\n",
       "      <th>user_count</th>\n",
       "      <th>user_count_initial</th>\n",
       "      <th>retention_rate</th>\n",
       "    </tr>\n",
       "  </thead>\n",
       "  <tbody>\n",
       "    <tr>\n",
       "      <td>0</td>\n",
       "      <td>2017-06-01</td>\n",
       "      <td>0</td>\n",
       "      <td>11884</td>\n",
       "      <td>11884</td>\n",
       "      <td>1.000000</td>\n",
       "    </tr>\n",
       "    <tr>\n",
       "      <td>1</td>\n",
       "      <td>2017-06-01</td>\n",
       "      <td>2</td>\n",
       "      <td>606</td>\n",
       "      <td>11884</td>\n",
       "      <td>0.050993</td>\n",
       "    </tr>\n",
       "    <tr>\n",
       "      <td>2</td>\n",
       "      <td>2017-06-01</td>\n",
       "      <td>3</td>\n",
       "      <td>710</td>\n",
       "      <td>11884</td>\n",
       "      <td>0.059744</td>\n",
       "    </tr>\n",
       "    <tr>\n",
       "      <td>3</td>\n",
       "      <td>2017-06-01</td>\n",
       "      <td>4</td>\n",
       "      <td>777</td>\n",
       "      <td>11884</td>\n",
       "      <td>0.065382</td>\n",
       "    </tr>\n",
       "    <tr>\n",
       "      <td>4</td>\n",
       "      <td>2017-06-01</td>\n",
       "      <td>5</td>\n",
       "      <td>802</td>\n",
       "      <td>11884</td>\n",
       "      <td>0.067486</td>\n",
       "    </tr>\n",
       "  </tbody>\n",
       "</table>\n",
       "</div>"
      ],
      "text/plain": [
       "  first_activity_month  cohort_lifetime  user_count  user_count_initial  \\\n",
       "0           2017-06-01                0       11884               11884   \n",
       "1           2017-06-01                2         606               11884   \n",
       "2           2017-06-01                3         710               11884   \n",
       "3           2017-06-01                4         777               11884   \n",
       "4           2017-06-01                5         802               11884   \n",
       "\n",
       "   retention_rate  \n",
       "0        1.000000  \n",
       "1        0.050993  \n",
       "2        0.059744  \n",
       "3        0.065382  \n",
       "4        0.067486  "
      ]
     },
     "execution_count": 39,
     "metadata": {},
     "output_type": "execute_result"
    }
   ],
   "source": [
    "cohorts.head()"
   ]
  },
  {
   "cell_type": "code",
   "execution_count": 40,
   "metadata": {},
   "outputs": [],
   "source": [
    "# строим сводную таблицу Retention Rate\n",
    "retention_rate_pivot = (cohorts\n",
    "                        .pivot_table(index='first_activity_month', \n",
    "                                     columns='cohort_lifetime', \n",
    "                                     values='retention_rate',\n",
    "                                     aggfunc='sum')\n",
    "                                    \n",
    "                       )\n"
   ]
  },
  {
   "cell_type": "code",
   "execution_count": 41,
   "metadata": {},
   "outputs": [
    {
     "data": {
      "text/html": [
       "<div>\n",
       "<style scoped>\n",
       "    .dataframe tbody tr th:only-of-type {\n",
       "        vertical-align: middle;\n",
       "    }\n",
       "\n",
       "    .dataframe tbody tr th {\n",
       "        vertical-align: top;\n",
       "    }\n",
       "\n",
       "    .dataframe thead th {\n",
       "        text-align: right;\n",
       "    }\n",
       "</style>\n",
       "<table border=\"1\" class=\"dataframe\">\n",
       "  <thead>\n",
       "    <tr style=\"text-align: right;\">\n",
       "      <th>cohort_lifetime</th>\n",
       "      <th>0</th>\n",
       "      <th>1</th>\n",
       "      <th>2</th>\n",
       "      <th>3</th>\n",
       "      <th>4</th>\n",
       "      <th>5</th>\n",
       "      <th>6</th>\n",
       "      <th>7</th>\n",
       "      <th>8</th>\n",
       "      <th>9</th>\n",
       "      <th>10</th>\n",
       "    </tr>\n",
       "    <tr>\n",
       "      <th>first_activity_month</th>\n",
       "      <th></th>\n",
       "      <th></th>\n",
       "      <th></th>\n",
       "      <th></th>\n",
       "      <th></th>\n",
       "      <th></th>\n",
       "      <th></th>\n",
       "      <th></th>\n",
       "      <th></th>\n",
       "      <th></th>\n",
       "      <th></th>\n",
       "    </tr>\n",
       "  </thead>\n",
       "  <tbody>\n",
       "    <tr>\n",
       "      <td>2017-06-01</td>\n",
       "      <td>1.0</td>\n",
       "      <td></td>\n",
       "      <td>0.0509929</td>\n",
       "      <td>0.0597442</td>\n",
       "      <td>0.065382</td>\n",
       "      <td>0.0674857</td>\n",
       "      <td>0.0577247</td>\n",
       "      <td>0.0561259</td>\n",
       "      <td>0.0818748</td>\n",
       "      <td>0.0381185</td>\n",
       "      <td>0.0439246</td>\n",
       "    </tr>\n",
       "    <tr>\n",
       "      <td>2017-07-01</td>\n",
       "      <td>1.0</td>\n",
       "      <td>0.0545501</td>\n",
       "      <td>0.050406</td>\n",
       "      <td>0.0556495</td>\n",
       "      <td>0.0565798</td>\n",
       "      <td>0.0465156</td>\n",
       "      <td>0.0440629</td>\n",
       "      <td>0.0712111</td>\n",
       "      <td></td>\n",
       "      <td>0.0473613</td>\n",
       "      <td></td>\n",
       "    </tr>\n",
       "    <tr>\n",
       "      <td>2017-08-01</td>\n",
       "      <td>1.0</td>\n",
       "      <td>0.0744519</td>\n",
       "      <td>0.0604515</td>\n",
       "      <td>0.0604515</td>\n",
       "      <td>0.0479705</td>\n",
       "      <td>0.0414586</td>\n",
       "      <td>0.0642501</td>\n",
       "      <td>0.0271326</td>\n",
       "      <td>0.024745</td>\n",
       "      <td></td>\n",
       "      <td></td>\n",
       "    </tr>\n",
       "    <tr>\n",
       "      <td>2017-09-01</td>\n",
       "      <td>1.0</td>\n",
       "      <td></td>\n",
       "      <td>0.10076</td>\n",
       "      <td></td>\n",
       "      <td>0.0380826</td>\n",
       "      <td>0.0649256</td>\n",
       "      <td>0.022876</td>\n",
       "      <td>0.0227438</td>\n",
       "      <td></td>\n",
       "      <td></td>\n",
       "      <td></td>\n",
       "    </tr>\n",
       "    <tr>\n",
       "      <td>2017-10-01</td>\n",
       "      <td>1.0</td>\n",
       "      <td>0.078129</td>\n",
       "      <td>0.0508115</td>\n",
       "      <td>0.0377687</td>\n",
       "      <td>0.057524</td>\n",
       "      <td>0.0207749</td>\n",
       "      <td>0.0197553</td>\n",
       "      <td></td>\n",
       "      <td></td>\n",
       "      <td></td>\n",
       "      <td></td>\n",
       "    </tr>\n",
       "    <tr>\n",
       "      <td>2017-11-01</td>\n",
       "      <td>1.0</td>\n",
       "      <td></td>\n",
       "      <td>0.0426979</td>\n",
       "      <td>0.0636645</td>\n",
       "      <td>0.0217313</td>\n",
       "      <td>0.0206045</td>\n",
       "      <td></td>\n",
       "      <td></td>\n",
       "      <td></td>\n",
       "      <td></td>\n",
       "      <td></td>\n",
       "    </tr>\n",
       "    <tr>\n",
       "      <td>2017-12-01</td>\n",
       "      <td>1.0</td>\n",
       "      <td>0.0547112</td>\n",
       "      <td>0.0603126</td>\n",
       "      <td>0.0194529</td>\n",
       "      <td>0.017716</td>\n",
       "      <td></td>\n",
       "      <td></td>\n",
       "      <td></td>\n",
       "      <td></td>\n",
       "      <td></td>\n",
       "      <td></td>\n",
       "    </tr>\n",
       "    <tr>\n",
       "      <td>2018-01-01</td>\n",
       "      <td>1.0</td>\n",
       "      <td>0.0872102</td>\n",
       "      <td>0.0243547</td>\n",
       "      <td>0.0192504</td>\n",
       "      <td></td>\n",
       "      <td></td>\n",
       "      <td></td>\n",
       "      <td></td>\n",
       "      <td></td>\n",
       "      <td></td>\n",
       "      <td></td>\n",
       "    </tr>\n",
       "    <tr>\n",
       "      <td>2018-02-01</td>\n",
       "      <td>1.0</td>\n",
       "      <td>0.0242899</td>\n",
       "      <td>0.0191841</td>\n",
       "      <td></td>\n",
       "      <td></td>\n",
       "      <td></td>\n",
       "      <td></td>\n",
       "      <td></td>\n",
       "      <td></td>\n",
       "      <td></td>\n",
       "      <td></td>\n",
       "    </tr>\n",
       "    <tr>\n",
       "      <td>2018-03-01</td>\n",
       "      <td>1.0</td>\n",
       "      <td>0.040762</td>\n",
       "      <td>0.0254896</td>\n",
       "      <td></td>\n",
       "      <td></td>\n",
       "      <td></td>\n",
       "      <td></td>\n",
       "      <td></td>\n",
       "      <td></td>\n",
       "      <td></td>\n",
       "      <td></td>\n",
       "    </tr>\n",
       "    <tr>\n",
       "      <td>2018-04-01</td>\n",
       "      <td>1.0</td>\n",
       "      <td></td>\n",
       "      <td></td>\n",
       "      <td></td>\n",
       "      <td></td>\n",
       "      <td></td>\n",
       "      <td></td>\n",
       "      <td></td>\n",
       "      <td></td>\n",
       "      <td></td>\n",
       "      <td></td>\n",
       "    </tr>\n",
       "    <tr>\n",
       "      <td>2018-05-01</td>\n",
       "      <td>1.0</td>\n",
       "      <td></td>\n",
       "      <td></td>\n",
       "      <td></td>\n",
       "      <td></td>\n",
       "      <td></td>\n",
       "      <td></td>\n",
       "      <td></td>\n",
       "      <td></td>\n",
       "      <td></td>\n",
       "      <td></td>\n",
       "    </tr>\n",
       "  </tbody>\n",
       "</table>\n",
       "</div>"
      ],
      "text/plain": [
       "cohort_lifetime        0          1          2          3          4   \\\n",
       "first_activity_month                                                    \n",
       "2017-06-01            1.0             0.0509929  0.0597442   0.065382   \n",
       "2017-07-01            1.0  0.0545501   0.050406  0.0556495  0.0565798   \n",
       "2017-08-01            1.0  0.0744519  0.0604515  0.0604515  0.0479705   \n",
       "2017-09-01            1.0               0.10076             0.0380826   \n",
       "2017-10-01            1.0   0.078129  0.0508115  0.0377687   0.057524   \n",
       "2017-11-01            1.0             0.0426979  0.0636645  0.0217313   \n",
       "2017-12-01            1.0  0.0547112  0.0603126  0.0194529   0.017716   \n",
       "2018-01-01            1.0  0.0872102  0.0243547  0.0192504              \n",
       "2018-02-01            1.0  0.0242899  0.0191841                         \n",
       "2018-03-01            1.0   0.040762  0.0254896                         \n",
       "2018-04-01            1.0                                               \n",
       "2018-05-01            1.0                                               \n",
       "\n",
       "cohort_lifetime              5          6          7          8          9   \\\n",
       "first_activity_month                                                          \n",
       "2017-06-01            0.0674857  0.0577247  0.0561259  0.0818748  0.0381185   \n",
       "2017-07-01            0.0465156  0.0440629  0.0712111             0.0473613   \n",
       "2017-08-01            0.0414586  0.0642501  0.0271326   0.024745              \n",
       "2017-09-01            0.0649256   0.022876  0.0227438                         \n",
       "2017-10-01            0.0207749  0.0197553                                    \n",
       "2017-11-01            0.0206045                                               \n",
       "2017-12-01                                                                    \n",
       "2018-01-01                                                                    \n",
       "2018-02-01                                                                    \n",
       "2018-03-01                                                                    \n",
       "2018-04-01                                                                    \n",
       "2018-05-01                                                                    \n",
       "\n",
       "cohort_lifetime              10  \n",
       "first_activity_month             \n",
       "2017-06-01            0.0439246  \n",
       "2017-07-01                       \n",
       "2017-08-01                       \n",
       "2017-09-01                       \n",
       "2017-10-01                       \n",
       "2017-11-01                       \n",
       "2017-12-01                       \n",
       "2018-01-01                       \n",
       "2018-02-01                       \n",
       "2018-03-01                       \n",
       "2018-04-01                       \n",
       "2018-05-01                       "
      ]
     },
     "execution_count": 41,
     "metadata": {},
     "output_type": "execute_result"
    }
   ],
   "source": [
    "retention_rate_pivot.fillna('')"
   ]
  },
  {
   "cell_type": "code",
   "execution_count": 42,
   "metadata": {},
   "outputs": [
    {
     "data": {
      "image/png": "[encoded data removed]",
      "text/plain": [
       "<Figure size 936x648 with 2 Axes>"
      ]
     },
     "metadata": {},
     "output_type": "display_data"
    }
   ],
   "source": [
    "sns.set(style='ticks')\n",
    "plt.figure(figsize=(13, 9))\n",
    "plt.title('Когорты: Возврат пользователей (Retention Rate)')\n",
    "sns.heatmap(retention_rate_pivot, annot=True, fmt='.1%', linewidths=2, linecolor='gray');"
   ]
  },
  {
   "cell_type": "markdown",
   "metadata": {},
   "source": [
    "**Вывод**\n",
    "* Возврат пользователей (Retention Rate) совсем небольшой (4-7 %), с редким повышением возвратов в конце и начале года. \n",
    "* Это потенциальная точка роста, процент возврата нужно повышать"
   ]
  },
  {
   "cell_type": "markdown",
   "metadata": {},
   "source": [
    "### 3. Продажи\n",
    "<a id='purchases'></a>\n"
   ]
  },
  {
   "cell_type": "markdown",
   "metadata": {},
   "source": [
    "* Когда люди начинают покупать?\n",
    "* Сколько раз покупают за период?\n",
    "* Какой средний чек?\n",
    "* Сколько денег приносят? (LTV)"
   ]
  },
  {
   "cell_type": "markdown",
   "metadata": {},
   "source": [
    "##### 3.1 Когда  начинают покупать"
   ]
  },
  {
   "cell_type": "code",
   "execution_count": 43,
   "metadata": {},
   "outputs": [
    {
     "data": {
      "text/html": [
       "<div>\n",
       "<style scoped>\n",
       "    .dataframe tbody tr th:only-of-type {\n",
       "        vertical-align: middle;\n",
       "    }\n",
       "\n",
       "    .dataframe tbody tr th {\n",
       "        vertical-align: top;\n",
       "    }\n",
       "\n",
       "    .dataframe thead th {\n",
       "        text-align: right;\n",
       "    }\n",
       "</style>\n",
       "<table border=\"1\" class=\"dataframe\">\n",
       "  <thead>\n",
       "    <tr style=\"text-align: right;\">\n",
       "      <th></th>\n",
       "      <th>buy_ts</th>\n",
       "      <th>revenue</th>\n",
       "      <th>uid</th>\n",
       "    </tr>\n",
       "  </thead>\n",
       "  <tbody>\n",
       "    <tr>\n",
       "      <td>0</td>\n",
       "      <td>2017-06-01 00:10:00</td>\n",
       "      <td>17.00</td>\n",
       "      <td>10329302124590727494</td>\n",
       "    </tr>\n",
       "    <tr>\n",
       "      <td>1</td>\n",
       "      <td>2017-06-01 00:25:00</td>\n",
       "      <td>0.55</td>\n",
       "      <td>11627257723692907447</td>\n",
       "    </tr>\n",
       "    <tr>\n",
       "      <td>2</td>\n",
       "      <td>2017-06-01 00:27:00</td>\n",
       "      <td>0.37</td>\n",
       "      <td>17903680561304213844</td>\n",
       "    </tr>\n",
       "    <tr>\n",
       "      <td>3</td>\n",
       "      <td>2017-06-01 00:29:00</td>\n",
       "      <td>0.55</td>\n",
       "      <td>16109239769442553005</td>\n",
       "    </tr>\n",
       "    <tr>\n",
       "      <td>4</td>\n",
       "      <td>2017-06-01 07:58:00</td>\n",
       "      <td>0.37</td>\n",
       "      <td>14200605875248379450</td>\n",
       "    </tr>\n",
       "  </tbody>\n",
       "</table>\n",
       "</div>"
      ],
      "text/plain": [
       "               buy_ts  revenue                   uid\n",
       "0 2017-06-01 00:10:00    17.00  10329302124590727494\n",
       "1 2017-06-01 00:25:00     0.55  11627257723692907447\n",
       "2 2017-06-01 00:27:00     0.37  17903680561304213844\n",
       "3 2017-06-01 00:29:00     0.55  16109239769442553005\n",
       "4 2017-06-01 07:58:00     0.37  14200605875248379450"
      ]
     },
     "execution_count": 43,
     "metadata": {},
     "output_type": "execute_result"
    }
   ],
   "source": [
    "orders.head()"
   ]
  },
  {
   "cell_type": "code",
   "execution_count": 44,
   "metadata": {},
   "outputs": [
    {
     "data": {
      "text/plain": [
       "(36523, 2)"
      ]
     },
     "execution_count": 44,
     "metadata": {},
     "output_type": "execute_result"
    }
   ],
   "source": [
    "# находим минимальное время первой покупки\n",
    "first_orders_time = orders.groupby('uid').agg({'buy_ts':'min'}).reset_index()\n",
    "first_orders_time.columns = ['uid', 'first_purchase']\n",
    "first_orders_time.shape"
   ]
  },
  {
   "cell_type": "code",
   "execution_count": 45,
   "metadata": {},
   "outputs": [
    {
     "data": {
      "text/plain": [
       "(207042, 2)"
      ]
     },
     "execution_count": 45,
     "metadata": {},
     "output_type": "execute_result"
    }
   ],
   "source": [
    "first_visit_date = visits.groupby('uid').agg({'start_ts':'min'}).reset_index()\n",
    "first_visit_date.columns = ['uid', 'first_visit_date']\n",
    "first_visit_date.shape"
   ]
  },
  {
   "cell_type": "code",
   "execution_count": 46,
   "metadata": {},
   "outputs": [],
   "source": [
    "# Нам нужно сохранить только тех кто покупал поэтому выполним объединение с параметром \"how='inner'\"\n",
    "from_visit_to_order = first_orders_time.merge(first_visit_date, on='uid', how='inner')"
   ]
  },
  {
   "cell_type": "code",
   "execution_count": 47,
   "metadata": {},
   "outputs": [
    {
     "data": {
      "text/html": [
       "<div>\n",
       "<style scoped>\n",
       "    .dataframe tbody tr th:only-of-type {\n",
       "        vertical-align: middle;\n",
       "    }\n",
       "\n",
       "    .dataframe tbody tr th {\n",
       "        vertical-align: top;\n",
       "    }\n",
       "\n",
       "    .dataframe thead th {\n",
       "        text-align: right;\n",
       "    }\n",
       "</style>\n",
       "<table border=\"1\" class=\"dataframe\">\n",
       "  <thead>\n",
       "    <tr style=\"text-align: right;\">\n",
       "      <th></th>\n",
       "      <th>uid</th>\n",
       "      <th>first_purchase</th>\n",
       "      <th>first_visit_date</th>\n",
       "    </tr>\n",
       "  </thead>\n",
       "  <tbody>\n",
       "    <tr>\n",
       "      <td>0</td>\n",
       "      <td>313578113262317</td>\n",
       "      <td>2018-01-03 21:51:00</td>\n",
       "      <td>2017-09-18 22:49:00</td>\n",
       "    </tr>\n",
       "    <tr>\n",
       "      <td>1</td>\n",
       "      <td>1575281904278712</td>\n",
       "      <td>2017-06-03 10:13:00</td>\n",
       "      <td>2017-06-03 10:13:00</td>\n",
       "    </tr>\n",
       "    <tr>\n",
       "      <td>2</td>\n",
       "      <td>2429014661409475</td>\n",
       "      <td>2017-10-11 18:33:00</td>\n",
       "      <td>2017-10-11 17:14:00</td>\n",
       "    </tr>\n",
       "    <tr>\n",
       "      <td>3</td>\n",
       "      <td>2464366381792757</td>\n",
       "      <td>2018-01-28 15:54:00</td>\n",
       "      <td>2018-01-27 20:10:00</td>\n",
       "    </tr>\n",
       "    <tr>\n",
       "      <td>4</td>\n",
       "      <td>2551852515556206</td>\n",
       "      <td>2017-11-24 10:14:00</td>\n",
       "      <td>2017-11-24 10:14:00</td>\n",
       "    </tr>\n",
       "  </tbody>\n",
       "</table>\n",
       "</div>"
      ],
      "text/plain": [
       "                uid      first_purchase    first_visit_date\n",
       "0   313578113262317 2018-01-03 21:51:00 2017-09-18 22:49:00\n",
       "1  1575281904278712 2017-06-03 10:13:00 2017-06-03 10:13:00\n",
       "2  2429014661409475 2017-10-11 18:33:00 2017-10-11 17:14:00\n",
       "3  2464366381792757 2018-01-28 15:54:00 2018-01-27 20:10:00\n",
       "4  2551852515556206 2017-11-24 10:14:00 2017-11-24 10:14:00"
      ]
     },
     "execution_count": 47,
     "metadata": {},
     "output_type": "execute_result"
    }
   ],
   "source": [
    "from_visit_to_order.head()"
   ]
  },
  {
   "cell_type": "code",
   "execution_count": 48,
   "metadata": {},
   "outputs": [],
   "source": [
    "# Считаем сколько времени проходит от первого визита до покупки\n",
    "from_visit_to_order['delta_seconds'] = (from_visit_to_order['first_purchase']\\\n",
    "                                        - from_visit_to_order['first_visit_date']).dt.seconds"
   ]
  },
  {
   "cell_type": "code",
   "execution_count": 49,
   "metadata": {},
   "outputs": [],
   "source": [
    "from_visit_to_order['delta_minutes'] = from_visit_to_order['delta_seconds']/60"
   ]
  },
  {
   "cell_type": "code",
   "execution_count": 50,
   "metadata": {},
   "outputs": [
    {
     "data": {
      "image/png": "[encoded data removed]",
      "text/plain": [
       "<Figure size 1008x360 with 1 Axes>"
      ]
     },
     "metadata": {},
     "output_type": "display_data"
    }
   ],
   "source": [
    "# Строим гистограмму распределения времени от первого захода на сайт до покупки\n",
    "from_visit_to_order['delta_minutes'].hist(bins=100, figsize=(14,5));"
   ]
  },
  {
   "cell_type": "markdown",
   "metadata": {},
   "source": [
    "Распределение не нормальное, поэтому будем использовать моду"
   ]
  },
  {
   "cell_type": "code",
   "execution_count": 51,
   "metadata": {},
   "outputs": [
    {
     "data": {
      "text/plain": [
       "0    1.0\n",
       "dtype: float64"
      ]
     },
     "execution_count": 51,
     "metadata": {},
     "output_type": "execute_result"
    }
   ],
   "source": [
    "from_visit_to_order['delta_minutes'].mode()"
   ]
  },
  {
   "cell_type": "markdown",
   "metadata": {},
   "source": [
    "**Вывод**: характерное время от первого захода на сайт до первой покупки -- 1 минута"
   ]
  },
  {
   "cell_type": "markdown",
   "metadata": {},
   "source": [
    "##### 3.2  Сколько раз покупают за период"
   ]
  },
  {
   "cell_type": "code",
   "execution_count": 52,
   "metadata": {},
   "outputs": [
    {
     "data": {
      "text/plain": [
       "0"
      ]
     },
     "execution_count": 52,
     "metadata": {},
     "output_type": "execute_result"
    }
   ],
   "source": [
    "orders['buy_ts'].isna().sum()"
   ]
  },
  {
   "cell_type": "code",
   "execution_count": 53,
   "metadata": {},
   "outputs": [
    {
     "name": "stdout",
     "output_type": "stream",
     "text": [
      "<class 'pandas.core.frame.DataFrame'>\n",
      "RangeIndex: 50415 entries, 0 to 50414\n",
      "Data columns (total 3 columns):\n",
      "buy_ts     50415 non-null datetime64[ns]\n",
      "revenue    50415 non-null float64\n",
      "uid        50415 non-null uint64\n",
      "dtypes: datetime64[ns](1), float64(1), uint64(1)\n",
      "memory usage: 1.2 MB\n"
     ]
    }
   ],
   "source": [
    "orders.info()"
   ]
  },
  {
   "cell_type": "code",
   "execution_count": 54,
   "metadata": {},
   "outputs": [
    {
     "data": {
      "text/plain": [
       "(36523, 2)"
      ]
     },
     "execution_count": 54,
     "metadata": {},
     "output_type": "execute_result"
    }
   ],
   "source": [
    "purchases = orders.groupby('uid').agg({'buy_ts':'count'}).reset_index()\n",
    "purchases = purchases.rename(columns={'buy_ts':'purchases_per_user'})\n",
    "purchases.shape"
   ]
  },
  {
   "cell_type": "code",
   "execution_count": 55,
   "metadata": {},
   "outputs": [
    {
     "data": {
      "text/plain": [
       "(36523, 2)"
      ]
     },
     "execution_count": 55,
     "metadata": {},
     "output_type": "execute_result"
    }
   ],
   "source": [
    "purchases = purchases.query('purchases_per_user>0')\n",
    "purchases.shape"
   ]
  },
  {
   "cell_type": "code",
   "execution_count": 56,
   "metadata": {},
   "outputs": [
    {
     "data": {
      "text/html": [
       "<div>\n",
       "<style scoped>\n",
       "    .dataframe tbody tr th:only-of-type {\n",
       "        vertical-align: middle;\n",
       "    }\n",
       "\n",
       "    .dataframe tbody tr th {\n",
       "        vertical-align: top;\n",
       "    }\n",
       "\n",
       "    .dataframe thead th {\n",
       "        text-align: right;\n",
       "    }\n",
       "</style>\n",
       "<table border=\"1\" class=\"dataframe\">\n",
       "  <thead>\n",
       "    <tr style=\"text-align: right;\">\n",
       "      <th></th>\n",
       "      <th>uid</th>\n",
       "      <th>purchases_per_user</th>\n",
       "    </tr>\n",
       "  </thead>\n",
       "  <tbody>\n",
       "    <tr>\n",
       "      <td>0</td>\n",
       "      <td>313578113262317</td>\n",
       "      <td>1</td>\n",
       "    </tr>\n",
       "    <tr>\n",
       "      <td>1</td>\n",
       "      <td>1575281904278712</td>\n",
       "      <td>2</td>\n",
       "    </tr>\n",
       "    <tr>\n",
       "      <td>2</td>\n",
       "      <td>2429014661409475</td>\n",
       "      <td>1</td>\n",
       "    </tr>\n",
       "    <tr>\n",
       "      <td>3</td>\n",
       "      <td>2464366381792757</td>\n",
       "      <td>1</td>\n",
       "    </tr>\n",
       "    <tr>\n",
       "      <td>4</td>\n",
       "      <td>2551852515556206</td>\n",
       "      <td>2</td>\n",
       "    </tr>\n",
       "  </tbody>\n",
       "</table>\n",
       "</div>"
      ],
      "text/plain": [
       "                uid  purchases_per_user\n",
       "0   313578113262317                   1\n",
       "1  1575281904278712                   2\n",
       "2  2429014661409475                   1\n",
       "3  2464366381792757                   1\n",
       "4  2551852515556206                   2"
      ]
     },
     "execution_count": 56,
     "metadata": {},
     "output_type": "execute_result"
    }
   ],
   "source": [
    "purchases.head()"
   ]
  },
  {
   "cell_type": "code",
   "execution_count": 57,
   "metadata": {},
   "outputs": [
    {
     "data": {
      "text/plain": [
       "(50415, 6)"
      ]
     },
     "execution_count": 57,
     "metadata": {},
     "output_type": "execute_result"
    }
   ],
   "source": [
    "purchases_count = orders.merge(purchases, on='uid', how='inner')\n",
    "purchases_count['week'] = purchases_count['buy_ts'].dt.week\n",
    "purchases_count['year'] = purchases_count['buy_ts'].dt.year\n",
    "purchases_count.shape"
   ]
  },
  {
   "cell_type": "code",
   "execution_count": 58,
   "metadata": {},
   "outputs": [
    {
     "data": {
      "text/html": [
       "<div>\n",
       "<style scoped>\n",
       "    .dataframe tbody tr th:only-of-type {\n",
       "        vertical-align: middle;\n",
       "    }\n",
       "\n",
       "    .dataframe tbody tr th {\n",
       "        vertical-align: top;\n",
       "    }\n",
       "\n",
       "    .dataframe thead th {\n",
       "        text-align: right;\n",
       "    }\n",
       "</style>\n",
       "<table border=\"1\" class=\"dataframe\">\n",
       "  <thead>\n",
       "    <tr style=\"text-align: right;\">\n",
       "      <th></th>\n",
       "      <th>buy_ts</th>\n",
       "      <th>revenue</th>\n",
       "      <th>uid</th>\n",
       "      <th>purchases_per_user</th>\n",
       "      <th>week</th>\n",
       "      <th>year</th>\n",
       "    </tr>\n",
       "  </thead>\n",
       "  <tbody>\n",
       "    <tr>\n",
       "      <td>0</td>\n",
       "      <td>2017-06-01 00:10:00</td>\n",
       "      <td>17.00</td>\n",
       "      <td>10329302124590727494</td>\n",
       "      <td>1</td>\n",
       "      <td>22</td>\n",
       "      <td>2017</td>\n",
       "    </tr>\n",
       "    <tr>\n",
       "      <td>1</td>\n",
       "      <td>2017-06-01 00:25:00</td>\n",
       "      <td>0.55</td>\n",
       "      <td>11627257723692907447</td>\n",
       "      <td>1</td>\n",
       "      <td>22</td>\n",
       "      <td>2017</td>\n",
       "    </tr>\n",
       "    <tr>\n",
       "      <td>2</td>\n",
       "      <td>2017-06-01 00:27:00</td>\n",
       "      <td>0.37</td>\n",
       "      <td>17903680561304213844</td>\n",
       "      <td>1</td>\n",
       "      <td>22</td>\n",
       "      <td>2017</td>\n",
       "    </tr>\n",
       "    <tr>\n",
       "      <td>3</td>\n",
       "      <td>2017-06-01 00:29:00</td>\n",
       "      <td>0.55</td>\n",
       "      <td>16109239769442553005</td>\n",
       "      <td>1</td>\n",
       "      <td>22</td>\n",
       "      <td>2017</td>\n",
       "    </tr>\n",
       "    <tr>\n",
       "      <td>4</td>\n",
       "      <td>2017-06-01 07:58:00</td>\n",
       "      <td>0.37</td>\n",
       "      <td>14200605875248379450</td>\n",
       "      <td>1</td>\n",
       "      <td>22</td>\n",
       "      <td>2017</td>\n",
       "    </tr>\n",
       "  </tbody>\n",
       "</table>\n",
       "</div>"
      ],
      "text/plain": [
       "               buy_ts  revenue                   uid  purchases_per_user  \\\n",
       "0 2017-06-01 00:10:00    17.00  10329302124590727494                   1   \n",
       "1 2017-06-01 00:25:00     0.55  11627257723692907447                   1   \n",
       "2 2017-06-01 00:27:00     0.37  17903680561304213844                   1   \n",
       "3 2017-06-01 00:29:00     0.55  16109239769442553005                   1   \n",
       "4 2017-06-01 07:58:00     0.37  14200605875248379450                   1   \n",
       "\n",
       "   week  year  \n",
       "0    22  2017  \n",
       "1    22  2017  \n",
       "2    22  2017  \n",
       "3    22  2017  \n",
       "4    22  2017  "
      ]
     },
     "execution_count": 58,
     "metadata": {},
     "output_type": "execute_result"
    }
   ],
   "source": [
    "purchases_count.head()"
   ]
  },
  {
   "cell_type": "code",
   "execution_count": 59,
   "metadata": {},
   "outputs": [
    {
     "data": {
      "image/png": "[encoded data removed]",
      "text/plain": [
       "<Figure size 720x360 with 1 Axes>"
      ]
     },
     "metadata": {},
     "output_type": "display_data"
    }
   ],
   "source": [
    "(purchases_count\n",
    "     .groupby(['week','year', 'uid'])\n",
    "     .agg({'purchases_per_user':'count'})\n",
    "     .plot(kind='hist', bins=100, range=(0, 10) ,figsize=(10, 5), fontsize=15, color='blue')\n",
    ")\n",
    "plt.ylabel('Частота', fontsize=15)\n",
    "plt.xlabel('Распределение количества покупок на пользователя в неделю', fontsize=15)\n",
    "plt.show()\n"
   ]
  },
  {
   "cell_type": "code",
   "execution_count": 60,
   "metadata": {},
   "outputs": [
    {
     "data": {
      "text/plain": [
       "0    1\n",
       "dtype: int64"
      ]
     },
     "execution_count": 60,
     "metadata": {},
     "output_type": "execute_result"
    }
   ],
   "source": [
    "purchases_count['purchases_per_user'].mode()"
   ]
  },
  {
   "cell_type": "markdown",
   "metadata": {},
   "source": [
    "##### 3.3  Cредний чек\n",
    "<a id='average_revenue'></a>"
   ]
  },
  {
   "cell_type": "code",
   "execution_count": 61,
   "metadata": {},
   "outputs": [
    {
     "data": {
      "text/html": [
       "<div>\n",
       "<style scoped>\n",
       "    .dataframe tbody tr th:only-of-type {\n",
       "        vertical-align: middle;\n",
       "    }\n",
       "\n",
       "    .dataframe tbody tr th {\n",
       "        vertical-align: top;\n",
       "    }\n",
       "\n",
       "    .dataframe thead th {\n",
       "        text-align: right;\n",
       "    }\n",
       "</style>\n",
       "<table border=\"1\" class=\"dataframe\">\n",
       "  <thead>\n",
       "    <tr style=\"text-align: right;\">\n",
       "      <th></th>\n",
       "      <th>buy_ts</th>\n",
       "      <th>revenue</th>\n",
       "      <th>uid</th>\n",
       "    </tr>\n",
       "  </thead>\n",
       "  <tbody>\n",
       "    <tr>\n",
       "      <td>0</td>\n",
       "      <td>2017-06-01 00:10:00</td>\n",
       "      <td>17.00</td>\n",
       "      <td>10329302124590727494</td>\n",
       "    </tr>\n",
       "    <tr>\n",
       "      <td>1</td>\n",
       "      <td>2017-06-01 00:25:00</td>\n",
       "      <td>0.55</td>\n",
       "      <td>11627257723692907447</td>\n",
       "    </tr>\n",
       "    <tr>\n",
       "      <td>2</td>\n",
       "      <td>2017-06-01 00:27:00</td>\n",
       "      <td>0.37</td>\n",
       "      <td>17903680561304213844</td>\n",
       "    </tr>\n",
       "    <tr>\n",
       "      <td>3</td>\n",
       "      <td>2017-06-01 00:29:00</td>\n",
       "      <td>0.55</td>\n",
       "      <td>16109239769442553005</td>\n",
       "    </tr>\n",
       "    <tr>\n",
       "      <td>4</td>\n",
       "      <td>2017-06-01 07:58:00</td>\n",
       "      <td>0.37</td>\n",
       "      <td>14200605875248379450</td>\n",
       "    </tr>\n",
       "  </tbody>\n",
       "</table>\n",
       "</div>"
      ],
      "text/plain": [
       "               buy_ts  revenue                   uid\n",
       "0 2017-06-01 00:10:00    17.00  10329302124590727494\n",
       "1 2017-06-01 00:25:00     0.55  11627257723692907447\n",
       "2 2017-06-01 00:27:00     0.37  17903680561304213844\n",
       "3 2017-06-01 00:29:00     0.55  16109239769442553005\n",
       "4 2017-06-01 07:58:00     0.37  14200605875248379450"
      ]
     },
     "execution_count": 61,
     "metadata": {},
     "output_type": "execute_result"
    }
   ],
   "source": [
    "orders.head()"
   ]
  },
  {
   "cell_type": "code",
   "execution_count": 62,
   "metadata": {},
   "outputs": [],
   "source": [
    "first_order = orders.groupby('uid')['buy_ts'].min()\n",
    "first_order.name = 'first_order'\n",
    "orders_new = orders.join(first_order, on='uid')\n"
   ]
  },
  {
   "cell_type": "code",
   "execution_count": 63,
   "metadata": {},
   "outputs": [],
   "source": [
    "orders_new['first_order_month'] = orders_new['first_order'].astype('datetime64[M]')\n",
    "orders_new['order_month'] = orders_new['buy_ts'].astype('datetime64[M]')\n"
   ]
  },
  {
   "cell_type": "code",
   "execution_count": 64,
   "metadata": {},
   "outputs": [
    {
     "name": "stdout",
     "output_type": "stream",
     "text": [
      "Средний чек за весь период исследования = 5.0 условных единиц\n"
     ]
    }
   ],
   "source": [
    "average_order_value = ((orders_new['revenue'].sum())/(orders_new['uid'].count())).round(3)\n",
    "print(f'Средний чек за весь период исследования = {average_order_value} условных единиц')"
   ]
  },
  {
   "cell_type": "code",
   "execution_count": 65,
   "metadata": {},
   "outputs": [],
   "source": [
    "# не считаем на уникальных пользователей (берем ('uid':'count')), так как \n",
    "# средний чек считается на все транзакции, а не только на уникальные\n",
    "orders_new_grouped_by_cohorts = (orders_new\n",
    "                                 .groupby(['first_order_month', 'order_month'])\n",
    "                                 .agg({'revenue':'sum', 'uid':'count'}))"
   ]
  },
  {
   "cell_type": "code",
   "execution_count": 66,
   "metadata": {},
   "outputs": [],
   "source": [
    "orders_new_grouped_by_cohorts['average_revenue'] = \\\n",
    "orders_new_grouped_by_cohorts['revenue'] / orders_new_grouped_by_cohorts['uid']"
   ]
  },
  {
   "cell_type": "code",
   "execution_count": 67,
   "metadata": {},
   "outputs": [
    {
     "data": {
      "text/html": [
       "<div>\n",
       "<style scoped>\n",
       "    .dataframe tbody tr th:only-of-type {\n",
       "        vertical-align: middle;\n",
       "    }\n",
       "\n",
       "    .dataframe tbody tr th {\n",
       "        vertical-align: top;\n",
       "    }\n",
       "\n",
       "    .dataframe thead th {\n",
       "        text-align: right;\n",
       "    }\n",
       "</style>\n",
       "<table border=\"1\" class=\"dataframe\">\n",
       "  <thead>\n",
       "    <tr style=\"text-align: right;\">\n",
       "      <th></th>\n",
       "      <th>first_order_month</th>\n",
       "      <th>order_month</th>\n",
       "      <th>revenue</th>\n",
       "      <th>uid</th>\n",
       "      <th>average_revenue</th>\n",
       "    </tr>\n",
       "  </thead>\n",
       "  <tbody>\n",
       "    <tr>\n",
       "      <td>0</td>\n",
       "      <td>2017-06-01</td>\n",
       "      <td>2017-06-01</td>\n",
       "      <td>9557.49</td>\n",
       "      <td>2354</td>\n",
       "      <td>4.060106</td>\n",
       "    </tr>\n",
       "    <tr>\n",
       "      <td>1</td>\n",
       "      <td>2017-06-01</td>\n",
       "      <td>2017-07-01</td>\n",
       "      <td>981.82</td>\n",
       "      <td>177</td>\n",
       "      <td>5.547006</td>\n",
       "    </tr>\n",
       "    <tr>\n",
       "      <td>2</td>\n",
       "      <td>2017-06-01</td>\n",
       "      <td>2017-08-01</td>\n",
       "      <td>885.34</td>\n",
       "      <td>174</td>\n",
       "      <td>5.088161</td>\n",
       "    </tr>\n",
       "    <tr>\n",
       "      <td>3</td>\n",
       "      <td>2017-06-01</td>\n",
       "      <td>2017-09-01</td>\n",
       "      <td>1931.30</td>\n",
       "      <td>226</td>\n",
       "      <td>8.545575</td>\n",
       "    </tr>\n",
       "    <tr>\n",
       "      <td>4</td>\n",
       "      <td>2017-06-01</td>\n",
       "      <td>2017-10-01</td>\n",
       "      <td>2068.58</td>\n",
       "      <td>292</td>\n",
       "      <td>7.084178</td>\n",
       "    </tr>\n",
       "  </tbody>\n",
       "</table>\n",
       "</div>"
      ],
      "text/plain": [
       "  first_order_month order_month  revenue   uid  average_revenue\n",
       "0        2017-06-01  2017-06-01  9557.49  2354         4.060106\n",
       "1        2017-06-01  2017-07-01   981.82   177         5.547006\n",
       "2        2017-06-01  2017-08-01   885.34   174         5.088161\n",
       "3        2017-06-01  2017-09-01  1931.30   226         8.545575\n",
       "4        2017-06-01  2017-10-01  2068.58   292         7.084178"
      ]
     },
     "execution_count": 67,
     "metadata": {},
     "output_type": "execute_result"
    }
   ],
   "source": [
    "orders_new_grouped_by_cohorts = orders_new_grouped_by_cohorts.reset_index()\n",
    "orders_new_grouped_by_cohorts.head()"
   ]
  },
  {
   "cell_type": "code",
   "execution_count": 68,
   "metadata": {},
   "outputs": [],
   "source": [
    "orders_new_grouped_by_cohorts['lifetime'] = ((orders_new_grouped_by_cohorts['order_month'] - \\\n",
    "                           orders_new_grouped_by_cohorts['first_order_month'])/np.timedelta64(1, 'M')).round().astype('int')\n",
    "orders_new_grouped_by_cohorts['first_order_month'] = orders_new_grouped_by_cohorts['first_order_month'].dt.strftime('%Y-%m')"
   ]
  },
  {
   "cell_type": "code",
   "execution_count": 69,
   "metadata": {},
   "outputs": [
    {
     "data": {
      "image/png": "[encoded data removed]",
      "text/plain": [
       "<Figure size 792x648 with 2 Axes>"
      ]
     },
     "metadata": {},
     "output_type": "display_data"
    }
   ],
   "source": [
    "average_revenue_pivot = (orders_new_grouped_by_cohorts\n",
    "                         .pivot_table(index='first_order_month', columns='lifetime',\n",
    "                                      values='average_revenue', aggfunc='mean'\n",
    "                         )\n",
    ")\n",
    " \n",
    "# Стоим тепловую карту \n",
    "sns.set(style='ticks')\n",
    "plt.figure(figsize=(11, 9))\n",
    "plt.title('Когорты: Средний чек')\n",
    "sns.heatmap(average_revenue_pivot, annot=True, fmt='.1f', linewidths=2, linecolor='gray');"
   ]
  },
  {
   "cell_type": "markdown",
   "metadata": {},
   "source": [
    "**Вывод**\n",
    "* Чаще всего от момента появления на сайте до первой покупки проходит 1 минута, и как правило, совершается одна покупка\n",
    "* Лучшие результаты по среднему чеку показывают следующие когорты(по месяцу первого заказа): сентябрь-2017 и декабрь-2017"
   ]
  },
  {
   "cell_type": "markdown",
   "metadata": {},
   "source": [
    "#### 3.4 Расчет LTV \n",
    "<a id='ltv_calculations'></a>"
   ]
  },
  {
   "cell_type": "code",
   "execution_count": 70,
   "metadata": {},
   "outputs": [
    {
     "data": {
      "text/html": [
       "<div>\n",
       "<style scoped>\n",
       "    .dataframe tbody tr th:only-of-type {\n",
       "        vertical-align: middle;\n",
       "    }\n",
       "\n",
       "    .dataframe tbody tr th {\n",
       "        vertical-align: top;\n",
       "    }\n",
       "\n",
       "    .dataframe thead th {\n",
       "        text-align: right;\n",
       "    }\n",
       "</style>\n",
       "<table border=\"1\" class=\"dataframe\">\n",
       "  <thead>\n",
       "    <tr style=\"text-align: right;\">\n",
       "      <th></th>\n",
       "      <th>device</th>\n",
       "      <th>end_ts</th>\n",
       "      <th>source_id</th>\n",
       "      <th>start_ts</th>\n",
       "      <th>uid</th>\n",
       "      <th>session_date</th>\n",
       "      <th>session_week</th>\n",
       "      <th>session_month</th>\n",
       "      <th>session_year</th>\n",
       "      <th>session_duration</th>\n",
       "    </tr>\n",
       "  </thead>\n",
       "  <tbody>\n",
       "    <tr>\n",
       "      <td>0</td>\n",
       "      <td>touch</td>\n",
       "      <td>2017-12-20 17:38:00</td>\n",
       "      <td>4</td>\n",
       "      <td>2017-12-20 17:20:00</td>\n",
       "      <td>16879256277535980062</td>\n",
       "      <td>2017-12-20</td>\n",
       "      <td>51</td>\n",
       "      <td>12</td>\n",
       "      <td>2017</td>\n",
       "      <td>1080</td>\n",
       "    </tr>\n",
       "    <tr>\n",
       "      <td>1</td>\n",
       "      <td>desktop</td>\n",
       "      <td>2018-02-19 17:21:00</td>\n",
       "      <td>2</td>\n",
       "      <td>2018-02-19 16:53:00</td>\n",
       "      <td>104060357244891740</td>\n",
       "      <td>2018-02-19</td>\n",
       "      <td>8</td>\n",
       "      <td>2</td>\n",
       "      <td>2018</td>\n",
       "      <td>1680</td>\n",
       "    </tr>\n",
       "    <tr>\n",
       "      <td>3</td>\n",
       "      <td>desktop</td>\n",
       "      <td>2018-05-20 11:23:00</td>\n",
       "      <td>9</td>\n",
       "      <td>2018-05-20 10:59:00</td>\n",
       "      <td>16174680259334210214</td>\n",
       "      <td>2018-05-20</td>\n",
       "      <td>20</td>\n",
       "      <td>5</td>\n",
       "      <td>2018</td>\n",
       "      <td>1440</td>\n",
       "    </tr>\n",
       "  </tbody>\n",
       "</table>\n",
       "</div>"
      ],
      "text/plain": [
       "    device              end_ts  source_id            start_ts  \\\n",
       "0    touch 2017-12-20 17:38:00          4 2017-12-20 17:20:00   \n",
       "1  desktop 2018-02-19 17:21:00          2 2018-02-19 16:53:00   \n",
       "3  desktop 2018-05-20 11:23:00          9 2018-05-20 10:59:00   \n",
       "\n",
       "                    uid session_date  session_week  session_month  \\\n",
       "0  16879256277535980062   2017-12-20            51             12   \n",
       "1    104060357244891740   2018-02-19             8              2   \n",
       "3  16174680259334210214   2018-05-20            20              5   \n",
       "\n",
       "   session_year  session_duration  \n",
       "0          2017              1080  \n",
       "1          2018              1680  \n",
       "3          2018              1440  "
      ]
     },
     "execution_count": 70,
     "metadata": {},
     "output_type": "execute_result"
    }
   ],
   "source": [
    "visits_new.head(3)"
   ]
  },
  {
   "cell_type": "code",
   "execution_count": 71,
   "metadata": {},
   "outputs": [],
   "source": [
    "# Сгруппируем по 'uid' найтем минимальную дату появления на сайте, ее будем считать датой привлечения пользователя\n",
    "df_all = visits_new.groupby('uid').agg({'start_ts':'min'})\n",
    "# переименуем полученную минимальную дату в 'start_date'\n",
    "df_all = df_all.rename(columns={'start_ts':'start_date'})\n",
    "# установим в качестве индекса столбец 'uid' и присоединим к таблице 'visits_new'\n",
    "df_all = visits_new.set_index('uid').join(df_all)\n"
   ]
  },
  {
   "cell_type": "code",
   "execution_count": 72,
   "metadata": {},
   "outputs": [
    {
     "data": {
      "text/html": [
       "<div>\n",
       "<style scoped>\n",
       "    .dataframe tbody tr th:only-of-type {\n",
       "        vertical-align: middle;\n",
       "    }\n",
       "\n",
       "    .dataframe tbody tr th {\n",
       "        vertical-align: top;\n",
       "    }\n",
       "\n",
       "    .dataframe thead th {\n",
       "        text-align: right;\n",
       "    }\n",
       "</style>\n",
       "<table border=\"1\" class=\"dataframe\">\n",
       "  <thead>\n",
       "    <tr style=\"text-align: right;\">\n",
       "      <th></th>\n",
       "      <th>device</th>\n",
       "      <th>end_ts</th>\n",
       "      <th>source_id</th>\n",
       "      <th>start_ts</th>\n",
       "      <th>session_date</th>\n",
       "      <th>session_week</th>\n",
       "      <th>session_month</th>\n",
       "      <th>session_year</th>\n",
       "      <th>session_duration</th>\n",
       "      <th>start_date</th>\n",
       "    </tr>\n",
       "    <tr>\n",
       "      <th>uid</th>\n",
       "      <th></th>\n",
       "      <th></th>\n",
       "      <th></th>\n",
       "      <th></th>\n",
       "      <th></th>\n",
       "      <th></th>\n",
       "      <th></th>\n",
       "      <th></th>\n",
       "      <th></th>\n",
       "      <th></th>\n",
       "    </tr>\n",
       "  </thead>\n",
       "  <tbody>\n",
       "    <tr>\n",
       "      <td>9223535092787691177</td>\n",
       "      <td>touch</td>\n",
       "      <td>2017-11-14 20:19:00</td>\n",
       "      <td>4</td>\n",
       "      <td>2017-11-14 20:00:00</td>\n",
       "      <td>2017-11-14</td>\n",
       "      <td>46</td>\n",
       "      <td>11</td>\n",
       "      <td>2017</td>\n",
       "      <td>1140</td>\n",
       "      <td>2017-11-14 08:54:00</td>\n",
       "    </tr>\n",
       "    <tr>\n",
       "      <td>9223535092787691177</td>\n",
       "      <td>touch</td>\n",
       "      <td>2017-11-14 09:22:00</td>\n",
       "      <td>1</td>\n",
       "      <td>2017-11-14 08:54:00</td>\n",
       "      <td>2017-11-14</td>\n",
       "      <td>46</td>\n",
       "      <td>11</td>\n",
       "      <td>2017</td>\n",
       "      <td>1680</td>\n",
       "      <td>2017-11-14 08:54:00</td>\n",
       "    </tr>\n",
       "    <tr>\n",
       "      <td>9223535092787691177</td>\n",
       "      <td>touch</td>\n",
       "      <td>2017-11-14 11:04:00</td>\n",
       "      <td>4</td>\n",
       "      <td>2017-11-14 10:30:00</td>\n",
       "      <td>2017-11-14</td>\n",
       "      <td>46</td>\n",
       "      <td>11</td>\n",
       "      <td>2017</td>\n",
       "      <td>2040</td>\n",
       "      <td>2017-11-14 08:54:00</td>\n",
       "    </tr>\n",
       "    <tr>\n",
       "      <td>9223696655126052404</td>\n",
       "      <td>touch</td>\n",
       "      <td>2017-11-05 17:12:00</td>\n",
       "      <td>3</td>\n",
       "      <td>2017-11-05 17:08:00</td>\n",
       "      <td>2017-11-05</td>\n",
       "      <td>44</td>\n",
       "      <td>11</td>\n",
       "      <td>2017</td>\n",
       "      <td>240</td>\n",
       "      <td>2017-11-05 17:08:00</td>\n",
       "    </tr>\n",
       "    <tr>\n",
       "      <td>9223707061355654945</td>\n",
       "      <td>touch</td>\n",
       "      <td>2017-11-01 00:40:00</td>\n",
       "      <td>9</td>\n",
       "      <td>2017-10-31 22:36:00</td>\n",
       "      <td>2017-10-31</td>\n",
       "      <td>44</td>\n",
       "      <td>10</td>\n",
       "      <td>2017</td>\n",
       "      <td>7440</td>\n",
       "      <td>2017-10-31 22:36:00</td>\n",
       "    </tr>\n",
       "  </tbody>\n",
       "</table>\n",
       "</div>"
      ],
      "text/plain": [
       "                    device              end_ts  source_id            start_ts  \\\n",
       "uid                                                                             \n",
       "9223535092787691177  touch 2017-11-14 20:19:00          4 2017-11-14 20:00:00   \n",
       "9223535092787691177  touch 2017-11-14 09:22:00          1 2017-11-14 08:54:00   \n",
       "9223535092787691177  touch 2017-11-14 11:04:00          4 2017-11-14 10:30:00   \n",
       "9223696655126052404  touch 2017-11-05 17:12:00          3 2017-11-05 17:08:00   \n",
       "9223707061355654945  touch 2017-11-01 00:40:00          9 2017-10-31 22:36:00   \n",
       "\n",
       "                    session_date  session_week  session_month  session_year  \\\n",
       "uid                                                                           \n",
       "9223535092787691177   2017-11-14            46             11          2017   \n",
       "9223535092787691177   2017-11-14            46             11          2017   \n",
       "9223535092787691177   2017-11-14            46             11          2017   \n",
       "9223696655126052404   2017-11-05            44             11          2017   \n",
       "9223707061355654945   2017-10-31            44             10          2017   \n",
       "\n",
       "                     session_duration          start_date  \n",
       "uid                                                        \n",
       "9223535092787691177              1140 2017-11-14 08:54:00  \n",
       "9223535092787691177              1680 2017-11-14 08:54:00  \n",
       "9223535092787691177              2040 2017-11-14 08:54:00  \n",
       "9223696655126052404               240 2017-11-05 17:08:00  \n",
       "9223707061355654945              7440 2017-10-31 22:36:00  "
      ]
     },
     "execution_count": 72,
     "metadata": {},
     "output_type": "execute_result"
    }
   ],
   "source": [
    "df_all.head()"
   ]
  },
  {
   "cell_type": "code",
   "execution_count": 73,
   "metadata": {},
   "outputs": [],
   "source": [
    "# Оставим только те строки, в которых дата начала: 'start_ts'=='start_date'\n",
    "# выделим столбцы с датой привлечения: 'start_date'\n",
    "# устройством 'device'\n",
    "# рекламным источником 'source_id'\n",
    "df_all = df_all.query('start_ts==start_date')[['start_date', 'source_id', 'device']]"
   ]
  },
  {
   "cell_type": "code",
   "execution_count": 74,
   "metadata": {},
   "outputs": [
    {
     "data": {
      "text/html": [
       "<div>\n",
       "<style scoped>\n",
       "    .dataframe tbody tr th:only-of-type {\n",
       "        vertical-align: middle;\n",
       "    }\n",
       "\n",
       "    .dataframe tbody tr th {\n",
       "        vertical-align: top;\n",
       "    }\n",
       "\n",
       "    .dataframe thead th {\n",
       "        text-align: right;\n",
       "    }\n",
       "</style>\n",
       "<table border=\"1\" class=\"dataframe\">\n",
       "  <thead>\n",
       "    <tr style=\"text-align: right;\">\n",
       "      <th></th>\n",
       "      <th>start_date</th>\n",
       "      <th>source_id</th>\n",
       "      <th>device</th>\n",
       "    </tr>\n",
       "    <tr>\n",
       "      <th>uid</th>\n",
       "      <th></th>\n",
       "      <th></th>\n",
       "      <th></th>\n",
       "    </tr>\n",
       "  </thead>\n",
       "  <tbody>\n",
       "    <tr>\n",
       "      <td>9223535092787691177</td>\n",
       "      <td>2017-11-14 08:54:00</td>\n",
       "      <td>1</td>\n",
       "      <td>touch</td>\n",
       "    </tr>\n",
       "    <tr>\n",
       "      <td>9223696655126052404</td>\n",
       "      <td>2017-11-05 17:08:00</td>\n",
       "      <td>3</td>\n",
       "      <td>touch</td>\n",
       "    </tr>\n",
       "    <tr>\n",
       "      <td>9223707061355654945</td>\n",
       "      <td>2017-10-31 22:36:00</td>\n",
       "      <td>9</td>\n",
       "      <td>touch</td>\n",
       "    </tr>\n",
       "    <tr>\n",
       "      <td>9223717650969886679</td>\n",
       "      <td>2017-11-04 14:02:00</td>\n",
       "      <td>4</td>\n",
       "      <td>desktop</td>\n",
       "    </tr>\n",
       "    <tr>\n",
       "      <td>9223728001958725072</td>\n",
       "      <td>2017-10-18 15:28:00</td>\n",
       "      <td>4</td>\n",
       "      <td>desktop</td>\n",
       "    </tr>\n",
       "  </tbody>\n",
       "</table>\n",
       "</div>"
      ],
      "text/plain": [
       "                             start_date  source_id   device\n",
       "uid                                                        \n",
       "9223535092787691177 2017-11-14 08:54:00          1    touch\n",
       "9223696655126052404 2017-11-05 17:08:00          3    touch\n",
       "9223707061355654945 2017-10-31 22:36:00          9    touch\n",
       "9223717650969886679 2017-11-04 14:02:00          4  desktop\n",
       "9223728001958725072 2017-10-18 15:28:00          4  desktop"
      ]
     },
     "execution_count": 74,
     "metadata": {},
     "output_type": "execute_result"
    }
   ],
   "source": [
    "df_all.head()"
   ]
  },
  {
   "cell_type": "code",
   "execution_count": 75,
   "metadata": {},
   "outputs": [],
   "source": [
    "# выделим месяц начала\n",
    "df_all['start_month'] = df_all['start_date'].astype('datetime64[M]')\n",
    "df_all['dt'] = df_all['start_date'].dt.date\n",
    "df_all['dt'] = pd.to_datetime(df_all['dt'])"
   ]
  },
  {
   "cell_type": "code",
   "execution_count": 76,
   "metadata": {},
   "outputs": [
    {
     "data": {
      "text/html": [
       "<div>\n",
       "<style scoped>\n",
       "    .dataframe tbody tr th:only-of-type {\n",
       "        vertical-align: middle;\n",
       "    }\n",
       "\n",
       "    .dataframe tbody tr th {\n",
       "        vertical-align: top;\n",
       "    }\n",
       "\n",
       "    .dataframe thead th {\n",
       "        text-align: right;\n",
       "    }\n",
       "</style>\n",
       "<table border=\"1\" class=\"dataframe\">\n",
       "  <thead>\n",
       "    <tr style=\"text-align: right;\">\n",
       "      <th></th>\n",
       "      <th>source_id</th>\n",
       "      <th>dt</th>\n",
       "      <th>costs</th>\n",
       "    </tr>\n",
       "  </thead>\n",
       "  <tbody>\n",
       "    <tr>\n",
       "      <td>0</td>\n",
       "      <td>1</td>\n",
       "      <td>2017-06-01</td>\n",
       "      <td>75.2</td>\n",
       "    </tr>\n",
       "  </tbody>\n",
       "</table>\n",
       "</div>"
      ],
      "text/plain": [
       "   source_id         dt  costs\n",
       "0          1 2017-06-01   75.2"
      ]
     },
     "execution_count": 76,
     "metadata": {},
     "output_type": "execute_result"
    }
   ],
   "source": [
    "costs.head(1)"
   ]
  },
  {
   "cell_type": "code",
   "execution_count": 77,
   "metadata": {},
   "outputs": [],
   "source": [
    "# переименуем 'start_month' в 'dt' также как в датафрейме 'costs',\n",
    "# чтобы затем объединить по 'source_id' и 'dt'\n",
    "#df_all = df_all.rename(columns={'start_month':'dt'})"
   ]
  },
  {
   "cell_type": "code",
   "execution_count": 78,
   "metadata": {},
   "outputs": [
    {
     "data": {
      "text/html": [
       "<div>\n",
       "<style scoped>\n",
       "    .dataframe tbody tr th:only-of-type {\n",
       "        vertical-align: middle;\n",
       "    }\n",
       "\n",
       "    .dataframe tbody tr th {\n",
       "        vertical-align: top;\n",
       "    }\n",
       "\n",
       "    .dataframe thead th {\n",
       "        text-align: right;\n",
       "    }\n",
       "</style>\n",
       "<table border=\"1\" class=\"dataframe\">\n",
       "  <thead>\n",
       "    <tr style=\"text-align: right;\">\n",
       "      <th></th>\n",
       "      <th>start_date</th>\n",
       "      <th>source_id</th>\n",
       "      <th>device</th>\n",
       "      <th>start_month</th>\n",
       "      <th>dt</th>\n",
       "    </tr>\n",
       "    <tr>\n",
       "      <th>uid</th>\n",
       "      <th></th>\n",
       "      <th></th>\n",
       "      <th></th>\n",
       "      <th></th>\n",
       "      <th></th>\n",
       "    </tr>\n",
       "  </thead>\n",
       "  <tbody>\n",
       "    <tr>\n",
       "      <td>9223535092787691177</td>\n",
       "      <td>2017-11-14 08:54:00</td>\n",
       "      <td>1</td>\n",
       "      <td>touch</td>\n",
       "      <td>2017-11-01</td>\n",
       "      <td>2017-11-14</td>\n",
       "    </tr>\n",
       "    <tr>\n",
       "      <td>9223696655126052404</td>\n",
       "      <td>2017-11-05 17:08:00</td>\n",
       "      <td>3</td>\n",
       "      <td>touch</td>\n",
       "      <td>2017-11-01</td>\n",
       "      <td>2017-11-05</td>\n",
       "    </tr>\n",
       "    <tr>\n",
       "      <td>9223707061355654945</td>\n",
       "      <td>2017-10-31 22:36:00</td>\n",
       "      <td>9</td>\n",
       "      <td>touch</td>\n",
       "      <td>2017-10-01</td>\n",
       "      <td>2017-10-31</td>\n",
       "    </tr>\n",
       "    <tr>\n",
       "      <td>9223717650969886679</td>\n",
       "      <td>2017-11-04 14:02:00</td>\n",
       "      <td>4</td>\n",
       "      <td>desktop</td>\n",
       "      <td>2017-11-01</td>\n",
       "      <td>2017-11-04</td>\n",
       "    </tr>\n",
       "    <tr>\n",
       "      <td>9223728001958725072</td>\n",
       "      <td>2017-10-18 15:28:00</td>\n",
       "      <td>4</td>\n",
       "      <td>desktop</td>\n",
       "      <td>2017-10-01</td>\n",
       "      <td>2017-10-18</td>\n",
       "    </tr>\n",
       "  </tbody>\n",
       "</table>\n",
       "</div>"
      ],
      "text/plain": [
       "                             start_date  source_id   device start_month  \\\n",
       "uid                                                                       \n",
       "9223535092787691177 2017-11-14 08:54:00          1    touch  2017-11-01   \n",
       "9223696655126052404 2017-11-05 17:08:00          3    touch  2017-11-01   \n",
       "9223707061355654945 2017-10-31 22:36:00          9    touch  2017-10-01   \n",
       "9223717650969886679 2017-11-04 14:02:00          4  desktop  2017-11-01   \n",
       "9223728001958725072 2017-10-18 15:28:00          4  desktop  2017-10-01   \n",
       "\n",
       "                            dt  \n",
       "uid                             \n",
       "9223535092787691177 2017-11-14  \n",
       "9223696655126052404 2017-11-05  \n",
       "9223707061355654945 2017-10-31  \n",
       "9223717650969886679 2017-11-04  \n",
       "9223728001958725072 2017-10-18  "
      ]
     },
     "execution_count": 78,
     "metadata": {},
     "output_type": "execute_result"
    }
   ],
   "source": [
    "df_all.head()"
   ]
  },
  {
   "cell_type": "code",
   "execution_count": 79,
   "metadata": {},
   "outputs": [],
   "source": [
    "# изменим индексы в 'df_all' и 'costs'\n",
    "df_all = (df_all\n",
    "          .reset_index()\n",
    "          .set_index(['source_id','dt']))\n",
    "\n",
    "costs_new = costs.set_index(['source_id','dt'])"
   ]
  },
  {
   "cell_type": "code",
   "execution_count": 80,
   "metadata": {},
   "outputs": [
    {
     "data": {
      "text/html": [
       "<div>\n",
       "<style scoped>\n",
       "    .dataframe tbody tr th:only-of-type {\n",
       "        vertical-align: middle;\n",
       "    }\n",
       "\n",
       "    .dataframe tbody tr th {\n",
       "        vertical-align: top;\n",
       "    }\n",
       "\n",
       "    .dataframe thead th {\n",
       "        text-align: right;\n",
       "    }\n",
       "</style>\n",
       "<table border=\"1\" class=\"dataframe\">\n",
       "  <thead>\n",
       "    <tr style=\"text-align: right;\">\n",
       "      <th></th>\n",
       "      <th></th>\n",
       "      <th>uid</th>\n",
       "      <th>start_date</th>\n",
       "      <th>device</th>\n",
       "      <th>start_month</th>\n",
       "    </tr>\n",
       "    <tr>\n",
       "      <th>source_id</th>\n",
       "      <th>dt</th>\n",
       "      <th></th>\n",
       "      <th></th>\n",
       "      <th></th>\n",
       "      <th></th>\n",
       "    </tr>\n",
       "  </thead>\n",
       "  <tbody>\n",
       "    <tr>\n",
       "      <td>1</td>\n",
       "      <td>2017-11-14</td>\n",
       "      <td>9223535092787691177</td>\n",
       "      <td>2017-11-14 08:54:00</td>\n",
       "      <td>touch</td>\n",
       "      <td>2017-11-01</td>\n",
       "    </tr>\n",
       "    <tr>\n",
       "      <td>3</td>\n",
       "      <td>2017-11-05</td>\n",
       "      <td>9223696655126052404</td>\n",
       "      <td>2017-11-05 17:08:00</td>\n",
       "      <td>touch</td>\n",
       "      <td>2017-11-01</td>\n",
       "    </tr>\n",
       "    <tr>\n",
       "      <td>9</td>\n",
       "      <td>2017-10-31</td>\n",
       "      <td>9223707061355654945</td>\n",
       "      <td>2017-10-31 22:36:00</td>\n",
       "      <td>touch</td>\n",
       "      <td>2017-10-01</td>\n",
       "    </tr>\n",
       "    <tr>\n",
       "      <td rowspan=\"2\" valign=\"top\">4</td>\n",
       "      <td>2017-11-04</td>\n",
       "      <td>9223717650969886679</td>\n",
       "      <td>2017-11-04 14:02:00</td>\n",
       "      <td>desktop</td>\n",
       "      <td>2017-11-01</td>\n",
       "    </tr>\n",
       "    <tr>\n",
       "      <td>2017-10-18</td>\n",
       "      <td>9223728001958725072</td>\n",
       "      <td>2017-10-18 15:28:00</td>\n",
       "      <td>desktop</td>\n",
       "      <td>2017-10-01</td>\n",
       "    </tr>\n",
       "  </tbody>\n",
       "</table>\n",
       "</div>"
      ],
      "text/plain": [
       "                                      uid          start_date   device  \\\n",
       "source_id dt                                                             \n",
       "1         2017-11-14  9223535092787691177 2017-11-14 08:54:00    touch   \n",
       "3         2017-11-05  9223696655126052404 2017-11-05 17:08:00    touch   \n",
       "9         2017-10-31  9223707061355654945 2017-10-31 22:36:00    touch   \n",
       "4         2017-11-04  9223717650969886679 2017-11-04 14:02:00  desktop   \n",
       "          2017-10-18  9223728001958725072 2017-10-18 15:28:00  desktop   \n",
       "\n",
       "                     start_month  \n",
       "source_id dt                      \n",
       "1         2017-11-14  2017-11-01  \n",
       "3         2017-11-05  2017-11-01  \n",
       "9         2017-10-31  2017-10-01  \n",
       "4         2017-11-04  2017-11-01  \n",
       "          2017-10-18  2017-10-01  "
      ]
     },
     "execution_count": 80,
     "metadata": {},
     "output_type": "execute_result"
    }
   ],
   "source": [
    "df_all.head()"
   ]
  },
  {
   "cell_type": "code",
   "execution_count": 81,
   "metadata": {},
   "outputs": [
    {
     "data": {
      "text/html": [
       "<div>\n",
       "<style scoped>\n",
       "    .dataframe tbody tr th:only-of-type {\n",
       "        vertical-align: middle;\n",
       "    }\n",
       "\n",
       "    .dataframe tbody tr th {\n",
       "        vertical-align: top;\n",
       "    }\n",
       "\n",
       "    .dataframe thead th {\n",
       "        text-align: right;\n",
       "    }\n",
       "</style>\n",
       "<table border=\"1\" class=\"dataframe\">\n",
       "  <thead>\n",
       "    <tr style=\"text-align: right;\">\n",
       "      <th></th>\n",
       "      <th></th>\n",
       "      <th>costs</th>\n",
       "    </tr>\n",
       "    <tr>\n",
       "      <th>source_id</th>\n",
       "      <th>dt</th>\n",
       "      <th></th>\n",
       "    </tr>\n",
       "  </thead>\n",
       "  <tbody>\n",
       "    <tr>\n",
       "      <td rowspan=\"5\" valign=\"top\">1</td>\n",
       "      <td>2017-06-01</td>\n",
       "      <td>75.20</td>\n",
       "    </tr>\n",
       "    <tr>\n",
       "      <td>2017-06-02</td>\n",
       "      <td>62.25</td>\n",
       "    </tr>\n",
       "    <tr>\n",
       "      <td>2017-06-03</td>\n",
       "      <td>36.53</td>\n",
       "    </tr>\n",
       "    <tr>\n",
       "      <td>2017-06-04</td>\n",
       "      <td>55.00</td>\n",
       "    </tr>\n",
       "    <tr>\n",
       "      <td>2017-06-05</td>\n",
       "      <td>57.08</td>\n",
       "    </tr>\n",
       "  </tbody>\n",
       "</table>\n",
       "</div>"
      ],
      "text/plain": [
       "                      costs\n",
       "source_id dt               \n",
       "1         2017-06-01  75.20\n",
       "          2017-06-02  62.25\n",
       "          2017-06-03  36.53\n",
       "          2017-06-04  55.00\n",
       "          2017-06-05  57.08"
      ]
     },
     "execution_count": 81,
     "metadata": {},
     "output_type": "execute_result"
    }
   ],
   "source": [
    "costs_new.head()"
   ]
  },
  {
   "cell_type": "code",
   "execution_count": 82,
   "metadata": {},
   "outputs": [],
   "source": [
    "df_all = df_all.join(costs_new, how='left')\n",
    "#df_all_left = df_all.join(costs_new, how='left')"
   ]
  },
  {
   "cell_type": "code",
   "execution_count": 83,
   "metadata": {},
   "outputs": [
    {
     "data": {
      "text/html": [
       "<div>\n",
       "<style scoped>\n",
       "    .dataframe tbody tr th:only-of-type {\n",
       "        vertical-align: middle;\n",
       "    }\n",
       "\n",
       "    .dataframe tbody tr th {\n",
       "        vertical-align: top;\n",
       "    }\n",
       "\n",
       "    .dataframe thead th {\n",
       "        text-align: right;\n",
       "    }\n",
       "</style>\n",
       "<table border=\"1\" class=\"dataframe\">\n",
       "  <thead>\n",
       "    <tr style=\"text-align: right;\">\n",
       "      <th></th>\n",
       "      <th></th>\n",
       "      <th>uid</th>\n",
       "      <th>start_date</th>\n",
       "      <th>device</th>\n",
       "      <th>start_month</th>\n",
       "      <th>costs</th>\n",
       "    </tr>\n",
       "    <tr>\n",
       "      <th>source_id</th>\n",
       "      <th>dt</th>\n",
       "      <th></th>\n",
       "      <th></th>\n",
       "      <th></th>\n",
       "      <th></th>\n",
       "      <th></th>\n",
       "    </tr>\n",
       "  </thead>\n",
       "  <tbody>\n",
       "    <tr>\n",
       "      <td rowspan=\"5\" valign=\"top\">1</td>\n",
       "      <td>2017-06-01</td>\n",
       "      <td>9714640286797951674</td>\n",
       "      <td>2017-06-01 21:45:00</td>\n",
       "      <td>desktop</td>\n",
       "      <td>2017-06-01</td>\n",
       "      <td>75.2</td>\n",
       "    </tr>\n",
       "    <tr>\n",
       "      <td>2017-06-01</td>\n",
       "      <td>9909415513333099415</td>\n",
       "      <td>2017-06-01 13:24:00</td>\n",
       "      <td>touch</td>\n",
       "      <td>2017-06-01</td>\n",
       "      <td>75.2</td>\n",
       "    </tr>\n",
       "    <tr>\n",
       "      <td>2017-06-01</td>\n",
       "      <td>10329302124590727494</td>\n",
       "      <td>2017-06-01 00:09:00</td>\n",
       "      <td>desktop</td>\n",
       "      <td>2017-06-01</td>\n",
       "      <td>75.2</td>\n",
       "    </tr>\n",
       "    <tr>\n",
       "      <td>2017-06-01</td>\n",
       "      <td>10349500346348845391</td>\n",
       "      <td>2017-06-01 19:55:00</td>\n",
       "      <td>desktop</td>\n",
       "      <td>2017-06-01</td>\n",
       "      <td>75.2</td>\n",
       "    </tr>\n",
       "    <tr>\n",
       "      <td>2017-06-01</td>\n",
       "      <td>10534330097262531592</td>\n",
       "      <td>2017-06-01 22:55:00</td>\n",
       "      <td>desktop</td>\n",
       "      <td>2017-06-01</td>\n",
       "      <td>75.2</td>\n",
       "    </tr>\n",
       "  </tbody>\n",
       "</table>\n",
       "</div>"
      ],
      "text/plain": [
       "                                       uid          start_date   device  \\\n",
       "source_id dt                                                              \n",
       "1         2017-06-01   9714640286797951674 2017-06-01 21:45:00  desktop   \n",
       "          2017-06-01   9909415513333099415 2017-06-01 13:24:00    touch   \n",
       "          2017-06-01  10329302124590727494 2017-06-01 00:09:00  desktop   \n",
       "          2017-06-01  10349500346348845391 2017-06-01 19:55:00  desktop   \n",
       "          2017-06-01  10534330097262531592 2017-06-01 22:55:00  desktop   \n",
       "\n",
       "                     start_month  costs  \n",
       "source_id dt                             \n",
       "1         2017-06-01  2017-06-01   75.2  \n",
       "          2017-06-01  2017-06-01   75.2  \n",
       "          2017-06-01  2017-06-01   75.2  \n",
       "          2017-06-01  2017-06-01   75.2  \n",
       "          2017-06-01  2017-06-01   75.2  "
      ]
     },
     "execution_count": 83,
     "metadata": {},
     "output_type": "execute_result"
    }
   ],
   "source": [
    "df_all.head()"
   ]
  },
  {
   "cell_type": "code",
   "execution_count": 84,
   "metadata": {},
   "outputs": [],
   "source": [
    "df_all_temp = (df_all\n",
    "               .reset_index()\n",
    "               .groupby(['source_id', 'dt'])\n",
    "               .agg({'device':'count','costs':'max'})\n",
    "              )"
   ]
  },
  {
   "cell_type": "code",
   "execution_count": 85,
   "metadata": {},
   "outputs": [],
   "source": [
    "df_all_temp.reset_index()\n",
    "df_all_temp = df_all_temp.rename(columns={'device':'user_count'})\n",
    "# считаем САС (customer acquisition cost - стоимость привлечения клиента)\n",
    "df_all_temp['cac'] = df_all_temp['costs'] / df_all_temp['user_count']"
   ]
  },
  {
   "cell_type": "code",
   "execution_count": 86,
   "metadata": {},
   "outputs": [
    {
     "data": {
      "text/html": [
       "<div>\n",
       "<style scoped>\n",
       "    .dataframe tbody tr th:only-of-type {\n",
       "        vertical-align: middle;\n",
       "    }\n",
       "\n",
       "    .dataframe tbody tr th {\n",
       "        vertical-align: top;\n",
       "    }\n",
       "\n",
       "    .dataframe thead th {\n",
       "        text-align: right;\n",
       "    }\n",
       "</style>\n",
       "<table border=\"1\" class=\"dataframe\">\n",
       "  <thead>\n",
       "    <tr style=\"text-align: right;\">\n",
       "      <th></th>\n",
       "      <th></th>\n",
       "      <th>user_count</th>\n",
       "      <th>costs</th>\n",
       "      <th>cac</th>\n",
       "    </tr>\n",
       "    <tr>\n",
       "      <th>source_id</th>\n",
       "      <th>dt</th>\n",
       "      <th></th>\n",
       "      <th></th>\n",
       "      <th></th>\n",
       "    </tr>\n",
       "  </thead>\n",
       "  <tbody>\n",
       "    <tr>\n",
       "      <td rowspan=\"5\" valign=\"top\">1</td>\n",
       "      <td>2017-06-01</td>\n",
       "      <td>45</td>\n",
       "      <td>75.20</td>\n",
       "      <td>1.671111</td>\n",
       "    </tr>\n",
       "    <tr>\n",
       "      <td>2017-06-02</td>\n",
       "      <td>28</td>\n",
       "      <td>62.25</td>\n",
       "      <td>2.223214</td>\n",
       "    </tr>\n",
       "    <tr>\n",
       "      <td>2017-06-03</td>\n",
       "      <td>22</td>\n",
       "      <td>36.53</td>\n",
       "      <td>1.660455</td>\n",
       "    </tr>\n",
       "    <tr>\n",
       "      <td>2017-06-04</td>\n",
       "      <td>22</td>\n",
       "      <td>55.00</td>\n",
       "      <td>2.500000</td>\n",
       "    </tr>\n",
       "    <tr>\n",
       "      <td>2017-06-05</td>\n",
       "      <td>36</td>\n",
       "      <td>57.08</td>\n",
       "      <td>1.585556</td>\n",
       "    </tr>\n",
       "  </tbody>\n",
       "</table>\n",
       "</div>"
      ],
      "text/plain": [
       "                      user_count  costs       cac\n",
       "source_id dt                                     \n",
       "1         2017-06-01          45  75.20  1.671111\n",
       "          2017-06-02          28  62.25  2.223214\n",
       "          2017-06-03          22  36.53  1.660455\n",
       "          2017-06-04          22  55.00  2.500000\n",
       "          2017-06-05          36  57.08  1.585556"
      ]
     },
     "execution_count": 86,
     "metadata": {},
     "output_type": "execute_result"
    }
   ],
   "source": [
    "df_all_temp.head()"
   ]
  },
  {
   "cell_type": "code",
   "execution_count": 87,
   "metadata": {},
   "outputs": [],
   "source": [
    "df_all = (df_all\n",
    "          .join(df_all_temp[['user_count', 'cac']], how='left')\n",
    "          .reset_index()\n",
    "         )"
   ]
  },
  {
   "cell_type": "code",
   "execution_count": 88,
   "metadata": {},
   "outputs": [
    {
     "data": {
      "text/html": [
       "<div>\n",
       "<style scoped>\n",
       "    .dataframe tbody tr th:only-of-type {\n",
       "        vertical-align: middle;\n",
       "    }\n",
       "\n",
       "    .dataframe tbody tr th {\n",
       "        vertical-align: top;\n",
       "    }\n",
       "\n",
       "    .dataframe thead th {\n",
       "        text-align: right;\n",
       "    }\n",
       "</style>\n",
       "<table border=\"1\" class=\"dataframe\">\n",
       "  <thead>\n",
       "    <tr style=\"text-align: right;\">\n",
       "      <th></th>\n",
       "      <th>source_id</th>\n",
       "      <th>dt</th>\n",
       "      <th>uid</th>\n",
       "      <th>start_date</th>\n",
       "      <th>device</th>\n",
       "      <th>start_month</th>\n",
       "      <th>costs</th>\n",
       "      <th>user_count</th>\n",
       "      <th>cac</th>\n",
       "    </tr>\n",
       "  </thead>\n",
       "  <tbody>\n",
       "    <tr>\n",
       "      <td>0</td>\n",
       "      <td>1</td>\n",
       "      <td>2017-06-01</td>\n",
       "      <td>9714640286797951674</td>\n",
       "      <td>2017-06-01 21:45:00</td>\n",
       "      <td>desktop</td>\n",
       "      <td>2017-06-01</td>\n",
       "      <td>75.2</td>\n",
       "      <td>45</td>\n",
       "      <td>1.671111</td>\n",
       "    </tr>\n",
       "    <tr>\n",
       "      <td>1</td>\n",
       "      <td>1</td>\n",
       "      <td>2017-06-01</td>\n",
       "      <td>9909415513333099415</td>\n",
       "      <td>2017-06-01 13:24:00</td>\n",
       "      <td>touch</td>\n",
       "      <td>2017-06-01</td>\n",
       "      <td>75.2</td>\n",
       "      <td>45</td>\n",
       "      <td>1.671111</td>\n",
       "    </tr>\n",
       "    <tr>\n",
       "      <td>2</td>\n",
       "      <td>1</td>\n",
       "      <td>2017-06-01</td>\n",
       "      <td>10329302124590727494</td>\n",
       "      <td>2017-06-01 00:09:00</td>\n",
       "      <td>desktop</td>\n",
       "      <td>2017-06-01</td>\n",
       "      <td>75.2</td>\n",
       "      <td>45</td>\n",
       "      <td>1.671111</td>\n",
       "    </tr>\n",
       "    <tr>\n",
       "      <td>3</td>\n",
       "      <td>1</td>\n",
       "      <td>2017-06-01</td>\n",
       "      <td>10349500346348845391</td>\n",
       "      <td>2017-06-01 19:55:00</td>\n",
       "      <td>desktop</td>\n",
       "      <td>2017-06-01</td>\n",
       "      <td>75.2</td>\n",
       "      <td>45</td>\n",
       "      <td>1.671111</td>\n",
       "    </tr>\n",
       "    <tr>\n",
       "      <td>4</td>\n",
       "      <td>1</td>\n",
       "      <td>2017-06-01</td>\n",
       "      <td>10534330097262531592</td>\n",
       "      <td>2017-06-01 22:55:00</td>\n",
       "      <td>desktop</td>\n",
       "      <td>2017-06-01</td>\n",
       "      <td>75.2</td>\n",
       "      <td>45</td>\n",
       "      <td>1.671111</td>\n",
       "    </tr>\n",
       "  </tbody>\n",
       "</table>\n",
       "</div>"
      ],
      "text/plain": [
       "   source_id         dt                   uid          start_date   device  \\\n",
       "0          1 2017-06-01   9714640286797951674 2017-06-01 21:45:00  desktop   \n",
       "1          1 2017-06-01   9909415513333099415 2017-06-01 13:24:00    touch   \n",
       "2          1 2017-06-01  10329302124590727494 2017-06-01 00:09:00  desktop   \n",
       "3          1 2017-06-01  10349500346348845391 2017-06-01 19:55:00  desktop   \n",
       "4          1 2017-06-01  10534330097262531592 2017-06-01 22:55:00  desktop   \n",
       "\n",
       "  start_month  costs  user_count       cac  \n",
       "0  2017-06-01   75.2          45  1.671111  \n",
       "1  2017-06-01   75.2          45  1.671111  \n",
       "2  2017-06-01   75.2          45  1.671111  \n",
       "3  2017-06-01   75.2          45  1.671111  \n",
       "4  2017-06-01   75.2          45  1.671111  "
      ]
     },
     "execution_count": 88,
     "metadata": {},
     "output_type": "execute_result"
    }
   ],
   "source": [
    "df_all.head()"
   ]
  },
  {
   "cell_type": "code",
   "execution_count": 89,
   "metadata": {},
   "outputs": [
    {
     "data": {
      "image/png": "[encoded data removed]",
      "text/plain": [
       "<Figure size 432x288 with 1 Axes>"
      ]
     },
     "metadata": {},
     "output_type": "display_data"
    }
   ],
   "source": [
    "# посмотрим как изменяется стоимость привлечения пользователя по месяцам\n",
    "cac_cohorts = (df_all\n",
    "               .groupby(['start_month']).agg({'uid':'count','cac':'sum'})\n",
    "               .rename(columns={'uid':'cohort_size'})\n",
    "              )\n",
    "cac_cohorts['cac_new'] = cac_cohorts['cac']/cac_cohorts['cohort_size']\n",
    "ax=cac_cohorts[['cac_new']].plot()\n",
    "ax.set(title='CAC по месяцам');"
   ]
  },
  {
   "cell_type": "code",
   "execution_count": 90,
   "metadata": {},
   "outputs": [
    {
     "data": {
      "text/html": [
       "<div>\n",
       "<style scoped>\n",
       "    .dataframe tbody tr th:only-of-type {\n",
       "        vertical-align: middle;\n",
       "    }\n",
       "\n",
       "    .dataframe tbody tr th {\n",
       "        vertical-align: top;\n",
       "    }\n",
       "\n",
       "    .dataframe thead th {\n",
       "        text-align: right;\n",
       "    }\n",
       "</style>\n",
       "<table border=\"1\" class=\"dataframe\">\n",
       "  <thead>\n",
       "    <tr style=\"text-align: right;\">\n",
       "      <th></th>\n",
       "      <th>buy_ts</th>\n",
       "      <th>revenue</th>\n",
       "      <th>uid</th>\n",
       "      <th>first_order</th>\n",
       "      <th>first_order_month</th>\n",
       "      <th>order_month</th>\n",
       "    </tr>\n",
       "  </thead>\n",
       "  <tbody>\n",
       "    <tr>\n",
       "      <td>0</td>\n",
       "      <td>2017-06-01 00:10:00</td>\n",
       "      <td>17.00</td>\n",
       "      <td>10329302124590727494</td>\n",
       "      <td>2017-06-01 00:10:00</td>\n",
       "      <td>2017-06-01</td>\n",
       "      <td>2017-06-01</td>\n",
       "    </tr>\n",
       "    <tr>\n",
       "      <td>1</td>\n",
       "      <td>2017-06-01 00:25:00</td>\n",
       "      <td>0.55</td>\n",
       "      <td>11627257723692907447</td>\n",
       "      <td>2017-06-01 00:25:00</td>\n",
       "      <td>2017-06-01</td>\n",
       "      <td>2017-06-01</td>\n",
       "    </tr>\n",
       "    <tr>\n",
       "      <td>2</td>\n",
       "      <td>2017-06-01 00:27:00</td>\n",
       "      <td>0.37</td>\n",
       "      <td>17903680561304213844</td>\n",
       "      <td>2017-06-01 00:27:00</td>\n",
       "      <td>2017-06-01</td>\n",
       "      <td>2017-06-01</td>\n",
       "    </tr>\n",
       "  </tbody>\n",
       "</table>\n",
       "</div>"
      ],
      "text/plain": [
       "               buy_ts  revenue                   uid         first_order  \\\n",
       "0 2017-06-01 00:10:00    17.00  10329302124590727494 2017-06-01 00:10:00   \n",
       "1 2017-06-01 00:25:00     0.55  11627257723692907447 2017-06-01 00:25:00   \n",
       "2 2017-06-01 00:27:00     0.37  17903680561304213844 2017-06-01 00:27:00   \n",
       "\n",
       "  first_order_month order_month  \n",
       "0        2017-06-01  2017-06-01  \n",
       "1        2017-06-01  2017-06-01  \n",
       "2        2017-06-01  2017-06-01  "
      ]
     },
     "execution_count": 90,
     "metadata": {},
     "output_type": "execute_result"
    }
   ],
   "source": [
    "orders_new.head(3)"
   ]
  },
  {
   "cell_type": "code",
   "execution_count": 91,
   "metadata": {},
   "outputs": [],
   "source": [
    "orders_new = orders_new.set_index('uid')\n",
    "df_all = df_all.set_index('uid')"
   ]
  },
  {
   "cell_type": "code",
   "execution_count": 92,
   "metadata": {},
   "outputs": [
    {
     "data": {
      "text/html": [
       "<div>\n",
       "<style scoped>\n",
       "    .dataframe tbody tr th:only-of-type {\n",
       "        vertical-align: middle;\n",
       "    }\n",
       "\n",
       "    .dataframe tbody tr th {\n",
       "        vertical-align: top;\n",
       "    }\n",
       "\n",
       "    .dataframe thead th {\n",
       "        text-align: right;\n",
       "    }\n",
       "</style>\n",
       "<table border=\"1\" class=\"dataframe\">\n",
       "  <thead>\n",
       "    <tr style=\"text-align: right;\">\n",
       "      <th></th>\n",
       "      <th>start_month</th>\n",
       "      <th>first_order_month</th>\n",
       "      <th>revenue</th>\n",
       "    </tr>\n",
       "    <tr>\n",
       "      <th>uid</th>\n",
       "      <th></th>\n",
       "      <th></th>\n",
       "      <th></th>\n",
       "    </tr>\n",
       "  </thead>\n",
       "  <tbody>\n",
       "    <tr>\n",
       "      <td>9223707061355654945</td>\n",
       "      <td>2017-10-01</td>\n",
       "      <td>2017-10-01</td>\n",
       "      <td>4.64</td>\n",
       "    </tr>\n",
       "    <tr>\n",
       "      <td>9224005701666002943</td>\n",
       "      <td>2017-12-01</td>\n",
       "      <td>2017-12-01</td>\n",
       "      <td>3.36</td>\n",
       "    </tr>\n",
       "    <tr>\n",
       "      <td>9224005701666002943</td>\n",
       "      <td>2017-12-01</td>\n",
       "      <td>2017-12-01</td>\n",
       "      <td>3.67</td>\n",
       "    </tr>\n",
       "    <tr>\n",
       "      <td>9225406053864431006</td>\n",
       "      <td>2017-09-01</td>\n",
       "      <td>2017-12-01</td>\n",
       "      <td>0.43</td>\n",
       "    </tr>\n",
       "    <tr>\n",
       "      <td>9225479525411867039</td>\n",
       "      <td>2018-02-01</td>\n",
       "      <td>2018-02-01</td>\n",
       "      <td>7.33</td>\n",
       "    </tr>\n",
       "  </tbody>\n",
       "</table>\n",
       "</div>"
      ],
      "text/plain": [
       "                    start_month first_order_month  revenue\n",
       "uid                                                       \n",
       "9223707061355654945  2017-10-01        2017-10-01     4.64\n",
       "9224005701666002943  2017-12-01        2017-12-01     3.36\n",
       "9224005701666002943  2017-12-01        2017-12-01     3.67\n",
       "9225406053864431006  2017-09-01        2017-12-01     0.43\n",
       "9225479525411867039  2018-02-01        2018-02-01     7.33"
      ]
     },
     "execution_count": 92,
     "metadata": {},
     "output_type": "execute_result"
    }
   ],
   "source": [
    "df_ltv = orders_new.join(df_all, how='left')[['start_month', 'first_order_month', 'revenue']]\n",
    "\n",
    "df_ltv.head()\n"
   ]
  },
  {
   "cell_type": "code",
   "execution_count": 93,
   "metadata": {},
   "outputs": [],
   "source": [
    "df_ltv['lifetime'] = (df_ltv['first_order_month'] - df_ltv['start_month'])/np.timedelta64(1,'M')\n"
   ]
  },
  {
   "cell_type": "code",
   "execution_count": 94,
   "metadata": {},
   "outputs": [
    {
     "data": {
      "text/plain": [
       "50415"
      ]
     },
     "execution_count": 94,
     "metadata": {},
     "output_type": "execute_result"
    }
   ],
   "source": [
    "# изначальное количество строк\n",
    "df_ltv.shape[0]"
   ]
  },
  {
   "cell_type": "code",
   "execution_count": 95,
   "metadata": {},
   "outputs": [
    {
     "data": {
      "text/plain": [
       "9134"
      ]
     },
     "execution_count": 95,
     "metadata": {},
     "output_type": "execute_result"
    }
   ],
   "source": [
    "# срез, где все лайфтаймы строго больше нуля\n",
    "df_ltv.query('lifetime>0').shape[0]"
   ]
  },
  {
   "cell_type": "code",
   "execution_count": 96,
   "metadata": {},
   "outputs": [
    {
     "data": {
      "text/plain": [
       "40656"
      ]
     },
     "execution_count": 96,
     "metadata": {},
     "output_type": "execute_result"
    }
   ],
   "source": [
    "# срез, где все лайфтаймы равны нулю\n",
    "df_ltv.query('lifetime==0').shape[0]"
   ]
  },
  {
   "cell_type": "code",
   "execution_count": 97,
   "metadata": {},
   "outputs": [
    {
     "data": {
      "text/plain": [
       "148"
      ]
     },
     "execution_count": 97,
     "metadata": {},
     "output_type": "execute_result"
    }
   ],
   "source": [
    "# срез, где все лайфтаймы строго меньше нуля\n",
    "df_ltv.query('lifetime<0').shape[0]"
   ]
  },
  {
   "cell_type": "code",
   "execution_count": 98,
   "metadata": {},
   "outputs": [
    {
     "data": {
      "text/plain": [
       "49790"
      ]
     },
     "execution_count": 98,
     "metadata": {},
     "output_type": "execute_result"
    }
   ],
   "source": [
    "# оставляем \"нулевые\" лайфтаймы и те что больше нуля \n",
    "df_ltv = df_ltv.query('lifetime >= 0')\n",
    "df_ltv.shape[0]"
   ]
  },
  {
   "cell_type": "code",
   "execution_count": 99,
   "metadata": {},
   "outputs": [
    {
     "data": {
      "text/plain": [
       "start_month          0\n",
       "first_order_month    0\n",
       "revenue              0\n",
       "lifetime             0\n",
       "dtype: int64"
      ]
     },
     "execution_count": 99,
     "metadata": {},
     "output_type": "execute_result"
    }
   ],
   "source": [
    "df_ltv.isna().sum()"
   ]
  },
  {
   "cell_type": "code",
   "execution_count": 100,
   "metadata": {},
   "outputs": [],
   "source": [
    "df_ltv['lifetime'] = df_ltv['lifetime'].round().astype('int')"
   ]
  },
  {
   "cell_type": "code",
   "execution_count": 101,
   "metadata": {},
   "outputs": [],
   "source": [
    "df_ltv['start_month'] = df_ltv['start_month'].dt.strftime('%Y-%m')"
   ]
  },
  {
   "cell_type": "code",
   "execution_count": 102,
   "metadata": {},
   "outputs": [],
   "source": [
    "df_ltv = df_ltv.groupby(['start_month', 'lifetime']).agg({'revenue':'sum'})\n",
    "df_ltv_pivot = (df_ltv\n",
    "                .pivot_table(index='start_month', columns='lifetime',\n",
    "                            values='revenue', aggfunc='sum')\n",
    "               \n",
    "               )\n",
    "df_ltv_pivot = df_ltv_pivot.cumsum(axis=1)"
   ]
  },
  {
   "cell_type": "code",
   "execution_count": 103,
   "metadata": {},
   "outputs": [
    {
     "data": {
      "text/html": [
       "<div>\n",
       "<style scoped>\n",
       "    .dataframe tbody tr th:only-of-type {\n",
       "        vertical-align: middle;\n",
       "    }\n",
       "\n",
       "    .dataframe tbody tr th {\n",
       "        vertical-align: top;\n",
       "    }\n",
       "\n",
       "    .dataframe thead th {\n",
       "        text-align: right;\n",
       "    }\n",
       "</style>\n",
       "<table border=\"1\" class=\"dataframe\">\n",
       "  <thead>\n",
       "    <tr style=\"text-align: right;\">\n",
       "      <th>lifetime</th>\n",
       "      <th>0</th>\n",
       "      <th>1</th>\n",
       "      <th>2</th>\n",
       "      <th>3</th>\n",
       "      <th>4</th>\n",
       "      <th>5</th>\n",
       "      <th>6</th>\n",
       "      <th>7</th>\n",
       "      <th>8</th>\n",
       "      <th>9</th>\n",
       "      <th>10</th>\n",
       "      <th>11</th>\n",
       "    </tr>\n",
       "    <tr>\n",
       "      <th>start_month</th>\n",
       "      <th></th>\n",
       "      <th></th>\n",
       "      <th></th>\n",
       "      <th></th>\n",
       "      <th></th>\n",
       "      <th></th>\n",
       "      <th></th>\n",
       "      <th></th>\n",
       "      <th></th>\n",
       "      <th></th>\n",
       "      <th></th>\n",
       "      <th></th>\n",
       "    </tr>\n",
       "  </thead>\n",
       "  <tbody>\n",
       "    <tr>\n",
       "      <td>2017-06</td>\n",
       "      <td>23790.21</td>\n",
       "      <td>27887.64</td>\n",
       "      <td>28552</td>\n",
       "      <td>32758.3</td>\n",
       "      <td>33781.6</td>\n",
       "      <td>35832.1</td>\n",
       "      <td>36360.3</td>\n",
       "      <td>37416.8</td>\n",
       "      <td>37677.3</td>\n",
       "      <td>37921.9</td>\n",
       "      <td>38080.9</td>\n",
       "      <td>38274.2</td>\n",
       "    </tr>\n",
       "    <tr>\n",
       "      <td>2017-07</td>\n",
       "      <td>11880.27</td>\n",
       "      <td>13365.79</td>\n",
       "      <td>14654.6</td>\n",
       "      <td>15705.5</td>\n",
       "      <td>16307.6</td>\n",
       "      <td>16741.3</td>\n",
       "      <td>17091</td>\n",
       "      <td>17440.6</td>\n",
       "      <td>17739.8</td>\n",
       "      <td>17906.6</td>\n",
       "      <td>18020.3</td>\n",
       "      <td></td>\n",
       "    </tr>\n",
       "    <tr>\n",
       "      <td>2017-08</td>\n",
       "      <td>9366.67</td>\n",
       "      <td>10086.90</td>\n",
       "      <td>10568.3</td>\n",
       "      <td>11025.1</td>\n",
       "      <td>11292.8</td>\n",
       "      <td>11465</td>\n",
       "      <td>11641.8</td>\n",
       "      <td>12952.6</td>\n",
       "      <td>13076.6</td>\n",
       "      <td>13211.4</td>\n",
       "      <td></td>\n",
       "      <td></td>\n",
       "    </tr>\n",
       "    <tr>\n",
       "      <td>2017-09</td>\n",
       "      <td>28166.04</td>\n",
       "      <td>30438.00</td>\n",
       "      <td>31601.2</td>\n",
       "      <td>32074.3</td>\n",
       "      <td>32332.2</td>\n",
       "      <td>32645.2</td>\n",
       "      <td>32913</td>\n",
       "      <td>33082.5</td>\n",
       "      <td>33224.4</td>\n",
       "      <td></td>\n",
       "      <td></td>\n",
       "      <td></td>\n",
       "    </tr>\n",
       "    <tr>\n",
       "      <td>2017-10</td>\n",
       "      <td>22451.23</td>\n",
       "      <td>24747.33</td>\n",
       "      <td>25504.6</td>\n",
       "      <td>26048.4</td>\n",
       "      <td>26479.9</td>\n",
       "      <td>26884.5</td>\n",
       "      <td>27055.6</td>\n",
       "      <td>27228.9</td>\n",
       "      <td></td>\n",
       "      <td></td>\n",
       "      <td></td>\n",
       "      <td></td>\n",
       "    </tr>\n",
       "    <tr>\n",
       "      <td>2017-11</td>\n",
       "      <td>19354.17</td>\n",
       "      <td>21960.51</td>\n",
       "      <td>22568</td>\n",
       "      <td>23020.9</td>\n",
       "      <td>23596.1</td>\n",
       "      <td>24027.6</td>\n",
       "      <td>24315.7</td>\n",
       "      <td></td>\n",
       "      <td></td>\n",
       "      <td></td>\n",
       "      <td></td>\n",
       "      <td></td>\n",
       "    </tr>\n",
       "    <tr>\n",
       "      <td>2017-12</td>\n",
       "      <td>28105.29</td>\n",
       "      <td>29245.63</td>\n",
       "      <td>29778.5</td>\n",
       "      <td>30570.3</td>\n",
       "      <td>30789.3</td>\n",
       "      <td>31015.6</td>\n",
       "      <td></td>\n",
       "      <td></td>\n",
       "      <td></td>\n",
       "      <td></td>\n",
       "      <td></td>\n",
       "      <td></td>\n",
       "    </tr>\n",
       "    <tr>\n",
       "      <td>2018-01</td>\n",
       "      <td>12355.81</td>\n",
       "      <td>13421.28</td>\n",
       "      <td>13850.9</td>\n",
       "      <td>14001.3</td>\n",
       "      <td>14390.4</td>\n",
       "      <td></td>\n",
       "      <td></td>\n",
       "      <td></td>\n",
       "      <td></td>\n",
       "      <td></td>\n",
       "      <td></td>\n",
       "      <td></td>\n",
       "    </tr>\n",
       "    <tr>\n",
       "      <td>2018-02</td>\n",
       "      <td>12706.80</td>\n",
       "      <td>14185.91</td>\n",
       "      <td>14642.4</td>\n",
       "      <td>15368.6</td>\n",
       "      <td></td>\n",
       "      <td></td>\n",
       "      <td></td>\n",
       "      <td></td>\n",
       "      <td></td>\n",
       "      <td></td>\n",
       "      <td></td>\n",
       "      <td></td>\n",
       "    </tr>\n",
       "    <tr>\n",
       "      <td>2018-03</td>\n",
       "      <td>13146.67</td>\n",
       "      <td>13639.16</td>\n",
       "      <td>13834.5</td>\n",
       "      <td></td>\n",
       "      <td></td>\n",
       "      <td></td>\n",
       "      <td></td>\n",
       "      <td></td>\n",
       "      <td></td>\n",
       "      <td></td>\n",
       "      <td></td>\n",
       "      <td></td>\n",
       "    </tr>\n",
       "    <tr>\n",
       "      <td>2018-04</td>\n",
       "      <td>9161.82</td>\n",
       "      <td>9854.31</td>\n",
       "      <td></td>\n",
       "      <td></td>\n",
       "      <td></td>\n",
       "      <td></td>\n",
       "      <td></td>\n",
       "      <td></td>\n",
       "      <td></td>\n",
       "      <td></td>\n",
       "      <td></td>\n",
       "      <td></td>\n",
       "    </tr>\n",
       "    <tr>\n",
       "      <td>2018-05</td>\n",
       "      <td>10412.39</td>\n",
       "      <td>10415.81</td>\n",
       "      <td></td>\n",
       "      <td></td>\n",
       "      <td></td>\n",
       "      <td></td>\n",
       "      <td></td>\n",
       "      <td></td>\n",
       "      <td></td>\n",
       "      <td></td>\n",
       "      <td></td>\n",
       "      <td></td>\n",
       "    </tr>\n",
       "  </tbody>\n",
       "</table>\n",
       "</div>"
      ],
      "text/plain": [
       "lifetime           0         1        2        3        4        5        6   \\\n",
       "start_month                                                                    \n",
       "2017-06      23790.21  27887.64    28552  32758.3  33781.6  35832.1  36360.3   \n",
       "2017-07      11880.27  13365.79  14654.6  15705.5  16307.6  16741.3    17091   \n",
       "2017-08       9366.67  10086.90  10568.3  11025.1  11292.8    11465  11641.8   \n",
       "2017-09      28166.04  30438.00  31601.2  32074.3  32332.2  32645.2    32913   \n",
       "2017-10      22451.23  24747.33  25504.6  26048.4  26479.9  26884.5  27055.6   \n",
       "2017-11      19354.17  21960.51    22568  23020.9  23596.1  24027.6  24315.7   \n",
       "2017-12      28105.29  29245.63  29778.5  30570.3  30789.3  31015.6            \n",
       "2018-01      12355.81  13421.28  13850.9  14001.3  14390.4                     \n",
       "2018-02      12706.80  14185.91  14642.4  15368.6                              \n",
       "2018-03      13146.67  13639.16  13834.5                                       \n",
       "2018-04       9161.82   9854.31                                                \n",
       "2018-05      10412.39  10415.81                                                \n",
       "\n",
       "lifetime          7        8        9        10       11  \n",
       "start_month                                               \n",
       "2017-06      37416.8  37677.3  37921.9  38080.9  38274.2  \n",
       "2017-07      17440.6  17739.8  17906.6  18020.3           \n",
       "2017-08      12952.6  13076.6  13211.4                    \n",
       "2017-09      33082.5  33224.4                             \n",
       "2017-10      27228.9                                      \n",
       "2017-11                                                   \n",
       "2017-12                                                   \n",
       "2018-01                                                   \n",
       "2018-02                                                   \n",
       "2018-03                                                   \n",
       "2018-04                                                   \n",
       "2018-05                                                   "
      ]
     },
     "execution_count": 103,
     "metadata": {},
     "output_type": "execute_result"
    }
   ],
   "source": [
    "df_ltv_pivot.fillna('')"
   ]
  },
  {
   "cell_type": "markdown",
   "metadata": {},
   "source": [
    "**Тепловая карта LTV**\n",
    "<a id='ltv_calculations_heatmap'></a>"
   ]
  },
  {
   "cell_type": "code",
   "execution_count": 104,
   "metadata": {},
   "outputs": [
    {
     "data": {
      "image/png": "[encoded data removed]",
      "text/plain": [
       "<Figure size 1152x576 with 2 Axes>"
      ]
     },
     "metadata": {},
     "output_type": "display_data"
    }
   ],
   "source": [
    "# Строим тепловую карту для LTV по когортам\n",
    "sns.set(style='ticks')\n",
    "plt.figure(figsize=(16, 8))\n",
    "plt.title('Когорты: LTV')\n",
    "sns.heatmap(df_ltv_pivot, annot=True, fmt='.1f', linewidths=2, linecolor='gray');"
   ]
  },
  {
   "cell_type": "markdown",
   "metadata": {},
   "source": [
    "**Вывод**\n",
    "* Лучшие когорты по значению LTV (принесли больше всего денег):\n",
    "  * июнь-2017\n",
    "  * сентябрь-2017\n",
    "  * октябрь-2017\n",
    "  * декабрь-2017\n",
    "  \n",
    "  "
   ]
  },
  {
   "cell_type": "markdown",
   "metadata": {},
   "source": [
    "### 4. Маркетинг\n",
    "  * Сколько денег потратили? Всего / на каждый источник / по времени\n",
    "  * Сколько стоило привлечение одного покупателя из каждого источника?\n",
    "  * На сколько окупились расходы? (ROI)\n",
    "<a id='marketing'></a>"
   ]
  },
  {
   "cell_type": "markdown",
   "metadata": {},
   "source": [
    "#### 4.1 Сколько денег потратили\n",
    "<a id='total_marketing_investments'></a>"
   ]
  },
  {
   "cell_type": "code",
   "execution_count": 105,
   "metadata": {},
   "outputs": [
    {
     "data": {
      "text/html": [
       "<div>\n",
       "<style scoped>\n",
       "    .dataframe tbody tr th:only-of-type {\n",
       "        vertical-align: middle;\n",
       "    }\n",
       "\n",
       "    .dataframe tbody tr th {\n",
       "        vertical-align: top;\n",
       "    }\n",
       "\n",
       "    .dataframe thead th {\n",
       "        text-align: right;\n",
       "    }\n",
       "</style>\n",
       "<table border=\"1\" class=\"dataframe\">\n",
       "  <thead>\n",
       "    <tr style=\"text-align: right;\">\n",
       "      <th></th>\n",
       "      <th></th>\n",
       "      <th>costs</th>\n",
       "    </tr>\n",
       "    <tr>\n",
       "      <th>source_id</th>\n",
       "      <th>dt</th>\n",
       "      <th></th>\n",
       "    </tr>\n",
       "  </thead>\n",
       "  <tbody>\n",
       "    <tr>\n",
       "      <td rowspan=\"2\" valign=\"top\">1</td>\n",
       "      <td>2017-06-01</td>\n",
       "      <td>75.20</td>\n",
       "    </tr>\n",
       "    <tr>\n",
       "      <td>2017-06-02</td>\n",
       "      <td>62.25</td>\n",
       "    </tr>\n",
       "  </tbody>\n",
       "</table>\n",
       "</div>"
      ],
      "text/plain": [
       "                      costs\n",
       "source_id dt               \n",
       "1         2017-06-01  75.20\n",
       "          2017-06-02  62.25"
      ]
     },
     "execution_count": 105,
     "metadata": {},
     "output_type": "execute_result"
    }
   ],
   "source": [
    "costs_new.head(2)"
   ]
  },
  {
   "cell_type": "code",
   "execution_count": 106,
   "metadata": {},
   "outputs": [
    {
     "name": "stdout",
     "output_type": "stream",
     "text": [
      "Суммарные затраты на маркетинг = 329131.62 у.е\n"
     ]
    }
   ],
   "source": [
    "costs_all = costs['costs'].sum()\n",
    "print(f'Суммарные затраты на маркетинг = {costs_all} у.е')"
   ]
  },
  {
   "cell_type": "code",
   "execution_count": 107,
   "metadata": {},
   "outputs": [
    {
     "data": {
      "image/png": "[encoded data removed]",
      "text/plain": [
       "<Figure size 576x360 with 1 Axes>"
      ]
     },
     "metadata": {},
     "output_type": "display_data"
    }
   ],
   "source": [
    "costs_pivot_source = (costs\n",
    "               .pivot_table(index='source_id', values='costs', aggfunc='sum')\n",
    "               .sort_values(by='source_id', ascending=True)\n",
    "               .plot(kind='bar',figsize=(8, 5), fontsize=15, rot=0)\n",
    "              )\n",
    "plt.title('Суммарные затраты по рекламным источникам', fontsize=15, color='b')\n",
    "plt.show()"
   ]
  },
  {
   "cell_type": "code",
   "execution_count": 108,
   "metadata": {},
   "outputs": [
    {
     "data": {
      "image/png": "[encoded data removed]",
      "text/plain": [
       "<Figure size 432x288 with 1 Axes>"
      ]
     },
     "metadata": {},
     "output_type": "display_data"
    }
   ],
   "source": [
    "costs_period = costs\n",
    "costs_period['month'] = costs['dt'].astype('datetime64[M]')\n",
    "costs_period = (costs_period\n",
    "                .groupby('month').agg({'costs':'sum'})\n",
    "                .rename(columns={'costs':'costs_sum'})\n",
    "               )\n",
    "\n",
    "ax=costs_period[['costs_sum']].plot()\n",
    "ax.set(title='Затраты на маркетинг по месяцам');"
   ]
  },
  {
   "cell_type": "code",
   "execution_count": 109,
   "metadata": {},
   "outputs": [
    {
     "data": {
      "text/html": [
       "<div>\n",
       "<style scoped>\n",
       "    .dataframe tbody tr th:only-of-type {\n",
       "        vertical-align: middle;\n",
       "    }\n",
       "\n",
       "    .dataframe tbody tr th {\n",
       "        vertical-align: top;\n",
       "    }\n",
       "\n",
       "    .dataframe thead th {\n",
       "        text-align: right;\n",
       "    }\n",
       "</style>\n",
       "<table border=\"1\" class=\"dataframe\">\n",
       "  <thead>\n",
       "    <tr style=\"text-align: right;\">\n",
       "      <th></th>\n",
       "      <th>source_id</th>\n",
       "      <th>dt</th>\n",
       "      <th>start_date</th>\n",
       "      <th>device</th>\n",
       "      <th>start_month</th>\n",
       "      <th>costs</th>\n",
       "      <th>user_count</th>\n",
       "      <th>cac</th>\n",
       "    </tr>\n",
       "    <tr>\n",
       "      <th>uid</th>\n",
       "      <th></th>\n",
       "      <th></th>\n",
       "      <th></th>\n",
       "      <th></th>\n",
       "      <th></th>\n",
       "      <th></th>\n",
       "      <th></th>\n",
       "      <th></th>\n",
       "    </tr>\n",
       "  </thead>\n",
       "  <tbody>\n",
       "    <tr>\n",
       "      <td>9714640286797951674</td>\n",
       "      <td>1</td>\n",
       "      <td>2017-06-01</td>\n",
       "      <td>2017-06-01 21:45:00</td>\n",
       "      <td>desktop</td>\n",
       "      <td>2017-06-01</td>\n",
       "      <td>75.2</td>\n",
       "      <td>45</td>\n",
       "      <td>1.671111</td>\n",
       "    </tr>\n",
       "    <tr>\n",
       "      <td>9909415513333099415</td>\n",
       "      <td>1</td>\n",
       "      <td>2017-06-01</td>\n",
       "      <td>2017-06-01 13:24:00</td>\n",
       "      <td>touch</td>\n",
       "      <td>2017-06-01</td>\n",
       "      <td>75.2</td>\n",
       "      <td>45</td>\n",
       "      <td>1.671111</td>\n",
       "    </tr>\n",
       "    <tr>\n",
       "      <td>10329302124590727494</td>\n",
       "      <td>1</td>\n",
       "      <td>2017-06-01</td>\n",
       "      <td>2017-06-01 00:09:00</td>\n",
       "      <td>desktop</td>\n",
       "      <td>2017-06-01</td>\n",
       "      <td>75.2</td>\n",
       "      <td>45</td>\n",
       "      <td>1.671111</td>\n",
       "    </tr>\n",
       "    <tr>\n",
       "      <td>10349500346348845391</td>\n",
       "      <td>1</td>\n",
       "      <td>2017-06-01</td>\n",
       "      <td>2017-06-01 19:55:00</td>\n",
       "      <td>desktop</td>\n",
       "      <td>2017-06-01</td>\n",
       "      <td>75.2</td>\n",
       "      <td>45</td>\n",
       "      <td>1.671111</td>\n",
       "    </tr>\n",
       "    <tr>\n",
       "      <td>10534330097262531592</td>\n",
       "      <td>1</td>\n",
       "      <td>2017-06-01</td>\n",
       "      <td>2017-06-01 22:55:00</td>\n",
       "      <td>desktop</td>\n",
       "      <td>2017-06-01</td>\n",
       "      <td>75.2</td>\n",
       "      <td>45</td>\n",
       "      <td>1.671111</td>\n",
       "    </tr>\n",
       "  </tbody>\n",
       "</table>\n",
       "</div>"
      ],
      "text/plain": [
       "                      source_id         dt          start_date   device  \\\n",
       "uid                                                                       \n",
       "9714640286797951674           1 2017-06-01 2017-06-01 21:45:00  desktop   \n",
       "9909415513333099415           1 2017-06-01 2017-06-01 13:24:00    touch   \n",
       "10329302124590727494          1 2017-06-01 2017-06-01 00:09:00  desktop   \n",
       "10349500346348845391          1 2017-06-01 2017-06-01 19:55:00  desktop   \n",
       "10534330097262531592          1 2017-06-01 2017-06-01 22:55:00  desktop   \n",
       "\n",
       "                     start_month  costs  user_count       cac  \n",
       "uid                                                            \n",
       "9714640286797951674   2017-06-01   75.2          45  1.671111  \n",
       "9909415513333099415   2017-06-01   75.2          45  1.671111  \n",
       "10329302124590727494  2017-06-01   75.2          45  1.671111  \n",
       "10349500346348845391  2017-06-01   75.2          45  1.671111  \n",
       "10534330097262531592  2017-06-01   75.2          45  1.671111  "
      ]
     },
     "execution_count": 109,
     "metadata": {},
     "output_type": "execute_result"
    }
   ],
   "source": [
    "df_all.head()"
   ]
  },
  {
   "cell_type": "code",
   "execution_count": 110,
   "metadata": {},
   "outputs": [
    {
     "data": {
      "image/png": "[encoded data removed]",
      "text/plain": [
       "<Figure size 1440x720 with 1 Axes>"
      ]
     },
     "metadata": {},
     "output_type": "display_data"
    }
   ],
   "source": [
    "costs_grouped_source_device = (df_all\n",
    "                             .groupby(['source_id', 'device'])\n",
    "                             .agg({'cac':'sum'})\n",
    "                             .rename(columns={'cac':'costs_sum'})\n",
    "                            )\n",
    "\n",
    "ax=costs_grouped_source_device.plot(kind='bar',figsize=(20, 10), fontsize=15, rot=45)\n",
    "ax.set(title='Затраты на маркетинг по устройствам и источникам');"
   ]
  },
  {
   "cell_type": "code",
   "execution_count": 111,
   "metadata": {},
   "outputs": [
    {
     "data": {
      "text/html": [
       "<div>\n",
       "<style scoped>\n",
       "    .dataframe tbody tr th:only-of-type {\n",
       "        vertical-align: middle;\n",
       "    }\n",
       "\n",
       "    .dataframe tbody tr th {\n",
       "        vertical-align: top;\n",
       "    }\n",
       "\n",
       "    .dataframe thead th {\n",
       "        text-align: right;\n",
       "    }\n",
       "</style>\n",
       "<table border=\"1\" class=\"dataframe\">\n",
       "  <thead>\n",
       "    <tr style=\"text-align: right;\">\n",
       "      <th></th>\n",
       "      <th></th>\n",
       "      <th>costs_sum</th>\n",
       "    </tr>\n",
       "    <tr>\n",
       "      <th>source_id</th>\n",
       "      <th>device</th>\n",
       "      <th></th>\n",
       "    </tr>\n",
       "  </thead>\n",
       "  <tbody>\n",
       "    <tr>\n",
       "      <td rowspan=\"2\" valign=\"top\">1</td>\n",
       "      <td>desktop</td>\n",
       "      <td>13997.020648</td>\n",
       "    </tr>\n",
       "    <tr>\n",
       "      <td>touch</td>\n",
       "      <td>6836.249352</td>\n",
       "    </tr>\n",
       "    <tr>\n",
       "      <td rowspan=\"2\" valign=\"top\">2</td>\n",
       "      <td>desktop</td>\n",
       "      <td>28666.394554</td>\n",
       "    </tr>\n",
       "    <tr>\n",
       "      <td>touch</td>\n",
       "      <td>14139.645446</td>\n",
       "    </tr>\n",
       "    <tr>\n",
       "      <td rowspan=\"2\" valign=\"top\">3</td>\n",
       "      <td>desktop</td>\n",
       "      <td>107760.429566</td>\n",
       "    </tr>\n",
       "    <tr>\n",
       "      <td>touch</td>\n",
       "      <td>33561.200434</td>\n",
       "    </tr>\n",
       "    <tr>\n",
       "      <td rowspan=\"2\" valign=\"top\">4</td>\n",
       "      <td>desktop</td>\n",
       "      <td>40289.963306</td>\n",
       "    </tr>\n",
       "    <tr>\n",
       "      <td>touch</td>\n",
       "      <td>20783.636694</td>\n",
       "    </tr>\n",
       "    <tr>\n",
       "      <td rowspan=\"2\" valign=\"top\">5</td>\n",
       "      <td>desktop</td>\n",
       "      <td>38313.628848</td>\n",
       "    </tr>\n",
       "    <tr>\n",
       "      <td>touch</td>\n",
       "      <td>13442.771152</td>\n",
       "    </tr>\n",
       "    <tr>\n",
       "      <td>6</td>\n",
       "      <td>desktop</td>\n",
       "      <td>0.000000</td>\n",
       "    </tr>\n",
       "    <tr>\n",
       "      <td rowspan=\"2\" valign=\"top\">7</td>\n",
       "      <td>desktop</td>\n",
       "      <td>0.000000</td>\n",
       "    </tr>\n",
       "    <tr>\n",
       "      <td>touch</td>\n",
       "      <td>0.000000</td>\n",
       "    </tr>\n",
       "    <tr>\n",
       "      <td rowspan=\"2\" valign=\"top\">9</td>\n",
       "      <td>desktop</td>\n",
       "      <td>4066.003595</td>\n",
       "    </tr>\n",
       "    <tr>\n",
       "      <td>touch</td>\n",
       "      <td>1378.796405</td>\n",
       "    </tr>\n",
       "    <tr>\n",
       "      <td rowspan=\"2\" valign=\"top\">10</td>\n",
       "      <td>desktop</td>\n",
       "      <td>4144.262389</td>\n",
       "    </tr>\n",
       "    <tr>\n",
       "      <td>touch</td>\n",
       "      <td>1676.857611</td>\n",
       "    </tr>\n",
       "  </tbody>\n",
       "</table>\n",
       "</div>"
      ],
      "text/plain": [
       "                       costs_sum\n",
       "source_id device                \n",
       "1         desktop   13997.020648\n",
       "          touch      6836.249352\n",
       "2         desktop   28666.394554\n",
       "          touch     14139.645446\n",
       "3         desktop  107760.429566\n",
       "          touch     33561.200434\n",
       "4         desktop   40289.963306\n",
       "          touch     20783.636694\n",
       "5         desktop   38313.628848\n",
       "          touch     13442.771152\n",
       "6         desktop       0.000000\n",
       "7         desktop       0.000000\n",
       "          touch         0.000000\n",
       "9         desktop    4066.003595\n",
       "          touch      1378.796405\n",
       "10        desktop    4144.262389\n",
       "          touch      1676.857611"
      ]
     },
     "execution_count": 111,
     "metadata": {},
     "output_type": "execute_result"
    }
   ],
   "source": [
    "costs_grouped_source_device"
   ]
  },
  {
   "cell_type": "markdown",
   "metadata": {},
   "source": [
    "#### 4.2 Стоимость привлечения 1-го покупателя\n",
    "<a id='costs_per_buyer'></a>"
   ]
  },
  {
   "cell_type": "code",
   "execution_count": 112,
   "metadata": {},
   "outputs": [
    {
     "data": {
      "text/html": [
       "<div>\n",
       "<style scoped>\n",
       "    .dataframe tbody tr th:only-of-type {\n",
       "        vertical-align: middle;\n",
       "    }\n",
       "\n",
       "    .dataframe tbody tr th {\n",
       "        vertical-align: top;\n",
       "    }\n",
       "\n",
       "    .dataframe thead th {\n",
       "        text-align: right;\n",
       "    }\n",
       "</style>\n",
       "<table border=\"1\" class=\"dataframe\">\n",
       "  <thead>\n",
       "    <tr style=\"text-align: right;\">\n",
       "      <th></th>\n",
       "      <th>device</th>\n",
       "      <th>end_ts</th>\n",
       "      <th>source_id</th>\n",
       "      <th>start_ts</th>\n",
       "      <th>uid</th>\n",
       "      <th>session_date</th>\n",
       "      <th>session_week</th>\n",
       "      <th>session_month</th>\n",
       "      <th>session_year</th>\n",
       "      <th>session_duration</th>\n",
       "    </tr>\n",
       "  </thead>\n",
       "  <tbody>\n",
       "    <tr>\n",
       "      <td>0</td>\n",
       "      <td>touch</td>\n",
       "      <td>2017-12-20 17:38:00</td>\n",
       "      <td>4</td>\n",
       "      <td>2017-12-20 17:20:00</td>\n",
       "      <td>16879256277535980062</td>\n",
       "      <td>2017-12-20</td>\n",
       "      <td>51</td>\n",
       "      <td>12</td>\n",
       "      <td>2017</td>\n",
       "      <td>1080</td>\n",
       "    </tr>\n",
       "    <tr>\n",
       "      <td>1</td>\n",
       "      <td>desktop</td>\n",
       "      <td>2018-02-19 17:21:00</td>\n",
       "      <td>2</td>\n",
       "      <td>2018-02-19 16:53:00</td>\n",
       "      <td>104060357244891740</td>\n",
       "      <td>2018-02-19</td>\n",
       "      <td>8</td>\n",
       "      <td>2</td>\n",
       "      <td>2018</td>\n",
       "      <td>1680</td>\n",
       "    </tr>\n",
       "    <tr>\n",
       "      <td>3</td>\n",
       "      <td>desktop</td>\n",
       "      <td>2018-05-20 11:23:00</td>\n",
       "      <td>9</td>\n",
       "      <td>2018-05-20 10:59:00</td>\n",
       "      <td>16174680259334210214</td>\n",
       "      <td>2018-05-20</td>\n",
       "      <td>20</td>\n",
       "      <td>5</td>\n",
       "      <td>2018</td>\n",
       "      <td>1440</td>\n",
       "    </tr>\n",
       "    <tr>\n",
       "      <td>5</td>\n",
       "      <td>desktop</td>\n",
       "      <td>2017-09-03 21:36:00</td>\n",
       "      <td>5</td>\n",
       "      <td>2017-09-03 21:35:00</td>\n",
       "      <td>16007536194108375387</td>\n",
       "      <td>2017-09-03</td>\n",
       "      <td>35</td>\n",
       "      <td>9</td>\n",
       "      <td>2017</td>\n",
       "      <td>60</td>\n",
       "    </tr>\n",
       "    <tr>\n",
       "      <td>6</td>\n",
       "      <td>desktop</td>\n",
       "      <td>2018-01-30 12:09:00</td>\n",
       "      <td>1</td>\n",
       "      <td>2018-01-30 11:13:00</td>\n",
       "      <td>6661610529277171451</td>\n",
       "      <td>2018-01-30</td>\n",
       "      <td>5</td>\n",
       "      <td>1</td>\n",
       "      <td>2018</td>\n",
       "      <td>3360</td>\n",
       "    </tr>\n",
       "  </tbody>\n",
       "</table>\n",
       "</div>"
      ],
      "text/plain": [
       "    device              end_ts  source_id            start_ts  \\\n",
       "0    touch 2017-12-20 17:38:00          4 2017-12-20 17:20:00   \n",
       "1  desktop 2018-02-19 17:21:00          2 2018-02-19 16:53:00   \n",
       "3  desktop 2018-05-20 11:23:00          9 2018-05-20 10:59:00   \n",
       "5  desktop 2017-09-03 21:36:00          5 2017-09-03 21:35:00   \n",
       "6  desktop 2018-01-30 12:09:00          1 2018-01-30 11:13:00   \n",
       "\n",
       "                    uid session_date  session_week  session_month  \\\n",
       "0  16879256277535980062   2017-12-20            51             12   \n",
       "1    104060357244891740   2018-02-19             8              2   \n",
       "3  16174680259334210214   2018-05-20            20              5   \n",
       "5  16007536194108375387   2017-09-03            35              9   \n",
       "6   6661610529277171451   2018-01-30             5              1   \n",
       "\n",
       "   session_year  session_duration  \n",
       "0          2017              1080  \n",
       "1          2018              1680  \n",
       "3          2018              1440  \n",
       "5          2017                60  \n",
       "6          2018              3360  "
      ]
     },
     "execution_count": 112,
     "metadata": {},
     "output_type": "execute_result"
    }
   ],
   "source": [
    "visits_new.head()"
   ]
  },
  {
   "cell_type": "code",
   "execution_count": 113,
   "metadata": {},
   "outputs": [
    {
     "data": {
      "text/html": [
       "<div>\n",
       "<style scoped>\n",
       "    .dataframe tbody tr th:only-of-type {\n",
       "        vertical-align: middle;\n",
       "    }\n",
       "\n",
       "    .dataframe tbody tr th {\n",
       "        vertical-align: top;\n",
       "    }\n",
       "\n",
       "    .dataframe thead th {\n",
       "        text-align: right;\n",
       "    }\n",
       "</style>\n",
       "<table border=\"1\" class=\"dataframe\">\n",
       "  <thead>\n",
       "    <tr style=\"text-align: right;\">\n",
       "      <th></th>\n",
       "      <th>buy_ts</th>\n",
       "      <th>revenue</th>\n",
       "      <th>uid</th>\n",
       "    </tr>\n",
       "  </thead>\n",
       "  <tbody>\n",
       "    <tr>\n",
       "      <td>0</td>\n",
       "      <td>2017-06-01 00:10:00</td>\n",
       "      <td>17.00</td>\n",
       "      <td>10329302124590727494</td>\n",
       "    </tr>\n",
       "    <tr>\n",
       "      <td>1</td>\n",
       "      <td>2017-06-01 00:25:00</td>\n",
       "      <td>0.55</td>\n",
       "      <td>11627257723692907447</td>\n",
       "    </tr>\n",
       "    <tr>\n",
       "      <td>2</td>\n",
       "      <td>2017-06-01 00:27:00</td>\n",
       "      <td>0.37</td>\n",
       "      <td>17903680561304213844</td>\n",
       "    </tr>\n",
       "    <tr>\n",
       "      <td>3</td>\n",
       "      <td>2017-06-01 00:29:00</td>\n",
       "      <td>0.55</td>\n",
       "      <td>16109239769442553005</td>\n",
       "    </tr>\n",
       "    <tr>\n",
       "      <td>4</td>\n",
       "      <td>2017-06-01 07:58:00</td>\n",
       "      <td>0.37</td>\n",
       "      <td>14200605875248379450</td>\n",
       "    </tr>\n",
       "  </tbody>\n",
       "</table>\n",
       "</div>"
      ],
      "text/plain": [
       "               buy_ts  revenue                   uid\n",
       "0 2017-06-01 00:10:00    17.00  10329302124590727494\n",
       "1 2017-06-01 00:25:00     0.55  11627257723692907447\n",
       "2 2017-06-01 00:27:00     0.37  17903680561304213844\n",
       "3 2017-06-01 00:29:00     0.55  16109239769442553005\n",
       "4 2017-06-01 07:58:00     0.37  14200605875248379450"
      ]
     },
     "execution_count": 113,
     "metadata": {},
     "output_type": "execute_result"
    }
   ],
   "source": [
    "orders.head()"
   ]
  },
  {
   "cell_type": "code",
   "execution_count": 114,
   "metadata": {},
   "outputs": [],
   "source": [
    "# Для нахождения затрат на привлечение 1-го покупателя нужно \"связать\" затраты (из costs),\n",
    "# количестов покупок из (orders), напрямую они не связаны, поэтому нужно связать через visits\n",
    "\n",
    "# считаем сумму затрат по источникам\n",
    "costs_final = costs.groupby('source_id').agg({'costs':'sum'})\n",
    "# Находим время первого визита\n",
    "visits_final_temp = visits_new.groupby('uid').agg({'start_ts':'min'})\n",
    "visits_final_temp = visits_final_temp.rename(columns={'start_ts':'visits_first'})\n",
    "visits_final_temp = visits_final_temp.reset_index()\n",
    "# Объединяем визиты с исходной таблицей visits_new и фильтруем, оставляя только первые визиты\n",
    "visits_final_temp = visits_final_temp.merge(visits_new, on='uid').query('visits_first==start_ts')\n",
    "# Объединяем orders и visits_final_temp\n",
    "visits_final = orders.merge(visits_final_temp, on='uid', how='inner')"
   ]
  },
  {
   "cell_type": "code",
   "execution_count": 115,
   "metadata": {
    "scrolled": true
   },
   "outputs": [
    {
     "data": {
      "text/html": [
       "<div>\n",
       "<style scoped>\n",
       "    .dataframe tbody tr th:only-of-type {\n",
       "        vertical-align: middle;\n",
       "    }\n",
       "\n",
       "    .dataframe tbody tr th {\n",
       "        vertical-align: top;\n",
       "    }\n",
       "\n",
       "    .dataframe thead th {\n",
       "        text-align: right;\n",
       "    }\n",
       "</style>\n",
       "<table border=\"1\" class=\"dataframe\">\n",
       "  <thead>\n",
       "    <tr style=\"text-align: right;\">\n",
       "      <th></th>\n",
       "      <th>buy_ts</th>\n",
       "      <th>revenue</th>\n",
       "      <th>uid</th>\n",
       "      <th>visits_first</th>\n",
       "      <th>device</th>\n",
       "      <th>end_ts</th>\n",
       "      <th>source_id</th>\n",
       "      <th>start_ts</th>\n",
       "      <th>session_date</th>\n",
       "      <th>session_week</th>\n",
       "      <th>session_month</th>\n",
       "      <th>session_year</th>\n",
       "      <th>session_duration</th>\n",
       "    </tr>\n",
       "  </thead>\n",
       "  <tbody>\n",
       "    <tr>\n",
       "      <td>0</td>\n",
       "      <td>2017-06-01 00:10:00</td>\n",
       "      <td>17.00</td>\n",
       "      <td>10329302124590727494</td>\n",
       "      <td>2017-06-01 00:09:00</td>\n",
       "      <td>desktop</td>\n",
       "      <td>2017-06-01 00:11:00</td>\n",
       "      <td>1</td>\n",
       "      <td>2017-06-01 00:09:00</td>\n",
       "      <td>2017-06-01</td>\n",
       "      <td>22</td>\n",
       "      <td>6</td>\n",
       "      <td>2017</td>\n",
       "      <td>120</td>\n",
       "    </tr>\n",
       "    <tr>\n",
       "      <td>1</td>\n",
       "      <td>2017-06-01 00:25:00</td>\n",
       "      <td>0.55</td>\n",
       "      <td>11627257723692907447</td>\n",
       "      <td>2017-06-01 00:14:00</td>\n",
       "      <td>desktop</td>\n",
       "      <td>2017-06-01 00:25:00</td>\n",
       "      <td>2</td>\n",
       "      <td>2017-06-01 00:14:00</td>\n",
       "      <td>2017-06-01</td>\n",
       "      <td>22</td>\n",
       "      <td>6</td>\n",
       "      <td>2017</td>\n",
       "      <td>660</td>\n",
       "    </tr>\n",
       "    <tr>\n",
       "      <td>2</td>\n",
       "      <td>2017-06-01 00:27:00</td>\n",
       "      <td>0.37</td>\n",
       "      <td>17903680561304213844</td>\n",
       "      <td>2017-06-01 00:25:00</td>\n",
       "      <td>desktop</td>\n",
       "      <td>2017-06-01 00:34:00</td>\n",
       "      <td>2</td>\n",
       "      <td>2017-06-01 00:25:00</td>\n",
       "      <td>2017-06-01</td>\n",
       "      <td>22</td>\n",
       "      <td>6</td>\n",
       "      <td>2017</td>\n",
       "      <td>540</td>\n",
       "    </tr>\n",
       "    <tr>\n",
       "      <td>3</td>\n",
       "      <td>2017-06-01 00:29:00</td>\n",
       "      <td>0.55</td>\n",
       "      <td>16109239769442553005</td>\n",
       "      <td>2017-06-01 00:14:00</td>\n",
       "      <td>desktop</td>\n",
       "      <td>2017-06-01 00:33:00</td>\n",
       "      <td>2</td>\n",
       "      <td>2017-06-01 00:14:00</td>\n",
       "      <td>2017-06-01</td>\n",
       "      <td>22</td>\n",
       "      <td>6</td>\n",
       "      <td>2017</td>\n",
       "      <td>1140</td>\n",
       "    </tr>\n",
       "    <tr>\n",
       "      <td>4</td>\n",
       "      <td>2017-06-01 07:58:00</td>\n",
       "      <td>0.37</td>\n",
       "      <td>14200605875248379450</td>\n",
       "      <td>2017-06-01 07:31:00</td>\n",
       "      <td>desktop</td>\n",
       "      <td>2017-06-01 07:59:00</td>\n",
       "      <td>3</td>\n",
       "      <td>2017-06-01 07:31:00</td>\n",
       "      <td>2017-06-01</td>\n",
       "      <td>22</td>\n",
       "      <td>6</td>\n",
       "      <td>2017</td>\n",
       "      <td>1680</td>\n",
       "    </tr>\n",
       "  </tbody>\n",
       "</table>\n",
       "</div>"
      ],
      "text/plain": [
       "               buy_ts  revenue                   uid        visits_first  \\\n",
       "0 2017-06-01 00:10:00    17.00  10329302124590727494 2017-06-01 00:09:00   \n",
       "1 2017-06-01 00:25:00     0.55  11627257723692907447 2017-06-01 00:14:00   \n",
       "2 2017-06-01 00:27:00     0.37  17903680561304213844 2017-06-01 00:25:00   \n",
       "3 2017-06-01 00:29:00     0.55  16109239769442553005 2017-06-01 00:14:00   \n",
       "4 2017-06-01 07:58:00     0.37  14200605875248379450 2017-06-01 07:31:00   \n",
       "\n",
       "    device              end_ts  source_id            start_ts session_date  \\\n",
       "0  desktop 2017-06-01 00:11:00          1 2017-06-01 00:09:00   2017-06-01   \n",
       "1  desktop 2017-06-01 00:25:00          2 2017-06-01 00:14:00   2017-06-01   \n",
       "2  desktop 2017-06-01 00:34:00          2 2017-06-01 00:25:00   2017-06-01   \n",
       "3  desktop 2017-06-01 00:33:00          2 2017-06-01 00:14:00   2017-06-01   \n",
       "4  desktop 2017-06-01 07:59:00          3 2017-06-01 07:31:00   2017-06-01   \n",
       "\n",
       "   session_week  session_month  session_year  session_duration  \n",
       "0            22              6          2017               120  \n",
       "1            22              6          2017               660  \n",
       "2            22              6          2017               540  \n",
       "3            22              6          2017              1140  \n",
       "4            22              6          2017              1680  "
      ]
     },
     "execution_count": 115,
     "metadata": {},
     "output_type": "execute_result"
    }
   ],
   "source": [
    "visits_final.head()"
   ]
  },
  {
   "cell_type": "code",
   "execution_count": 116,
   "metadata": {},
   "outputs": [
    {
     "data": {
      "image/png": "[encoded data removed]",
      "text/plain": [
       "<Figure size 576x432 with 1 Axes>"
      ]
     },
     "metadata": {},
     "output_type": "display_data"
    }
   ],
   "source": [
    "cac_per_purchaser = (visits_final\n",
    "                     .groupby('source_id')\n",
    "                     .agg({'uid':'nunique'})\n",
    "                    ).rename(columns={'uid':'purchasers'})\n",
    "df_cac_per_purchaser = cac_per_purchaser.join(costs_final)\n",
    "# PAC (purchaser acquisition cost)\n",
    "df_cac_per_purchaser['pac'] = df_cac_per_purchaser['costs'] / df_cac_per_purchaser['purchasers']\n",
    "\n",
    "\n",
    "(df_cac_per_purchaser['pac']\n",
    " .sort_values()\n",
    " .plot(kind='bar',figsize=(8, 6), fontsize=15, rot=0)\n",
    ")\n",
    "\n",
    "plt.title('Стоимость привлечения покупателя с различных рекламных источников', fontsize=15, color='b')\n",
    "plt.show()\n"
   ]
  },
  {
   "cell_type": "markdown",
   "metadata": {},
   "source": [
    "**Вывод**\n",
    "* больше всего потратили на рекламный источник № 3, посмотрим окупился ли он.\n",
    "* больше всего на маркетинг тратили в конце 2017 года, в декабре наблюдался максимум затрат"
   ]
  },
  {
   "cell_type": "markdown",
   "metadata": {},
   "source": [
    "#### 4.3 Расчет ROI (return of investments)\n",
    "<a id='return_of_investments'></a>"
   ]
  },
  {
   "cell_type": "markdown",
   "metadata": {},
   "source": [
    "* **ROI = ((прибыль-инвестиции)/инвестиции)*100**\n",
    "  * прибыль - revenue_total\n",
    "  * инвестиции(затраты) - costs_sum"
   ]
  },
  {
   "cell_type": "code",
   "execution_count": 117,
   "metadata": {},
   "outputs": [
    {
     "data": {
      "text/html": [
       "<div>\n",
       "<style scoped>\n",
       "    .dataframe tbody tr th:only-of-type {\n",
       "        vertical-align: middle;\n",
       "    }\n",
       "\n",
       "    .dataframe tbody tr th {\n",
       "        vertical-align: top;\n",
       "    }\n",
       "\n",
       "    .dataframe thead th {\n",
       "        text-align: right;\n",
       "    }\n",
       "</style>\n",
       "<table border=\"1\" class=\"dataframe\">\n",
       "  <thead>\n",
       "    <tr style=\"text-align: right;\">\n",
       "      <th></th>\n",
       "      <th></th>\n",
       "      <th>costs_sum</th>\n",
       "    </tr>\n",
       "    <tr>\n",
       "      <th>source_id</th>\n",
       "      <th>device</th>\n",
       "      <th></th>\n",
       "    </tr>\n",
       "  </thead>\n",
       "  <tbody>\n",
       "    <tr>\n",
       "      <td rowspan=\"2\" valign=\"top\">1</td>\n",
       "      <td>desktop</td>\n",
       "      <td>13997.020648</td>\n",
       "    </tr>\n",
       "    <tr>\n",
       "      <td>touch</td>\n",
       "      <td>6836.249352</td>\n",
       "    </tr>\n",
       "    <tr>\n",
       "      <td rowspan=\"2\" valign=\"top\">2</td>\n",
       "      <td>desktop</td>\n",
       "      <td>28666.394554</td>\n",
       "    </tr>\n",
       "    <tr>\n",
       "      <td>touch</td>\n",
       "      <td>14139.645446</td>\n",
       "    </tr>\n",
       "    <tr>\n",
       "      <td>3</td>\n",
       "      <td>desktop</td>\n",
       "      <td>107760.429566</td>\n",
       "    </tr>\n",
       "  </tbody>\n",
       "</table>\n",
       "</div>"
      ],
      "text/plain": [
       "                       costs_sum\n",
       "source_id device                \n",
       "1         desktop   13997.020648\n",
       "          touch      6836.249352\n",
       "2         desktop   28666.394554\n",
       "          touch     14139.645446\n",
       "3         desktop  107760.429566"
      ]
     },
     "execution_count": 117,
     "metadata": {},
     "output_type": "execute_result"
    }
   ],
   "source": [
    "costs_grouped_source_device.head()"
   ]
  },
  {
   "cell_type": "code",
   "execution_count": 118,
   "metadata": {},
   "outputs": [
    {
     "data": {
      "text/html": [
       "<div>\n",
       "<style scoped>\n",
       "    .dataframe tbody tr th:only-of-type {\n",
       "        vertical-align: middle;\n",
       "    }\n",
       "\n",
       "    .dataframe tbody tr th {\n",
       "        vertical-align: top;\n",
       "    }\n",
       "\n",
       "    .dataframe thead th {\n",
       "        text-align: right;\n",
       "    }\n",
       "</style>\n",
       "<table border=\"1\" class=\"dataframe\">\n",
       "  <thead>\n",
       "    <tr style=\"text-align: right;\">\n",
       "      <th></th>\n",
       "      <th></th>\n",
       "      <th>revenue_total</th>\n",
       "    </tr>\n",
       "    <tr>\n",
       "      <th>source_id</th>\n",
       "      <th>device</th>\n",
       "      <th></th>\n",
       "    </tr>\n",
       "  </thead>\n",
       "  <tbody>\n",
       "    <tr>\n",
       "      <td rowspan=\"2\" valign=\"top\">1</td>\n",
       "      <td>desktop</td>\n",
       "      <td>25430.76</td>\n",
       "    </tr>\n",
       "    <tr>\n",
       "      <td>touch</td>\n",
       "      <td>5098.47</td>\n",
       "    </tr>\n",
       "    <tr>\n",
       "      <td rowspan=\"2\" valign=\"top\">2</td>\n",
       "      <td>desktop</td>\n",
       "      <td>40629.44</td>\n",
       "    </tr>\n",
       "    <tr>\n",
       "      <td>touch</td>\n",
       "      <td>6613.15</td>\n",
       "    </tr>\n",
       "    <tr>\n",
       "      <td>3</td>\n",
       "      <td>desktop</td>\n",
       "      <td>44940.77</td>\n",
       "    </tr>\n",
       "  </tbody>\n",
       "</table>\n",
       "</div>"
      ],
      "text/plain": [
       "                   revenue_total\n",
       "source_id device                \n",
       "1         desktop       25430.76\n",
       "          touch          5098.47\n",
       "2         desktop       40629.44\n",
       "          touch          6613.15\n",
       "3         desktop       44940.77"
      ]
     },
     "execution_count": 118,
     "metadata": {},
     "output_type": "execute_result"
    }
   ],
   "source": [
    "roi_device_source = (visits_final\n",
    "                     .groupby(['source_id', 'device'])\n",
    "                     .agg({'revenue':'sum'})\n",
    "                     .rename(columns={'revenue':'revenue_total'})\n",
    ")\n",
    "roi_device_source.head()"
   ]
  },
  {
   "cell_type": "markdown",
   "metadata": {},
   "source": [
    "**ROI по рекламным источникам и устройствам**"
   ]
  },
  {
   "cell_type": "code",
   "execution_count": 119,
   "metadata": {},
   "outputs": [
    {
     "data": {
      "text/html": [
       "<div>\n",
       "<style scoped>\n",
       "    .dataframe tbody tr th:only-of-type {\n",
       "        vertical-align: middle;\n",
       "    }\n",
       "\n",
       "    .dataframe tbody tr th {\n",
       "        vertical-align: top;\n",
       "    }\n",
       "\n",
       "    .dataframe thead th {\n",
       "        text-align: right;\n",
       "    }\n",
       "</style>\n",
       "<table border=\"1\" class=\"dataframe\">\n",
       "  <thead>\n",
       "    <tr style=\"text-align: right;\">\n",
       "      <th></th>\n",
       "      <th></th>\n",
       "      <th>costs_sum</th>\n",
       "      <th>revenue_total</th>\n",
       "      <th>roi</th>\n",
       "    </tr>\n",
       "    <tr>\n",
       "      <th>source_id</th>\n",
       "      <th>device</th>\n",
       "      <th></th>\n",
       "      <th></th>\n",
       "      <th></th>\n",
       "    </tr>\n",
       "  </thead>\n",
       "  <tbody>\n",
       "    <tr>\n",
       "      <td rowspan=\"2\" valign=\"top\">1</td>\n",
       "      <td>desktop</td>\n",
       "      <td>13997.020648</td>\n",
       "      <td>25430.76</td>\n",
       "      <td>81.69</td>\n",
       "    </tr>\n",
       "    <tr>\n",
       "      <td>touch</td>\n",
       "      <td>6836.249352</td>\n",
       "      <td>5098.47</td>\n",
       "      <td>-25.42</td>\n",
       "    </tr>\n",
       "    <tr>\n",
       "      <td rowspan=\"2\" valign=\"top\">2</td>\n",
       "      <td>desktop</td>\n",
       "      <td>28666.394554</td>\n",
       "      <td>40629.44</td>\n",
       "      <td>41.73</td>\n",
       "    </tr>\n",
       "    <tr>\n",
       "      <td>touch</td>\n",
       "      <td>14139.645446</td>\n",
       "      <td>6613.15</td>\n",
       "      <td>-53.23</td>\n",
       "    </tr>\n",
       "    <tr>\n",
       "      <td rowspan=\"2\" valign=\"top\">3</td>\n",
       "      <td>desktop</td>\n",
       "      <td>107760.429566</td>\n",
       "      <td>44940.77</td>\n",
       "      <td>-58.30</td>\n",
       "    </tr>\n",
       "    <tr>\n",
       "      <td>touch</td>\n",
       "      <td>33561.200434</td>\n",
       "      <td>8115.67</td>\n",
       "      <td>-75.82</td>\n",
       "    </tr>\n",
       "    <tr>\n",
       "      <td rowspan=\"2\" valign=\"top\">4</td>\n",
       "      <td>desktop</td>\n",
       "      <td>40289.963306</td>\n",
       "      <td>42438.27</td>\n",
       "      <td>5.33</td>\n",
       "    </tr>\n",
       "    <tr>\n",
       "      <td>touch</td>\n",
       "      <td>20783.636694</td>\n",
       "      <td>13160.19</td>\n",
       "      <td>-36.68</td>\n",
       "    </tr>\n",
       "    <tr>\n",
       "      <td rowspan=\"2\" valign=\"top\">5</td>\n",
       "      <td>desktop</td>\n",
       "      <td>38313.628848</td>\n",
       "      <td>47715.72</td>\n",
       "      <td>24.54</td>\n",
       "    </tr>\n",
       "    <tr>\n",
       "      <td>touch</td>\n",
       "      <td>13442.771152</td>\n",
       "      <td>5636.51</td>\n",
       "      <td>-58.07</td>\n",
       "    </tr>\n",
       "    <tr>\n",
       "      <td>6</td>\n",
       "      <td>desktop</td>\n",
       "      <td>0.000000</td>\n",
       "      <td>NaN</td>\n",
       "      <td>NaN</td>\n",
       "    </tr>\n",
       "    <tr>\n",
       "      <td rowspan=\"2\" valign=\"top\">7</td>\n",
       "      <td>desktop</td>\n",
       "      <td>0.000000</td>\n",
       "      <td>1.22</td>\n",
       "      <td>inf</td>\n",
       "    </tr>\n",
       "    <tr>\n",
       "      <td>touch</td>\n",
       "      <td>0.000000</td>\n",
       "      <td>NaN</td>\n",
       "      <td>NaN</td>\n",
       "    </tr>\n",
       "    <tr>\n",
       "      <td rowspan=\"2\" valign=\"top\">9</td>\n",
       "      <td>desktop</td>\n",
       "      <td>4066.003595</td>\n",
       "      <td>4858.90</td>\n",
       "      <td>19.50</td>\n",
       "    </tr>\n",
       "    <tr>\n",
       "      <td>touch</td>\n",
       "      <td>1378.796405</td>\n",
       "      <td>887.95</td>\n",
       "      <td>-35.60</td>\n",
       "    </tr>\n",
       "    <tr>\n",
       "      <td rowspan=\"2\" valign=\"top\">10</td>\n",
       "      <td>desktop</td>\n",
       "      <td>4144.262389</td>\n",
       "      <td>3805.70</td>\n",
       "      <td>-8.17</td>\n",
       "    </tr>\n",
       "    <tr>\n",
       "      <td>touch</td>\n",
       "      <td>1676.857611</td>\n",
       "      <td>839.03</td>\n",
       "      <td>-49.96</td>\n",
       "    </tr>\n",
       "  </tbody>\n",
       "</table>\n",
       "</div>"
      ],
      "text/plain": [
       "                       costs_sum  revenue_total    roi\n",
       "source_id device                                      \n",
       "1         desktop   13997.020648       25430.76  81.69\n",
       "          touch      6836.249352        5098.47 -25.42\n",
       "2         desktop   28666.394554       40629.44  41.73\n",
       "          touch     14139.645446        6613.15 -53.23\n",
       "3         desktop  107760.429566       44940.77 -58.30\n",
       "          touch     33561.200434        8115.67 -75.82\n",
       "4         desktop   40289.963306       42438.27   5.33\n",
       "          touch     20783.636694       13160.19 -36.68\n",
       "5         desktop   38313.628848       47715.72  24.54\n",
       "          touch     13442.771152        5636.51 -58.07\n",
       "6         desktop       0.000000            NaN    NaN\n",
       "7         desktop       0.000000           1.22    inf\n",
       "          touch         0.000000            NaN    NaN\n",
       "9         desktop    4066.003595        4858.90  19.50\n",
       "          touch      1378.796405         887.95 -35.60\n",
       "10        desktop    4144.262389        3805.70  -8.17\n",
       "          touch      1676.857611         839.03 -49.96"
      ]
     },
     "execution_count": 119,
     "metadata": {},
     "output_type": "execute_result"
    }
   ],
   "source": [
    "df_roi = costs_grouped_source_device.join(roi_device_source)\n",
    "\n",
    "df_roi['roi'] = (((df_roi['revenue_total']-df_roi['costs_sum'])/df_roi['costs_sum'])*100).round(2)\n",
    "\n",
    "df_roi\n"
   ]
  },
  {
   "cell_type": "markdown",
   "metadata": {},
   "source": [
    "**ROI суммарный по источникам**"
   ]
  },
  {
   "cell_type": "code",
   "execution_count": 120,
   "metadata": {},
   "outputs": [
    {
     "data": {
      "text/html": [
       "<div>\n",
       "<style scoped>\n",
       "    .dataframe tbody tr th:only-of-type {\n",
       "        vertical-align: middle;\n",
       "    }\n",
       "\n",
       "    .dataframe tbody tr th {\n",
       "        vertical-align: top;\n",
       "    }\n",
       "\n",
       "    .dataframe thead th {\n",
       "        text-align: right;\n",
       "    }\n",
       "</style>\n",
       "<table border=\"1\" class=\"dataframe\">\n",
       "  <thead>\n",
       "    <tr style=\"text-align: right;\">\n",
       "      <th></th>\n",
       "      <th>costs_sum</th>\n",
       "      <th>revenue_total</th>\n",
       "      <th>roi_all</th>\n",
       "    </tr>\n",
       "    <tr>\n",
       "      <th>source_id</th>\n",
       "      <th></th>\n",
       "      <th></th>\n",
       "      <th></th>\n",
       "    </tr>\n",
       "  </thead>\n",
       "  <tbody>\n",
       "    <tr>\n",
       "      <td>1</td>\n",
       "      <td>20833.27</td>\n",
       "      <td>30529.23</td>\n",
       "      <td>46.54</td>\n",
       "    </tr>\n",
       "    <tr>\n",
       "      <td>2</td>\n",
       "      <td>42806.04</td>\n",
       "      <td>47242.59</td>\n",
       "      <td>10.36</td>\n",
       "    </tr>\n",
       "    <tr>\n",
       "      <td>3</td>\n",
       "      <td>141321.63</td>\n",
       "      <td>53056.44</td>\n",
       "      <td>-62.46</td>\n",
       "    </tr>\n",
       "    <tr>\n",
       "      <td>4</td>\n",
       "      <td>61073.60</td>\n",
       "      <td>55598.46</td>\n",
       "      <td>-8.96</td>\n",
       "    </tr>\n",
       "    <tr>\n",
       "      <td>5</td>\n",
       "      <td>51756.40</td>\n",
       "      <td>53352.23</td>\n",
       "      <td>3.08</td>\n",
       "    </tr>\n",
       "    <tr>\n",
       "      <td>6</td>\n",
       "      <td>0.00</td>\n",
       "      <td>0.00</td>\n",
       "      <td>NaN</td>\n",
       "    </tr>\n",
       "    <tr>\n",
       "      <td>7</td>\n",
       "      <td>0.00</td>\n",
       "      <td>1.22</td>\n",
       "      <td>inf</td>\n",
       "    </tr>\n",
       "    <tr>\n",
       "      <td>9</td>\n",
       "      <td>5444.80</td>\n",
       "      <td>5746.85</td>\n",
       "      <td>5.55</td>\n",
       "    </tr>\n",
       "    <tr>\n",
       "      <td>10</td>\n",
       "      <td>5821.12</td>\n",
       "      <td>4644.73</td>\n",
       "      <td>-20.21</td>\n",
       "    </tr>\n",
       "  </tbody>\n",
       "</table>\n",
       "</div>"
      ],
      "text/plain": [
       "           costs_sum  revenue_total  roi_all\n",
       "source_id                                   \n",
       "1           20833.27       30529.23    46.54\n",
       "2           42806.04       47242.59    10.36\n",
       "3          141321.63       53056.44   -62.46\n",
       "4           61073.60       55598.46    -8.96\n",
       "5           51756.40       53352.23     3.08\n",
       "6               0.00           0.00      NaN\n",
       "7               0.00           1.22      inf\n",
       "9            5444.80        5746.85     5.55\n",
       "10           5821.12        4644.73   -20.21"
      ]
     },
     "execution_count": 120,
     "metadata": {},
     "output_type": "execute_result"
    }
   ],
   "source": [
    "df_roi_all = (df_roi\n",
    "                         .reset_index()\n",
    "                         .groupby('source_id')\n",
    "                         .agg({'costs_sum':'sum', 'revenue_total':'sum'}))\n",
    "\n",
    "df_roi_all['roi_all'] = \\\n",
    "(((df_roi_all['revenue_total']-df_roi_all['costs_sum'])/\\\n",
    " df_roi_all['costs_sum'])*100).round(2)\n",
    "\n",
    "\n",
    "df_roi_all"
   ]
  },
  {
   "cell_type": "markdown",
   "metadata": {},
   "source": [
    "### 5. Выводы\n",
    "<a id='conclusions'></a>"
   ]
  },
  {
   "cell_type": "markdown",
   "metadata": {},
   "source": [
    "Шаг 3. Напишите вывод: порекомендуйте маркетологам, куда и сколько им стоит вкладывать денег?\n",
    "Какие источники/платформы вы бы порекомендовали? Объясните свой выбор: на какие метрики вы ориентируетесь? Почему? Какие выводы вы сделали, узнав значение метрик?"
   ]
  },
  {
   "cell_type": "markdown",
   "metadata": {},
   "source": [
    "----------\n",
    "##### Результаты\n",
    "\n",
    "* Окупились 1,2,5,9 рекламные источники\n",
    "   * 1-й источник лучше всех остальных общий ROI = 40.41 %\n",
    " * Привлечение пользователей с десктопа дороже, но и платят они больше\n",
    "   * В разрезе ROI по источникам и платформам десктоп окупился практически во всех случаях\n",
    " * Низкий Retention Rate\n",
    " * Самые большие затраты на маркетинг в декабре, но и средний чек соответствующий\n",
    " * Чаще всего от момента появления на сайте до первой покупки проходит 1 минута, и как правило, совершается одна покупка\n",
    "--------------\n",
    "##### Основные метрики \n",
    "* ROI\n",
    "* Retention Rate\n",
    "* LTV\n",
    "* CAC \n",
    "-------------\n",
    "##### Рекомендации\n",
    "* Поработать над возвратом пользователей\n",
    "  * например рассылка со скидками тем кто уже покупал\n",
    "* Снизить затраты на рекламу для мобильной версии\n",
    "  * проверить почему так мало покупают с touch устройств (возможно проблемы с отображением мобильной версии)\n",
    "* увеличить вложения в 1-й и 2-ой источник трафика для десктопов -- оценить результат\n",
    "* Планировать и начинать проводить рекламную кампанию за 2-4 недели до начала \"жаркой поры и высокой цены клика\" (в середине августа, начале сентября)"
   ]
  },
  {
   "cell_type": "markdown",
   "metadata": {},
   "source": [
    "[Вернуться к началу](#return_to_the_top)"
   ]
  }
 ],
 "metadata": {
  "kernelspec": {
   "display_name": "Python 3",
   "language": "python",
   "name": "python3"
  },
  "language_info": {
   "codemirror_mode": {
    "name": "ipython",
    "version": 3
   },
   "file_extension": ".py",
   "mimetype": "text/x-python",
   "name": "python",
   "nbconvert_exporter": "python",
   "pygments_lexer": "ipython3",
   "version": "3.7.3"
  },
  "widgets": {
   "application/vnd.jupyter.widget-state+json": {
    "state": {},
    "version_major": 2,
    "version_minor": 0
   }
  }
 },
 "nbformat": 4,
 "nbformat_minor": 2
}
